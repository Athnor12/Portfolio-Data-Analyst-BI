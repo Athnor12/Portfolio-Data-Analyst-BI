{
 "cells": [
  {
   "cell_type": "markdown",
   "id": "97dccc01",
   "metadata": {},
   "source": [
    "<div style=\"display: flex; background-color: RGB(255,114,0);\" >\n",
    "<h1 style=\"margin: auto; padding: 30px; \">ANALYSE DU STOCK ET DES VENTES DU SITE BOTTLENECK</h1>\n",
    "</div>"
   ]
  },
  {
   "cell_type": "markdown",
   "id": "4d0d1bb8",
   "metadata": {},
   "source": [
    "# OBJECTIF DE CE NOTEBOOK\n",
    "\n",
    "Bienvenue dans l'outil plébiscité par les analystes de données Jupyter.\n",
    "\n",
    "Il s'agit d'un outil permettant de mixer et d'alterner codes, textes et graphique.\n",
    "\n",
    "Cet outil est formidable pour plusieurs raisons:\n",
    "\n",
    "+ il permet de tester des lignes de codes au fur et à mesure de votre rédaction, de constater immédiatement le résultat d'un instruction, de la corriger si nécessaire.\n",
    "+ De rédiger du texte pour expliquer l'approche suivie ou les résultats d'une analyse et de le mettre en forme grâce à du code html ou plus simple avec **Markdown**\n",
    "+ d'agrémenter de graphiques\n",
    "\n",
    "Pour vous aider dans vos premiers pas à l'usage de Jupyter et de Python, nous avons rédigé ce notebook en vous indiquant les instructions à suivre.\n",
    "\n",
    "Il vous suffit pour cela de saisir le code Python répondant à l'instruction donnée.\n",
    "\n",
    "Vous verrez de temps à autre le code Python répondant à une instruction donnée mais cela est fait pour vous aider à comprendre la nature du travail qui vous est demandée.\n",
    "\n",
    "Et garder à l'esprit, qu'il n'y a pas de solution unique pour résoudre un problème et qu'il y a autant de résolutions de problèmes que de développeurs ;)...\n",
    "\n"
   ]
  },
  {
   "cell_type": "markdown",
   "id": "b85efb87",
   "metadata": {},
   "source": [
    "<div style=\"background-color: RGB(51,165,182);\" >\n",
    "<h2 style=\"margin: auto; padding: 20px; color:#fff; \">Etape 1 - Importation des librairies et chargement des fichiers</h2>\n",
    "</div>"
   ]
  },
  {
   "cell_type": "code",
   "execution_count": 495,
   "id": "b408a4f5-6da5-4b84-af94-aeecbf6cd518",
   "metadata": {},
   "outputs": [],
   "source": [
    "#Importation de la librairie Pandas\n",
    "import pandas as pd"
   ]
  },
  {
   "cell_type": "code",
   "execution_count": 497,
   "id": "a38ce0fc",
   "metadata": {},
   "outputs": [],
   "source": [
    "#Importation de la librairie plotly express\n",
    "import plotly.express as px"
   ]
  },
  {
   "cell_type": "code",
   "execution_count": 499,
   "id": "9642cf03",
   "metadata": {},
   "outputs": [
    {
     "name": "stderr",
     "output_type": "stream",
     "text": [
      "C:\\Users\\quent\\anaconda3\\Lib\\site-packages\\openpyxl\\worksheet\\_read_only.py:79: UserWarning:\n",
      "\n",
      "Unknown extension is not supported and will be removed\n",
      "\n",
      "C:\\Users\\quent\\anaconda3\\Lib\\site-packages\\openpyxl\\worksheet\\_read_only.py:79: UserWarning:\n",
      "\n",
      "Unknown extension is not supported and will be removed\n",
      "\n",
      "C:\\Users\\quent\\anaconda3\\Lib\\site-packages\\openpyxl\\worksheet\\_read_only.py:79: UserWarning:\n",
      "\n",
      "Unknown extension is not supported and will be removed\n",
      "\n"
     ]
    }
   ],
   "source": [
    "#Importation du fichier web.xlsx\n",
    "df_web = pd.read_excel(\"web.xlsx\")\n",
    "#Importation du fichier erp.xlsx\n",
    "df_erp = pd.read_excel(\"erp.xlsx\")\n",
    "#importation du fichier liaison.xlsx\n",
    "df_liaison = pd.read_excel(\"liaison.xlsx\")"
   ]
  },
  {
   "cell_type": "code",
   "execution_count": 500,
   "id": "0a718067",
   "metadata": {},
   "outputs": [],
   "source": [
    "#Trouver dans Google l'instruction permettant d'afficher toutes les colonnes d'un dataframe\n",
    "#Saisir, dans Google, les mots clés \"display all columns dataframe Pandas\", par exemple.\n",
    "#Dans les résultats de la recherche, privilégiez les solutions provenants de Stack Overflow ou Medium\n",
    "\n",
    "pd.set_option('display.max_columns', None)\n",
    "pd.set_option('display.max_rows', None)\n"
   ]
  },
  {
   "cell_type": "code",
   "execution_count": 501,
   "id": "b54829b6-f0e5-418d-a82b-b8151c0ed08a",
   "metadata": {},
   "outputs": [
    {
     "name": "stdout",
     "output_type": "stream",
     "text": [
      "Le tableau comporte les noms ['product_id', 'onsale_web', 'price', 'stock_quantity', 'stock_status', 'purchase_price'] pour les colonnes\n"
     ]
    }
   ],
   "source": [
    "# Pour afficher uniquement les noms des colonnes\n",
    "print(\"Le tableau comporte les noms {} pour les colonnes\".format(df_erp.columns.tolist()))"
   ]
  },
  {
   "cell_type": "markdown",
   "id": "f4918299",
   "metadata": {},
   "source": [
    "<div style=\"border: 1px solid RGB(51,165,182);\" >\n",
    "<h3 style=\"margin: auto; padding: 20px; color: RGB(51,165,182); \">1.2 - Chargements des fichiers</h3>\n",
    "</div>"
   ]
  },
  {
   "cell_type": "markdown",
   "id": "605f7056",
   "metadata": {},
   "source": [
    "<div style=\"background-color: RGB(51,165,182);\" >\n",
    "<h2 style=\"margin: auto; padding: 20px; color:#fff; \">Etape 2 - Analyse exploratoire des fichiers</h2>\n",
    "</div>"
   ]
  },
  {
   "cell_type": "markdown",
   "id": "47d3a649",
   "metadata": {},
   "source": [
    "<div style=\"border: 1px solid RGB(51,165,182);\" >\n",
    "<h3 style=\"margin: auto; padding: 20px; color: RGB(51,165,182); \">2.1 - Analyse exploratoire du fichier erp.xlsx</h3>\n",
    "</div>"
   ]
  },
  {
   "cell_type": "code",
   "execution_count": 505,
   "id": "094ef206",
   "metadata": {},
   "outputs": [
    {
     "name": "stdout",
     "output_type": "stream",
     "text": [
      "Le tableau comporte 825 observation(s) ou article(s)\n",
      "Le tableau comporte 6 colonne(s)\n"
     ]
    }
   ],
   "source": [
    "#Afficher les dimensions du dataset\n",
    "print(\"Le tableau comporte {} observation(s) ou article(s)\".format(df_erp.shape[0]))\n",
    "print(\"Le tableau comporte {} colonne(s)\".format(df_erp.shape[1]))"
   ]
  },
  {
   "cell_type": "code",
   "execution_count": 509,
   "id": "182441f0",
   "metadata": {},
   "outputs": [
    {
     "name": "stdout",
     "output_type": "stream",
     "text": [
      "Le tableau comporte 6 colonne(s)\n",
      "________________\n",
      "Les types de colonnes sont :\n",
      "product_id          int64\n",
      "onsale_web          int64\n",
      "price             float64\n",
      "stock_quantity      int64\n",
      "stock_status       object\n",
      "purchase_price    float64\n",
      "dtype: object \n",
      "________________\n",
      "Le nombre de valeurs présentes dans chacune des colonnes est :\n",
      "product_id        825\n",
      "onsale_web        825\n",
      "price             825\n",
      "stock_quantity    825\n",
      "stock_status      825\n",
      "purchase_price    825\n",
      "dtype: int64 \n"
     ]
    }
   ],
   "source": [
    "#Consulter le nombre de colonnes\n",
    "print(\"Le tableau comporte {} colonne(s)\".format(df_erp.shape[1]))\n",
    "print('________________')\n",
    "#La nature des données dans chacune des colonnes\n",
    "print(\"Les types de colonnes sont :\\n{} \".format(df_erp.dtypes))\n",
    "print('________________')\n",
    "#Le nombre de valeurs présentes dans chacune des colonnes\n",
    "print(\"Le nombre de valeurs présentes dans chacune des colonnes est :\\n{} \".format(df_erp.count()))"
   ]
  },
  {
   "cell_type": "code",
   "execution_count": 511,
   "id": "d3977646",
   "metadata": {},
   "outputs": [
    {
     "data": {
      "text/html": [
       "<div>\n",
       "<style scoped>\n",
       "    .dataframe tbody tr th:only-of-type {\n",
       "        vertical-align: middle;\n",
       "    }\n",
       "\n",
       "    .dataframe tbody tr th {\n",
       "        vertical-align: top;\n",
       "    }\n",
       "\n",
       "    .dataframe thead th {\n",
       "        text-align: right;\n",
       "    }\n",
       "</style>\n",
       "<table border=\"1\" class=\"dataframe\">\n",
       "  <thead>\n",
       "    <tr style=\"text-align: right;\">\n",
       "      <th></th>\n",
       "      <th>product_id</th>\n",
       "      <th>onsale_web</th>\n",
       "      <th>price</th>\n",
       "      <th>stock_quantity</th>\n",
       "      <th>stock_status</th>\n",
       "      <th>purchase_price</th>\n",
       "    </tr>\n",
       "  </thead>\n",
       "  <tbody>\n",
       "    <tr>\n",
       "      <th>0</th>\n",
       "      <td>3847</td>\n",
       "      <td>1</td>\n",
       "      <td>24.2</td>\n",
       "      <td>16</td>\n",
       "      <td>instock</td>\n",
       "      <td>12.88</td>\n",
       "    </tr>\n",
       "    <tr>\n",
       "      <th>1</th>\n",
       "      <td>3849</td>\n",
       "      <td>1</td>\n",
       "      <td>34.3</td>\n",
       "      <td>10</td>\n",
       "      <td>instock</td>\n",
       "      <td>17.54</td>\n",
       "    </tr>\n",
       "    <tr>\n",
       "      <th>2</th>\n",
       "      <td>3850</td>\n",
       "      <td>1</td>\n",
       "      <td>20.8</td>\n",
       "      <td>0</td>\n",
       "      <td>outofstock</td>\n",
       "      <td>10.64</td>\n",
       "    </tr>\n",
       "    <tr>\n",
       "      <th>3</th>\n",
       "      <td>4032</td>\n",
       "      <td>1</td>\n",
       "      <td>14.1</td>\n",
       "      <td>26</td>\n",
       "      <td>instock</td>\n",
       "      <td>6.92</td>\n",
       "    </tr>\n",
       "    <tr>\n",
       "      <th>4</th>\n",
       "      <td>4039</td>\n",
       "      <td>1</td>\n",
       "      <td>46.0</td>\n",
       "      <td>3</td>\n",
       "      <td>outofstock</td>\n",
       "      <td>23.77</td>\n",
       "    </tr>\n",
       "  </tbody>\n",
       "</table>\n",
       "</div>"
      ],
      "text/plain": [
       "   product_id  onsale_web  price  stock_quantity stock_status  purchase_price\n",
       "0        3847           1   24.2              16      instock           12.88\n",
       "1        3849           1   34.3              10      instock           17.54\n",
       "2        3850           1   20.8               0   outofstock           10.64\n",
       "3        4032           1   14.1              26      instock            6.92\n",
       "4        4039           1   46.0               3   outofstock           23.77"
      ]
     },
     "execution_count": 511,
     "metadata": {},
     "output_type": "execute_result"
    }
   ],
   "source": [
    "#Afficher les 5 premières lignes de la table\n",
    "df_erp.head()"
   ]
  },
  {
   "cell_type": "code",
   "execution_count": 514,
   "id": "db102a4a",
   "metadata": {},
   "outputs": [
    {
     "name": "stdout",
     "output_type": "stream",
     "text": [
      "Il y a 0 doublons dans la colonne producti_id \n"
     ]
    }
   ],
   "source": [
    "#Vérifier si il y a les lignes en doublons dans la colonne product_id\n",
    "print(\"Il y a {} doublons dans la colonne producti_id \".format(df_erp.product_id.duplicated(keep='first').sum()))"
   ]
  },
  {
   "cell_type": "code",
   "execution_count": 516,
   "id": "d443d4ff",
   "metadata": {},
   "outputs": [
    {
     "name": "stdout",
     "output_type": "stream",
     "text": [
      "Elle est liée à la colonne stock_quantity\n"
     ]
    }
   ],
   "source": [
    "#Afficher les valeurs distinctes de la colonne stock_status\n",
    "df_erp.stock_status.unique()\n",
    "\n",
    "#À quelle(s) autre(s) colonne(s) sont-elles liées ?\n",
    "\n",
    "print(\"Elle est liée à la colonne stock_quantity\")"
   ]
  },
  {
   "cell_type": "code",
   "execution_count": 518,
   "id": "68088943",
   "metadata": {},
   "outputs": [
    {
     "name": "stdout",
     "output_type": "stream",
     "text": [
      "     product_id  stock_quantity stock_status_2\n",
      "0          3847              16        instock\n",
      "1          3849              10        instock\n",
      "2          3850               0     outofstock\n",
      "3          4032              26        instock\n",
      "4          4039               3        instock\n",
      "5          4040              12        instock\n",
      "6          4041              12        instock\n",
      "7          4042              15        instock\n",
      "8          4043               0     outofstock\n",
      "9          4045               5        instock\n",
      "10         4046               2        instock\n",
      "11         4047               0     outofstock\n",
      "12         4048              24        instock\n",
      "13         4049              25        instock\n",
      "14         4050              42        instock\n",
      "15         4051               0     outofstock\n",
      "16         4052               0     outofstock\n",
      "17         4053               7        instock\n",
      "18         4054               6        instock\n",
      "19         4055               0     outofstock\n",
      "20         4056              38        instock\n",
      "21         4057              29        instock\n",
      "22         4058              39        instock\n",
      "23         4059              34        instock\n",
      "24         4060              29        instock\n",
      "25         4062              30        instock\n",
      "26         4063              33        instock\n",
      "27         4064              32        instock\n",
      "28         4065               0     outofstock\n",
      "29         4066              27        instock\n",
      "30         4067              22        instock\n",
      "31         4068              25        instock\n",
      "32         4069               4        instock\n",
      "33         4070              32        instock\n",
      "34         4071              19        instock\n",
      "35         4072               8        instock\n",
      "36         4073               8        instock\n",
      "37         4074              30        instock\n",
      "38         4075              35        instock\n",
      "39         4076              32        instock\n",
      "40         4077              34        instock\n",
      "41         4078               8        instock\n",
      "42         4079               0     outofstock\n",
      "43         4081               6        instock\n",
      "44         4083              21        instock\n",
      "45         4084              23        instock\n",
      "46         4085              27        instock\n",
      "47         4086              30        instock\n",
      "48         4087              15        instock\n",
      "49         4090               0     outofstock\n",
      "50         4092               0     outofstock\n",
      "51         4094              20        instock\n",
      "52         4095              42        instock\n",
      "53         4096              18        instock\n",
      "54         4097              35        instock\n",
      "55         4098              17        instock\n",
      "56         4099              40        instock\n",
      "57         4100               0     outofstock\n",
      "58         4101              21        instock\n",
      "59         4102              16        instock\n",
      "60         4103              30        instock\n",
      "61         4104              35        instock\n",
      "62         4105              45        instock\n",
      "63         4106              24        instock\n",
      "64         4107               8        instock\n",
      "65         4108              13        instock\n",
      "66         4115              12        instock\n",
      "67         4130              16        instock\n",
      "68         4132               7        instock\n",
      "69         4137              18        instock\n",
      "70         4138               0     outofstock\n",
      "71         4139               1        instock\n",
      "72         4141             123        instock\n",
      "73         4142             125        instock\n",
      "74         4144              91        instock\n",
      "75         4146              86        instock\n",
      "76         4147             100        instock\n",
      "77         4148              71        instock\n",
      "78         4149             101        instock\n",
      "79         4150             123        instock\n",
      "80         4151              23        instock\n",
      "81         4152              14        instock\n",
      "82         4153              30        instock\n",
      "83         4154              31        instock\n",
      "84         4155              33        instock\n",
      "85         4156              44        instock\n",
      "86         4157              36        instock\n",
      "87         4158              36        instock\n",
      "88         4159              51        instock\n",
      "89         4160              36        instock\n",
      "90         4161              36        instock\n",
      "91         4162              31        instock\n",
      "92         4163              26        instock\n",
      "93         4164              28        instock\n",
      "94         4165              26        instock\n",
      "95         4166              20        instock\n",
      "96         4167              16        instock\n",
      "97         4168              21        instock\n",
      "98         4170              28        instock\n",
      "99         4171              32        instock\n",
      "100        4172              31        instock\n",
      "101        4173              49        instock\n",
      "102        4174              43        instock\n",
      "103        4176              18        instock\n",
      "104        4177              28        instock\n",
      "105        4178              21        instock\n",
      "106        4179               0     outofstock\n",
      "107        4180              19        instock\n",
      "108        4181              43        instock\n",
      "109        4182              43        instock\n",
      "110        4183              23        instock\n",
      "111        4186              29        instock\n",
      "112        4187              26        instock\n",
      "113        4188              51        instock\n",
      "114        4190              27        instock\n",
      "115        4191              30        instock\n",
      "116        4192              32        instock\n",
      "117        4193              34        instock\n",
      "118        4194              29        instock\n",
      "119        4195               0     outofstock\n",
      "120        4196               0     outofstock\n",
      "121        4197              32        instock\n",
      "122        4198               0     outofstock\n",
      "123        4200              33        instock\n",
      "124        4201              11        instock\n",
      "125        4202               6        instock\n",
      "126        4203              74        instock\n",
      "127        4204              50        instock\n",
      "128        4205              12        instock\n",
      "129        4207              30        instock\n",
      "130        4208              35        instock\n",
      "131        4209               0     outofstock\n",
      "132        4210               4        instock\n",
      "133        4211               5        instock\n",
      "134        4212              12        instock\n",
      "135        4213              10        instock\n",
      "136        4215              20        instock\n",
      "137        4216              35        instock\n",
      "138        4217              12        instock\n",
      "139        4219              25        instock\n",
      "140        4220              48        instock\n",
      "141        4221              42        instock\n",
      "142        4222              45        instock\n",
      "143        4223              42        instock\n",
      "144        4224              21        instock\n",
      "145        4225              27        instock\n",
      "146        4227              24        instock\n",
      "147        4228              30        instock\n",
      "148        4229              28        instock\n",
      "149        4231              22        instock\n",
      "150        4232              37        instock\n",
      "151        4233               0     outofstock\n",
      "152        4235              41        instock\n",
      "153        4239              27        instock\n",
      "154        4240              29        instock\n",
      "155        4241               0     outofstock\n",
      "156        4242              30        instock\n",
      "157        4244              39        instock\n",
      "158        4245              27        instock\n",
      "159        4246              29        instock\n",
      "160        4248              38        instock\n",
      "161        4250              24        instock\n",
      "162        4251              31        instock\n",
      "163        4253               5        instock\n",
      "164        4254              20        instock\n",
      "165        4256               0     outofstock\n",
      "166        4257              16        instock\n",
      "167        4258              12        instock\n",
      "168        4260              31        instock\n",
      "169        4261              48        instock\n",
      "170        4262              43        instock\n",
      "171        4263              18        instock\n",
      "172        4264              16        instock\n",
      "173        4265              27        instock\n",
      "174        4267              26        instock\n",
      "175        4268              15        instock\n",
      "176        4269              28        instock\n",
      "177        4270              22        instock\n",
      "178        4271              23        instock\n",
      "179        4272              26        instock\n",
      "180        4274               0     outofstock\n",
      "181        4275              62        instock\n",
      "182        4276              17        instock\n",
      "183        4277              28        instock\n",
      "184        4278               0     outofstock\n",
      "185        4279               0     outofstock\n",
      "186        4280              37        instock\n",
      "187        4281              30        instock\n",
      "188        4283               0     outofstock\n",
      "189        4285               5        instock\n",
      "190        4286               6        instock\n",
      "191        4287               8        instock\n",
      "192        4288              26        instock\n",
      "193        4289               0     outofstock\n",
      "194        4297              33        instock\n",
      "195        4298              17        instock\n",
      "196        4299              10        instock\n",
      "197        4300               2        instock\n",
      "198        4301              19        instock\n",
      "199        4303              15        instock\n",
      "200        4304              45        instock\n",
      "201        4306              52        instock\n",
      "202        4307              37        instock\n",
      "203        4334             142        instock\n",
      "204        4336              73        instock\n",
      "205        4337             145        instock\n",
      "206        4348             125        instock\n",
      "207        4350             145        instock\n",
      "208        4352               0     outofstock\n",
      "209        4353             127        instock\n",
      "210        4355              97        instock\n",
      "211        4356              81        instock\n",
      "212        4357             115        instock\n",
      "213        4358              81        instock\n",
      "214        4359             112        instock\n",
      "215        4364               4        instock\n",
      "216        4391               7        instock\n",
      "217        4392               3        instock\n",
      "218        4393               5        instock\n",
      "219        4394               3        instock\n",
      "220        4395               9        instock\n",
      "221        4396               0     outofstock\n",
      "222        4397               5        instock\n",
      "223        4398              10        instock\n",
      "224        4399              10        instock\n",
      "225        4400              12        instock\n",
      "226        4401               5        instock\n",
      "227        4402              11        instock\n",
      "228        4404              17        instock\n",
      "229        4405              15        instock\n",
      "230        4406              12        instock\n",
      "231        4407              14        instock\n",
      "232        4558              23        instock\n",
      "233        4564              28        instock\n",
      "234        4565               3        instock\n",
      "235        4566              19        instock\n",
      "236        4568               0     outofstock\n",
      "237        4573              12        instock\n",
      "238        4577               1        instock\n",
      "239        4578               3        instock\n",
      "240        4582              18        instock\n",
      "241        4584               0     outofstock\n",
      "242        4594               0     outofstock\n",
      "243        4596               7        instock\n",
      "244        4597               7        instock\n",
      "245        4598               5        instock\n",
      "246        4599               0     outofstock\n",
      "247        4600              15        instock\n",
      "248        4601              24        instock\n",
      "249        4602               8        instock\n",
      "250        4603               8        instock\n",
      "251        4604               5        instock\n",
      "252        4605               9        instock\n",
      "253        4606               0     outofstock\n",
      "254        4607              41        instock\n",
      "255        4609              40        instock\n",
      "256        4610              34        instock\n",
      "257        4611              29        instock\n",
      "258        4612               0     outofstock\n",
      "259        4613              23        instock\n",
      "260        4614              23        instock\n",
      "261        4615              16        instock\n",
      "262        4616              10        instock\n",
      "263        4617               6        instock\n",
      "264        4618               0     outofstock\n",
      "265        4619               8        instock\n",
      "266        4620              28        instock\n",
      "267        4621              36        instock\n",
      "268        4625               4        instock\n",
      "269        4626               4        instock\n",
      "270        4627               2        instock\n",
      "271        4628               8        instock\n",
      "272        4629               7        instock\n",
      "273        4630               1        instock\n",
      "274        4631               1        instock\n",
      "275        4632               9        instock\n",
      "276        4633               5        instock\n",
      "277        4634              11        instock\n",
      "278        4635              12        instock\n",
      "279        4636               0     outofstock\n",
      "280        4646              27        instock\n",
      "281        4647              45        instock\n",
      "282        4648              22        instock\n",
      "283        4649              18        instock\n",
      "284        4650              20        instock\n",
      "285        4651               7        instock\n",
      "286        4653               8        instock\n",
      "287        4654              14        instock\n",
      "288        4655               7        instock\n",
      "289        4656              13        instock\n",
      "290        4657               3        instock\n",
      "291        4658               4        instock\n",
      "292        4659               0     outofstock\n",
      "293        4662              13        instock\n",
      "294        4664              20        instock\n",
      "295        4665              39        instock\n",
      "296        4666              24        instock\n",
      "297        4668              21        instock\n",
      "298        4669              21        instock\n",
      "299        4670              30        instock\n",
      "300        4671              28        instock\n",
      "301        4672              36        instock\n",
      "302        4673              17        instock\n",
      "303        4674              24        instock\n",
      "304        4675              31        instock\n",
      "305        4676              28        instock\n",
      "306        4677              25        instock\n",
      "307        4678              31        instock\n",
      "308        4679              32        instock\n",
      "309        4680              35        instock\n",
      "310        4681              33        instock\n",
      "311        4682              34        instock\n",
      "312        4683              43        instock\n",
      "313        4684              28        instock\n",
      "314        4686              23        instock\n",
      "315        4687              10        instock\n",
      "316        4689              38        instock\n",
      "317        4690              23        instock\n",
      "318        4692              48        instock\n",
      "319        4693               0     outofstock\n",
      "320        4697               1        instock\n",
      "321        4698               0     outofstock\n",
      "322        4702               0     outofstock\n",
      "323        4703              42        instock\n",
      "324        4704              30        instock\n",
      "325        4705               9        instock\n",
      "326        4706               0     outofstock\n",
      "327        4707              21        instock\n",
      "328        4708               3        instock\n",
      "329        4709               7        instock\n",
      "330        4711               6        instock\n",
      "331        4712              27        instock\n",
      "332        4713              25        instock\n",
      "333        4714              26        instock\n",
      "334        4715              23        instock\n",
      "335        4716              32        instock\n",
      "336        4717              20        instock\n",
      "337        4718              35        instock\n",
      "338        4719              23        instock\n",
      "339        4720              31        instock\n",
      "340        4721               0     outofstock\n",
      "341        4722              18        instock\n",
      "342        4723              19        instock\n",
      "343        4725              13        instock\n",
      "344        4726               0     outofstock\n",
      "345        4727              15        instock\n",
      "346        4728              14        instock\n",
      "347        4729              26        instock\n",
      "348        4730              31        instock\n",
      "349        4731              42        instock\n",
      "350        4733              38        instock\n",
      "351        4734              27        instock\n",
      "352        4738               3        instock\n",
      "353        4739              30        instock\n",
      "354        4740              31        instock\n",
      "355        4741               0     outofstock\n",
      "356        4744               5        instock\n",
      "357        4748              35        instock\n",
      "358        4749              38        instock\n",
      "359        4750              24        instock\n",
      "360        4752              23        instock\n",
      "361        4753              23        instock\n",
      "362        4755              47        instock\n",
      "363        4757              21        instock\n",
      "364        4758              35        instock\n",
      "365        4759              26        instock\n",
      "366        4776              42        instock\n",
      "367        4778              20        instock\n",
      "368        4779              36        instock\n",
      "369        4780              32        instock\n",
      "370        4782              19        instock\n",
      "371        4783              16        instock\n",
      "372        4784              21        instock\n",
      "373        4785              20        instock\n",
      "374        4786              32        instock\n",
      "375        4788              10        instock\n",
      "376        4789              27        instock\n",
      "377        4790              22        instock\n",
      "378        4791              27        instock\n",
      "379        4792              29        instock\n",
      "380        4793              15        instock\n",
      "381        4794              14        instock\n",
      "382        4795              32        instock\n",
      "383        4797               5        instock\n",
      "384        4798               0     outofstock\n",
      "385        4799              23        instock\n",
      "386        4858               0     outofstock\n",
      "387        4860              29        instock\n",
      "388        4861              36        instock\n",
      "389        4862              35        instock\n",
      "390        4863              54        instock\n",
      "391        4864               0     outofstock\n",
      "392        4865              48        instock\n",
      "393        4867             121        instock\n",
      "394        4869               0     outofstock\n",
      "395        4870               0     outofstock\n",
      "396        4874               0     outofstock\n",
      "397        4876               0     outofstock\n",
      "398        4885               0     outofstock\n",
      "399        4886              14        instock\n",
      "400        4888              17        instock\n",
      "401        4889              16        instock\n",
      "402        4890              19        instock\n",
      "403        4891               8        instock\n",
      "404        4892              30        instock\n",
      "405        4893              21        instock\n",
      "406        4899              18        instock\n",
      "407        4900              11        instock\n",
      "408        4901              17        instock\n",
      "409        4902              15        instock\n",
      "410        4903              12        instock\n",
      "411        4904               9        instock\n",
      "412        4907              32        instock\n",
      "413        4908               7        instock\n",
      "414        4909              14        instock\n",
      "415        4910              23        instock\n",
      "416        4911               0     outofstock\n",
      "417        4912              34        instock\n",
      "418        4913              23        instock\n",
      "419        4914              24        instock\n",
      "420        4915              28        instock\n",
      "421        4918              15        instock\n",
      "422        4919              10        instock\n",
      "423        4920              16        instock\n",
      "424        4921               0     outofstock\n",
      "425        4922               0     outofstock\n",
      "426        4923               0     outofstock\n",
      "427        4924              24        instock\n",
      "428        4925              38        instock\n",
      "429        4926              40        instock\n",
      "430        4927              39        instock\n",
      "431        4928              28        instock\n",
      "432        4929              26        instock\n",
      "433        4930              29        instock\n",
      "434        4931              34        instock\n",
      "435        4932               5        instock\n",
      "436        4933              24        instock\n",
      "437        4934              28        instock\n",
      "438        4936              25        instock\n",
      "439        4937              26        instock\n",
      "440        4938              32        instock\n",
      "441        4939              23        instock\n",
      "442        4940              39        instock\n",
      "443        4954              23        instock\n",
      "444        4962              23        instock\n",
      "445        4963              41        instock\n",
      "446        4964              23        instock\n",
      "447        4965              24        instock\n",
      "448        4970             100        instock\n",
      "449        4973             -10     outofstock\n",
      "450        4974              10        instock\n",
      "451        4975              19        instock\n",
      "452        4976               0     outofstock\n",
      "453        4977              31        instock\n",
      "454        4978              23        instock\n",
      "455        4980              18        instock\n",
      "456        4994              11        instock\n",
      "457        4995               6        instock\n",
      "458        4996               6        instock\n",
      "459        5000              26        instock\n",
      "460        5001              18        instock\n",
      "461        5002               4        instock\n",
      "462        5003               4        instock\n",
      "463        5004               4        instock\n",
      "464        5006               5        instock\n",
      "465        5007              15        instock\n",
      "466        5008              12        instock\n",
      "467        5010               6        instock\n",
      "468        5016              40        instock\n",
      "469        5017               0     outofstock\n",
      "470        5018               0     outofstock\n",
      "471        5019              45        instock\n",
      "472        5020               0     outofstock\n",
      "473        5021               0     outofstock\n",
      "474        5024             103        instock\n",
      "475        5025             136        instock\n",
      "476        5026             101        instock\n",
      "477        5027              79        instock\n",
      "478        5047              76        instock\n",
      "479        5056              27        instock\n",
      "480        5061               5        instock\n",
      "481        5062              12        instock\n",
      "482        5063               1        instock\n",
      "483        5067               3        instock\n",
      "484        5068               6        instock\n",
      "485        5069              14        instock\n",
      "486        5070               0     outofstock\n",
      "487        5075               0     outofstock\n",
      "488        5375              41        instock\n",
      "489        5377              39        instock\n",
      "490        5379              33        instock\n",
      "491        5380              27        instock\n",
      "492        5382              30        instock\n",
      "493        5383              10        instock\n",
      "494        5384               0     outofstock\n",
      "495        5389              23        instock\n",
      "496        5391              34        instock\n",
      "497        5393               7        instock\n",
      "498        5394              29        instock\n",
      "499        5395              24        instock\n",
      "500        5396              14        instock\n",
      "501        5397              24        instock\n",
      "502        5398               8        instock\n",
      "503        5439              46        instock\n",
      "504        5443              32        instock\n",
      "505        5444              40        instock\n",
      "506        5445              18        instock\n",
      "507        5446              28        instock\n",
      "508        5448              42        instock\n",
      "509        5465              12        instock\n",
      "510        5474              11        instock\n",
      "511        5477              18        instock\n",
      "512        5479              38        instock\n",
      "513        5480              23        instock\n",
      "514        5481              25        instock\n",
      "515        5483              31        instock\n",
      "516        5484              25        instock\n",
      "517        5485              14        instock\n",
      "518        5486               9        instock\n",
      "519        5487               0     outofstock\n",
      "520        5488              11        instock\n",
      "521        5491              18        instock\n",
      "522        5504              19        instock\n",
      "523        5505               0     outofstock\n",
      "524        5506              24        instock\n",
      "525        5519              35        instock\n",
      "526        5520              12        instock\n",
      "527        5522               8        instock\n",
      "528        5523               9        instock\n",
      "529        5524               9        instock\n",
      "530        5525              23        instock\n",
      "531        5544               0     outofstock\n",
      "532        5545              13        instock\n",
      "533        5546              18        instock\n",
      "534        5547              16        instock\n",
      "535        5548               5        instock\n",
      "536        5550               8        instock\n",
      "537        5551               6        instock\n",
      "538        5552               5        instock\n",
      "539        5554              13        instock\n",
      "540        5559               3        instock\n",
      "541        5560              62        instock\n",
      "542        5561               8        instock\n",
      "543        5563              16        instock\n",
      "544        5564              10        instock\n",
      "545        5565               0     outofstock\n",
      "546        5566              12        instock\n",
      "547        5569               1        instock\n",
      "548        5570               0     outofstock\n",
      "549        5573              22        instock\n",
      "550        5574               2        instock\n",
      "551        5580               4        instock\n",
      "552        5608              11        instock\n",
      "553        5609               7        instock\n",
      "554        5610              29        instock\n",
      "555        5611              14        instock\n",
      "556        5612              19        instock\n",
      "557        5613              28        instock\n",
      "558        5614              17        instock\n",
      "559        5615               5        instock\n",
      "560        5616               7        instock\n",
      "561        5617               0     outofstock\n",
      "562        5618               5        instock\n",
      "563        5619              10        instock\n",
      "564        5628              15        instock\n",
      "565        5629              28        instock\n",
      "566        5630              23        instock\n",
      "567        5690               9        instock\n",
      "568        5693              29        instock\n",
      "569        5694              25        instock\n",
      "570        5695              33        instock\n",
      "571        5696              24        instock\n",
      "572        5697              14        instock\n",
      "573        5700              -1     outofstock\n",
      "574        5703              23        instock\n",
      "575        5704              35        instock\n",
      "576        5705              23        instock\n",
      "577        5706              26        instock\n",
      "578        5707               0     outofstock\n",
      "579        5709               0     outofstock\n",
      "580        5711              23        instock\n",
      "581        5712               0     outofstock\n",
      "582        5715              15        instock\n",
      "583        5722              38        instock\n",
      "584        5736              32        instock\n",
      "585        5737              25        instock\n",
      "586        5738              15        instock\n",
      "587        5739              13        instock\n",
      "588        5741               4        instock\n",
      "589        5742               3        instock\n",
      "590        5743               7        instock\n",
      "591        5747              12        instock\n",
      "592        5753              31        instock\n",
      "593        5756               9        instock\n",
      "594        5760              24        instock\n",
      "595        5761             125        instock\n",
      "596        5764              20        instock\n",
      "597        5766               4        instock\n",
      "598        5767              12        instock\n",
      "599        5768               7        instock\n",
      "600        5769               6        instock\n",
      "601        5770              19        instock\n",
      "602        5771               6        instock\n",
      "603        5772              12        instock\n",
      "604        5773               9        instock\n",
      "605        5777              51        instock\n",
      "606        5778              44        instock\n",
      "607        5779              30        instock\n",
      "608        5794              15        instock\n",
      "609        5795              16        instock\n",
      "610        5796              21        instock\n",
      "611        5797              29        instock\n",
      "612        5799               3        instock\n",
      "613        5800               0     outofstock\n",
      "614        5801              22        instock\n",
      "615        5802              34        instock\n",
      "616        5803              47        instock\n",
      "617        5804              25        instock\n",
      "618        5805               0     outofstock\n",
      "619        5806              39        instock\n",
      "620        5807              12        instock\n",
      "621        5808               1        instock\n",
      "622        5809              32        instock\n",
      "623        5810              27        instock\n",
      "624        5815              26        instock\n",
      "625        5816              32        instock\n",
      "626        5817               6        instock\n",
      "627        5818               2        instock\n",
      "628        5819               6        instock\n",
      "629        5820               7        instock\n",
      "630        5826              34        instock\n",
      "631        5827               4        instock\n",
      "632        5829               5        instock\n",
      "633        5890              29        instock\n",
      "634        5891              24        instock\n",
      "635        5892              98        instock\n",
      "636        5893              13        instock\n",
      "637        5894              29        instock\n",
      "638        5896              23        instock\n",
      "639        5899              35        instock\n",
      "640        5900              21        instock\n",
      "641        5902              10        instock\n",
      "642        5903              15        instock\n",
      "643        5904              27        instock\n",
      "644        5905               6        instock\n",
      "645        5906              38        instock\n",
      "646        5907              14        instock\n",
      "647        5912               4        instock\n",
      "648        5913               7        instock\n",
      "649        5914               4        instock\n",
      "650        5916               1        instock\n",
      "651        5917              12        instock\n",
      "652        5918              12        instock\n",
      "653        5922               4        instock\n",
      "654        5925              15        instock\n",
      "655        5930               0     outofstock\n",
      "656        5932              13        instock\n",
      "657        5950               4        instock\n",
      "658        5951               4        instock\n",
      "659        5952               0     outofstock\n",
      "660        5953               0     outofstock\n",
      "661        5954               0     outofstock\n",
      "662        5955               0     outofstock\n",
      "663        5956              32        instock\n",
      "664        5957               0     outofstock\n",
      "665        5958              44        instock\n",
      "666        5959              24        instock\n",
      "667        5960              40        instock\n",
      "668        5962               8        instock\n",
      "669        5963              34        instock\n",
      "670        5964              31        instock\n",
      "671        5967               5        instock\n",
      "672        5968               9        instock\n",
      "673        5969              10        instock\n",
      "674        6035              13        instock\n",
      "675        6038               0     outofstock\n",
      "676        6041              11        instock\n",
      "677        6042              25        instock\n",
      "678        6047              29        instock\n",
      "679        6049              30        instock\n",
      "680        6050               0     outofstock\n",
      "681        6070              30        instock\n",
      "682        6072               3        instock\n",
      "683        6073              29        instock\n",
      "684        6093              51        instock\n",
      "685        6094              24        instock\n",
      "686        6095              31        instock\n",
      "687        6100               0     outofstock\n",
      "688        6101               4        instock\n",
      "689        6103               7        instock\n",
      "690        6104               7        instock\n",
      "691        6105               5        instock\n",
      "692        6106               3        instock\n",
      "693        6107               7        instock\n",
      "694        6108               7        instock\n",
      "695        6109              17        instock\n",
      "696        6125               0     outofstock\n",
      "697        6126             138        instock\n",
      "698        6127              32        instock\n",
      "699        6128              45        instock\n",
      "700        6129              68        instock\n",
      "701        6137               7        instock\n",
      "702        6201              16        instock\n",
      "703        6202              12        instock\n",
      "704        6204              17        instock\n",
      "705        6205              38        instock\n",
      "706        6206              16        instock\n",
      "707        6207              22        instock\n",
      "708        6212              16        instock\n",
      "709        6213               9        instock\n",
      "710        6214               9        instock\n",
      "711        6215              14        instock\n",
      "712        6216              14        instock\n",
      "713        6221              22        instock\n",
      "714        6222              29        instock\n",
      "715        6223              17        instock\n",
      "716        6225              26        instock\n",
      "717        6226              26        instock\n",
      "718        6227              11        instock\n",
      "719        6278              24        instock\n",
      "720        6279              10        instock\n",
      "721        6280              38        instock\n",
      "722        6299               0     outofstock\n",
      "723        6301               0     outofstock\n",
      "724        6324              18        instock\n",
      "725        6325              22        instock\n",
      "726        6327               0     outofstock\n",
      "727        6328              16        instock\n",
      "728        6567              28        instock\n",
      "729        6568               7        instock\n",
      "730        6569              58        instock\n",
      "731        6570              19        instock\n",
      "732        6572              12        instock\n",
      "733        6573               5        instock\n",
      "734        6575               7        instock\n",
      "735        6578               7        instock\n",
      "736        6584              22        instock\n",
      "737        6585              29        instock\n",
      "738        6592              29        instock\n",
      "739        6594              19        instock\n",
      "740        6615              12        instock\n",
      "741        6616              33        instock\n",
      "742        6617              33        instock\n",
      "743        6618              49        instock\n",
      "744        6620              11        instock\n",
      "745        6621               7        instock\n",
      "746        6622              16        instock\n",
      "747        6626              11        instock\n",
      "748        6627               4        instock\n",
      "749        6628               7        instock\n",
      "750        6629              10        instock\n",
      "751        6631              10        instock\n",
      "752        6632               0     outofstock\n",
      "753        6635              16        instock\n",
      "754        6663               6        instock\n",
      "755        6664              16        instock\n",
      "756        6665              16        instock\n",
      "757        6666               7        instock\n",
      "758        6738              42        instock\n",
      "759        6751               7        instock\n",
      "760        6753               6        instock\n",
      "761        6821              21        instock\n",
      "762        6824               8        instock\n",
      "763        6825               5        instock\n",
      "764        6826              11        instock\n",
      "765        6864              32        instock\n",
      "766        6866              42        instock\n",
      "767        6869               4        instock\n",
      "768        6875              17        instock\n",
      "769        6884               9        instock\n",
      "770        6886               8        instock\n",
      "771        6887              15        instock\n",
      "772        6898              51        instock\n",
      "773        6899               3        instock\n",
      "774        6900               0     outofstock\n",
      "775        6901               0     outofstock\n",
      "776        6902               6        instock\n",
      "777        6903              54        instock\n",
      "778        6904              22        instock\n",
      "779        6905               3        instock\n",
      "780        6906              12        instock\n",
      "781        6907               8        instock\n",
      "782        6908              14        instock\n",
      "783        6909               7        instock\n",
      "784        6920               9        instock\n",
      "785        6926              12        instock\n",
      "786        6928              15        instock\n",
      "787        6930              28        instock\n",
      "788        7008               5        instock\n",
      "789        7009              10        instock\n",
      "790        7010              37        instock\n",
      "791        7015              12        instock\n",
      "792        7023              23        instock\n",
      "793        7025               8        instock\n",
      "794        7081              17        instock\n",
      "795        7084               7        instock\n",
      "796        7085               8        instock\n",
      "797        7086               2        instock\n",
      "798        7087              11        instock\n",
      "799        7088              53        instock\n",
      "800        7131              19        instock\n",
      "801        7132              22        instock\n",
      "802        7133              26        instock\n",
      "803        7136               7        instock\n",
      "804        7137               3        instock\n",
      "805        7159               1        instock\n",
      "806        7161               5        instock\n",
      "807        7162               1        instock\n",
      "808        7163              42        instock\n",
      "809        7164              51        instock\n",
      "810        7168              29        instock\n",
      "811        7169               3        instock\n",
      "812        7170              43        instock\n",
      "813        7192              28        instock\n",
      "814        7193              14        instock\n",
      "815        7194               5        instock\n",
      "816        7195               1        instock\n",
      "817        7196              55        instock\n",
      "818        7200               6        instock\n",
      "819        7201              18        instock\n",
      "820        7203              30        instock\n",
      "821        7204               9        instock\n",
      "822        7247               6        instock\n",
      "823        7329              14        instock\n",
      "824        7338              40        instock\n"
     ]
    }
   ],
   "source": [
    "#Création d'une colonne \"stock_status_2\"\n",
    "df_erp['stock_status_2'] = df_erp['stock_quantity'].apply(lambda x: 'outofstock' if x <= 0  else 'instock')\n",
    "#La valeur de cette deuxième colonne sera fonction de la valeur dans la colonne \"stock_quantity\"\n",
    "#si la valeur de la colonne \"stock_quantity\" est nulle renseigner \"outofstock\" sinon mettre \"instock\"  \n",
    "print(df_erp[['product_id', 'stock_quantity', 'stock_status_2']])"
   ]
  },
  {
   "cell_type": "code",
   "execution_count": 520,
   "id": "90a1c8ae",
   "metadata": {},
   "outputs": [
    {
     "data": {
      "text/plain": [
       "0       True\n",
       "1       True\n",
       "2       True\n",
       "3       True\n",
       "4      False\n",
       "5       True\n",
       "6       True\n",
       "7       True\n",
       "8       True\n",
       "9       True\n",
       "10      True\n",
       "11      True\n",
       "12      True\n",
       "13      True\n",
       "14      True\n",
       "15      True\n",
       "16      True\n",
       "17      True\n",
       "18      True\n",
       "19      True\n",
       "20      True\n",
       "21      True\n",
       "22      True\n",
       "23      True\n",
       "24      True\n",
       "25      True\n",
       "26      True\n",
       "27      True\n",
       "28      True\n",
       "29      True\n",
       "30      True\n",
       "31      True\n",
       "32      True\n",
       "33      True\n",
       "34      True\n",
       "35      True\n",
       "36      True\n",
       "37      True\n",
       "38      True\n",
       "39      True\n",
       "40      True\n",
       "41      True\n",
       "42      True\n",
       "43      True\n",
       "44      True\n",
       "45      True\n",
       "46      True\n",
       "47      True\n",
       "48      True\n",
       "49      True\n",
       "50      True\n",
       "51      True\n",
       "52      True\n",
       "53      True\n",
       "54      True\n",
       "55      True\n",
       "56      True\n",
       "57      True\n",
       "58      True\n",
       "59      True\n",
       "60      True\n",
       "61      True\n",
       "62      True\n",
       "63      True\n",
       "64      True\n",
       "65      True\n",
       "66      True\n",
       "67      True\n",
       "68      True\n",
       "69      True\n",
       "70      True\n",
       "71      True\n",
       "72      True\n",
       "73      True\n",
       "74      True\n",
       "75      True\n",
       "76      True\n",
       "77      True\n",
       "78      True\n",
       "79      True\n",
       "80      True\n",
       "81      True\n",
       "82      True\n",
       "83      True\n",
       "84      True\n",
       "85      True\n",
       "86      True\n",
       "87      True\n",
       "88      True\n",
       "89      True\n",
       "90      True\n",
       "91      True\n",
       "92      True\n",
       "93      True\n",
       "94      True\n",
       "95      True\n",
       "96      True\n",
       "97      True\n",
       "98      True\n",
       "99      True\n",
       "100     True\n",
       "101     True\n",
       "102     True\n",
       "103     True\n",
       "104     True\n",
       "105     True\n",
       "106     True\n",
       "107     True\n",
       "108     True\n",
       "109     True\n",
       "110     True\n",
       "111     True\n",
       "112     True\n",
       "113     True\n",
       "114     True\n",
       "115     True\n",
       "116     True\n",
       "117     True\n",
       "118     True\n",
       "119     True\n",
       "120     True\n",
       "121     True\n",
       "122     True\n",
       "123     True\n",
       "124     True\n",
       "125     True\n",
       "126     True\n",
       "127     True\n",
       "128     True\n",
       "129     True\n",
       "130     True\n",
       "131     True\n",
       "132     True\n",
       "133     True\n",
       "134     True\n",
       "135     True\n",
       "136     True\n",
       "137     True\n",
       "138     True\n",
       "139     True\n",
       "140     True\n",
       "141     True\n",
       "142     True\n",
       "143     True\n",
       "144     True\n",
       "145     True\n",
       "146     True\n",
       "147     True\n",
       "148     True\n",
       "149     True\n",
       "150     True\n",
       "151     True\n",
       "152     True\n",
       "153     True\n",
       "154     True\n",
       "155     True\n",
       "156     True\n",
       "157     True\n",
       "158     True\n",
       "159     True\n",
       "160     True\n",
       "161     True\n",
       "162     True\n",
       "163     True\n",
       "164     True\n",
       "165     True\n",
       "166     True\n",
       "167     True\n",
       "168     True\n",
       "169     True\n",
       "170     True\n",
       "171     True\n",
       "172     True\n",
       "173     True\n",
       "174     True\n",
       "175     True\n",
       "176     True\n",
       "177     True\n",
       "178     True\n",
       "179     True\n",
       "180     True\n",
       "181     True\n",
       "182     True\n",
       "183     True\n",
       "184     True\n",
       "185     True\n",
       "186     True\n",
       "187     True\n",
       "188     True\n",
       "189     True\n",
       "190     True\n",
       "191     True\n",
       "192     True\n",
       "193     True\n",
       "194     True\n",
       "195     True\n",
       "196     True\n",
       "197     True\n",
       "198     True\n",
       "199     True\n",
       "200     True\n",
       "201     True\n",
       "202     True\n",
       "203     True\n",
       "204     True\n",
       "205     True\n",
       "206     True\n",
       "207     True\n",
       "208     True\n",
       "209     True\n",
       "210     True\n",
       "211     True\n",
       "212     True\n",
       "213     True\n",
       "214     True\n",
       "215     True\n",
       "216     True\n",
       "217     True\n",
       "218     True\n",
       "219     True\n",
       "220     True\n",
       "221     True\n",
       "222     True\n",
       "223     True\n",
       "224     True\n",
       "225     True\n",
       "226     True\n",
       "227     True\n",
       "228     True\n",
       "229     True\n",
       "230     True\n",
       "231     True\n",
       "232     True\n",
       "233     True\n",
       "234     True\n",
       "235     True\n",
       "236     True\n",
       "237     True\n",
       "238     True\n",
       "239     True\n",
       "240     True\n",
       "241     True\n",
       "242     True\n",
       "243     True\n",
       "244     True\n",
       "245     True\n",
       "246     True\n",
       "247     True\n",
       "248     True\n",
       "249     True\n",
       "250     True\n",
       "251     True\n",
       "252     True\n",
       "253     True\n",
       "254     True\n",
       "255     True\n",
       "256     True\n",
       "257     True\n",
       "258     True\n",
       "259     True\n",
       "260     True\n",
       "261     True\n",
       "262     True\n",
       "263     True\n",
       "264     True\n",
       "265     True\n",
       "266     True\n",
       "267     True\n",
       "268     True\n",
       "269     True\n",
       "270     True\n",
       "271     True\n",
       "272     True\n",
       "273     True\n",
       "274     True\n",
       "275     True\n",
       "276     True\n",
       "277     True\n",
       "278     True\n",
       "279     True\n",
       "280     True\n",
       "281     True\n",
       "282     True\n",
       "283     True\n",
       "284     True\n",
       "285     True\n",
       "286     True\n",
       "287     True\n",
       "288     True\n",
       "289     True\n",
       "290     True\n",
       "291     True\n",
       "292     True\n",
       "293     True\n",
       "294     True\n",
       "295     True\n",
       "296     True\n",
       "297     True\n",
       "298     True\n",
       "299     True\n",
       "300     True\n",
       "301     True\n",
       "302     True\n",
       "303     True\n",
       "304     True\n",
       "305     True\n",
       "306     True\n",
       "307     True\n",
       "308     True\n",
       "309     True\n",
       "310     True\n",
       "311     True\n",
       "312     True\n",
       "313     True\n",
       "314     True\n",
       "315     True\n",
       "316     True\n",
       "317     True\n",
       "318     True\n",
       "319     True\n",
       "320     True\n",
       "321     True\n",
       "322     True\n",
       "323     True\n",
       "324     True\n",
       "325     True\n",
       "326     True\n",
       "327     True\n",
       "328     True\n",
       "329     True\n",
       "330     True\n",
       "331     True\n",
       "332     True\n",
       "333     True\n",
       "334     True\n",
       "335     True\n",
       "336     True\n",
       "337     True\n",
       "338     True\n",
       "339     True\n",
       "340     True\n",
       "341     True\n",
       "342     True\n",
       "343     True\n",
       "344     True\n",
       "345     True\n",
       "346     True\n",
       "347     True\n",
       "348     True\n",
       "349     True\n",
       "350     True\n",
       "351     True\n",
       "352     True\n",
       "353     True\n",
       "354     True\n",
       "355     True\n",
       "356     True\n",
       "357     True\n",
       "358     True\n",
       "359     True\n",
       "360     True\n",
       "361     True\n",
       "362     True\n",
       "363     True\n",
       "364     True\n",
       "365     True\n",
       "366     True\n",
       "367     True\n",
       "368     True\n",
       "369     True\n",
       "370     True\n",
       "371     True\n",
       "372     True\n",
       "373     True\n",
       "374     True\n",
       "375     True\n",
       "376     True\n",
       "377     True\n",
       "378     True\n",
       "379     True\n",
       "380     True\n",
       "381     True\n",
       "382     True\n",
       "383     True\n",
       "384     True\n",
       "385     True\n",
       "386     True\n",
       "387     True\n",
       "388     True\n",
       "389     True\n",
       "390     True\n",
       "391     True\n",
       "392     True\n",
       "393     True\n",
       "394     True\n",
       "395     True\n",
       "396     True\n",
       "397     True\n",
       "398    False\n",
       "399     True\n",
       "400     True\n",
       "401     True\n",
       "402     True\n",
       "403     True\n",
       "404     True\n",
       "405     True\n",
       "406     True\n",
       "407     True\n",
       "408     True\n",
       "409     True\n",
       "410     True\n",
       "411     True\n",
       "412     True\n",
       "413     True\n",
       "414     True\n",
       "415     True\n",
       "416     True\n",
       "417     True\n",
       "418     True\n",
       "419     True\n",
       "420     True\n",
       "421     True\n",
       "422     True\n",
       "423     True\n",
       "424     True\n",
       "425     True\n",
       "426     True\n",
       "427     True\n",
       "428     True\n",
       "429     True\n",
       "430     True\n",
       "431     True\n",
       "432     True\n",
       "433     True\n",
       "434     True\n",
       "435     True\n",
       "436     True\n",
       "437     True\n",
       "438     True\n",
       "439     True\n",
       "440     True\n",
       "441     True\n",
       "442     True\n",
       "443     True\n",
       "444     True\n",
       "445     True\n",
       "446     True\n",
       "447     True\n",
       "448     True\n",
       "449     True\n",
       "450     True\n",
       "451     True\n",
       "452     True\n",
       "453     True\n",
       "454     True\n",
       "455     True\n",
       "456     True\n",
       "457     True\n",
       "458     True\n",
       "459     True\n",
       "460     True\n",
       "461     True\n",
       "462     True\n",
       "463     True\n",
       "464     True\n",
       "465     True\n",
       "466     True\n",
       "467     True\n",
       "468     True\n",
       "469     True\n",
       "470     True\n",
       "471     True\n",
       "472     True\n",
       "473     True\n",
       "474     True\n",
       "475     True\n",
       "476     True\n",
       "477     True\n",
       "478     True\n",
       "479     True\n",
       "480     True\n",
       "481     True\n",
       "482     True\n",
       "483     True\n",
       "484     True\n",
       "485     True\n",
       "486     True\n",
       "487     True\n",
       "488     True\n",
       "489     True\n",
       "490     True\n",
       "491     True\n",
       "492     True\n",
       "493     True\n",
       "494     True\n",
       "495     True\n",
       "496     True\n",
       "497     True\n",
       "498     True\n",
       "499     True\n",
       "500     True\n",
       "501     True\n",
       "502     True\n",
       "503     True\n",
       "504     True\n",
       "505     True\n",
       "506     True\n",
       "507     True\n",
       "508     True\n",
       "509     True\n",
       "510     True\n",
       "511     True\n",
       "512     True\n",
       "513     True\n",
       "514     True\n",
       "515     True\n",
       "516     True\n",
       "517     True\n",
       "518     True\n",
       "519     True\n",
       "520     True\n",
       "521     True\n",
       "522     True\n",
       "523     True\n",
       "524     True\n",
       "525     True\n",
       "526     True\n",
       "527     True\n",
       "528     True\n",
       "529     True\n",
       "530     True\n",
       "531     True\n",
       "532     True\n",
       "533     True\n",
       "534     True\n",
       "535     True\n",
       "536     True\n",
       "537     True\n",
       "538     True\n",
       "539     True\n",
       "540     True\n",
       "541     True\n",
       "542     True\n",
       "543     True\n",
       "544     True\n",
       "545     True\n",
       "546     True\n",
       "547     True\n",
       "548     True\n",
       "549     True\n",
       "550     True\n",
       "551     True\n",
       "552     True\n",
       "553     True\n",
       "554     True\n",
       "555     True\n",
       "556     True\n",
       "557     True\n",
       "558     True\n",
       "559     True\n",
       "560     True\n",
       "561     True\n",
       "562     True\n",
       "563     True\n",
       "564     True\n",
       "565     True\n",
       "566     True\n",
       "567     True\n",
       "568     True\n",
       "569     True\n",
       "570     True\n",
       "571     True\n",
       "572     True\n",
       "573     True\n",
       "574     True\n",
       "575     True\n",
       "576     True\n",
       "577     True\n",
       "578     True\n",
       "579     True\n",
       "580     True\n",
       "581     True\n",
       "582     True\n",
       "583     True\n",
       "584     True\n",
       "585     True\n",
       "586     True\n",
       "587     True\n",
       "588     True\n",
       "589     True\n",
       "590     True\n",
       "591     True\n",
       "592     True\n",
       "593     True\n",
       "594     True\n",
       "595     True\n",
       "596     True\n",
       "597     True\n",
       "598     True\n",
       "599     True\n",
       "600     True\n",
       "601     True\n",
       "602     True\n",
       "603     True\n",
       "604     True\n",
       "605     True\n",
       "606     True\n",
       "607     True\n",
       "608     True\n",
       "609     True\n",
       "610     True\n",
       "611     True\n",
       "612     True\n",
       "613     True\n",
       "614     True\n",
       "615     True\n",
       "616     True\n",
       "617     True\n",
       "618     True\n",
       "619     True\n",
       "620     True\n",
       "621     True\n",
       "622     True\n",
       "623     True\n",
       "624     True\n",
       "625     True\n",
       "626     True\n",
       "627     True\n",
       "628     True\n",
       "629     True\n",
       "630     True\n",
       "631     True\n",
       "632     True\n",
       "633     True\n",
       "634     True\n",
       "635     True\n",
       "636     True\n",
       "637     True\n",
       "638     True\n",
       "639     True\n",
       "640     True\n",
       "641     True\n",
       "642     True\n",
       "643     True\n",
       "644     True\n",
       "645     True\n",
       "646     True\n",
       "647     True\n",
       "648     True\n",
       "649     True\n",
       "650     True\n",
       "651     True\n",
       "652     True\n",
       "653     True\n",
       "654     True\n",
       "655     True\n",
       "656     True\n",
       "657     True\n",
       "658     True\n",
       "659     True\n",
       "660     True\n",
       "661     True\n",
       "662     True\n",
       "663     True\n",
       "664     True\n",
       "665     True\n",
       "666     True\n",
       "667     True\n",
       "668     True\n",
       "669     True\n",
       "670     True\n",
       "671     True\n",
       "672     True\n",
       "673     True\n",
       "674     True\n",
       "675     True\n",
       "676     True\n",
       "677     True\n",
       "678     True\n",
       "679     True\n",
       "680     True\n",
       "681     True\n",
       "682     True\n",
       "683     True\n",
       "684     True\n",
       "685     True\n",
       "686     True\n",
       "687     True\n",
       "688     True\n",
       "689     True\n",
       "690     True\n",
       "691     True\n",
       "692     True\n",
       "693     True\n",
       "694     True\n",
       "695     True\n",
       "696     True\n",
       "697     True\n",
       "698     True\n",
       "699     True\n",
       "700     True\n",
       "701     True\n",
       "702     True\n",
       "703     True\n",
       "704     True\n",
       "705     True\n",
       "706     True\n",
       "707     True\n",
       "708     True\n",
       "709     True\n",
       "710     True\n",
       "711     True\n",
       "712     True\n",
       "713     True\n",
       "714     True\n",
       "715     True\n",
       "716     True\n",
       "717     True\n",
       "718     True\n",
       "719     True\n",
       "720     True\n",
       "721     True\n",
       "722     True\n",
       "723     True\n",
       "724     True\n",
       "725     True\n",
       "726     True\n",
       "727     True\n",
       "728     True\n",
       "729     True\n",
       "730     True\n",
       "731     True\n",
       "732     True\n",
       "733     True\n",
       "734     True\n",
       "735     True\n",
       "736     True\n",
       "737     True\n",
       "738     True\n",
       "739     True\n",
       "740     True\n",
       "741     True\n",
       "742     True\n",
       "743     True\n",
       "744     True\n",
       "745     True\n",
       "746     True\n",
       "747     True\n",
       "748     True\n",
       "749     True\n",
       "750     True\n",
       "751     True\n",
       "752     True\n",
       "753     True\n",
       "754     True\n",
       "755     True\n",
       "756     True\n",
       "757     True\n",
       "758     True\n",
       "759     True\n",
       "760     True\n",
       "761     True\n",
       "762     True\n",
       "763     True\n",
       "764     True\n",
       "765     True\n",
       "766     True\n",
       "767     True\n",
       "768     True\n",
       "769     True\n",
       "770     True\n",
       "771     True\n",
       "772     True\n",
       "773     True\n",
       "774     True\n",
       "775     True\n",
       "776     True\n",
       "777     True\n",
       "778     True\n",
       "779     True\n",
       "780     True\n",
       "781     True\n",
       "782     True\n",
       "783     True\n",
       "784     True\n",
       "785     True\n",
       "786     True\n",
       "787     True\n",
       "788     True\n",
       "789     True\n",
       "790     True\n",
       "791     True\n",
       "792     True\n",
       "793     True\n",
       "794     True\n",
       "795     True\n",
       "796     True\n",
       "797     True\n",
       "798     True\n",
       "799     True\n",
       "800     True\n",
       "801     True\n",
       "802     True\n",
       "803     True\n",
       "804     True\n",
       "805     True\n",
       "806     True\n",
       "807     True\n",
       "808     True\n",
       "809     True\n",
       "810     True\n",
       "811     True\n",
       "812     True\n",
       "813     True\n",
       "814     True\n",
       "815     True\n",
       "816     True\n",
       "817     True\n",
       "818     True\n",
       "819     True\n",
       "820     True\n",
       "821     True\n",
       "822     True\n",
       "823     True\n",
       "824     True\n",
       "dtype: bool"
      ]
     },
     "execution_count": 520,
     "metadata": {},
     "output_type": "execute_result"
    }
   ],
   "source": [
    "#Vérifions que les 2 colonnes sont identiques:\n",
    "#Les 2 colonnes sont strictement identiques si les valeurs de chaque ligne sont strictement identiques 2 à 2\n",
    "#La comparaison de 2 colonnes peut se réaliser simplement avec l'instruction ci-dessous:\n",
    "df_erp[\"stock_status\"] == df_erp[\"stock_status_2\"]\n",
    "\n",
    "#Le résultat est l'affichage de True ou False pour chacune des lignes du dataset\n",
    "#C'est un bon début, mais difficile à exploiter"
   ]
  },
  {
   "cell_type": "code",
   "execution_count": 522,
   "id": "ebe3650a",
   "metadata": {},
   "outputs": [
    {
     "name": "stdout",
     "output_type": "stream",
     "text": [
      "823\n"
     ]
    }
   ],
   "source": [
    "#Mais il est possible de synthétiser ce résultat en effectuant la somme de cette colonne:\n",
    "#True vaut 1 et False 0\n",
    "#Nous devrions obtenir la somme de 824 qui correspond au nombre de lignes dans ce dataset\n",
    "print((df_erp[\"stock_status\"] == df_erp[\"stock_status_2\"]).sum())"
   ]
  },
  {
   "cell_type": "code",
   "execution_count": 524,
   "id": "1ca6060a",
   "metadata": {},
   "outputs": [
    {
     "data": {
      "text/html": [
       "<div>\n",
       "<style scoped>\n",
       "    .dataframe tbody tr th:only-of-type {\n",
       "        vertical-align: middle;\n",
       "    }\n",
       "\n",
       "    .dataframe tbody tr th {\n",
       "        vertical-align: top;\n",
       "    }\n",
       "\n",
       "    .dataframe thead th {\n",
       "        text-align: right;\n",
       "    }\n",
       "</style>\n",
       "<table border=\"1\" class=\"dataframe\">\n",
       "  <thead>\n",
       "    <tr style=\"text-align: right;\">\n",
       "      <th></th>\n",
       "      <th>product_id</th>\n",
       "      <th>onsale_web</th>\n",
       "      <th>price</th>\n",
       "      <th>stock_quantity</th>\n",
       "      <th>stock_status</th>\n",
       "      <th>purchase_price</th>\n",
       "      <th>stock_status_2</th>\n",
       "    </tr>\n",
       "  </thead>\n",
       "  <tbody>\n",
       "    <tr>\n",
       "      <th>4</th>\n",
       "      <td>4039</td>\n",
       "      <td>1</td>\n",
       "      <td>46.0</td>\n",
       "      <td>3</td>\n",
       "      <td>outofstock</td>\n",
       "      <td>23.77</td>\n",
       "      <td>instock</td>\n",
       "    </tr>\n",
       "    <tr>\n",
       "      <th>398</th>\n",
       "      <td>4885</td>\n",
       "      <td>1</td>\n",
       "      <td>18.7</td>\n",
       "      <td>0</td>\n",
       "      <td>instock</td>\n",
       "      <td>9.66</td>\n",
       "      <td>outofstock</td>\n",
       "    </tr>\n",
       "  </tbody>\n",
       "</table>\n",
       "</div>"
      ],
      "text/plain": [
       "     product_id  onsale_web  price  stock_quantity stock_status  \\\n",
       "4          4039           1   46.0               3   outofstock   \n",
       "398        4885           1   18.7               0      instock   \n",
       "\n",
       "     purchase_price stock_status_2  \n",
       "4             23.77        instock  \n",
       "398            9.66     outofstock  "
      ]
     },
     "execution_count": 524,
     "metadata": {},
     "output_type": "execute_result"
    }
   ],
   "source": [
    "#Si les colonnes ne sont absolument pas identiques ligne à ligne alors identifier la ligne en écart\n",
    "##Dans ce cas je vous ce lien pour apprendre à réaliser des filtres dans Pandas:\n",
    "##https://bitbucket.org/hrojas/learn-pandas/src/master/\n",
    "##Lesson 3\n",
    "df_erp.loc[df_erp[\"stock_status\"] != df_erp[\"stock_status_2\"]]"
   ]
  },
  {
   "cell_type": "code",
   "execution_count": 526,
   "id": "ce1b9704",
   "metadata": {},
   "outputs": [
    {
     "name": "stdout",
     "output_type": "stream",
     "text": [
      "825\n"
     ]
    }
   ],
   "source": [
    "#Corriger la ou les données incohérentes\n",
    "df_erp.iloc[4, 4] = 'instock'\n",
    "df_erp.iloc[398, 4] = 'outofstock'\n",
    "#Verification en utilisant le même code que plus haut pour afficher les problemes\n",
    "print((df_erp[\"stock_status\"] == df_erp[\"stock_status_2\"]).sum())"
   ]
  },
  {
   "cell_type": "markdown",
   "id": "08bd4b08",
   "metadata": {},
   "source": [
    "<div style=\"border: 1px solid RGB(51,165,182);\" >\n",
    "<h3 style=\"margin: auto; padding: 20px; color: RGB(51,165,182); \">2.1.1 - Analyse exploratoire de chaque variable du fichier erp.xlsx</h3>\n",
    "</div>"
   ]
  },
  {
   "cell_type": "markdown",
   "id": "3476df40",
   "metadata": {},
   "source": [
    "<div style=\"border: 1px solid RGB(51,165,182);\" >\n",
    "<h3 style=\"margin: auto; padding: 20px; color: RGB(51,165,182); \">2.1.1.1 - Analyse de la variable PRIX</h3>\n",
    "</div>"
   ]
  },
  {
   "cell_type": "code",
   "execution_count": 530,
   "id": "a7fc3384",
   "metadata": {},
   "outputs": [
    {
     "name": "stdout",
     "output_type": "stream",
     "text": [
      "     product_id  onsale_web  price  stock_quantity stock_status  \\\n",
      "151        4233           0  -20.0               0   outofstock   \n",
      "469        5017           0   -8.0               0   outofstock   \n",
      "739        6594           0   -9.1              19      instock   \n",
      "\n",
      "     purchase_price stock_status_2  \n",
      "151           10.33     outofstock  \n",
      "469            4.34     outofstock  \n",
      "739            4.61        instock  \n",
      "_______________________________\n",
      "False\n",
      "_______________________________\n",
      "Empty DataFrame\n",
      "Columns: [product_id, onsale_web, price, stock_quantity, stock_status, purchase_price, stock_status_2]\n",
      "Index: []\n",
      "_______________________________\n",
      "Nombres d'article avec un prix non renseignés: 3\n",
      "_______________________________\n",
      "-20.0\n",
      "225.0\n"
     ]
    }
   ],
   "source": [
    "###############\n",
    "## LES PRIX  ##\n",
    "###############\n",
    "\n",
    "#Vérification des prix: Y a t-il des prix non renseignés, négatif ou nul?\n",
    "print(df_erp.loc[df_erp['price'] <= 0])\n",
    "print('_______________________________')\n",
    "print(df_erp['price'].isna().values.any())\n",
    "print('_______________________________')\n",
    "print(df_erp.loc[df_erp['price'] == ''])\n",
    "print('_______________________________')\n",
    "\n",
    "#Afficher le ou les prix non renseignés dans la colonne \"price\"\n",
    "print(\"Nombres d'article avec un prix non renseignés: {}\".format(df_erp['price'].loc[df_erp['price'] <= 0].count()))\n",
    "\n",
    "print('_______________________________')\n",
    "#Afficher le prix minimum de la colonne \"price\"\n",
    "print(df_erp['price'].min())\n",
    "#Afficher le prix maximum de la colonne \"price\"\n",
    "print(df_erp['price'].max())\n",
    "#Affichier les prix inférieurs à 0 (qu'est ce qu'il faut en faire ?)\n",
    "# df_erp['price']= df_erp['price'].abs() \n",
    "# print(df_erp.loc[df_erp['price'] <= 0])\n",
    "# en parler avec les autres responsables businesss en entreprise"
   ]
  },
  {
   "cell_type": "markdown",
   "id": "c5fce58c",
   "metadata": {},
   "source": [
    "<div style=\"border: 1px solid RGB(51,165,182);\" >\n",
    "<h3 style=\"margin: auto; padding: 20px; color: RGB(51,165,182); \">2.1.1.2 - Analyse de la variable STOCK</h3>\n",
    "</div>"
   ]
  },
  {
   "cell_type": "code",
   "execution_count": 533,
   "id": "3d14c4a0",
   "metadata": {},
   "outputs": [
    {
     "name": "stdout",
     "output_type": "stream",
     "text": [
      "La quantité minimum est : -10\n",
      "_______________________________\n",
      "La quantité maximum est : 145\n",
      "_______________________________\n",
      "     product_id  onsale_web  price  stock_quantity stock_status  \\\n",
      "449        4973           0   10.0             -10   outofstock   \n",
      "573        5700           1   44.5              -1   outofstock   \n",
      "\n",
      "     purchase_price stock_status_2  \n",
      "449            4.96     outofstock  \n",
      "573           22.30     outofstock  \n"
     ]
    }
   ],
   "source": [
    "#######################\n",
    "### stock_quantity  ###\n",
    "#######################\n",
    "\n",
    "#Vérification de la colonne stock quantity\n",
    "#Afficher la quantité minimum de la colonne \"stock_quantity\"\n",
    "print(\"La quantité minimum est : {}\".format(df_erp['stock_quantity'].min()))\n",
    "print('_______________________________')\n",
    "#Afficher la quantité maximum de la colonne \"stock_quantity\"\n",
    "print(\"La quantité maximum est : {}\".format(df_erp['stock_quantity'].max()))\n",
    "print('_______________________________')\n",
    "\n",
    "#Affichier les stocks inférieurs à 0\n",
    "print(df_erp.loc[df_erp['stock_quantity'] < 0])\n",
    "df_erp['stock_quantity'] = df_erp['stock_quantity'].clip(lower=0)\n",
    "#Il faudrait vérifier, dans un premier temps, que ce ne soit pas une erreur de frappe\n",
    "# donc vérifier si les produits sont en stock et dans les quantités indiquées en négatif dans le dataframe\n",
    "# mettre à zéro et faire la remarque aux autres responsables logistique"
   ]
  },
  {
   "cell_type": "markdown",
   "id": "20e8c554",
   "metadata": {},
   "source": [
    "<div style=\"border: 1px solid RGB(51,165,182);\" >\n",
    "<h3 style=\"margin: auto; padding: 20px; color: RGB(51,165,182); \">2.1.1.3 - Analyse de la variable ONSALE_WEB</h3>\n",
    "</div>"
   ]
  },
  {
   "cell_type": "code",
   "execution_count": 536,
   "id": "99b936ca",
   "metadata": {},
   "outputs": [
    {
     "name": "stdout",
     "output_type": "stream",
     "text": [
      "Les valeurs uniques sont : [1 0]\n"
     ]
    }
   ],
   "source": [
    "#Vérification de la colonne onsale_web et des valeurs qu'elle contient? Que signifient-elles?\n",
    "print(\"Les valeurs uniques sont : {}\".format(df_erp['onsale_web'].unique()))\n",
    "#D'après le nom de la colonne et du type binaire, il s'agit de savoir si le produit a été commandé en ligne ou non"
   ]
  },
  {
   "cell_type": "code",
   "execution_count": 538,
   "id": "5a79444d",
   "metadata": {},
   "outputs": [],
   "source": [
    "#Quelles sont les colonnes à conserver selon vous?\n",
    "# Toutes sauf \"stock_status\""
   ]
  },
  {
   "cell_type": "code",
   "execution_count": 540,
   "id": "8053aeda",
   "metadata": {},
   "outputs": [
    {
     "data": {
      "text/html": [
       "<div>\n",
       "<style scoped>\n",
       "    .dataframe tbody tr th:only-of-type {\n",
       "        vertical-align: middle;\n",
       "    }\n",
       "\n",
       "    .dataframe tbody tr th {\n",
       "        vertical-align: top;\n",
       "    }\n",
       "\n",
       "    .dataframe thead th {\n",
       "        text-align: right;\n",
       "    }\n",
       "</style>\n",
       "<table border=\"1\" class=\"dataframe\">\n",
       "  <thead>\n",
       "    <tr style=\"text-align: right;\">\n",
       "      <th></th>\n",
       "      <th>product_id</th>\n",
       "      <th>onsale_web</th>\n",
       "      <th>price</th>\n",
       "      <th>stock_quantity</th>\n",
       "      <th>purchase_price</th>\n",
       "      <th>stock_status</th>\n",
       "    </tr>\n",
       "  </thead>\n",
       "  <tbody>\n",
       "    <tr>\n",
       "      <th>0</th>\n",
       "      <td>3847</td>\n",
       "      <td>1</td>\n",
       "      <td>24.2</td>\n",
       "      <td>16</td>\n",
       "      <td>12.88</td>\n",
       "      <td>instock</td>\n",
       "    </tr>\n",
       "    <tr>\n",
       "      <th>1</th>\n",
       "      <td>3849</td>\n",
       "      <td>1</td>\n",
       "      <td>34.3</td>\n",
       "      <td>10</td>\n",
       "      <td>17.54</td>\n",
       "      <td>instock</td>\n",
       "    </tr>\n",
       "    <tr>\n",
       "      <th>2</th>\n",
       "      <td>3850</td>\n",
       "      <td>1</td>\n",
       "      <td>20.8</td>\n",
       "      <td>0</td>\n",
       "      <td>10.64</td>\n",
       "      <td>outofstock</td>\n",
       "    </tr>\n",
       "    <tr>\n",
       "      <th>3</th>\n",
       "      <td>4032</td>\n",
       "      <td>1</td>\n",
       "      <td>14.1</td>\n",
       "      <td>26</td>\n",
       "      <td>6.92</td>\n",
       "      <td>instock</td>\n",
       "    </tr>\n",
       "    <tr>\n",
       "      <th>4</th>\n",
       "      <td>4039</td>\n",
       "      <td>1</td>\n",
       "      <td>46.0</td>\n",
       "      <td>3</td>\n",
       "      <td>23.77</td>\n",
       "      <td>instock</td>\n",
       "    </tr>\n",
       "  </tbody>\n",
       "</table>\n",
       "</div>"
      ],
      "text/plain": [
       "   product_id  onsale_web  price  stock_quantity  purchase_price stock_status\n",
       "0        3847           1   24.2              16           12.88      instock\n",
       "1        3849           1   34.3              10           17.54      instock\n",
       "2        3850           1   20.8               0           10.64   outofstock\n",
       "3        4032           1   14.1              26            6.92      instock\n",
       "4        4039           1   46.0               3           23.77      instock"
      ]
     },
     "execution_count": 540,
     "metadata": {},
     "output_type": "execute_result"
    }
   ],
   "source": [
    "#Supprimer la colonnecomportant le libellé \"stock_status_2\" car elle est redondante \n",
    "#avec la colonne \"stock_status\".\n",
    "df_erp.pop('stock_status')\n",
    "df_erp.rename(columns={'stock_status_2': 'stock_status'}, inplace=True)\n",
    "df_erp.head()\n",
    "# renommer \"stock_status_2\" / enlever le 2"
   ]
  },
  {
   "cell_type": "markdown",
   "id": "eca4fce9",
   "metadata": {},
   "source": [
    "<div style=\"border: 1px solid RGB(51,165,182);\" >\n",
    "<h3 style=\"margin: auto; padding: 20px; color: RGB(51,165,182); \">2.1.1.4 - Analyse de la variable prix d'achat</h3>\n",
    "</div>"
   ]
  },
  {
   "cell_type": "code",
   "execution_count": 543,
   "id": "6b85ba0d",
   "metadata": {},
   "outputs": [
    {
     "name": "stdout",
     "output_type": "stream",
     "text": [
      "Il y a 0 prix non renseigné(s) dans la colonne purchase_price\n",
      "La quantité minimum est : 2.74\n",
      "La quantité minimum est : 137.81\n"
     ]
    }
   ],
   "source": [
    "######################\n",
    "##   prix d'achat   ##\n",
    "######################\n",
    "\n",
    "#Vérification de la colonne purchase_price : \n",
    "#Afficher le ou les prix non renseignés dans la colonne \"purchase_price\"\n",
    "print(\"Il y a {} prix non renseigné(s) dans la colonne purchase_price\".format(df_erp['purchase_price'].isna().sum()))\n",
    "#Afficher le prix minimum de la colonne \"purchase_price\"\n",
    "print(\"La quantité minimum est : {}\".format(df_erp['purchase_price'].min()))\n",
    "#Afficher le prix maximum de la colonne \"purchase_price\"\n",
    "print(\"La quantité minimum est : {}\".format(df_erp['purchase_price'].max()))\n"
   ]
  },
  {
   "cell_type": "markdown",
   "id": "a550f996",
   "metadata": {},
   "source": [
    "<div style=\"border: 1px solid RGB(51,165,182);\" >\n",
    "<h3 style=\"margin: auto; padding: 20px; color: RGB(51,165,182); \">2.2 - Analyse exploratoire du fichier web.xlsx</h3>\n",
    "</div>\n",
    " "
   ]
  },
  {
   "cell_type": "code",
   "execution_count": 546,
   "id": "bb7e292c",
   "metadata": {},
   "outputs": [
    {
     "name": "stdout",
     "output_type": "stream",
     "text": [
      "Le tableau comporte 1513 observation(s) ou article(s)\n",
      "Le tableau comporte 29 colonne(s)\n"
     ]
    }
   ],
   "source": [
    "#Dimension du dataset\n",
    "#Nombre d'observations\n",
    "print(\"Le tableau comporte {} observation(s) ou article(s)\".format(df_web.shape[0]))\n",
    "#Nombre de caractéristiques\n",
    "print(\"Le tableau comporte {} colonne(s)\".format(df_web.shape[1]))"
   ]
  },
  {
   "cell_type": "code",
   "execution_count": 548,
   "id": "0b70a8da",
   "metadata": {},
   "outputs": [
    {
     "name": "stdout",
     "output_type": "stream",
     "text": [
      "29\n",
      "________________\n",
      "sku                              object\n",
      "virtual                           int64\n",
      "downloadable                      int64\n",
      "rating_count                      int64\n",
      "average_rating                  float64\n",
      "total_sales                     float64\n",
      "tax_status                       object\n",
      "tax_class                       float64\n",
      "post_author                     float64\n",
      "post_date                datetime64[ns]\n",
      "post_date_gmt            datetime64[ns]\n",
      "post_content                    float64\n",
      "product_type                     object\n",
      "post_title                       object\n",
      "post_excerpt                     object\n",
      "post_status                      object\n",
      "comment_status                   object\n",
      "ping_status                      object\n",
      "post_password                   float64\n",
      "post_name                        object\n",
      "post_modified            datetime64[ns]\n",
      "post_modified_gmt        datetime64[ns]\n",
      "post_content_filtered           float64\n",
      "post_parent                     float64\n",
      "guid                             object\n",
      "menu_order                      float64\n",
      "post_type                        object\n",
      "post_mime_type                   object\n",
      "comment_count                   float64\n",
      "dtype: object\n",
      "________________\n",
      "sku                      1428\n",
      "virtual                  1513\n",
      "downloadable             1513\n",
      "rating_count             1513\n",
      "average_rating           1430\n",
      "total_sales              1430\n",
      "tax_status                716\n",
      "tax_class                   0\n",
      "post_author              1430\n",
      "post_date                1430\n",
      "post_date_gmt            1430\n",
      "post_content                0\n",
      "product_type             1429\n",
      "post_title               1430\n",
      "post_excerpt              716\n",
      "post_status              1430\n",
      "comment_status           1430\n",
      "ping_status              1430\n",
      "post_password               0\n",
      "post_name                1430\n",
      "post_modified            1430\n",
      "post_modified_gmt        1430\n",
      "post_content_filtered       0\n",
      "post_parent              1430\n",
      "guid                     1430\n",
      "menu_order               1430\n",
      "post_type                1430\n",
      "post_mime_type            714\n",
      "comment_count            1430\n",
      "dtype: int64\n"
     ]
    }
   ],
   "source": [
    "#Consulter le nombre de colonnes -- Vu au dessus ?\n",
    "print(df_web.shape[1])\n",
    "print('________________')\n",
    "#La nature des données dans chacune des colonnes\n",
    "print(df_web.dtypes)\n",
    "print('________________')\n",
    "#Le nombre de valeurs présentes dans chacune des colonnes\n",
    "print(df_web.count())"
   ]
  },
  {
   "cell_type": "code",
   "execution_count": 550,
   "id": "b0d2f149",
   "metadata": {},
   "outputs": [],
   "source": [
    "#Selon vous, quelles sont les colonnes à conserver ?\n",
    "#Celles qui ne sont pas nulles"
   ]
  },
  {
   "cell_type": "code",
   "execution_count": 552,
   "id": "30b2196b",
   "metadata": {},
   "outputs": [
    {
     "name": "stdout",
     "output_type": "stream",
     "text": [
      "sku                      1428\n",
      "virtual                  1428\n",
      "downloadable             1428\n",
      "rating_count             1428\n",
      "average_rating           1428\n",
      "total_sales              1428\n",
      "tax_status                714\n",
      "tax_class                   0\n",
      "post_author              1428\n",
      "post_date                1428\n",
      "post_date_gmt            1428\n",
      "post_content                0\n",
      "product_type             1427\n",
      "post_title               1428\n",
      "post_excerpt              714\n",
      "post_status              1428\n",
      "comment_status           1428\n",
      "ping_status              1428\n",
      "post_password               0\n",
      "post_name                1428\n",
      "post_modified            1428\n",
      "post_modified_gmt        1428\n",
      "post_content_filtered       0\n",
      "post_parent              1428\n",
      "guid                     1428\n",
      "menu_order               1428\n",
      "post_type                1428\n",
      "post_mime_type            714\n",
      "comment_count            1428\n",
      "dtype: int64\n"
     ]
    }
   ],
   "source": [
    "#Si vous avez défini des colonnes à supprimer, effectuer l'opération\n",
    "df_web = df_web.dropna(subset=[\"sku\"])\n",
    "print(df_web.count())\n",
    "# Mentionner les colonnes supprimées"
   ]
  },
  {
   "cell_type": "code",
   "execution_count": 554,
   "id": "73b0cdf3-e641-4bd8-b7a8-1670f0dea6fc",
   "metadata": {},
   "outputs": [
    {
     "name": "stdout",
     "output_type": "stream",
     "text": [
      "Colonnes à supprimer : ['virtual', 'downloadable', 'rating_count', 'average_rating', 'tax_status', 'tax_class', 'comment_status', 'ping_status', 'guid', 'menu_order', 'comment_count', 'post_author', 'post_date', 'post_date_gmt', 'post_content', 'post_title', 'post_excerpt', 'post_status', 'post_password', 'post_name', 'post_modified', 'post_modified_gmt', 'post_content_filtered', 'post_parent', 'post_type', 'post_mime_type']\n",
      "\n",
      "DataFrame après suppression :\n",
      "sku             1428\n",
      "total_sales     1428\n",
      "product_type    1427\n",
      "dtype: int64\n",
      "     sku  total_sales product_type\n",
      "0  11862          3.0          Vin\n",
      "1  16057          5.0          Vin\n",
      "2  14692          5.0          Vin\n",
      "3  16295         14.0          Vin\n",
      "4  15328          2.0          Vin\n"
     ]
    }
   ],
   "source": [
    "#Si vous avez défini des colonnes à supprimer, effectuer l'opération\n",
    "#Colonnes à supprimer (contenant 'post')\n",
    "specific_cols_to_drop = ['virtual', 'downloadable', 'rating_count', 'average_rating', 'tax_status', 'tax_class', 'comment_status', 'ping_status', 'guid',\n",
    "                        'menu_order', 'comment_count']\n",
    "similar_cols_to_drop = [col for col in df_web.columns if 'post' in col]\n",
    "\n",
    "cols_to_drop = specific_cols_to_drop + similar_cols_to_drop\n",
    "#Afficher les colonnes à supprimer\n",
    "print(\"Colonnes à supprimer :\", cols_to_drop)\n",
    "\n",
    "#Suppression des colonnes\n",
    "df_web = df_web.drop(columns=cols_to_drop)\n",
    "\n",
    "print(\"\\nDataFrame après suppression :\")\n",
    "print(df_web.count())\n",
    "print(df_web.head())\n",
    "# Mentionner les colonnes supprimées"
   ]
  },
  {
   "cell_type": "code",
   "execution_count": 556,
   "id": "1b965d06",
   "metadata": {},
   "outputs": [
    {
     "name": "stdout",
     "output_type": "stream",
     "text": [
      "0                     11862\n",
      "1                     16057\n",
      "2                     14692\n",
      "3                     16295\n",
      "4                     15328\n",
      "5                     15471\n",
      "6                     16515\n",
      "7                     16246\n",
      "9                     13572\n",
      "10                    16513\n",
      "11                    16585\n",
      "12                    16269\n",
      "13                    15526\n",
      "14                    12869\n",
      "15                    15575\n",
      "16                    11586\n",
      "17                    14338\n",
      "18                    15425\n",
      "19                    16560\n",
      "21                    15361\n",
      "22                    13809\n",
      "23                    11587\n",
      "24                    15022\n",
      "25                    14323\n",
      "26                    16342\n",
      "27                    16029\n",
      "28                    15475\n",
      "29                    13754\n",
      "31                    14680\n",
      "32                    15875\n",
      "33                     9636\n",
      "34                    13849\n",
      "35                    13662\n",
      "36                    16564\n",
      "38                    13557\n",
      "39                    15429\n",
      "40                    14712\n",
      "42                    15032\n",
      "43                    15481\n",
      "44                    15448\n",
      "45                    16580\n",
      "46                    15441\n",
      "48                      804\n",
      "49                    15300\n",
      "50                    13958\n",
      "51                    16071\n",
      "52                    15678\n",
      "53                    13895\n",
      "54                    15711\n",
      "56                    12869\n",
      "57                    12882\n",
      "58                    16053\n",
      "59                    13766\n",
      "60                    16247\n",
      "61                    12640\n",
      "62                    15292\n",
      "63                    15476\n",
      "64                    15670\n",
      "65                    16189\n",
      "66                    16038\n",
      "67                    14864\n",
      "68                    16044\n",
      "69                    15324\n",
      "70                    15531\n",
      "71                    15953\n",
      "72                    15413\n",
      "73                    15733\n",
      "74                    13809\n",
      "76                    14366\n",
      "77                    15895\n",
      "78                    15892\n",
      "79                    16472\n",
      "80                    15185\n",
      "81                    16010\n",
      "82                    15793\n",
      "83                    15849\n",
      "84                    12315\n",
      "85                    15741\n",
      "86                    15934\n",
      "87                    15148\n",
      "88                    15781\n",
      "89                    15659\n",
      "90                    15106\n",
      "91                    15490\n",
      "92                    14507\n",
      "93                    14149\n",
      "95                    16307\n",
      "96                    13736\n",
      "97                    14090\n",
      "98                    16037\n",
      "99                    15758\n",
      "100                   14661\n",
      "101                   12587\n",
      "102                   15337\n",
      "103                   15489\n",
      "104                   15201\n",
      "105                   16305\n",
      "106                   16131\n",
      "107                   13435\n",
      "108                   15747\n",
      "109                   15758\n",
      "110                   12203\n",
      "111                   14509\n",
      "112                   14768\n",
      "113                   16262\n",
      "114                   14561\n",
      "115                   16505\n",
      "116                   15717\n",
      "117                   13766\n",
      "118                   16129\n",
      "119                   13460\n",
      "120                   15871\n",
      "121                   15940\n",
      "122                   11602\n",
      "123                   13127\n",
      "124                   13520\n",
      "125                   15480\n",
      "126                   13032\n",
      "128                   15436\n",
      "129                   15269\n",
      "131                   15910\n",
      "132                   19821\n",
      "133                   16263\n",
      "134                   15138\n",
      "135                   15146\n",
      "137                   16580\n",
      "138                   15126\n",
      "139                   15482\n",
      "140                   16186\n",
      "141                   13905\n",
      "142                   16540\n",
      "143                   15856\n",
      "144                   15677\n",
      "145                   13557\n",
      "146                   14700\n",
      "147                   15325\n",
      "148                   19815\n",
      "149                    3506\n",
      "150                   16056\n",
      "151                   14975\n",
      "152                   15341\n",
      "154                   15204\n",
      "155                   15415\n",
      "156                   16065\n",
      "157                   15479\n",
      "158                   16151\n",
      "159                   15127\n",
      "160                   15140\n",
      "161                   15779\n",
      "163                   15473\n",
      "164                   15530\n",
      "165                   14805\n",
      "166                   14106\n",
      "167                    9937\n",
      "168                   15281\n",
      "170                   16553\n",
      "171                   15315\n",
      "172                   15668\n",
      "173                   13211\n",
      "174                   15161\n",
      "175                   11258\n",
      "176                   16296\n",
      "177                   12588\n",
      "178                   15792\n",
      "179                   15921\n",
      "180                   15690\n",
      "181                   15775\n",
      "182                   15577\n",
      "183                   15870\n",
      "185                     802\n",
      "186                   15163\n",
      "187                   15707\n",
      "188                   15690\n",
      "189                   15561\n",
      "190                   15539\n",
      "191                    4679\n",
      "192                   16320\n",
      "193                   15923\n",
      "194                    3509\n",
      "195                    2534\n",
      "196                   16238\n",
      "197                   11586\n",
      "200                   14819\n",
      "201                   15705\n",
      "202                   15254\n",
      "203                   15554\n",
      "204                   14451\n",
      "205                   13215\n",
      "206                   14302\n",
      "207                   12476\n",
      "208                   16274\n",
      "209                   16044\n",
      "210                   14507\n",
      "211                   14696\n",
      "212                   14573\n",
      "213                   15343\n",
      "214                     791\n",
      "215                   14474\n",
      "216                   12586\n",
      "217                   16238\n",
      "218                   14768\n",
      "219                   15346\n",
      "220                   15834\n",
      "221                   15342\n",
      "222                   15324\n",
      "223                   15141\n",
      "224                   15038\n",
      "225                   14265\n",
      "226                   15238\n",
      "227                   16586\n",
      "228                   15895\n",
      "229                   13073\n",
      "230                   15664\n",
      "231                   14527\n",
      "232                   15707\n",
      "233                   15269\n",
      "234                   14845\n",
      "235                   13172\n",
      "236                   13996\n",
      "237                   15038\n",
      "238                   15864\n",
      "239                   14700\n",
      "240                   15440\n",
      "241                   15759\n",
      "242                   15706\n",
      "243                   11277\n",
      "245                   15448\n",
      "246                   15676\n",
      "247                   15731\n",
      "248                   13435\n",
      "249                   16525\n",
      "250                   15785\n",
      "251                   14699\n",
      "252                   16063\n",
      "253                   15718\n",
      "254                   14372\n",
      "255                   15881\n",
      "256                     793\n",
      "257                   14775\n",
      "258                   12771\n",
      "259                   15426\n",
      "260                   13291\n",
      "261                   16023\n",
      "262                   14661\n",
      "263                   15713\n",
      "265                   15675\n",
      "266                   15282\n",
      "267                   15927\n",
      "268                   15351\n",
      "270                   12791\n",
      "271                   13958\n",
      "272                 13127-1\n",
      "273                   13853\n",
      "274                   15613\n",
      "275                   15921\n",
      "276                   11849\n",
      "277                   15478\n",
      "278                   15328\n",
      "279                   16121\n",
      "280                   16237\n",
      "281                   15461\n",
      "282                   15745\n",
      "283                   15621\n",
      "284                   13849\n",
      "285                   15683\n",
      "286                   15577\n",
      "287                   12639\n",
      "288                   15466\n",
      "289                   15184\n",
      "291                   13078\n",
      "292                   13904\n",
      "293                   14828\n",
      "294                   14000\n",
      "295                   15793\n",
      "296                   15612\n",
      "297                     304\n",
      "298                   15811\n",
      "299                   15425\n",
      "300                   15649\n",
      "301                   14599\n",
      "302                   15033\n",
      "303                   13959\n",
      "304                   15026\n",
      "305                   13032\n",
      "306                   16449\n",
      "307                   15095\n",
      "308                   15829\n",
      "309                   13965\n",
      "310                   16306\n",
      "311                   16276\n",
      "312                   15729\n",
      "313                   15303\n",
      "314                   13996\n",
      "315                   14679\n",
      "316                   15318\n",
      "317                   13599\n",
      "318                   15206\n",
      "320                   19816\n",
      "321                   16153\n",
      "322                   16067\n",
      "323                   15241\n",
      "324                   14981\n",
      "325                   16264\n",
      "326                   14915\n",
      "327                   15737\n",
      "328                   16289\n",
      "329                   15229\n",
      "330                   15713\n",
      "331                    7033\n",
      "332                   15654\n",
      "333                   15879\n",
      "334                   12586\n",
      "335                   15184\n",
      "336                   14692\n",
      "337                   16256\n",
      "338                   15710\n",
      "340                   16498\n",
      "341                   16289\n",
      "342                   15204\n",
      "343                   15349\n",
      "344                   11933\n",
      "345                   16462\n",
      "346                   14596\n",
      "347                   15296\n",
      "348                   16042\n",
      "349                   15887\n",
      "350                   15264\n",
      "351                   15307\n",
      "353                   16256\n",
      "354                   15369\n",
      "355                   14095\n",
      "356                   15868\n",
      "357                   16247\n",
      "358                   16307\n",
      "360                   15530\n",
      "361                   14371\n",
      "362                   12657\n",
      "363                   15478\n",
      "365                   15808\n",
      "366                   15787\n",
      "367                   16038\n",
      "368                   13604\n",
      "369                   13604\n",
      "370                     791\n",
      "371                   15605\n",
      "372                   15795\n",
      "374                   15566\n",
      "375                   16210\n",
      "377                   15732\n",
      "378                   15661\n",
      "380                   13814\n",
      "381                   16130\n",
      "382                   16003\n",
      "383                   14676\n",
      "384                   13516\n",
      "385                   14977\n",
      "386                   14945\n",
      "387                   12641\n",
      "388                   14469\n",
      "389                   15237\n",
      "390                   14905\n",
      "391                   15462\n",
      "392                   16031\n",
      "393                   15779\n",
      "394                   14599\n",
      "395                   14819\n",
      "396                   16191\n",
      "397                    3568\n",
      "398                   15080\n",
      "399                   14975\n",
      "400                   15353\n",
      "401                   15861\n",
      "402                   16529\n",
      "403                   16068\n",
      "404                   16081\n",
      "405                   14729\n",
      "406                   16077\n",
      "407                   15373\n",
      "408                   11049\n",
      "410                   16154\n",
      "411                   14809\n",
      "412                   15201\n",
      "413                   15073\n",
      "414                   15345\n",
      "415                   15756\n",
      "416                   13531\n",
      "417                   15373\n",
      "418                   16269\n",
      "419                   15614\n",
      "420                    7086\n",
      "422                   15784\n",
      "423                   14332\n",
      "424                   16320\n",
      "426                   14300\n",
      "427                   14141\n",
      "428                   15734\n",
      "429                   15456\n",
      "430                     805\n",
      "431                   16130\n",
      "432                   15766\n",
      "433                   13895\n",
      "434                   15667\n",
      "435                   16513\n",
      "436                   16081\n",
      "437                   16152\n",
      "438                   16318\n",
      "439                   15677\n",
      "440                   15185\n",
      "441                   15360\n",
      "442                   14696\n",
      "443                   16067\n",
      "444                   13517\n",
      "445                    7819\n",
      "446                   12771\n",
      "447                   15740\n",
      "448                   15930\n",
      "449                   16155\n",
      "450                    4679\n",
      "451                   15339\n",
      "452                   14950\n",
      "453                   13754\n",
      "454                    2179\n",
      "455                   15688\n",
      "456                   16525\n",
      "457                   13982\n",
      "458                      38\n",
      "459                   13853\n",
      "460                   15178\n",
      "461                   16209\n",
      "462                   14982\n",
      "463                    8463\n",
      "464                   13412\n",
      "465                   15298\n",
      "466                   14149\n",
      "467                   15770\n",
      "468                   15487\n",
      "469                   15205\n",
      "470                   13230\n",
      "471                   14220\n",
      "472                   15227\n",
      "473                   13172\n",
      "474                   14106\n",
      "475                   16094\n",
      "476                   15859\n",
      "477                   15811\n",
      "478                   15481\n",
      "479                   15179\n",
      "480                   14774\n",
      "481                   14944\n",
      "482                   16022\n",
      "483                   15767\n",
      "484                   15338\n",
      "485                   13913\n",
      "486                   14756\n",
      "487                   16152\n",
      "488                   15746\n",
      "489                   14332\n",
      "490                   16192\n",
      "491                   15763\n",
      "492                   12365\n",
      "493                   15868\n",
      "494                    9562\n",
      "495                   15767\n",
      "496                   16039\n",
      "497                   16328\n",
      "498                   16564\n",
      "499                   15196\n",
      "500                   15475\n",
      "501                     531\n",
      "502                   15810\n",
      "503                   15649\n",
      "504                    7086\n",
      "505                    2361\n",
      "506                   15402\n",
      "507                   14828\n",
      "508                   14220\n",
      "509                   15945\n",
      "510                   15807\n",
      "511                   15661\n",
      "512                   16210\n",
      "513                   14506\n",
      "514                   14100\n",
      "516                   15075\n",
      "517                   13765\n",
      "518                   12882\n",
      "519                   16093\n",
      "520                   10814\n",
      "521                   12942\n",
      "523                    1366\n",
      "524                   12857\n",
      "525                   12045\n",
      "526                   13515\n",
      "527                   11601\n",
      "528                   16148\n",
      "529                   12339\n",
      "530                   15095\n",
      "531                   14845\n",
      "532                   15351\n",
      "533                   15870\n",
      "534                   16567\n",
      "535                   15240\n",
      "536                     793\n",
      "537                   15414\n",
      "538                     812\n",
      "539                   16292\n",
      "540                   11736\n",
      "542                   15714\n",
      "543                   15120\n",
      "544                   15461\n",
      "545                   15141\n",
      "546                   13117\n",
      "547                    3383\n",
      "548                    1366\n",
      "549                   15631\n",
      "551                   15136\n",
      "552                   15145\n",
      "553                   13096\n",
      "554                   15857\n",
      "555                   15318\n",
      "556                   15241\n",
      "558                   14632\n",
      "559                   11641\n",
      "560                   15856\n",
      "561                     804\n",
      "562                   15807\n",
      "563                   15736\n",
      "564                   15136\n",
      "565                   15615\n",
      "566                   15574\n",
      "567                   16096\n",
      "568                   15564\n",
      "569                   15774\n",
      "570                   14930\n",
      "571                   15714\n",
      "572                   15670\n",
      "573                   15429\n",
      "574                   15941\n",
      "575                   16045\n",
      "576                   16246\n",
      "577                   15539\n",
      "578                   16230\n",
      "579                   14429\n",
      "580                   16010\n",
      "581                   15769\n",
      "582                   16265\n",
      "583                   14657\n",
      "584                   15741\n",
      "585                   15261\n",
      "586                   13765\n",
      "587                   16239\n",
      "588                   14141\n",
      "589                   15715\n",
      "590                   13453\n",
      "591                   16244\n",
      "592                   15147\n",
      "593                   16280\n",
      "594                   15564\n",
      "595                   14508\n",
      "596                   15465\n",
      "597                   11277\n",
      "598                    3510\n",
      "599                   14374\n",
      "600                   15880\n",
      "601                   16071\n",
      "603                   15930\n",
      "604                   16151\n",
      "605                   15465\n",
      "606                   13416\n",
      "607                   15343\n",
      "608                   15733\n",
      "609                   15183\n",
      "610                   15860\n",
      "611                   11467\n",
      "613                   11585\n",
      "614                   11602\n",
      "615                   14300\n",
      "616                   14485\n",
      "617                   16138\n",
      "618                   19822\n",
      "619                   14915\n",
      "620                   15155\n",
      "621                   11996\n",
      "623                   14626\n",
      "624                   15126\n",
      "625                   15026\n",
      "626                   13117\n",
      "627                   16330\n",
      "628                   15035\n",
      "629                   15404\n",
      "630                    8365\n",
      "631                    3507\n",
      "632                   14773\n",
      "633                   15360\n",
      "634                   12639\n",
      "635                   15967\n",
      "636                   14000\n",
      "637                   15812\n",
      "638                   16319\n",
      "641                   14699\n",
      "642                   16004\n",
      "643                   15310\n",
      "644                   16093\n",
      "645                   16097\n",
      "646                   12045\n",
      "647                   14856\n",
      "648                   19821\n",
      "649                   15881\n",
      "650                   15629\n",
      "651                    1364\n",
      "652                   15120\n",
      "653                   15116\n",
      "654                   14101\n",
      "655                   13531\n",
      "656                   14912\n",
      "657                   15036\n",
      "658                   16047\n",
      "659                   14184\n",
      "660                   14983\n",
      "661                   14983\n",
      "662                   16030\n",
      "663                   16283\n",
      "664                   16324\n",
      "665                   14756\n",
      "667                   15801\n",
      "668                   10014\n",
      "669                   12881\n",
      "670                   15660\n",
      "671                   16540\n",
      "672                   16005\n",
      "673                   15489\n",
      "674                   15306\n",
      "675                   16277\n",
      "676                   11641\n",
      "677                   15527\n",
      "679                   15428\n",
      "680                   15292\n",
      "681                   13957\n",
      "682                   15647\n",
      "683                    2179\n",
      "684                   12496\n",
      "685                   15399\n",
      "686                   15490\n",
      "687                   13969\n",
      "688                   13096\n",
      "689                   15525\n",
      "690                   15759\n",
      "691                   12942\n",
      "692                   13914\n",
      "693                   13211\n",
      "694                   12790\n",
      "695                   16498\n",
      "697                   13904\n",
      "698                   15296\n",
      "699                   16560\n",
      "700                   15720\n",
      "701                   13313\n",
      "702                   13291\n",
      "704                   15196\n",
      "705                   15928\n",
      "706                   15432\n",
      "707                   16077\n",
      "708                   13814\n",
      "709                   15655\n",
      "710                   16539\n",
      "711                   12589\n",
      "712                   15648\n",
      "713                   13127\n",
      "715                   15561\n",
      "716                   16011\n",
      "718                   15711\n",
      "719                   15892\n",
      "720                   15073\n",
      "721                   16146\n",
      "722                   15672\n",
      "723                   15030\n",
      "724                   15735\n",
      "725                   15769\n",
      "727                   14800\n",
      "728                    9937\n",
      "729                   16190\n",
      "730                   13217\n",
      "731                   13854\n",
      "732                   14856\n",
      "733                   16317\n",
      "734                   15871\n",
      "735                   16565\n",
      "736                   16131\n",
      "737                   15237\n",
      "738                   15891\n",
      "739                   15729\n",
      "740                   15730\n",
      "741                   16497\n",
      "742                   16124\n",
      "743                   14596\n",
      "744                   15566\n",
      "745                   16056\n",
      "746                   14626\n",
      "747                   15476\n",
      "748                   10459\n",
      "749                   19814\n",
      "750                   15863\n",
      "751                   15786\n",
      "752                   15791\n",
      "753                   15353\n",
      "754                   16135\n",
      "755                   16553\n",
      "756                   16147\n",
      "757                   12640\n",
      "758                   16066\n",
      "759                   15818\n",
      "760                   15791\n",
      "761                   15790\n",
      "762                    9636\n",
      "763                   15205\n",
      "764                   15648\n",
      "765                    8193\n",
      "766                   15282\n",
      "767                   16255\n",
      "768                   16189\n",
      "769                   15047\n",
      "770                   15966\n",
      "771                   16153\n",
      "772                   13078\n",
      "773                   14736\n",
      "774                   16120\n",
      "775                   16013\n",
      "776                   19815\n",
      "777                     798\n",
      "779                    1662\n",
      "780                   16416\n",
      "781                    7032\n",
      "782                   14581\n",
      "783                   16280\n",
      "784                   15047\n",
      "785                   15106\n",
      "786                   14944\n",
      "787                   15783\n",
      "788                   16144\n",
      "789                    5646\n",
      "790                    8344\n",
      "791                   15775\n",
      "792                   13514\n",
      "793                   15848\n",
      "794                   14451\n",
      "795                   15658\n",
      "796                   15161\n",
      "798                   16209\n",
      "799                   14680\n",
      "800                   14897\n",
      "801                   12194\n",
      "802                   10775\n",
      "803                   16304\n",
      "804                   15361\n",
      "805                   14980\n",
      "806                   13572\n",
      "807                   15035\n",
      "808                   14192\n",
      "809                   15715\n",
      "810                   15952\n",
      "811                   15717\n",
      "812                   14508\n",
      "813                   14099\n",
      "814                   16094\n",
      "815                    3506\n",
      "816                   15834\n",
      "817                    3568\n",
      "818                   15315\n",
      "820                   16144\n",
      "821                   12315\n",
      "823                   15125\n",
      "824                   13089\n",
      "825                   15655\n",
      "826                   16062\n",
      "827                   14923\n",
      "828                   15801\n",
      "830                   14839\n",
      "831                   11933\n",
      "832                   15576\n",
      "833                   13515\n",
      "834                   15657\n",
      "835                    1360\n",
      "837                   15583\n",
      "838                   14527\n",
      "839                   15457\n",
      "840                   13969\n",
      "841                   16275\n",
      "842     bon-cadeau-25-euros\n",
      "843                   15346\n",
      "844                   15797\n",
      "845                   15574\n",
      "846                   12366\n",
      "847                   14864\n",
      "848                   14095\n",
      "849                   15764\n",
      "850                   15080\n",
      "851                   11587\n",
      "852                   14632\n",
      "853                   16072\n",
      "854                   15426\n",
      "855                   15070\n",
      "856                   16323\n",
      "857                   15753\n",
      "858                   15575\n",
      "859                   15755\n",
      "860                   10814\n",
      "861                   15718\n",
      "862                   15582\n",
      "863                   13379\n",
      "864                   15704\n",
      "865                   14372\n",
      "866                   16515\n",
      "867                   13965\n",
      "868                   14265\n",
      "869                   12194\n",
      "870                   15482\n",
      "871                   11601\n",
      "872                   16192\n",
      "873                   15457\n",
      "874                   15861\n",
      "875                   15345\n",
      "876                   14101\n",
      "877                   15667\n",
      "878                   13072\n",
      "879                   15862\n",
      "880                   15533\n",
      "881                   16275\n",
      "882                   15441\n",
      "883                   16028\n",
      "884                   16186\n",
      "885                   12588\n",
      "886                   15148\n",
      "887                   10459\n",
      "888                   15473\n",
      "889                   14775\n",
      "890                    7032\n",
      "891                   14725\n",
      "892                   13647\n",
      "893                   15436\n",
      "894                   16261\n",
      "895                   15944\n",
      "896                   16146\n",
      "897                   15256\n",
      "898                   15576\n",
      "899                     523\n",
      "900                   15452\n",
      "901                   16322\n",
      "902                   15240\n",
      "903                   14729\n",
      "904                   16014\n",
      "905                   13089\n",
      "906                   15732\n",
      "907                   15631\n",
      "908                   14600\n",
      "909                   15316\n",
      "910                   15163\n",
      "911                   16244\n",
      "912                   16264\n",
      "913                   15776\n",
      "914                   14509\n",
      "915                   16211\n",
      "916                   14899\n",
      "917                   14955\n",
      "918                   13412\n",
      "919                   15471\n",
      "920                   13910\n",
      "921                   15134\n",
      "922                   19814\n",
      "923                   15434\n",
      "924                   16124\n",
      "925                   16262\n",
      "926                   13982\n",
      "927                   15813\n",
      "928                   14773\n",
      "929                   15808\n",
      "930                   15145\n",
      "931                   15794\n",
      "932                   15946\n",
      "933                    3383\n",
      "934                   16213\n",
      "935                   14855\n",
      "936                    3510\n",
      "937                   14827\n",
      "938                   14930\n",
      "939                   13520\n",
      "940                   14089\n",
      "941                   15283\n",
      "942                   15734\n",
      "943                   15629\n",
      "945                   15740\n",
      "946                   14647\n",
      "948                   15525\n",
      "949                   15036\n",
      "950                   11467\n",
      "951                   15781\n",
      "952                   16504\n",
      "953                   15849\n",
      "954                   15674\n",
      "955                   15794\n",
      "956                   16537\n",
      "957                   16062\n",
      "958                   13230\n",
      "959                   16416\n",
      "960                   15657\n",
      "961                   15658\n",
      "962                   15179\n",
      "963                   15945\n",
      "964                      38\n",
      "965                      41\n",
      "966                   13762\n",
      "967                   15399\n",
      "969                   16283\n",
      "970                   14570\n",
      "972                   13313\n",
      "973                   16041\n",
      "974                   15202\n",
      "975                   15180\n",
      "976                   15375\n",
      "977                   16046\n",
      "978                   15678\n",
      "979                   16034\n",
      "980                   16120\n",
      "981                   14092\n",
      "982                   14241\n",
      "983                   14982\n",
      "984                   15075\n",
      "985                   11997\n",
      "986                   15922\n",
      "988                   14844\n",
      "989                   15795\n",
      "990                   15444\n",
      "991                   14839\n",
      "992                   16047\n",
      "993                   15486\n",
      "994                    7819\n",
      "995                   15664\n",
      "996                    8344\n",
      "997                   14923\n",
      "998                   15378\n",
      "999                   14950\n",
      "1000                  15621\n",
      "1001                  11862\n",
      "1002                   1662\n",
      "1003                    807\n",
      "1004                  14679\n",
      "1006                  14905\n",
      "1007                  13567\n",
      "1008                  16281\n",
      "1009                  13217\n",
      "1010                   1364\n",
      "1011                  15413\n",
      "1012                  15213\n",
      "1013                  15032\n",
      "1014                  12366\n",
      "1015                  16166\n",
      "1016                  11849\n",
      "1017                  13957\n",
      "1019                  11225\n",
      "1020                  16323\n",
      "1021                  13567\n",
      "1022                  15773\n",
      "1023                  16003\n",
      "1024                  16539\n",
      "1025                  16160\n",
      "1026                  19820\n",
      "1027                  13599\n",
      "1028                   7818\n",
      "1029                  15116\n",
      "1030                  10014\n",
      "1031                  13379\n",
      "1032                  14751\n",
      "1033                  14712\n",
      "1034                  15280\n",
      "1035                  15786\n",
      "1036                  15933\n",
      "1037                  16277\n",
      "1038                  14184\n",
      "1039                  13627\n",
      "1040                  16063\n",
      "1041                  14429\n",
      "1042                  13910\n",
      "1043                  15403\n",
      "1044                  14580\n",
      "1046                  16024\n",
      "1047                  14090\n",
      "1048                  15432\n",
      "1049                   3507\n",
      "1050                  15860\n",
      "1051                  15261\n",
      "1052                  14561\n",
      "1053                  14371\n",
      "1054                  15227\n",
      "1055                  12641\n",
      "1056                  16068\n",
      "1057                  16096\n",
      "1058                  14797\n",
      "1059                  12476\n",
      "1060                  16304\n",
      "1061                  15737\n",
      "1062                  12494\n",
      "1063                  16229\n",
      "1064                  13659\n",
      "1066                  16281\n",
      "1067                  16578\n",
      "1068                  15770\n",
      "1069                  14802\n",
      "1070                  15238\n",
      "1071                  16029\n",
      "1072                  15850\n",
      "1073                  16306\n",
      "1074                  16159\n",
      "1075                  15704\n",
      "1076                  15554\n",
      "1077                  15839\n",
      "1078                  16053\n",
      "1079                  13052\n",
      "1080                  15668\n",
      "1081                  15375\n",
      "1082                  15605\n",
      "1083                  16034\n",
      "1085                  15869\n",
      "1088                  15444\n",
      "1089                  15486\n",
      "1090                  14604\n",
      "1091                  16273\n",
      "1092                  15875\n",
      "1093                  15659\n",
      "1094                  13905\n",
      "1095                    812\n",
      "1096                  16295\n",
      "1097                  15785\n",
      "1099                  15178\n",
      "1100                  15404\n",
      "1101                  16005\n",
      "1102                  15329\n",
      "1103                  16042\n",
      "1104                  14573\n",
      "1105                  14366\n",
      "1106                  15283\n",
      "1107                  16318\n",
      "1108                  16031\n",
      "1109                  16578\n",
      "1110                  15307\n",
      "1111                  15773\n",
      "1112                  13854\n",
      "1113                   3509\n",
      "1114                  15125\n",
      "1115                  15306\n",
      "1116                  14253\n",
      "1117                13127-1\n",
      "1118                  13073\n",
      "1119                  16213\n",
      "1120                  14941\n",
      "1121                  15567\n",
      "1122                  15487\n",
      "1123                  16132\n",
      "1124                  16023\n",
      "1125                  13627\n",
      "1126                  14736\n",
      "1127                     41\n",
      "1128                  14746\n",
      "1129                  16504\n",
      "1130                  14955\n",
      "1131                  15656\n",
      "1132                  16066\n",
      "1133                  16135\n",
      "1134                  15070\n",
      "1136                  16527\n",
      "1138                   2361\n",
      "1139                  15162\n",
      "1140                  16045\n",
      "1141                  15206\n",
      "1142                  16154\n",
      "1143                  16529\n",
      "1144                  14580\n",
      "1145                   7818\n",
      "1146                  16326\n",
      "1147                  16449\n",
      "1148                  14657\n",
      "1149                  15310\n",
      "1150                  16501\n",
      "1152                  15747\n",
      "1153                    807\n",
      "1154                  15818\n",
      "1155                  12881\n",
      "1156                  15654\n",
      "1157                  15688\n",
      "1158                  16119\n",
      "1159                  14647\n",
      "1160                  13914\n",
      "1161                  15662\n",
      "1162                  15526\n",
      "1163                  15764\n",
      "1164                  15344\n",
      "1165                  13052\n",
      "1166                  16330\n",
      "1167                  15378\n",
      "1168                  15864\n",
      "1169                  16147\n",
      "1170                  16046\n",
      "1171                  16505\n",
      "1172                  11996\n",
      "1173                  13662\n",
      "1174                  16011\n",
      "1175                  15281\n",
      "1176                  16586\n",
      "1177                  15792\n",
      "1178                  15776\n",
      "1179                  15303\n",
      "1180                  15676\n",
      "1181                  15967\n",
      "1182                  14800\n",
      "1183                  14469\n",
      "1184                  15787\n",
      "1185                  14089\n",
      "1186                  19816\n",
      "1187                  15134\n",
      "1188                   6616\n",
      "1189                  16065\n",
      "1190                  15958\n",
      "1191                   1360\n",
      "1192                  15466\n",
      "1193                  14865\n",
      "1195                  14897\n",
      "1196                  16292\n",
      "1197                  13215\n",
      "1198                  15879\n",
      "1199                  15848\n",
      "1200                  16328\n",
      "1201                  15656\n",
      "1202                  11669\n",
      "1203                   8365\n",
      "1204                  15180\n",
      "1205                  15660\n",
      "1206                  15766\n",
      "1207                  11669\n",
      "1208                  15812\n",
      "1209                  16013\n",
      "1210                    304\n",
      "1211                  15480\n",
      "1212                  15746\n",
      "1213                  15022\n",
      "1214                  15162\n",
      "1215                  15428\n",
      "1216                  14395\n",
      "1217                  14338\n",
      "1218                  15127\n",
      "1219                  14323\n",
      "1220                  16229\n",
      "1221                  15923\n",
      "1222                  15155\n",
      "1223                  14092\n",
      "1224                  16565\n",
      "1225                  13647\n",
      "1226                  15147\n",
      "1227                  14604\n",
      "1228                  16296\n",
      "1229                  14855\n",
      "1230                  12791\n",
      "1232                  15149\n",
      "1233                  16239\n",
      "1234                  12585\n",
      "1235                  14570\n",
      "1236                  15338\n",
      "1237                  15958\n",
      "1238                  14751\n",
      "1239                  15933\n",
      "1240                  14506\n",
      "1241                  11668\n",
      "1242                  11847\n",
      "1243                  12599\n",
      "1245                   5646\n",
      "1246                  15850\n",
      "1247                  16527\n",
      "1248                  15583\n",
      "1249                  16159\n",
      "1250                  16133\n",
      "1251                  15665\n",
      "1252                  14797\n",
      "1253                  15183\n",
      "1255                  19820\n",
      "1256                  13762\n",
      "1257                  16305\n",
      "1258                  15337\n",
      "1259                  16121\n",
      "1260                  14474\n",
      "1261                  15382\n",
      "1262                  16263\n",
      "1264                  13736\n",
      "1265                    802\n",
      "1266                  11997\n",
      "1267                  16138\n",
      "1268                  15940\n",
      "1269                  14809\n",
      "1270                  13209\n",
      "1271                  15146\n",
      "1272                  13072\n",
      "1273                  12587\n",
      "1274                  16133\n",
      "1275                  15705\n",
      "1276                  14461\n",
      "1277                  14805\n",
      "1278                  15730\n",
      "1279                   8193\n",
      "1280                  15790\n",
      "1281                  15748\n",
      "1282                  15229\n",
      "1283                  15298\n",
      "1284                  16166\n",
      "1285                  15663\n",
      "1286                  15072\n",
      "1287                  15004\n",
      "1288                  15202\n",
      "1289                  15755\n",
      "1290                  16069\n",
      "1291                  12496\n",
      "1292                  15300\n",
      "1293                  15952\n",
      "1294                  14395\n",
      "1295                  16037\n",
      "1296                  15434\n",
      "1297                  11585\n",
      "1298                  16180\n",
      "1299                  12203\n",
      "1300                  15887\n",
      "1302                  15342\n",
      "1303                  15753\n",
      "1304                  15325\n",
      "1305                  16585\n",
      "1306                  15927\n",
      "1307                  15665\n",
      "1308                  14600\n",
      "1309                  15934\n",
      "1310                  13659\n",
      "1311                  15341\n",
      "1312                  15403\n",
      "1313                  15949\n",
      "1314                  11225\n",
      "1315                  13460\n",
      "1316                  14725\n",
      "1317                  10775\n",
      "1318                  12857\n",
      "1319                  14980\n",
      "1320                   8463\n",
      "1321                  15774\n",
      "1322                  11049\n",
      "1323                  16149\n",
      "1324                  15414\n",
      "1325                  16043\n",
      "1326                   7033\n",
      "1327                  15845\n",
      "1328                  15745\n",
      "1330                  16255\n",
      "1331                  12599\n",
      "1333                  16069\n",
      "1334                  16132\n",
      "1335                  15072\n",
      "1336                  15138\n",
      "1337                  14374\n",
      "1338                  14945\n",
      "1339                  15951\n",
      "1340                  13514\n",
      "1341                  15382\n",
      "1342                  14302\n",
      "1343                  16180\n",
      "1344                  15829\n",
      "1345                  15951\n",
      "1346                  14241\n",
      "1347                  11258\n",
      "1348                  15675\n",
      "1349                  15531\n",
      "1350                  15944\n",
      "1351                  16024\n",
      "1352                  16119\n",
      "1353                  13074\n",
      "1354                  14192\n",
      "1355                  15857\n",
      "1356                  16022\n",
      "1357                  15839\n",
      "1358                  16028\n",
      "1359                  15941\n",
      "1360                  15949\n",
      "1361                  16237\n",
      "1362                  15663\n",
      "1363                  16274\n",
      "1364                  15946\n",
      "1365                  15845\n",
      "1366                  12589\n",
      "1367                  16230\n",
      "1368                  13453\n",
      "1369                  11736\n",
      "1370                  16501\n",
      "1371                  15280\n",
      "1372                  16097\n",
      "1373                  16472\n",
      "1374                  16276\n",
      "1375                  14485\n",
      "1376                  14100\n",
      "1377                  15004\n",
      "1378                  15533\n",
      "1379                  15859\n",
      "1380                  14099\n",
      "1381                  14774\n",
      "1382                  16342\n",
      "1383                  13959\n",
      "1385                  15033\n",
      "1386                  15613\n",
      "1387    bon-cadeau-25-euros\n",
      "1388                  15149\n",
      "1389                  16537\n",
      "1390                  16462\n",
      "1391                  14569\n",
      "1392                  14977\n",
      "1393                  16041\n",
      "1394                  15813\n",
      "1395                  16324\n",
      "1396                  14676\n",
      "1397                  15339\n",
      "1398                  16160\n",
      "1399                  15402\n",
      "1400                  15922\n",
      "1401                  16030\n",
      "1402                  16190\n",
      "1403                  16265\n",
      "1404                  15479\n",
      "1405                  15527\n",
      "1406                  15966\n",
      "1407                  15710\n",
      "1408                  15452\n",
      "1409                  15140\n",
      "1410                  14981\n",
      "1411                  12585\n",
      "1412                  15213\n",
      "1413                  15810\n",
      "1414                  16211\n",
      "1415                  12657\n",
      "1416                  16149\n",
      "1417                  16043\n",
      "1418                  15891\n",
      "1419                  13517\n",
      "1420                  15567\n",
      "1421                  15582\n",
      "1422                  12339\n",
      "1423                  19822\n",
      "1424                  15612\n",
      "1425                  14865\n",
      "1426                  12790\n",
      "1427                  15763\n",
      "1428                  15462\n",
      "1430                    523\n",
      "1431                  13516\n",
      "1433                  15862\n",
      "1434                  16317\n",
      "1435                  14899\n",
      "1436                  16057\n",
      "1437                  15614\n",
      "1438                   9562\n",
      "1439                  15784\n",
      "1440                  13209\n",
      "1441                    805\n",
      "1442                    531\n",
      "1443                  15440\n",
      "1444                  15683\n",
      "1446                  15674\n",
      "1447                  15316\n",
      "1448                  15880\n",
      "1449                  15731\n",
      "1450                  14569\n",
      "1451                  15254\n",
      "1452                  15910\n",
      "1453                   2534\n",
      "1454                  15953\n",
      "1455                  14581\n",
      "1456                  14941\n",
      "1458                  16191\n",
      "1459                  15344\n",
      "1460                  15672\n",
      "1461                  11847\n",
      "1462                    798\n",
      "1463                  16155\n",
      "1464                  13913\n",
      "1465                  15869\n",
      "1466                  15928\n",
      "1467                  15735\n",
      "1468                  16148\n",
      "1469                  16273\n",
      "1470                  13416\n",
      "1471                   6616\n",
      "1472                  15647\n",
      "1473                  16039\n",
      "1474                  15720\n",
      "1475                  12494\n",
      "1476                  14746\n",
      "1477                  16129\n",
      "1478                  15756\n",
      "1479                  15783\n",
      "1480                  16567\n",
      "1481                  15797\n",
      "1482                  15863\n",
      "1483                  16014\n",
      "1484                  15706\n",
      "1485                  14844\n",
      "1486                  15256\n",
      "1487                  14802\n",
      "1488                  15615\n",
      "1489                  15736\n",
      "1490                  15349\n",
      "1491                  16319\n",
      "1492                  11668\n",
      "1493                  16072\n",
      "1494                  16497\n",
      "1495                  15030\n",
      "1496                  15456\n",
      "1497                  15264\n",
      "1498                  15369\n",
      "1499                  14253\n",
      "1500                  15415\n",
      "1501                  14912\n",
      "1502                  14461\n",
      "1503                  13074\n",
      "1504                  15748\n",
      "1505                  16322\n",
      "1506                  16261\n",
      "1507                  12365\n",
      "1508                  16326\n",
      "1509                  15662\n",
      "1510                  15329\n",
      "1511                  14827\n",
      "1512                  16004\n",
      "Name: sku, dtype: object\n"
     ]
    }
   ],
   "source": [
    "#Visualisation des valeurs de la colonne sku\n",
    "print(df_web['sku'])\n",
    "#Quelles sont les valeurs qui ne semblent pas respecter la régle de codification?\n",
    "# Les valeurs non renseignées / Les valeurs avec un tiret \"-\" / Les valeurs de moins de 5 chiffres"
   ]
  },
  {
   "cell_type": "code",
   "execution_count": 558,
   "id": "1226dcfd",
   "metadata": {},
   "outputs": [
    {
     "name": "stdout",
     "output_type": "stream",
     "text": [
      "                      sku  total_sales   product_type           sku_string\n",
      "33                   9636          0.0         Whisky                 9636\n",
      "48                    804          3.0            Vin                  804\n",
      "149                  3506          3.0         Cognac                 3506\n",
      "167                  9937          2.0            Vin                 9937\n",
      "185                   802          5.0            Vin                  802\n",
      "191                  4679          0.0      Champagne                 4679\n",
      "194                  3509          5.0         Cognac                 3509\n",
      "195                  2534          4.0            Vin                 2534\n",
      "214                   791          1.0            Vin                  791\n",
      "256                   793          1.0            Vin                  793\n",
      "272               13127-1          4.0            Vin              13127-1\n",
      "297                   304          8.0      Champagne                  304\n",
      "331                  7033          5.0  Huile d'olive                 7033\n",
      "370                   791          1.0            Vin                  791\n",
      "397                  3568         13.0            Vin                 3568\n",
      "420                  7086          5.0      Champagne                 7086\n",
      "430                   805          2.0            Vin                  805\n",
      "445                  7819          4.0         Cognac                 7819\n",
      "450                  4679          0.0      Champagne                 4679\n",
      "454                  2179          7.0            Vin                 2179\n",
      "458                    38         10.0            Vin                   38\n",
      "463                  8463          2.0            Vin                 8463\n",
      "494                  9562          5.0      Champagne                 9562\n",
      "501                   531          8.0      Champagne                  531\n",
      "504                  7086          5.0      Champagne                 7086\n",
      "505                  2361          4.0            Vin                 2361\n",
      "523                  1366        116.0      Champagne                 1366\n",
      "536                   793          1.0            Vin                  793\n",
      "538                   812          3.0            Vin                  812\n",
      "547                  3383          3.0            Vin                 3383\n",
      "548                  1366          6.0      Champagne                 1366\n",
      "561                   804          3.0            Vin                  804\n",
      "598                  3510          3.0         Cognac                 3510\n",
      "630                  8365         13.0            Vin                 8365\n",
      "631                  3507          4.0         Cognac                 3507\n",
      "651                  1364          3.0      Champagne                 1364\n",
      "683                  2179          7.0            Vin                 2179\n",
      "728                  9937          2.0            Vin                 9937\n",
      "762                  9636          0.0         Whisky                 9636\n",
      "765                  8193         12.0            Vin                 8193\n",
      "777                   798          8.0            Vin                  798\n",
      "779                  1662          4.0      Champagne                 1662\n",
      "781                  7032         10.0            Vin                 7032\n",
      "789                  5646         11.0            Vin                 5646\n",
      "790                  8344         12.0            Vin                 8344\n",
      "815                  3506          3.0         Cognac                 3506\n",
      "817                  3568         13.0            Vin                 3568\n",
      "835                  1360          6.0      Champagne                 1360\n",
      "842   bon-cadeau-25-euros          7.0          Autre  bon-cadeau-25-euros\n",
      "890                  7032         10.0            Vin                 7032\n",
      "899                   523          0.0         Cognac                  523\n",
      "933                  3383          3.0            Vin                 3383\n",
      "936                  3510          3.0         Cognac                 3510\n",
      "964                    38         10.0            Vin                   38\n",
      "965                    41          6.0            Vin                   41\n",
      "994                  7819          4.0         Cognac                 7819\n",
      "996                  8344         12.0            Vin                 8344\n",
      "1002                 1662          4.0      Champagne                 1662\n",
      "1003                  807          2.0            Vin                  807\n",
      "1010                 1364          3.0      Champagne                 1364\n",
      "1028                 7818          7.0      Champagne                 7818\n",
      "1049                 3507          4.0         Cognac                 3507\n",
      "1095                  812          3.0            Vin                  812\n",
      "1113                 3509          5.0         Cognac                 3509\n",
      "1117              13127-1          4.0            Vin              13127-1\n",
      "1127                   41          6.0            Vin                   41\n",
      "1138                 2361          4.0            Vin                 2361\n",
      "1145                 7818          7.0      Champagne                 7818\n",
      "1153                  807          2.0            Vin                  807\n",
      "1188                 6616          5.0            Vin                 6616\n",
      "1191                 1360          6.0      Champagne                 1360\n",
      "1203                 8365         13.0            Vin                 8365\n",
      "1210                  304          8.0      Champagne                  304\n",
      "1245                 5646         11.0            Vin                 5646\n",
      "1265                  802          5.0            Vin                  802\n",
      "1279                 8193         12.0            Vin                 8193\n",
      "1320                 8463          2.0            Vin                 8463\n",
      "1326                 7033          5.0  Huile d'olive                 7033\n",
      "1387  bon-cadeau-25-euros          7.0            NaN  bon-cadeau-25-euros\n",
      "1430                  523          0.0         Cognac                  523\n",
      "1438                 9562          5.0      Champagne                 9562\n",
      "1441                  805          2.0            Vin                  805\n",
      "1442                  531          8.0      Champagne                  531\n",
      "1453                 2534          4.0            Vin                 2534\n",
      "1462                  798          8.0            Vin                  798\n",
      "1471                 6616          5.0            Vin                 6616\n"
     ]
    }
   ],
   "source": [
    "#Si vous avez identifié des codes articles ne respectant pas la régle de codification, consultez-les?\n",
    "df_web['sku_string'] = df_web['sku'].astype(str)\n",
    "invalid_codes = df_web[~ df_web['sku_string'].str.match(r'^[0-9]{5}$')]\n",
    "print(invalid_codes)"
   ]
  },
  {
   "cell_type": "code",
   "execution_count": 560,
   "id": "dc773694-927d-4947-9d4f-eaa17ca35f07",
   "metadata": {},
   "outputs": [
    {
     "name": "stdout",
     "output_type": "stream",
     "text": [
      "sku              object\n",
      "total_sales     float64\n",
      "product_type     object\n",
      "dtype: object\n"
     ]
    }
   ],
   "source": [
    "df_web = df_web.drop(['sku_string'], axis=1)\n",
    "print(df_web.dtypes)"
   ]
  },
  {
   "cell_type": "code",
   "execution_count": 562,
   "id": "eb8d31bf",
   "metadata": {},
   "outputs": [
    {
     "name": "stdout",
     "output_type": "stream",
     "text": [
      "Empty DataFrame\n",
      "Columns: [sku, total_sales, product_type]\n",
      "Index: []\n"
     ]
    }
   ],
   "source": [
    "#Identifier les lignes sans code articles\n",
    "print(df_web.loc[df_web['sku'].isna()])"
   ]
  },
  {
   "cell_type": "code",
   "execution_count": 564,
   "id": "967495da",
   "metadata": {},
   "outputs": [
    {
     "name": "stdout",
     "output_type": "stream",
     "text": [
      "     sku  total_sales product_type\n",
      "0  11862          3.0          Vin\n",
      "1  16057          5.0          Vin\n",
      "2  14692          5.0          Vin\n",
      "3  16295         14.0          Vin\n",
      "4  15328          2.0          Vin\n"
     ]
    }
   ],
   "source": [
    "#Pour les codes articles identifiés, réaliser une analyse et définissez l'action à entreprendre\n",
    "#On pourrait leur redonner un un code random qui ne soit pas déjà dans la colonne\n",
    "print(df_web.head())"
   ]
  },
  {
   "cell_type": "code",
   "execution_count": 566,
   "id": "27bf30de",
   "metadata": {
    "scrolled": true
   },
   "outputs": [
    {
     "name": "stdout",
     "output_type": "stream",
     "text": [
      "La colonne comporte 714 doublons\n"
     ]
    }
   ],
   "source": [
    "#La clé pour chaque ligne est-elle uniques? ou autrement dit, y a-t-il des doublons?\n",
    "print(\"La colonne comporte {} doublons\".format(df_web.sku.duplicated(keep='first').sum()))"
   ]
  },
  {
   "cell_type": "code",
   "execution_count": 568,
   "id": "0480265a-3a62-4ab2-bc46-584dd5590471",
   "metadata": {},
   "outputs": [
    {
     "name": "stdout",
     "output_type": "stream",
     "text": [
      "La colonne comporte 0 doublons\n"
     ]
    }
   ],
   "source": [
    "df_web = df_web.drop_duplicates(subset='sku', keep='first')\n",
    "print(\"La colonne comporte {} doublons\".format(df_web.sku.duplicated(keep='first').sum()))"
   ]
  },
  {
   "cell_type": "code",
   "execution_count": 570,
   "id": "8b81d617",
   "metadata": {},
   "outputs": [
    {
     "name": "stdout",
     "output_type": "stream",
     "text": [
      "<class 'pandas.core.frame.DataFrame'>\n",
      "Int64Index: 0 entries\n",
      "Data columns (total 3 columns):\n",
      " #   Column        Non-Null Count  Dtype  \n",
      "---  ------        --------------  -----  \n",
      " 0   sku           0 non-null      object \n",
      " 1   total_sales   0 non-null      float64\n",
      " 2   product_type  0 non-null      object \n",
      "dtypes: float64(1), object(2)\n",
      "memory usage: 0.0+ bytes\n"
     ]
    }
   ],
   "source": [
    "#Les lignes sans code article semble être toutes non renseignés\n",
    "#Pour s'en assurer réaliser les étapes suivantes:\n",
    "#1 - Créer un dataframe avec uniquement les lignes sans code article\n",
    "sku_nan = df_web.loc[df_web['sku'].isna()]\n",
    "#2 - utiliser la fonction df.info() sur ce nouveau dataframe pour observer le nombre de valeur reseigner dans chacune des colonnes\n",
    "sku_nan.info()\n",
    "#3 - Que constatez-vous?\n"
   ]
  },
  {
   "cell_type": "markdown",
   "id": "dbff6403",
   "metadata": {},
   "source": [
    "<div style=\"border: 1px solid RGB(51,165,182);\" >\n",
    "<h3 style=\"margin: auto; padding: 20px; color: RGB(51,165,182); \">2.3 - Analyse exploratoire du fichier liaison.xlsx</h3>\n",
    "</div>"
   ]
  },
  {
   "cell_type": "code",
   "execution_count": 573,
   "id": "de426b74",
   "metadata": {},
   "outputs": [
    {
     "name": "stdout",
     "output_type": "stream",
     "text": [
      "Le tableau comporte 825 observation(s) ou article(s)\n",
      "Le tableau comporte 2 colonne(s)\n"
     ]
    }
   ],
   "source": [
    "#Dimension du dataset\n",
    "print(\"Le tableau comporte {} observation(s) ou article(s)\".format(df_liaison.shape[0]))\n",
    "print(\"Le tableau comporte {} colonne(s)\".format(df_liaison.shape[1]))"
   ]
  },
  {
   "cell_type": "code",
   "execution_count": 575,
   "id": "9834ae33",
   "metadata": {},
   "outputs": [
    {
     "name": "stdout",
     "output_type": "stream",
     "text": [
      "2\n",
      "________________\n",
      "id_web        object\n",
      "product_id     int64\n",
      "dtype: object\n",
      "________________\n",
      "id_web        734\n",
      "product_id    825\n",
      "dtype: int64\n"
     ]
    }
   ],
   "source": [
    "#Consulter le nombre de colonnes\n",
    "print(df_liaison.shape[1])\n",
    "print('________________')\n",
    "#La nature des données dans chacune des colonnes\n",
    "print(df_liaison.dtypes)\n",
    "print('________________')\n",
    "#Le nombre de valeurs présentes dans chacune des colonnes\n",
    "print(df_liaison.count())"
   ]
  },
  {
   "cell_type": "code",
   "execution_count": 577,
   "id": "2b30d6b2",
   "metadata": {},
   "outputs": [
    {
     "name": "stdout",
     "output_type": "stream",
     "text": [
      "0\n"
     ]
    }
   ],
   "source": [
    "#Les valeurs de la colonne \"product_id\" sont elles toutes uniques?\n",
    "print((df_liaison.product_id.duplicated(keep='first').sum()))"
   ]
  },
  {
   "cell_type": "code",
   "execution_count": 579,
   "id": "4d8ca13c",
   "metadata": {},
   "outputs": [
    {
     "data": {
      "text/plain": [
       "734"
      ]
     },
     "execution_count": 579,
     "metadata": {},
     "output_type": "execute_result"
    }
   ],
   "source": [
    "#Les valeurs de la colonne \"id_web\" sont-elles toutes uniques?\n",
    "#print((df_liaison.id_web.duplicated(keep='first').sum()))\n",
    "df_liaison[df_liaison['id_web'].notnull()]['id_web'].unique().size"
   ]
  },
  {
   "cell_type": "code",
   "execution_count": 581,
   "id": "52f7c843",
   "metadata": {},
   "outputs": [
    {
     "name": "stdout",
     "output_type": "stream",
     "text": [
      "Il y a 91 articles sans correspondances dans la colonnes id_web\n"
     ]
    }
   ],
   "source": [
    "#Avons-nous des articles sans correspondances?\n",
    "print(\"Il y a {} articles sans correspondances dans la colonnes id_web\".format(df_liaison['id_web'].isna().sum()))"
   ]
  },
  {
   "cell_type": "markdown",
   "id": "1a359137",
   "metadata": {},
   "source": [
    "<div style=\"background-color: RGB(51,165,182);\" >\n",
    "<h2 style=\"margin: auto; padding: 20px; color:#fff; \">Etape 3 - Jonction des fichiers</h2>\n",
    "</div>"
   ]
  },
  {
   "cell_type": "markdown",
   "id": "b7750c10",
   "metadata": {},
   "source": [
    "<div style=\"border: 1px solid RGB(51,165,182);\" >\n",
    "<h3 style=\"margin: auto; padding: 20px; color: RGB(51,165,182); \">Etape 3.1 - Jonction du fichier df_erp et df_liaison</h3>\n",
    "</div>"
   ]
  },
  {
   "cell_type": "code",
   "execution_count": 585,
   "id": "e756ec7d",
   "metadata": {},
   "outputs": [],
   "source": [
    "#Fusion des fichiers df_erp et df_liaison\n",
    "df_erp_liaison = pd.merge(df_erp, df_liaison, on='product_id')"
   ]
  },
  {
   "cell_type": "code",
   "execution_count": 587,
   "id": "b7e1da5e",
   "metadata": {},
   "outputs": [
    {
     "data": {
      "text/plain": [
       "(825, 7)"
      ]
     },
     "metadata": {},
     "output_type": "display_data"
    }
   ],
   "source": [
    "#Y a t-il des lignes ne \"matchant\" entre les 2 fichiers?\n",
    "display(df_erp_liaison.shape)"
   ]
  },
  {
   "cell_type": "markdown",
   "id": "fe4c51d7",
   "metadata": {},
   "source": [
    "<div style=\"border: 1px solid RGB(51,165,182);\" >\n",
    "<h3 style=\"margin: auto; padding: 20px; color: RGB(51,165,182); \">Etape 3.2 - Jonction du fichier df_merge et df_web</h3>\n",
    "</div>"
   ]
  },
  {
   "cell_type": "code",
   "execution_count": 590,
   "id": "46d9382b",
   "metadata": {},
   "outputs": [
    {
     "name": "stdout",
     "output_type": "stream",
     "text": [
      "product_id        825\n",
      "onsale_web        825\n",
      "price             825\n",
      "stock_quantity    825\n",
      "purchase_price    825\n",
      "stock_status      825\n",
      "id_web            734\n",
      "sku               714\n",
      "total_sales       714\n",
      "product_type      714\n",
      "_merge            825\n",
      "dtype: int64\n",
      "(111, 11)\n"
     ]
    }
   ],
   "source": [
    "#Fusionnez les datasets df_merge et df_web\n",
    "\n",
    "df_merge = pd.merge(df_erp_liaison, df_web,  left_on='id_web', right_on='sku', how='outer', indicator=True)\n",
    "\n",
    "df_sans_correspondance = df_merge[df_merge[\"_merge\"] != \"both\"]\n",
    "\n",
    "print(df_merge.count())\n",
    "print(df_sans_correspondance.shape)"
   ]
  },
  {
   "cell_type": "code",
   "execution_count": 592,
   "id": "2021762f",
   "metadata": {},
   "outputs": [
    {
     "name": "stdout",
     "output_type": "stream",
     "text": [
      "product_id          0\n",
      "onsale_web          0\n",
      "price               0\n",
      "stock_quantity      0\n",
      "purchase_price      0\n",
      "stock_status        0\n",
      "id_web             91\n",
      "sku               111\n",
      "total_sales       111\n",
      "product_type      111\n",
      "_merge              0\n",
      "dtype: int64\n"
     ]
    }
   ],
   "source": [
    "#Avons-nous des lignes sans correspondances?\n",
    "print(df_merge.isna().sum())"
   ]
  },
  {
   "cell_type": "code",
   "execution_count": 594,
   "id": "e435735c",
   "metadata": {},
   "outputs": [
    {
     "name": "stdout",
     "output_type": "stream",
     "text": [
      "   product_id  onsale_web  price  stock_quantity  purchase_price stock_status  \\\n",
      "0        3847           1   24.2              16           12.88      instock   \n",
      "1        3849           1   34.3              10           17.54      instock   \n",
      "2        3850           1   20.8               0           10.64   outofstock   \n",
      "3        4032           1   14.1              26            6.92      instock   \n",
      "4        4039           1   46.0               3           23.77      instock   \n",
      "\n",
      "  id_web    sku  total_sales product_type _merge  \n",
      "0  15298  15298          6.0          Vin   both  \n",
      "1  15296  15296          9.0          Vin   both  \n",
      "2  15300  15300          0.0          Vin   both  \n",
      "3  19814  19814         12.0          Vin   both  \n",
      "4  19815  19815          3.0          Vin   both  \n"
     ]
    }
   ],
   "source": [
    "print(df_merge.head())"
   ]
  },
  {
   "cell_type": "markdown",
   "id": "13d81fd6",
   "metadata": {},
   "source": [
    "<div style=\"background-color: RGB(51,165,182);\" >\n",
    "<h2 style=\"margin: auto; padding: 20px; color:#fff; \">Etape 4 - Analyse univarié des prix</h2>\n",
    "</div>"
   ]
  },
  {
   "cell_type": "markdown",
   "id": "9c8d0615",
   "metadata": {},
   "source": [
    "<div style=\"border: 1px solid RGB(51,165,182);\" >\n",
    "<h3 style=\"margin: auto; padding: 20px; color: RGB(51,165,182); \">Etape 4.1 - Exploration par la visualisation de données</h3>\n",
    "</div>"
   ]
  },
  {
   "cell_type": "code",
   "execution_count": 598,
   "id": "3be61f06",
   "metadata": {},
   "outputs": [
    {
     "data": {
      "image/png": "[encoded data removed]",
      "text/plain": [
       "<Figure size 640x480 with 1 Axes>"
      ]
     },
     "metadata": {},
     "output_type": "display_data"
    }
   ],
   "source": [
    "#Création d'une Boite à moustache de la répartition des prix grâce à Pandas\n",
    "df_merge.boxplot(column =['price'], grid = False)\n",
    "plt.title(\"Boxplot de la colonne 'price'\")\n",
    "plt.show()"
   ]
  },
  {
   "cell_type": "code",
   "execution_count": 599,
   "id": "cbfe6346",
   "metadata": {
    "scrolled": true
   },
   "outputs": [
    {
     "data": {
      "application/vnd.plotly.v1+json": {
       "config": {
        "plotlyServerURL": "https://plot.ly"
       },
       "data": [
        {
         "alignmentgroup": "True",
         "hovertemplate": "price=%{y}<extra></extra>",
         "legendgroup": "",
         "marker": {
          "color": "#636efa"
         },
         "name": "",
         "notched": false,
         "offsetgroup": "",
         "orientation": "v",
         "showlegend": false,
         "type": "box",
         "x0": " ",
         "xaxis": "x",
         "y": [
          24.2,
          34.3,
          20.8,
          14.1,
          46,
          34.3,
          32.7,
          31.2,
          60,
          42.6,
          80,
          18.3,
          22.8,
          19.3,
          21.8,
          7.7,
          33.7,
          44.3,
          71.6,
          86.1,
          73,
          47,
          14.1,
          73.5,
          -20,
          21.5,
          10.8,
          30.5,
          49,
          40,
          144,
          36.9,
          23.6,
          12,
          18.5,
          34.5,
          20.5,
          23.8,
          20.2,
          13.5,
          13.8,
          12.7,
          14.6,
          23,
          10,
          -8,
          10,
          84.7,
          43.3,
          47,
          19.9,
          29.2,
          34.2,
          42.5,
          14.2,
          92,
          28.5,
          -9.1,
          28,
          28,
          24,
          18,
          40,
          40,
          40,
          40,
          30,
          26,
          30,
          20,
          31,
          27,
          31,
          21,
          31,
          27,
          31,
          21,
          40,
          40,
          47,
          45,
          45,
          45,
          30,
          26,
          30,
          20,
          45,
          45,
          45,
          45,
          45,
          31,
          21,
          27,
          31,
          31,
          45,
          45,
          45,
          31,
          27,
          31,
          21,
          31,
          31,
          31,
          45,
          45,
          12.7,
          8.7,
          8.7,
          8.7,
          11.9,
          11.9,
          14.5,
          14.4,
          19.5,
          20.8,
          22,
          16.6,
          60,
          23.4,
          33.2,
          32,
          77.8,
          12.7,
          14.7,
          14.05,
          22.9,
          44,
          37,
          39,
          17,
          23.2,
          19,
          16.4,
          14.4,
          13.7,
          12.6,
          22.8,
          12.8,
          22.1,
          12.8,
          15.8,
          15.8,
          16.3,
          16.3,
          9.7,
          6.8,
          12.6,
          35,
          31.7,
          100,
          23,
          88.4,
          29.8,
          25.7,
          77.4,
          39,
          53,
          49,
          29.5,
          33,
          37.5,
          69,
          59,
          13.7,
          19.2,
          29,
          9.8,
          14.5,
          20.35,
          12,
          18.5,
          9.3,
          9.3,
          11.6,
          14.3,
          10.8,
          7.6,
          12,
          20.5,
          14.3,
          18.2,
          9,
          7.8,
          5.7,
          5.7,
          5.7,
          13.5,
          13.5,
          11.5,
          24,
          24,
          11.9,
          16.7,
          21.4,
          16.6,
          13.3,
          9.5,
          12.1,
          9.3,
          17.8,
          13.5,
          10.8,
          27.2,
          9.4,
          5.8,
          5.8,
          38,
          38,
          9.9,
          11.3,
          23,
          6.7,
          7.6,
          79.8,
          48.5,
          39.8,
          58.8,
          26.5,
          13.4,
          17.1,
          16.7,
          11.6,
          12.8,
          8.9,
          9.7,
          17.2,
          16.9,
          12.6,
          29.9,
          9.6,
          11.1,
          11.1,
          17.1,
          28,
          28,
          8.9,
          8.6,
          13.5,
          8.9,
          15.3,
          14.8,
          19.5,
          14.1,
          59.6,
          26.9,
          24.4,
          31.7,
          32.1,
          12.2,
          9.9,
          15.8,
          15.8,
          17.8,
          9.6,
          19,
          15.2,
          10.2,
          15.5,
          16.6,
          9.2,
          12.9,
          14.9,
          17.6,
          24.8,
          18.9,
          11.6,
          27,
          41,
          69.8,
          38.6,
          26.7,
          22.8,
          19,
          23.2,
          39.1,
          44,
          17.5,
          30,
          8.1,
          10.7,
          10.9,
          49,
          35.5,
          83,
          59,
          79.5,
          225,
          79.5,
          12.65,
          51.6,
          39,
          77,
          85.6,
          49.5,
          49.5,
          49.5,
          57,
          59.8,
          27.5,
          62,
          59,
          59,
          59,
          44,
          62.5,
          176,
          108.5,
          68.1,
          157,
          104,
          28.1,
          21.7,
          28.5,
          21.5,
          67.2,
          109.6,
          32.3,
          43.9,
          61.6,
          41.8,
          26.5,
          16.1,
          31.5,
          31.5,
          49,
          32.2,
          50.1,
          13.4,
          11.8,
          13.1,
          26.2,
          20.6,
          16.9,
          19,
          24,
          57,
          67.5,
          30.6,
          59,
          11.9,
          16.5,
          52.4,
          52.9,
          58.3,
          39.6,
          52.4,
          62.4,
          76.8,
          50,
          52.4,
          41,
          62.4,
          50,
          21.5,
          28.5,
          24.3,
          16.5,
          25.3,
          49,
          36.2,
          33.4,
          40.2,
          43,
          43,
          48.8,
          20.8,
          16.4,
          14.4,
          21,
          12.3,
          20.2,
          17,
          21.9,
          17.8,
          19.8,
          19,
          10.7,
          12.9,
          9.5,
          29.8,
          13.2,
          6.3,
          7.1,
          9.1,
          9.1,
          18.1,
          14,
          30.1,
          12.8,
          12.8,
          19.8,
          18.2,
          31.6,
          16.8,
          22.8,
          32.6,
          44,
          55.4,
          15.8,
          18.4,
          13.3,
          11.1,
          18.6,
          23.4,
          18.2,
          12.5,
          15.9,
          13.7,
          29,
          23.4,
          12.7,
          26,
          29.5,
          8.6,
          14.3,
          22,
          16.8,
          15.3,
          7.4,
          9.7,
          12.4,
          14.5,
          11.9,
          16.4,
          27.9,
          12,
          7.4,
          26.5,
          24.3,
          16.9,
          6.8,
          13.9,
          7.8,
          13.7,
          9.8,
          29.5,
          28.5,
          10.1,
          12.1,
          12.3,
          11.1,
          11.1,
          13.6,
          21,
          18.7,
          41.6,
          12,
          78,
          14.9,
          6.5,
          8.7,
          8.5,
          9.9,
          8.2,
          8.3,
          9.8,
          9.9,
          17.2,
          9.3,
          22.8,
          18.7,
          28.4,
          27.9,
          25.3,
          17,
          27.9,
          20.1,
          27.9,
          21.2,
          20.8,
          41,
          46,
          102.3,
          137,
          22.9,
          53.2,
          25.9,
          17.3,
          25.9,
          28,
          25.9,
          25.9,
          37.2,
          24.4,
          24.4,
          13.8,
          21.5,
          7,
          12.8,
          23.2,
          7.9,
          6.5,
          7.9,
          16.7,
          17.5,
          27.8,
          25.7,
          18.4,
          22.2,
          11.1,
          9.9,
          12.5,
          12.9,
          20.5,
          25,
          11.3,
          7,
          12.1,
          7.1,
          49.5,
          23,
          23.7,
          16.45,
          16.3,
          18.5,
          26.5,
          78,
          78,
          78,
          27.3,
          217.5,
          64.9,
          48.7,
          59.4,
          48.7,
          105,
          105,
          55.6,
          9.3,
          15.4,
          19.8,
          17.1,
          45,
          112,
          86.8,
          62.1,
          22.5,
          7.5,
          52.6,
          45,
          67,
          59.9,
          59.9,
          65,
          15.2,
          19,
          11.1,
          18,
          22.8,
          19.5,
          28.8,
          16.1,
          24.2,
          35.3,
          10.7,
          12.7,
          17.1,
          24,
          39,
          13.2,
          23.6,
          15.5,
          16.3,
          16.2,
          7.2,
          54.8,
          42,
          19.8,
          10.2,
          10.4,
          11.5,
          17.9,
          21.6,
          33.4,
          49.5,
          43.5,
          43.5,
          26.5,
          13.8,
          10.1,
          18.2,
          12.9,
          38.6,
          48.4,
          60.4,
          38.6,
          12,
          61.6,
          65.9,
          15.2,
          24.6,
          48.8,
          34.3,
          36.3,
          57.7,
          38,
          27.9,
          58,
          58,
          30.8,
          92,
          27.5,
          22.5,
          34.7,
          59.6,
          83.7,
          30.5,
          38.6,
          18,
          63.4,
          124.8,
          19.2,
          19.2,
          56.4,
          38.4,
          27.8,
          71.3,
          71.3,
          25,
          10.3,
          28,
          44.6,
          13,
          12.7,
          6.5,
          17.5,
          29.9,
          44.5,
          29.4,
          16.9,
          19.8,
          10.3,
          10.8,
          31.7,
          25,
          57.6,
          13.7,
          7.1,
          14.9,
          11,
          14.6,
          10.7,
          73.3,
          42.1,
          57,
          24.5,
          10.1,
          42.2,
          13.1,
          19.5,
          12.9,
          35.6,
          175,
          35.6,
          33.6,
          34.4,
          38.4,
          29.7,
          32.8,
          5.7,
          5.8,
          5.8,
          21.7,
          23,
          12.5,
          17.2,
          40.2,
          32.3,
          24,
          23.8,
          17.1,
          25,
          17.4,
          27.3,
          17.9,
          24,
          16.6,
          16.9,
          57.6,
          63.5,
          56,
          63.5,
          41.2,
          55,
          57,
          19.3,
          19,
          191.3,
          26.6,
          15.4,
          24.7,
          28.1,
          18.25,
          35.1,
          27.3,
          18.8,
          43.9,
          19.8,
          17.7,
          57,
          36,
          36,
          93,
          122,
          114,
          48.5,
          49.5,
          14.1,
          59.9,
          46,
          74.5,
          47.5,
          18.8,
          27.3,
          17.2,
          39,
          8.7,
          15.4,
          12.7,
          30,
          13.5,
          16.3,
          56.3,
          71.5,
          69,
          17.9,
          48.5,
          71.7,
          8.5,
          10.9,
          21.8,
          38.5,
          9.3,
          13.6,
          24.5,
          12.6,
          13.4,
          29.8,
          12.9,
          36.9,
          40.7,
          33.2,
          34.8,
          74.8,
          62.4,
          46,
          39.2,
          135,
          10.6,
          10.6,
          5.2,
          46,
          105.6,
          116.4,
          31,
          20.2,
          25.2,
          25.2,
          115,
          121,
          99,
          115,
          121,
          23.5,
          26.4,
          26.7,
          20.4,
          20.4,
          40.2,
          9,
          45.9,
          10.4,
          78,
          40.5,
          27.9,
          22.4,
          28.4,
          72,
          29,
          29.2,
          44,
          68.3,
          41.8,
          40,
          13.5,
          19,
          24.4,
          32.8,
          15.4,
          9.9,
          13.5,
          51,
          35.2,
          42.2,
          33.2,
          41.8,
          32.2,
          37.7,
          47.2,
          52.7,
          22.4,
          50.4,
          35.6,
          27.7,
          48.5,
          15.4,
          46.5,
          46.5,
          46.5,
          42,
          21.8,
          50.5,
          49.9,
          19,
          8.4,
          27.5,
          69,
          54.8,
          26.5,
          16.3
         ],
         "y0": " ",
         "yaxis": "y"
        }
       ],
       "layout": {
        "boxmode": "group",
        "height": 550,
        "legend": {
         "tracegroupgap": 0
        },
        "margin": {
         "t": 60
        },
        "template": {
         "data": {
          "bar": [
           {
            "error_x": {
             "color": "#2a3f5f"
            },
            "error_y": {
             "color": "#2a3f5f"
            },
            "marker": {
             "line": {
              "color": "#E5ECF6",
              "width": 0.5
             },
             "pattern": {
              "fillmode": "overlay",
              "size": 10,
              "solidity": 0.2
             }
            },
            "type": "bar"
           }
          ],
          "barpolar": [
           {
            "marker": {
             "line": {
              "color": "#E5ECF6",
              "width": 0.5
             },
             "pattern": {
              "fillmode": "overlay",
              "size": 10,
              "solidity": 0.2
             }
            },
            "type": "barpolar"
           }
          ],
          "carpet": [
           {
            "aaxis": {
             "endlinecolor": "#2a3f5f",
             "gridcolor": "white",
             "linecolor": "white",
             "minorgridcolor": "white",
             "startlinecolor": "#2a3f5f"
            },
            "baxis": {
             "endlinecolor": "#2a3f5f",
             "gridcolor": "white",
             "linecolor": "white",
             "minorgridcolor": "white",
             "startlinecolor": "#2a3f5f"
            },
            "type": "carpet"
           }
          ],
          "choropleth": [
           {
            "colorbar": {
             "outlinewidth": 0,
             "ticks": ""
            },
            "type": "choropleth"
           }
          ],
          "contour": [
           {
            "colorbar": {
             "outlinewidth": 0,
             "ticks": ""
            },
            "colorscale": [
             [
              0,
              "#0d0887"
             ],
             [
              0.1111111111111111,
              "#46039f"
             ],
             [
              0.2222222222222222,
              "#7201a8"
             ],
             [
              0.3333333333333333,
              "#9c179e"
             ],
             [
              0.4444444444444444,
              "#bd3786"
             ],
             [
              0.5555555555555556,
              "#d8576b"
             ],
             [
              0.6666666666666666,
              "#ed7953"
             ],
             [
              0.7777777777777778,
              "#fb9f3a"
             ],
             [
              0.8888888888888888,
              "#fdca26"
             ],
             [
              1,
              "#f0f921"
             ]
            ],
            "type": "contour"
           }
          ],
          "contourcarpet": [
           {
            "colorbar": {
             "outlinewidth": 0,
             "ticks": ""
            },
            "type": "contourcarpet"
           }
          ],
          "heatmap": [
           {
            "colorbar": {
             "outlinewidth": 0,
             "ticks": ""
            },
            "colorscale": [
             [
              0,
              "#0d0887"
             ],
             [
              0.1111111111111111,
              "#46039f"
             ],
             [
              0.2222222222222222,
              "#7201a8"
             ],
             [
              0.3333333333333333,
              "#9c179e"
             ],
             [
              0.4444444444444444,
              "#bd3786"
             ],
             [
              0.5555555555555556,
              "#d8576b"
             ],
             [
              0.6666666666666666,
              "#ed7953"
             ],
             [
              0.7777777777777778,
              "#fb9f3a"
             ],
             [
              0.8888888888888888,
              "#fdca26"
             ],
             [
              1,
              "#f0f921"
             ]
            ],
            "type": "heatmap"
           }
          ],
          "heatmapgl": [
           {
            "colorbar": {
             "outlinewidth": 0,
             "ticks": ""
            },
            "colorscale": [
             [
              0,
              "#0d0887"
             ],
             [
              0.1111111111111111,
              "#46039f"
             ],
             [
              0.2222222222222222,
              "#7201a8"
             ],
             [
              0.3333333333333333,
              "#9c179e"
             ],
             [
              0.4444444444444444,
              "#bd3786"
             ],
             [
              0.5555555555555556,
              "#d8576b"
             ],
             [
              0.6666666666666666,
              "#ed7953"
             ],
             [
              0.7777777777777778,
              "#fb9f3a"
             ],
             [
              0.8888888888888888,
              "#fdca26"
             ],
             [
              1,
              "#f0f921"
             ]
            ],
            "type": "heatmapgl"
           }
          ],
          "histogram": [
           {
            "marker": {
             "pattern": {
              "fillmode": "overlay",
              "size": 10,
              "solidity": 0.2
             }
            },
            "type": "histogram"
           }
          ],
          "histogram2d": [
           {
            "colorbar": {
             "outlinewidth": 0,
             "ticks": ""
            },
            "colorscale": [
             [
              0,
              "#0d0887"
             ],
             [
              0.1111111111111111,
              "#46039f"
             ],
             [
              0.2222222222222222,
              "#7201a8"
             ],
             [
              0.3333333333333333,
              "#9c179e"
             ],
             [
              0.4444444444444444,
              "#bd3786"
             ],
             [
              0.5555555555555556,
              "#d8576b"
             ],
             [
              0.6666666666666666,
              "#ed7953"
             ],
             [
              0.7777777777777778,
              "#fb9f3a"
             ],
             [
              0.8888888888888888,
              "#fdca26"
             ],
             [
              1,
              "#f0f921"
             ]
            ],
            "type": "histogram2d"
           }
          ],
          "histogram2dcontour": [
           {
            "colorbar": {
             "outlinewidth": 0,
             "ticks": ""
            },
            "colorscale": [
             [
              0,
              "#0d0887"
             ],
             [
              0.1111111111111111,
              "#46039f"
             ],
             [
              0.2222222222222222,
              "#7201a8"
             ],
             [
              0.3333333333333333,
              "#9c179e"
             ],
             [
              0.4444444444444444,
              "#bd3786"
             ],
             [
              0.5555555555555556,
              "#d8576b"
             ],
             [
              0.6666666666666666,
              "#ed7953"
             ],
             [
              0.7777777777777778,
              "#fb9f3a"
             ],
             [
              0.8888888888888888,
              "#fdca26"
             ],
             [
              1,
              "#f0f921"
             ]
            ],
            "type": "histogram2dcontour"
           }
          ],
          "mesh3d": [
           {
            "colorbar": {
             "outlinewidth": 0,
             "ticks": ""
            },
            "type": "mesh3d"
           }
          ],
          "parcoords": [
           {
            "line": {
             "colorbar": {
              "outlinewidth": 0,
              "ticks": ""
             }
            },
            "type": "parcoords"
           }
          ],
          "pie": [
           {
            "automargin": true,
            "type": "pie"
           }
          ],
          "scatter": [
           {
            "fillpattern": {
             "fillmode": "overlay",
             "size": 10,
             "solidity": 0.2
            },
            "type": "scatter"
           }
          ],
          "scatter3d": [
           {
            "line": {
             "colorbar": {
              "outlinewidth": 0,
              "ticks": ""
             }
            },
            "marker": {
             "colorbar": {
              "outlinewidth": 0,
              "ticks": ""
             }
            },
            "type": "scatter3d"
           }
          ],
          "scattercarpet": [
           {
            "marker": {
             "colorbar": {
              "outlinewidth": 0,
              "ticks": ""
             }
            },
            "type": "scattercarpet"
           }
          ],
          "scattergeo": [
           {
            "marker": {
             "colorbar": {
              "outlinewidth": 0,
              "ticks": ""
             }
            },
            "type": "scattergeo"
           }
          ],
          "scattergl": [
           {
            "marker": {
             "colorbar": {
              "outlinewidth": 0,
              "ticks": ""
             }
            },
            "type": "scattergl"
           }
          ],
          "scattermapbox": [
           {
            "marker": {
             "colorbar": {
              "outlinewidth": 0,
              "ticks": ""
             }
            },
            "type": "scattermapbox"
           }
          ],
          "scatterpolar": [
           {
            "marker": {
             "colorbar": {
              "outlinewidth": 0,
              "ticks": ""
             }
            },
            "type": "scatterpolar"
           }
          ],
          "scatterpolargl": [
           {
            "marker": {
             "colorbar": {
              "outlinewidth": 0,
              "ticks": ""
             }
            },
            "type": "scatterpolargl"
           }
          ],
          "scatterternary": [
           {
            "marker": {
             "colorbar": {
              "outlinewidth": 0,
              "ticks": ""
             }
            },
            "type": "scatterternary"
           }
          ],
          "surface": [
           {
            "colorbar": {
             "outlinewidth": 0,
             "ticks": ""
            },
            "colorscale": [
             [
              0,
              "#0d0887"
             ],
             [
              0.1111111111111111,
              "#46039f"
             ],
             [
              0.2222222222222222,
              "#7201a8"
             ],
             [
              0.3333333333333333,
              "#9c179e"
             ],
             [
              0.4444444444444444,
              "#bd3786"
             ],
             [
              0.5555555555555556,
              "#d8576b"
             ],
             [
              0.6666666666666666,
              "#ed7953"
             ],
             [
              0.7777777777777778,
              "#fb9f3a"
             ],
             [
              0.8888888888888888,
              "#fdca26"
             ],
             [
              1,
              "#f0f921"
             ]
            ],
            "type": "surface"
           }
          ],
          "table": [
           {
            "cells": {
             "fill": {
              "color": "#EBF0F8"
             },
             "line": {
              "color": "white"
             }
            },
            "header": {
             "fill": {
              "color": "#C8D4E3"
             },
             "line": {
              "color": "white"
             }
            },
            "type": "table"
           }
          ]
         },
         "layout": {
          "annotationdefaults": {
           "arrowcolor": "#2a3f5f",
           "arrowhead": 0,
           "arrowwidth": 1
          },
          "autotypenumbers": "strict",
          "coloraxis": {
           "colorbar": {
            "outlinewidth": 0,
            "ticks": ""
           }
          },
          "colorscale": {
           "diverging": [
            [
             0,
             "#8e0152"
            ],
            [
             0.1,
             "#c51b7d"
            ],
            [
             0.2,
             "#de77ae"
            ],
            [
             0.3,
             "#f1b6da"
            ],
            [
             0.4,
             "#fde0ef"
            ],
            [
             0.5,
             "#f7f7f7"
            ],
            [
             0.6,
             "#e6f5d0"
            ],
            [
             0.7,
             "#b8e186"
            ],
            [
             0.8,
             "#7fbc41"
            ],
            [
             0.9,
             "#4d9221"
            ],
            [
             1,
             "#276419"
            ]
           ],
           "sequential": [
            [
             0,
             "#0d0887"
            ],
            [
             0.1111111111111111,
             "#46039f"
            ],
            [
             0.2222222222222222,
             "#7201a8"
            ],
            [
             0.3333333333333333,
             "#9c179e"
            ],
            [
             0.4444444444444444,
             "#bd3786"
            ],
            [
             0.5555555555555556,
             "#d8576b"
            ],
            [
             0.6666666666666666,
             "#ed7953"
            ],
            [
             0.7777777777777778,
             "#fb9f3a"
            ],
            [
             0.8888888888888888,
             "#fdca26"
            ],
            [
             1,
             "#f0f921"
            ]
           ],
           "sequentialminus": [
            [
             0,
             "#0d0887"
            ],
            [
             0.1111111111111111,
             "#46039f"
            ],
            [
             0.2222222222222222,
             "#7201a8"
            ],
            [
             0.3333333333333333,
             "#9c179e"
            ],
            [
             0.4444444444444444,
             "#bd3786"
            ],
            [
             0.5555555555555556,
             "#d8576b"
            ],
            [
             0.6666666666666666,
             "#ed7953"
            ],
            [
             0.7777777777777778,
             "#fb9f3a"
            ],
            [
             0.8888888888888888,
             "#fdca26"
            ],
            [
             1,
             "#f0f921"
            ]
           ]
          },
          "colorway": [
           "#636efa",
           "#EF553B",
           "#00cc96",
           "#ab63fa",
           "#FFA15A",
           "#19d3f3",
           "#FF6692",
           "#B6E880",
           "#FF97FF",
           "#FECB52"
          ],
          "font": {
           "color": "#2a3f5f"
          },
          "geo": {
           "bgcolor": "white",
           "lakecolor": "white",
           "landcolor": "#E5ECF6",
           "showlakes": true,
           "showland": true,
           "subunitcolor": "white"
          },
          "hoverlabel": {
           "align": "left"
          },
          "hovermode": "closest",
          "mapbox": {
           "style": "light"
          },
          "paper_bgcolor": "white",
          "plot_bgcolor": "#E5ECF6",
          "polar": {
           "angularaxis": {
            "gridcolor": "white",
            "linecolor": "white",
            "ticks": ""
           },
           "bgcolor": "#E5ECF6",
           "radialaxis": {
            "gridcolor": "white",
            "linecolor": "white",
            "ticks": ""
           }
          },
          "scene": {
           "xaxis": {
            "backgroundcolor": "#E5ECF6",
            "gridcolor": "white",
            "gridwidth": 2,
            "linecolor": "white",
            "showbackground": true,
            "ticks": "",
            "zerolinecolor": "white"
           },
           "yaxis": {
            "backgroundcolor": "#E5ECF6",
            "gridcolor": "white",
            "gridwidth": 2,
            "linecolor": "white",
            "showbackground": true,
            "ticks": "",
            "zerolinecolor": "white"
           },
           "zaxis": {
            "backgroundcolor": "#E5ECF6",
            "gridcolor": "white",
            "gridwidth": 2,
            "linecolor": "white",
            "showbackground": true,
            "ticks": "",
            "zerolinecolor": "white"
           }
          },
          "shapedefaults": {
           "line": {
            "color": "#2a3f5f"
           }
          },
          "ternary": {
           "aaxis": {
            "gridcolor": "white",
            "linecolor": "white",
            "ticks": ""
           },
           "baxis": {
            "gridcolor": "white",
            "linecolor": "white",
            "ticks": ""
           },
           "bgcolor": "#E5ECF6",
           "caxis": {
            "gridcolor": "white",
            "linecolor": "white",
            "ticks": ""
           }
          },
          "title": {
           "x": 0.05
          },
          "xaxis": {
           "automargin": true,
           "gridcolor": "white",
           "linecolor": "white",
           "ticks": "",
           "title": {
            "standoff": 15
           },
           "zerolinecolor": "white",
           "zerolinewidth": 2
          },
          "yaxis": {
           "automargin": true,
           "gridcolor": "white",
           "linecolor": "white",
           "ticks": "",
           "title": {
            "standoff": 15
           },
           "zerolinecolor": "white",
           "zerolinewidth": 2
          }
         }
        },
        "width": 400,
        "xaxis": {
         "anchor": "y",
         "autorange": true,
         "domain": [
          0,
          1
         ],
         "range": [
          -0.5,
          0.5
         ],
         "type": "category"
        },
        "yaxis": {
         "anchor": "x",
         "autorange": true,
         "domain": [
          0,
          1
         ],
         "range": [
          -33.611111111111114,
          238.61111111111111
         ],
         "title": {
          "text": "price"
         },
         "type": "linear"
        }
       }
      },
      "image/png": "[encoded data removed]",
      "text/html": [
       "<div>                            <div id=\"b44ae336-6f3e-4478-8e4d-85781bc1eeb3\" class=\"plotly-graph-div\" style=\"height:550px; width:400px;\"></div>            <script type=\"text/javascript\">                require([\"plotly\"], function(Plotly) {                    window.PLOTLYENV=window.PLOTLYENV || {};                                    if (document.getElementById(\"b44ae336-6f3e-4478-8e4d-85781bc1eeb3\")) {                    Plotly.newPlot(                        \"b44ae336-6f3e-4478-8e4d-85781bc1eeb3\",                        [{\"alignmentgroup\":\"True\",\"hovertemplate\":\"price=%{y}<extra></extra>\",\"legendgroup\":\"\",\"marker\":{\"color\":\"#636efa\"},\"name\":\"\",\"notched\":false,\"offsetgroup\":\"\",\"orientation\":\"v\",\"showlegend\":false,\"x0\":\" \",\"xaxis\":\"x\",\"y\":[24.2,34.3,20.8,14.1,46.0,34.3,32.7,31.2,60.0,42.6,80.0,18.3,22.8,19.3,21.8,7.7,33.7,44.3,71.6,86.1,73.0,47.0,14.1,73.5,-20.0,21.5,10.8,30.5,49.0,40.0,144.0,36.9,23.6,12.0,18.5,34.5,20.5,23.8,20.2,13.5,13.8,12.7,14.6,23.0,10.0,-8.0,10.0,84.7,43.3,47.0,19.9,29.2,34.2,42.5,14.2,92.0,28.5,-9.1,28.0,28.0,24.0,18.0,40.0,40.0,40.0,40.0,30.0,26.0,30.0,20.0,31.0,27.0,31.0,21.0,31.0,27.0,31.0,21.0,40.0,40.0,47.0,45.0,45.0,45.0,30.0,26.0,30.0,20.0,45.0,45.0,45.0,45.0,45.0,31.0,21.0,27.0,31.0,31.0,45.0,45.0,45.0,31.0,27.0,31.0,21.0,31.0,31.0,31.0,45.0,45.0,12.7,8.7,8.7,8.7,11.9,11.9,14.5,14.4,19.5,20.8,22.0,16.6,60.0,23.4,33.2,32.0,77.8,12.7,14.7,14.05,22.9,44.0,37.0,39.0,17.0,23.2,19.0,16.4,14.4,13.7,12.6,22.8,12.8,22.1,12.8,15.8,15.8,16.3,16.3,9.7,6.8,12.6,35.0,31.7,100.0,23.0,88.4,29.8,25.7,77.4,39.0,53.0,49.0,29.5,33.0,37.5,69.0,59.0,13.7,19.2,29.0,9.8,14.5,20.35,12.0,18.5,9.3,9.3,11.6,14.3,10.8,7.6,12.0,20.5,14.3,18.2,9.0,7.8,5.7,5.7,5.7,13.5,13.5,11.5,24.0,24.0,11.9,16.7,21.4,16.6,13.3,9.5,12.1,9.3,17.8,13.5,10.8,27.2,9.4,5.8,5.8,38.0,38.0,9.9,11.3,23.0,6.7,7.6,79.8,48.5,39.8,58.8,26.5,13.4,17.1,16.7,11.6,12.8,8.9,9.7,17.2,16.9,12.6,29.9,9.6,11.1,11.1,17.1,28.0,28.0,8.9,8.6,13.5,8.9,15.3,14.8,19.5,14.1,59.6,26.9,24.4,31.7,32.1,12.2,9.9,15.8,15.8,17.8,9.6,19.0,15.2,10.2,15.5,16.6,9.2,12.9,14.9,17.6,24.8,18.9,11.6,27.0,41.0,69.8,38.6,26.7,22.8,19.0,23.2,39.1,44.0,17.5,30.0,8.1,10.7,10.9,49.0,35.5,83.0,59.0,79.5,225.0,79.5,12.65,51.6,39.0,77.0,85.6,49.5,49.5,49.5,57.0,59.8,27.5,62.0,59.0,59.0,59.0,44.0,62.5,176.0,108.5,68.1,157.0,104.0,28.1,21.7,28.5,21.5,67.2,109.6,32.3,43.9,61.6,41.8,26.5,16.1,31.5,31.5,49.0,32.2,50.1,13.4,11.8,13.1,26.2,20.6,16.9,19.0,24.0,57.0,67.5,30.6,59.0,11.9,16.5,52.4,52.9,58.3,39.6,52.4,62.4,76.8,50.0,52.4,41.0,62.4,50.0,21.5,28.5,24.3,16.5,25.3,49.0,36.2,33.4,40.2,43.0,43.0,48.8,20.8,16.4,14.4,21.0,12.3,20.2,17.0,21.9,17.8,19.8,19.0,10.7,12.9,9.5,29.8,13.2,6.3,7.1,9.1,9.1,18.1,14.0,30.1,12.8,12.8,19.8,18.2,31.6,16.8,22.8,32.6,44.0,55.4,15.8,18.4,13.3,11.1,18.6,23.4,18.2,12.5,15.9,13.7,29.0,23.4,12.7,26.0,29.5,8.6,14.3,22.0,16.8,15.3,7.4,9.7,12.4,14.5,11.9,16.4,27.9,12.0,7.4,26.5,24.3,16.9,6.8,13.9,7.8,13.7,9.8,29.5,28.5,10.1,12.1,12.3,11.1,11.1,13.6,21.0,18.7,41.6,12.0,78.0,14.9,6.5,8.7,8.5,9.9,8.2,8.3,9.8,9.9,17.2,9.3,22.8,18.7,28.4,27.9,25.3,17.0,27.9,20.1,27.9,21.2,20.8,41.0,46.0,102.3,137.0,22.9,53.2,25.9,17.3,25.9,28.0,25.9,25.9,37.2,24.4,24.4,13.8,21.5,7.0,12.8,23.2,7.9,6.5,7.9,16.7,17.5,27.8,25.7,18.4,22.2,11.1,9.9,12.5,12.9,20.5,25.0,11.3,7.0,12.1,7.1,49.5,23.0,23.7,16.45,16.3,18.5,26.5,78.0,78.0,78.0,27.3,217.5,64.9,48.7,59.4,48.7,105.0,105.0,55.6,9.3,15.4,19.8,17.1,45.0,112.0,86.8,62.1,22.5,7.5,52.6,45.0,67.0,59.9,59.9,65.0,15.2,19.0,11.1,18.0,22.8,19.5,28.8,16.1,24.2,35.3,10.7,12.7,17.1,24.0,39.0,13.2,23.6,15.5,16.3,16.2,7.2,54.8,42.0,19.8,10.2,10.4,11.5,17.9,21.6,33.4,49.5,43.5,43.5,26.5,13.8,10.1,18.2,12.9,38.6,48.4,60.4,38.6,12.0,61.6,65.9,15.2,24.6,48.8,34.3,36.3,57.7,38.0,27.9,58.0,58.0,30.8,92.0,27.5,22.5,34.7,59.6,83.7,30.5,38.6,18.0,63.4,124.8,19.2,19.2,56.4,38.4,27.8,71.3,71.3,25.0,10.3,28.0,44.6,13.0,12.7,6.5,17.5,29.9,44.5,29.4,16.9,19.8,10.3,10.8,31.7,25.0,57.6,13.7,7.1,14.9,11.0,14.6,10.7,73.3,42.1,57.0,24.5,10.1,42.2,13.1,19.5,12.9,35.6,175.0,35.6,33.6,34.4,38.4,29.7,32.8,5.7,5.8,5.8,21.7,23.0,12.5,17.2,40.2,32.3,24.0,23.8,17.1,25.0,17.4,27.3,17.9,24.0,16.6,16.9,57.6,63.5,56.0,63.5,41.2,55.0,57.0,19.3,19.0,191.3,26.6,15.4,24.7,28.1,18.25,35.1,27.3,18.8,43.9,19.8,17.7,57.0,36.0,36.0,93.0,122.0,114.0,48.5,49.5,14.1,59.9,46.0,74.5,47.5,18.8,27.3,17.2,39.0,8.7,15.4,12.7,30.0,13.5,16.3,56.3,71.5,69.0,17.9,48.5,71.7,8.5,10.9,21.8,38.5,9.3,13.6,24.5,12.6,13.4,29.8,12.9,36.9,40.7,33.2,34.8,74.8,62.4,46.0,39.2,135.0,10.6,10.6,5.2,46.0,105.6,116.4,31.0,20.2,25.2,25.2,115.0,121.0,99.0,115.0,121.0,23.5,26.4,26.7,20.4,20.4,40.2,9.0,45.9,10.4,78.0,40.5,27.9,22.4,28.4,72.0,29.0,29.2,44.0,68.3,41.8,40.0,13.5,19.0,24.4,32.8,15.4,9.9,13.5,51.0,35.2,42.2,33.2,41.8,32.2,37.7,47.2,52.7,22.4,50.4,35.6,27.7,48.5,15.4,46.5,46.5,46.5,42.0,21.8,50.5,49.9,19.0,8.4,27.5,69.0,54.8,26.5,16.3],\"y0\":\" \",\"yaxis\":\"y\",\"type\":\"box\"}],                        {\"template\":{\"data\":{\"histogram2dcontour\":[{\"type\":\"histogram2dcontour\",\"colorbar\":{\"outlinewidth\":0,\"ticks\":\"\"},\"colorscale\":[[0.0,\"#0d0887\"],[0.1111111111111111,\"#46039f\"],[0.2222222222222222,\"#7201a8\"],[0.3333333333333333,\"#9c179e\"],[0.4444444444444444,\"#bd3786\"],[0.5555555555555556,\"#d8576b\"],[0.6666666666666666,\"#ed7953\"],[0.7777777777777778,\"#fb9f3a\"],[0.8888888888888888,\"#fdca26\"],[1.0,\"#f0f921\"]]}],\"choropleth\":[{\"type\":\"choropleth\",\"colorbar\":{\"outlinewidth\":0,\"ticks\":\"\"}}],\"histogram2d\":[{\"type\":\"histogram2d\",\"colorbar\":{\"outlinewidth\":0,\"ticks\":\"\"},\"colorscale\":[[0.0,\"#0d0887\"],[0.1111111111111111,\"#46039f\"],[0.2222222222222222,\"#7201a8\"],[0.3333333333333333,\"#9c179e\"],[0.4444444444444444,\"#bd3786\"],[0.5555555555555556,\"#d8576b\"],[0.6666666666666666,\"#ed7953\"],[0.7777777777777778,\"#fb9f3a\"],[0.8888888888888888,\"#fdca26\"],[1.0,\"#f0f921\"]]}],\"heatmap\":[{\"type\":\"heatmap\",\"colorbar\":{\"outlinewidth\":0,\"ticks\":\"\"},\"colorscale\":[[0.0,\"#0d0887\"],[0.1111111111111111,\"#46039f\"],[0.2222222222222222,\"#7201a8\"],[0.3333333333333333,\"#9c179e\"],[0.4444444444444444,\"#bd3786\"],[0.5555555555555556,\"#d8576b\"],[0.6666666666666666,\"#ed7953\"],[0.7777777777777778,\"#fb9f3a\"],[0.8888888888888888,\"#fdca26\"],[1.0,\"#f0f921\"]]}],\"heatmapgl\":[{\"type\":\"heatmapgl\",\"colorbar\":{\"outlinewidth\":0,\"ticks\":\"\"},\"colorscale\":[[0.0,\"#0d0887\"],[0.1111111111111111,\"#46039f\"],[0.2222222222222222,\"#7201a8\"],[0.3333333333333333,\"#9c179e\"],[0.4444444444444444,\"#bd3786\"],[0.5555555555555556,\"#d8576b\"],[0.6666666666666666,\"#ed7953\"],[0.7777777777777778,\"#fb9f3a\"],[0.8888888888888888,\"#fdca26\"],[1.0,\"#f0f921\"]]}],\"contourcarpet\":[{\"type\":\"contourcarpet\",\"colorbar\":{\"outlinewidth\":0,\"ticks\":\"\"}}],\"contour\":[{\"type\":\"contour\",\"colorbar\":{\"outlinewidth\":0,\"ticks\":\"\"},\"colorscale\":[[0.0,\"#0d0887\"],[0.1111111111111111,\"#46039f\"],[0.2222222222222222,\"#7201a8\"],[0.3333333333333333,\"#9c179e\"],[0.4444444444444444,\"#bd3786\"],[0.5555555555555556,\"#d8576b\"],[0.6666666666666666,\"#ed7953\"],[0.7777777777777778,\"#fb9f3a\"],[0.8888888888888888,\"#fdca26\"],[1.0,\"#f0f921\"]]}],\"surface\":[{\"type\":\"surface\",\"colorbar\":{\"outlinewidth\":0,\"ticks\":\"\"},\"colorscale\":[[0.0,\"#0d0887\"],[0.1111111111111111,\"#46039f\"],[0.2222222222222222,\"#7201a8\"],[0.3333333333333333,\"#9c179e\"],[0.4444444444444444,\"#bd3786\"],[0.5555555555555556,\"#d8576b\"],[0.6666666666666666,\"#ed7953\"],[0.7777777777777778,\"#fb9f3a\"],[0.8888888888888888,\"#fdca26\"],[1.0,\"#f0f921\"]]}],\"mesh3d\":[{\"type\":\"mesh3d\",\"colorbar\":{\"outlinewidth\":0,\"ticks\":\"\"}}],\"scatter\":[{\"fillpattern\":{\"fillmode\":\"overlay\",\"size\":10,\"solidity\":0.2},\"type\":\"scatter\"}],\"parcoords\":[{\"type\":\"parcoords\",\"line\":{\"colorbar\":{\"outlinewidth\":0,\"ticks\":\"\"}}}],\"scatterpolargl\":[{\"type\":\"scatterpolargl\",\"marker\":{\"colorbar\":{\"outlinewidth\":0,\"ticks\":\"\"}}}],\"bar\":[{\"error_x\":{\"color\":\"#2a3f5f\"},\"error_y\":{\"color\":\"#2a3f5f\"},\"marker\":{\"line\":{\"color\":\"#E5ECF6\",\"width\":0.5},\"pattern\":{\"fillmode\":\"overlay\",\"size\":10,\"solidity\":0.2}},\"type\":\"bar\"}],\"scattergeo\":[{\"type\":\"scattergeo\",\"marker\":{\"colorbar\":{\"outlinewidth\":0,\"ticks\":\"\"}}}],\"scatterpolar\":[{\"type\":\"scatterpolar\",\"marker\":{\"colorbar\":{\"outlinewidth\":0,\"ticks\":\"\"}}}],\"histogram\":[{\"marker\":{\"pattern\":{\"fillmode\":\"overlay\",\"size\":10,\"solidity\":0.2}},\"type\":\"histogram\"}],\"scattergl\":[{\"type\":\"scattergl\",\"marker\":{\"colorbar\":{\"outlinewidth\":0,\"ticks\":\"\"}}}],\"scatter3d\":[{\"type\":\"scatter3d\",\"line\":{\"colorbar\":{\"outlinewidth\":0,\"ticks\":\"\"}},\"marker\":{\"colorbar\":{\"outlinewidth\":0,\"ticks\":\"\"}}}],\"scattermapbox\":[{\"type\":\"scattermapbox\",\"marker\":{\"colorbar\":{\"outlinewidth\":0,\"ticks\":\"\"}}}],\"scatterternary\":[{\"type\":\"scatterternary\",\"marker\":{\"colorbar\":{\"outlinewidth\":0,\"ticks\":\"\"}}}],\"scattercarpet\":[{\"type\":\"scattercarpet\",\"marker\":{\"colorbar\":{\"outlinewidth\":0,\"ticks\":\"\"}}}],\"carpet\":[{\"aaxis\":{\"endlinecolor\":\"#2a3f5f\",\"gridcolor\":\"white\",\"linecolor\":\"white\",\"minorgridcolor\":\"white\",\"startlinecolor\":\"#2a3f5f\"},\"baxis\":{\"endlinecolor\":\"#2a3f5f\",\"gridcolor\":\"white\",\"linecolor\":\"white\",\"minorgridcolor\":\"white\",\"startlinecolor\":\"#2a3f5f\"},\"type\":\"carpet\"}],\"table\":[{\"cells\":{\"fill\":{\"color\":\"#EBF0F8\"},\"line\":{\"color\":\"white\"}},\"header\":{\"fill\":{\"color\":\"#C8D4E3\"},\"line\":{\"color\":\"white\"}},\"type\":\"table\"}],\"barpolar\":[{\"marker\":{\"line\":{\"color\":\"#E5ECF6\",\"width\":0.5},\"pattern\":{\"fillmode\":\"overlay\",\"size\":10,\"solidity\":0.2}},\"type\":\"barpolar\"}],\"pie\":[{\"automargin\":true,\"type\":\"pie\"}]},\"layout\":{\"autotypenumbers\":\"strict\",\"colorway\":[\"#636efa\",\"#EF553B\",\"#00cc96\",\"#ab63fa\",\"#FFA15A\",\"#19d3f3\",\"#FF6692\",\"#B6E880\",\"#FF97FF\",\"#FECB52\"],\"font\":{\"color\":\"#2a3f5f\"},\"hovermode\":\"closest\",\"hoverlabel\":{\"align\":\"left\"},\"paper_bgcolor\":\"white\",\"plot_bgcolor\":\"#E5ECF6\",\"polar\":{\"bgcolor\":\"#E5ECF6\",\"angularaxis\":{\"gridcolor\":\"white\",\"linecolor\":\"white\",\"ticks\":\"\"},\"radialaxis\":{\"gridcolor\":\"white\",\"linecolor\":\"white\",\"ticks\":\"\"}},\"ternary\":{\"bgcolor\":\"#E5ECF6\",\"aaxis\":{\"gridcolor\":\"white\",\"linecolor\":\"white\",\"ticks\":\"\"},\"baxis\":{\"gridcolor\":\"white\",\"linecolor\":\"white\",\"ticks\":\"\"},\"caxis\":{\"gridcolor\":\"white\",\"linecolor\":\"white\",\"ticks\":\"\"}},\"coloraxis\":{\"colorbar\":{\"outlinewidth\":0,\"ticks\":\"\"}},\"colorscale\":{\"sequential\":[[0.0,\"#0d0887\"],[0.1111111111111111,\"#46039f\"],[0.2222222222222222,\"#7201a8\"],[0.3333333333333333,\"#9c179e\"],[0.4444444444444444,\"#bd3786\"],[0.5555555555555556,\"#d8576b\"],[0.6666666666666666,\"#ed7953\"],[0.7777777777777778,\"#fb9f3a\"],[0.8888888888888888,\"#fdca26\"],[1.0,\"#f0f921\"]],\"sequentialminus\":[[0.0,\"#0d0887\"],[0.1111111111111111,\"#46039f\"],[0.2222222222222222,\"#7201a8\"],[0.3333333333333333,\"#9c179e\"],[0.4444444444444444,\"#bd3786\"],[0.5555555555555556,\"#d8576b\"],[0.6666666666666666,\"#ed7953\"],[0.7777777777777778,\"#fb9f3a\"],[0.8888888888888888,\"#fdca26\"],[1.0,\"#f0f921\"]],\"diverging\":[[0,\"#8e0152\"],[0.1,\"#c51b7d\"],[0.2,\"#de77ae\"],[0.3,\"#f1b6da\"],[0.4,\"#fde0ef\"],[0.5,\"#f7f7f7\"],[0.6,\"#e6f5d0\"],[0.7,\"#b8e186\"],[0.8,\"#7fbc41\"],[0.9,\"#4d9221\"],[1,\"#276419\"]]},\"xaxis\":{\"gridcolor\":\"white\",\"linecolor\":\"white\",\"ticks\":\"\",\"title\":{\"standoff\":15},\"zerolinecolor\":\"white\",\"automargin\":true,\"zerolinewidth\":2},\"yaxis\":{\"gridcolor\":\"white\",\"linecolor\":\"white\",\"ticks\":\"\",\"title\":{\"standoff\":15},\"zerolinecolor\":\"white\",\"automargin\":true,\"zerolinewidth\":2},\"scene\":{\"xaxis\":{\"backgroundcolor\":\"#E5ECF6\",\"gridcolor\":\"white\",\"linecolor\":\"white\",\"showbackground\":true,\"ticks\":\"\",\"zerolinecolor\":\"white\",\"gridwidth\":2},\"yaxis\":{\"backgroundcolor\":\"#E5ECF6\",\"gridcolor\":\"white\",\"linecolor\":\"white\",\"showbackground\":true,\"ticks\":\"\",\"zerolinecolor\":\"white\",\"gridwidth\":2},\"zaxis\":{\"backgroundcolor\":\"#E5ECF6\",\"gridcolor\":\"white\",\"linecolor\":\"white\",\"showbackground\":true,\"ticks\":\"\",\"zerolinecolor\":\"white\",\"gridwidth\":2}},\"shapedefaults\":{\"line\":{\"color\":\"#2a3f5f\"}},\"annotationdefaults\":{\"arrowcolor\":\"#2a3f5f\",\"arrowhead\":0,\"arrowwidth\":1},\"geo\":{\"bgcolor\":\"white\",\"landcolor\":\"#E5ECF6\",\"subunitcolor\":\"white\",\"showland\":true,\"showlakes\":true,\"lakecolor\":\"white\"},\"title\":{\"x\":0.05},\"mapbox\":{\"style\":\"light\"}}},\"xaxis\":{\"anchor\":\"y\",\"domain\":[0.0,1.0]},\"yaxis\":{\"anchor\":\"x\",\"domain\":[0.0,1.0],\"title\":{\"text\":\"price\"}},\"legend\":{\"tracegroupgap\":0},\"margin\":{\"t\":60},\"boxmode\":\"group\",\"height\":550,\"width\":400},                        {\"responsive\": true}                    ).then(function(){\n",
       "                            \n",
       "var gd = document.getElementById('b44ae336-6f3e-4478-8e4d-85781bc1eeb3');\n",
       "var x = new MutationObserver(function (mutations, observer) {{\n",
       "        var display = window.getComputedStyle(gd).display;\n",
       "        if (!display || display === 'none') {{\n",
       "            console.log([gd, 'removed!']);\n",
       "            Plotly.purge(gd);\n",
       "            observer.disconnect();\n",
       "        }}\n",
       "}});\n",
       "\n",
       "// Listen for the removal of the full notebook cells\n",
       "var notebookContainer = gd.closest('#notebook-container');\n",
       "if (notebookContainer) {{\n",
       "    x.observe(notebookContainer, {childList: true});\n",
       "}}\n",
       "\n",
       "// Listen for the clearing of the current output cell\n",
       "var outputEl = gd.closest('.output');\n",
       "if (outputEl) {{\n",
       "    x.observe(outputEl, {childList: true});\n",
       "}}\n",
       "\n",
       "                        })                };                });            </script>        </div>"
      ]
     },
     "metadata": {},
     "output_type": "display_data"
    }
   ],
   "source": [
    "#Autre méthode avec plotly express\n",
    "box_plot_price = px.box(df_merge, y=\"price\", width=400, height=550)\n",
    "box_plot_price.show()"
   ]
  },
  {
   "cell_type": "markdown",
   "id": "79e2f2eb",
   "metadata": {
    "jp-MarkdownHeadingCollapsed": true
   },
   "source": [
    "<div style=\"border: 1px solid RGB(51,165,182);\" >\n",
    "<h3 style=\"margin: auto; padding: 20px; color: RGB(51,165,182); \">Etape 4.2 - Exploration par l'utisation de méthodes statistique</h3>\n",
    "</div>"
   ]
  },
  {
   "cell_type": "markdown",
   "id": "0735c3b2",
   "metadata": {},
   "source": [
    "<div style=\"border: 1px solid RGB(51,165,182);\" >\n",
    "<h3 style=\"margin: auto; padding: 20px; color: RGB(51,165,182); \">Etape 4.2.1 - Identification par le Z-index</h3>\n",
    "</div>"
   ]
  },
  {
   "cell_type": "code",
   "execution_count": 604,
   "id": "1950ef8d",
   "metadata": {},
   "outputs": [
    {
     "name": "stdout",
     "output_type": "stream",
     "text": [
      "La moyenne du prix est : 32.19\n",
      "=======================\n",
      "L'écart-type du prix est : 26.71\n",
      "=======================\n",
      "Le Z-score est : 1.21\n"
     ]
    }
   ],
   "source": [
    "#Calculer la moyenne du prix\n",
    "print(\"La moyenne du prix est : {}\".format(round(df_merge['price'].mean(), 2)))\n",
    "\n",
    "print('=======================')\n",
    "\n",
    "#Calculer l'écart-type du prix\n",
    "print(\"L'écart-type du prix est : {}\".format(round(df_merge['price'].std(axis= 0), 2)))\n",
    "\n",
    "print('=======================')\n",
    "\n",
    "#Calculer le Z-score\n",
    "print(\"Le Z-score est : {}\".format(round(df_merge['price'].mean()/df_merge['price'].std(ddof=0), 2)))\n",
    "\n"
   ]
  },
  {
   "cell_type": "code",
   "execution_count": 605,
   "id": "aaa65a1a-4685-4dff-bdcf-a949698306cf",
   "metadata": {},
   "outputs": [
    {
     "name": "stdout",
     "output_type": "stream",
     "text": [
      "Le seuil prix dont le Z-score est supérieur à 3 est : price    114.0\n",
      "dtype: float64\n"
     ]
    }
   ],
   "source": [
    "#Quel est le seuil prix dont z-score est supérieur à 3?\n",
    "df_merge['z_score'] = (df_merge['price'] - df_merge['price'].mean())/df_merge['price'].std(ddof=0)\n",
    "print(\"Le seuil prix dont le Z-score est supérieur à 3 est : {}\".format(df_merge.loc[df_merge['z_score'] > 3][['price']].min()))\n",
    "#fonction lambda"
   ]
  },
  {
   "cell_type": "markdown",
   "id": "750f54f3",
   "metadata": {},
   "source": [
    "<div style=\"border: 1px solid RGB(51,165,182);\" >\n",
    "<h3 style=\"margin: auto; padding: 20px; color: RGB(51,165,182); \">Etape 4.2.2 - Identification par l'interval interquartile</h3>\n",
    "</div>"
   ]
  },
  {
   "cell_type": "code",
   "execution_count": 609,
   "id": "6c0db8c0",
   "metadata": {},
   "outputs": [
    {
     "data": {
      "text/plain": [
       "count    825.0\n",
       "mean      32.0\n",
       "std       27.0\n",
       "min      -20.0\n",
       "25%       14.0\n",
       "50%       24.0\n",
       "75%       42.0\n",
       "max      225.0\n",
       "Name: price, dtype: float64"
      ]
     },
     "metadata": {},
     "output_type": "display_data"
    }
   ],
   "source": [
    "#Utilisation de la fonction describe de Pandas pour l'etude des mesures de dispersions\n",
    "describe_merge = round(df_merge['price'].describe(percentiles=None, include=None, exclude=None))\n",
    "#descirbe sur price pour définir les outliers\n",
    "display(describe_merge)"
   ]
  },
  {
   "cell_type": "code",
   "execution_count": 611,
   "id": "a458ca14",
   "metadata": {},
   "outputs": [
    {
     "name": "stdout",
     "output_type": "stream",
     "text": [
      "Outliers détectés :\n",
      "     product_id  price\n",
      "19         4055   86.1\n",
      "30         4594  144.0\n",
      "47         5070   84.7\n",
      "55         6324   92.0\n",
      "154        4115  100.0\n",
      "156        4132   88.4\n",
      "291        4352  225.0\n",
      "297        4359   85.6\n",
      "310        4402  176.0\n",
      "311        4404  108.5\n",
      "313        4406  157.0\n",
      "314        4407  104.0\n",
      "320        4582  109.6\n",
      "477        4903  102.3\n",
      "478        4904  137.0\n",
      "525        5001  217.5\n",
      "530        5007  105.0\n",
      "531        5008  105.0\n",
      "538        5025  112.0\n",
      "539        5026   86.8\n",
      "605        5565   92.0\n",
      "610        5580   83.7\n",
      "615        5612  124.8\n",
      "657        5767  175.0\n",
      "692        5892  191.3\n",
      "707        5916   93.0\n",
      "708        5917  122.0\n",
      "709        5918  114.0\n",
      "752        6126  135.0\n",
      "757        6201  105.6\n",
      "758        6202  116.4\n",
      "763        6212  115.0\n",
      "764        6213  121.0\n",
      "765        6214   99.0\n",
      "766        6215  115.0\n",
      "767        6216  121.0\n"
     ]
    }
   ],
   "source": [
    "#Définissez un seuil pour les articles \"outliers\" en prix\n",
    "\n",
    "Q1 = df_merge['price'].quantile(0.25)\n",
    "Q3 = df_merge['price'].quantile(0.75)\n",
    "\n",
    "# Calculer l'IQR\n",
    "IQR = Q3 - Q1\n",
    "\n",
    "# Définir les bornes des outliers\n",
    "borne_inf = Q1 - 1.5 * IQR\n",
    "borne_sup = Q3 + 1.5 * IQR\n",
    "\n",
    "# Filtrer les outliers\n",
    "outliers = df_merge[(df_merge['price'] < borne_inf) | (df_merge['price'] > borne_sup)]\n",
    "\n",
    "# Afficher les outliers\n",
    "print(\"Outliers détectés :\")\n",
    "print(outliers[['product_id', 'price']])"
   ]
  },
  {
   "cell_type": "code",
   "execution_count": 613,
   "id": "7d05cde7",
   "metadata": {},
   "outputs": [
    {
     "data": {
      "text/plain": [
       "36"
      ]
     },
     "metadata": {},
     "output_type": "display_data"
    },
    {
     "data": {
      "text/plain": [
       "'================================='"
      ]
     },
     "metadata": {},
     "output_type": "display_data"
    },
    {
     "data": {
      "text/plain": [
       "0.04"
      ]
     },
     "metadata": {},
     "output_type": "display_data"
    }
   ],
   "source": [
    "#Définissez le nombre d'articles et la proportion de l'ensemble du catalogue \"outliers\"\n",
    "display(outliers['price'].count())\n",
    "display(\"=================================\")\n",
    "display(round((outliers['price'].count() / df_merge['price'].count()), 2))"
   ]
  },
  {
   "cell_type": "code",
   "execution_count": 615,
   "id": "06138432",
   "metadata": {},
   "outputs": [
    {
     "name": "stdout",
     "output_type": "stream",
     "text": [
      "114.0\n",
      "83.7\n"
     ]
    }
   ],
   "source": [
    "#Selon vous, ces outliers sont-ils justifiés ? Comment le démontrer si cela est possible ?\n",
    "#On peut vérifier avec le zscore\n",
    "verification_outliers = df_merge[df_merge['z_score'].abs() > 3]\n",
    "print(verification_outliers['price'].min())\n",
    "print(outliers['price'].min())"
   ]
  },
  {
   "cell_type": "code",
   "execution_count": 617,
   "id": "2f6a028d-91d2-4a6a-98a8-eb1bb00b3095",
   "metadata": {},
   "outputs": [],
   "source": [
    "#Par rapport au z_score tous les outliers ne sont pas justifiés."
   ]
  },
  {
   "cell_type": "markdown",
   "id": "640da2c8",
   "metadata": {},
   "source": [
    "<div style=\"background-color: RGB(51,165,182);\" >\n",
    "<h2 style=\"margin: auto; padding: 20px; color:#fff; \">Etape 5 - Analyse univarié du CA, des quantités vendues, des stocks et de la marge ainsi qu'une analyse multivarié  </h2>\n",
    "</div>"
   ]
  },
  {
   "cell_type": "markdown",
   "id": "5871c808",
   "metadata": {},
   "source": [
    "<div style=\"border: 1px solid RGB(51,165,182);\" >\n",
    "<h3 style=\"margin: auto; padding: 20px; color: RGB(51,165,182); \">Etape 5.1 - Analyse des ventes en CA</h3>\n",
    "</div>"
   ]
  },
  {
   "cell_type": "code",
   "execution_count": 621,
   "id": "da0d5834",
   "metadata": {},
   "outputs": [
    {
     "name": "stdout",
     "output_type": "stream",
     "text": [
      "La somme de la colonne ca_par_article est : 153748.1 €\n"
     ]
    }
   ],
   "source": [
    "##############################\n",
    "# Calculer le CA su site web #\n",
    "##############################\n",
    "\n",
    "#Créez une colonne calculant le CA par article\n",
    "df_merge['ca_par_article'] = df_merge['price'] * df_merge['total_sales']\n",
    "#Calculez la somme de la colonne \"ca_par_article\"\n",
    "print(\"La somme de la colonne ca_par_article est : {} €\".format(df_merge['ca_par_article'].sum()))\n",
    "#Ce résultat correspond au chiffre d'affaire du site web\n",
    "\n",
    "#Ce résultat correspond au chiffre d'affaire du site web"
   ]
  },
  {
   "cell_type": "code",
   "execution_count": 623,
   "id": "4040ced7",
   "metadata": {},
   "outputs": [
    {
     "name": "stdout",
     "output_type": "stream",
     "text": [
      "     product_id  price  total_sales  ca_par_article\n",
      "167        4150   59.0        116.0          6844.0\n",
      "291        4352  225.0         11.0          2475.0\n",
      "415        4726   12.7        122.0          1549.4\n",
      "546        5067   59.9         22.0          1317.8\n",
      "551        5379   11.1        111.0          1232.1\n",
      "692        5892  191.3          6.0          1147.8\n",
      "292        4353   79.5         14.0          1113.0\n",
      "687        5826   41.2         20.0           824.0\n",
      "763        6212  115.0          7.0           805.0\n",
      "539        5026   86.8          9.0           781.2\n",
      "531        5008  105.0          7.0           735.0\n",
      "657        5767  175.0          4.0           700.0\n",
      "752        6126  135.0          5.0           675.0\n",
      "538        5025  112.0          6.0           672.0\n",
      "757        6201  105.6          6.0           633.6\n",
      "313        4406  157.0          4.0           628.0\n",
      "359        4647   28.5         22.0           627.0\n",
      "296        4358   77.0          8.0           616.0\n",
      "297        4359   85.6          7.0           599.2\n",
      "765        6214   99.0          6.0           594.0\n",
      "758        6202  116.4          5.0           582.0\n",
      "290        4350   79.5          7.0           556.5\n"
     ]
    },
    {
     "data": {
      "application/vnd.plotly.v1+json": {
       "config": {
        "plotlyServerURL": "https://plot.ly"
       },
       "data": [
        {
         "alignmentgroup": "True",
         "hovertemplate": "index=%{x}<br>ca_par_article=%{y}<extra></extra>",
         "legendgroup": "",
         "marker": {
          "color": "#636efa",
          "pattern": {
           "shape": ""
          }
         },
         "name": "",
         "offsetgroup": "",
         "orientation": "v",
         "showlegend": false,
         "textposition": "auto",
         "type": "bar",
         "x": [
          167,
          291,
          415,
          546,
          551,
          692,
          292,
          687,
          763,
          539,
          531,
          657,
          752,
          538,
          757,
          313,
          359,
          296,
          297,
          765,
          758,
          290
         ],
         "xaxis": "x",
         "y": [
          6844,
          2475,
          1549.3999999999999,
          1317.8,
          1232.1,
          1147.8000000000002,
          1113,
          824,
          805,
          781.1999999999999,
          735,
          700,
          675,
          672,
          633.5999999999999,
          628,
          627,
          616,
          599.1999999999999,
          594,
          582,
          556.5
         ],
         "yaxis": "y"
        }
       ],
       "layout": {
        "autosize": true,
        "barmode": "relative",
        "legend": {
         "tracegroupgap": 0
        },
        "template": {
         "data": {
          "bar": [
           {
            "error_x": {
             "color": "#2a3f5f"
            },
            "error_y": {
             "color": "#2a3f5f"
            },
            "marker": {
             "line": {
              "color": "#E5ECF6",
              "width": 0.5
             },
             "pattern": {
              "fillmode": "overlay",
              "size": 10,
              "solidity": 0.2
             }
            },
            "type": "bar"
           }
          ],
          "barpolar": [
           {
            "marker": {
             "line": {
              "color": "#E5ECF6",
              "width": 0.5
             },
             "pattern": {
              "fillmode": "overlay",
              "size": 10,
              "solidity": 0.2
             }
            },
            "type": "barpolar"
           }
          ],
          "carpet": [
           {
            "aaxis": {
             "endlinecolor": "#2a3f5f",
             "gridcolor": "white",
             "linecolor": "white",
             "minorgridcolor": "white",
             "startlinecolor": "#2a3f5f"
            },
            "baxis": {
             "endlinecolor": "#2a3f5f",
             "gridcolor": "white",
             "linecolor": "white",
             "minorgridcolor": "white",
             "startlinecolor": "#2a3f5f"
            },
            "type": "carpet"
           }
          ],
          "choropleth": [
           {
            "colorbar": {
             "outlinewidth": 0,
             "ticks": ""
            },
            "type": "choropleth"
           }
          ],
          "contour": [
           {
            "colorbar": {
             "outlinewidth": 0,
             "ticks": ""
            },
            "colorscale": [
             [
              0,
              "#0d0887"
             ],
             [
              0.1111111111111111,
              "#46039f"
             ],
             [
              0.2222222222222222,
              "#7201a8"
             ],
             [
              0.3333333333333333,
              "#9c179e"
             ],
             [
              0.4444444444444444,
              "#bd3786"
             ],
             [
              0.5555555555555556,
              "#d8576b"
             ],
             [
              0.6666666666666666,
              "#ed7953"
             ],
             [
              0.7777777777777778,
              "#fb9f3a"
             ],
             [
              0.8888888888888888,
              "#fdca26"
             ],
             [
              1,
              "#f0f921"
             ]
            ],
            "type": "contour"
           }
          ],
          "contourcarpet": [
           {
            "colorbar": {
             "outlinewidth": 0,
             "ticks": ""
            },
            "type": "contourcarpet"
           }
          ],
          "heatmap": [
           {
            "colorbar": {
             "outlinewidth": 0,
             "ticks": ""
            },
            "colorscale": [
             [
              0,
              "#0d0887"
             ],
             [
              0.1111111111111111,
              "#46039f"
             ],
             [
              0.2222222222222222,
              "#7201a8"
             ],
             [
              0.3333333333333333,
              "#9c179e"
             ],
             [
              0.4444444444444444,
              "#bd3786"
             ],
             [
              0.5555555555555556,
              "#d8576b"
             ],
             [
              0.6666666666666666,
              "#ed7953"
             ],
             [
              0.7777777777777778,
              "#fb9f3a"
             ],
             [
              0.8888888888888888,
              "#fdca26"
             ],
             [
              1,
              "#f0f921"
             ]
            ],
            "type": "heatmap"
           }
          ],
          "heatmapgl": [
           {
            "colorbar": {
             "outlinewidth": 0,
             "ticks": ""
            },
            "colorscale": [
             [
              0,
              "#0d0887"
             ],
             [
              0.1111111111111111,
              "#46039f"
             ],
             [
              0.2222222222222222,
              "#7201a8"
             ],
             [
              0.3333333333333333,
              "#9c179e"
             ],
             [
              0.4444444444444444,
              "#bd3786"
             ],
             [
              0.5555555555555556,
              "#d8576b"
             ],
             [
              0.6666666666666666,
              "#ed7953"
             ],
             [
              0.7777777777777778,
              "#fb9f3a"
             ],
             [
              0.8888888888888888,
              "#fdca26"
             ],
             [
              1,
              "#f0f921"
             ]
            ],
            "type": "heatmapgl"
           }
          ],
          "histogram": [
           {
            "marker": {
             "pattern": {
              "fillmode": "overlay",
              "size": 10,
              "solidity": 0.2
             }
            },
            "type": "histogram"
           }
          ],
          "histogram2d": [
           {
            "colorbar": {
             "outlinewidth": 0,
             "ticks": ""
            },
            "colorscale": [
             [
              0,
              "#0d0887"
             ],
             [
              0.1111111111111111,
              "#46039f"
             ],
             [
              0.2222222222222222,
              "#7201a8"
             ],
             [
              0.3333333333333333,
              "#9c179e"
             ],
             [
              0.4444444444444444,
              "#bd3786"
             ],
             [
              0.5555555555555556,
              "#d8576b"
             ],
             [
              0.6666666666666666,
              "#ed7953"
             ],
             [
              0.7777777777777778,
              "#fb9f3a"
             ],
             [
              0.8888888888888888,
              "#fdca26"
             ],
             [
              1,
              "#f0f921"
             ]
            ],
            "type": "histogram2d"
           }
          ],
          "histogram2dcontour": [
           {
            "colorbar": {
             "outlinewidth": 0,
             "ticks": ""
            },
            "colorscale": [
             [
              0,
              "#0d0887"
             ],
             [
              0.1111111111111111,
              "#46039f"
             ],
             [
              0.2222222222222222,
              "#7201a8"
             ],
             [
              0.3333333333333333,
              "#9c179e"
             ],
             [
              0.4444444444444444,
              "#bd3786"
             ],
             [
              0.5555555555555556,
              "#d8576b"
             ],
             [
              0.6666666666666666,
              "#ed7953"
             ],
             [
              0.7777777777777778,
              "#fb9f3a"
             ],
             [
              0.8888888888888888,
              "#fdca26"
             ],
             [
              1,
              "#f0f921"
             ]
            ],
            "type": "histogram2dcontour"
           }
          ],
          "mesh3d": [
           {
            "colorbar": {
             "outlinewidth": 0,
             "ticks": ""
            },
            "type": "mesh3d"
           }
          ],
          "parcoords": [
           {
            "line": {
             "colorbar": {
              "outlinewidth": 0,
              "ticks": ""
             }
            },
            "type": "parcoords"
           }
          ],
          "pie": [
           {
            "automargin": true,
            "type": "pie"
           }
          ],
          "scatter": [
           {
            "fillpattern": {
             "fillmode": "overlay",
             "size": 10,
             "solidity": 0.2
            },
            "type": "scatter"
           }
          ],
          "scatter3d": [
           {
            "line": {
             "colorbar": {
              "outlinewidth": 0,
              "ticks": ""
             }
            },
            "marker": {
             "colorbar": {
              "outlinewidth": 0,
              "ticks": ""
             }
            },
            "type": "scatter3d"
           }
          ],
          "scattercarpet": [
           {
            "marker": {
             "colorbar": {
              "outlinewidth": 0,
              "ticks": ""
             }
            },
            "type": "scattercarpet"
           }
          ],
          "scattergeo": [
           {
            "marker": {
             "colorbar": {
              "outlinewidth": 0,
              "ticks": ""
             }
            },
            "type": "scattergeo"
           }
          ],
          "scattergl": [
           {
            "marker": {
             "colorbar": {
              "outlinewidth": 0,
              "ticks": ""
             }
            },
            "type": "scattergl"
           }
          ],
          "scattermapbox": [
           {
            "marker": {
             "colorbar": {
              "outlinewidth": 0,
              "ticks": ""
             }
            },
            "type": "scattermapbox"
           }
          ],
          "scatterpolar": [
           {
            "marker": {
             "colorbar": {
              "outlinewidth": 0,
              "ticks": ""
             }
            },
            "type": "scatterpolar"
           }
          ],
          "scatterpolargl": [
           {
            "marker": {
             "colorbar": {
              "outlinewidth": 0,
              "ticks": ""
             }
            },
            "type": "scatterpolargl"
           }
          ],
          "scatterternary": [
           {
            "marker": {
             "colorbar": {
              "outlinewidth": 0,
              "ticks": ""
             }
            },
            "type": "scatterternary"
           }
          ],
          "surface": [
           {
            "colorbar": {
             "outlinewidth": 0,
             "ticks": ""
            },
            "colorscale": [
             [
              0,
              "#0d0887"
             ],
             [
              0.1111111111111111,
              "#46039f"
             ],
             [
              0.2222222222222222,
              "#7201a8"
             ],
             [
              0.3333333333333333,
              "#9c179e"
             ],
             [
              0.4444444444444444,
              "#bd3786"
             ],
             [
              0.5555555555555556,
              "#d8576b"
             ],
             [
              0.6666666666666666,
              "#ed7953"
             ],
             [
              0.7777777777777778,
              "#fb9f3a"
             ],
             [
              0.8888888888888888,
              "#fdca26"
             ],
             [
              1,
              "#f0f921"
             ]
            ],
            "type": "surface"
           }
          ],
          "table": [
           {
            "cells": {
             "fill": {
              "color": "#EBF0F8"
             },
             "line": {
              "color": "white"
             }
            },
            "header": {
             "fill": {
              "color": "#C8D4E3"
             },
             "line": {
              "color": "white"
             }
            },
            "type": "table"
           }
          ]
         },
         "layout": {
          "annotationdefaults": {
           "arrowcolor": "#2a3f5f",
           "arrowhead": 0,
           "arrowwidth": 1
          },
          "autotypenumbers": "strict",
          "coloraxis": {
           "colorbar": {
            "outlinewidth": 0,
            "ticks": ""
           }
          },
          "colorscale": {
           "diverging": [
            [
             0,
             "#8e0152"
            ],
            [
             0.1,
             "#c51b7d"
            ],
            [
             0.2,
             "#de77ae"
            ],
            [
             0.3,
             "#f1b6da"
            ],
            [
             0.4,
             "#fde0ef"
            ],
            [
             0.5,
             "#f7f7f7"
            ],
            [
             0.6,
             "#e6f5d0"
            ],
            [
             0.7,
             "#b8e186"
            ],
            [
             0.8,
             "#7fbc41"
            ],
            [
             0.9,
             "#4d9221"
            ],
            [
             1,
             "#276419"
            ]
           ],
           "sequential": [
            [
             0,
             "#0d0887"
            ],
            [
             0.1111111111111111,
             "#46039f"
            ],
            [
             0.2222222222222222,
             "#7201a8"
            ],
            [
             0.3333333333333333,
             "#9c179e"
            ],
            [
             0.4444444444444444,
             "#bd3786"
            ],
            [
             0.5555555555555556,
             "#d8576b"
            ],
            [
             0.6666666666666666,
             "#ed7953"
            ],
            [
             0.7777777777777778,
             "#fb9f3a"
            ],
            [
             0.8888888888888888,
             "#fdca26"
            ],
            [
             1,
             "#f0f921"
            ]
           ],
           "sequentialminus": [
            [
             0,
             "#0d0887"
            ],
            [
             0.1111111111111111,
             "#46039f"
            ],
            [
             0.2222222222222222,
             "#7201a8"
            ],
            [
             0.3333333333333333,
             "#9c179e"
            ],
            [
             0.4444444444444444,
             "#bd3786"
            ],
            [
             0.5555555555555556,
             "#d8576b"
            ],
            [
             0.6666666666666666,
             "#ed7953"
            ],
            [
             0.7777777777777778,
             "#fb9f3a"
            ],
            [
             0.8888888888888888,
             "#fdca26"
            ],
            [
             1,
             "#f0f921"
            ]
           ]
          },
          "colorway": [
           "#636efa",
           "#EF553B",
           "#00cc96",
           "#ab63fa",
           "#FFA15A",
           "#19d3f3",
           "#FF6692",
           "#B6E880",
           "#FF97FF",
           "#FECB52"
          ],
          "font": {
           "color": "#2a3f5f"
          },
          "geo": {
           "bgcolor": "white",
           "lakecolor": "white",
           "landcolor": "#E5ECF6",
           "showlakes": true,
           "showland": true,
           "subunitcolor": "white"
          },
          "hoverlabel": {
           "align": "left"
          },
          "hovermode": "closest",
          "mapbox": {
           "style": "light"
          },
          "paper_bgcolor": "white",
          "plot_bgcolor": "#E5ECF6",
          "polar": {
           "angularaxis": {
            "gridcolor": "white",
            "linecolor": "white",
            "ticks": ""
           },
           "bgcolor": "#E5ECF6",
           "radialaxis": {
            "gridcolor": "white",
            "linecolor": "white",
            "ticks": ""
           }
          },
          "scene": {
           "xaxis": {
            "backgroundcolor": "#E5ECF6",
            "gridcolor": "white",
            "gridwidth": 2,
            "linecolor": "white",
            "showbackground": true,
            "ticks": "",
            "zerolinecolor": "white"
           },
           "yaxis": {
            "backgroundcolor": "#E5ECF6",
            "gridcolor": "white",
            "gridwidth": 2,
            "linecolor": "white",
            "showbackground": true,
            "ticks": "",
            "zerolinecolor": "white"
           },
           "zaxis": {
            "backgroundcolor": "#E5ECF6",
            "gridcolor": "white",
            "gridwidth": 2,
            "linecolor": "white",
            "showbackground": true,
            "ticks": "",
            "zerolinecolor": "white"
           }
          },
          "shapedefaults": {
           "line": {
            "color": "#2a3f5f"
           }
          },
          "ternary": {
           "aaxis": {
            "gridcolor": "white",
            "linecolor": "white",
            "ticks": ""
           },
           "baxis": {
            "gridcolor": "white",
            "linecolor": "white",
            "ticks": ""
           },
           "bgcolor": "#E5ECF6",
           "caxis": {
            "gridcolor": "white",
            "linecolor": "white",
            "ticks": ""
           }
          },
          "title": {
           "x": 0.05
          },
          "xaxis": {
           "automargin": true,
           "gridcolor": "white",
           "linecolor": "white",
           "ticks": "",
           "title": {
            "standoff": 15
           },
           "zerolinecolor": "white",
           "zerolinewidth": 2
          },
          "yaxis": {
           "automargin": true,
           "gridcolor": "white",
           "linecolor": "white",
           "ticks": "",
           "title": {
            "standoff": 15
           },
           "zerolinecolor": "white",
           "zerolinewidth": 2
          }
         }
        },
        "title": {
         "text": "CA par article"
        },
        "xaxis": {
         "anchor": "y",
         "autorange": true,
         "domain": [
          0,
          1
         ],
         "range": [
          -0.5,
          21.5
         ],
         "title": {
          "text": "index"
         },
         "type": "category"
        },
        "yaxis": {
         "anchor": "x",
         "autorange": true,
         "domain": [
          0,
          1
         ],
         "range": [
          0,
          7204.210526315789
         ],
         "title": {
          "text": "ca_par_article"
         },
         "type": "linear"
        }
       }
      },
      "image/png": "[encoded data removed]",
      "text/html": [
       "<div>                            <div id=\"01f589e7-a912-4f16-875b-f784f591e3ce\" class=\"plotly-graph-div\" style=\"height:525px; width:100%;\"></div>            <script type=\"text/javascript\">                require([\"plotly\"], function(Plotly) {                    window.PLOTLYENV=window.PLOTLYENV || {};                                    if (document.getElementById(\"01f589e7-a912-4f16-875b-f784f591e3ce\")) {                    Plotly.newPlot(                        \"01f589e7-a912-4f16-875b-f784f591e3ce\",                        [{\"alignmentgroup\":\"True\",\"hovertemplate\":\"index=%{x}<br>ca_par_article=%{y}<extra></extra>\",\"legendgroup\":\"\",\"marker\":{\"color\":\"#636efa\",\"pattern\":{\"shape\":\"\"}},\"name\":\"\",\"offsetgroup\":\"\",\"orientation\":\"v\",\"showlegend\":false,\"textposition\":\"auto\",\"x\":[167,291,415,546,551,692,292,687,763,539,531,657,752,538,757,313,359,296,297,765,758,290],\"xaxis\":\"x\",\"y\":[6844.0,2475.0,1549.3999999999999,1317.8,1232.1,1147.8000000000002,1113.0,824.0,805.0,781.1999999999999,735.0,700.0,675.0,672.0,633.5999999999999,628.0,627.0,616.0,599.1999999999999,594.0,582.0,556.5],\"yaxis\":\"y\",\"type\":\"bar\"}],                        {\"template\":{\"data\":{\"histogram2dcontour\":[{\"type\":\"histogram2dcontour\",\"colorbar\":{\"outlinewidth\":0,\"ticks\":\"\"},\"colorscale\":[[0.0,\"#0d0887\"],[0.1111111111111111,\"#46039f\"],[0.2222222222222222,\"#7201a8\"],[0.3333333333333333,\"#9c179e\"],[0.4444444444444444,\"#bd3786\"],[0.5555555555555556,\"#d8576b\"],[0.6666666666666666,\"#ed7953\"],[0.7777777777777778,\"#fb9f3a\"],[0.8888888888888888,\"#fdca26\"],[1.0,\"#f0f921\"]]}],\"choropleth\":[{\"type\":\"choropleth\",\"colorbar\":{\"outlinewidth\":0,\"ticks\":\"\"}}],\"histogram2d\":[{\"type\":\"histogram2d\",\"colorbar\":{\"outlinewidth\":0,\"ticks\":\"\"},\"colorscale\":[[0.0,\"#0d0887\"],[0.1111111111111111,\"#46039f\"],[0.2222222222222222,\"#7201a8\"],[0.3333333333333333,\"#9c179e\"],[0.4444444444444444,\"#bd3786\"],[0.5555555555555556,\"#d8576b\"],[0.6666666666666666,\"#ed7953\"],[0.7777777777777778,\"#fb9f3a\"],[0.8888888888888888,\"#fdca26\"],[1.0,\"#f0f921\"]]}],\"heatmap\":[{\"type\":\"heatmap\",\"colorbar\":{\"outlinewidth\":0,\"ticks\":\"\"},\"colorscale\":[[0.0,\"#0d0887\"],[0.1111111111111111,\"#46039f\"],[0.2222222222222222,\"#7201a8\"],[0.3333333333333333,\"#9c179e\"],[0.4444444444444444,\"#bd3786\"],[0.5555555555555556,\"#d8576b\"],[0.6666666666666666,\"#ed7953\"],[0.7777777777777778,\"#fb9f3a\"],[0.8888888888888888,\"#fdca26\"],[1.0,\"#f0f921\"]]}],\"heatmapgl\":[{\"type\":\"heatmapgl\",\"colorbar\":{\"outlinewidth\":0,\"ticks\":\"\"},\"colorscale\":[[0.0,\"#0d0887\"],[0.1111111111111111,\"#46039f\"],[0.2222222222222222,\"#7201a8\"],[0.3333333333333333,\"#9c179e\"],[0.4444444444444444,\"#bd3786\"],[0.5555555555555556,\"#d8576b\"],[0.6666666666666666,\"#ed7953\"],[0.7777777777777778,\"#fb9f3a\"],[0.8888888888888888,\"#fdca26\"],[1.0,\"#f0f921\"]]}],\"contourcarpet\":[{\"type\":\"contourcarpet\",\"colorbar\":{\"outlinewidth\":0,\"ticks\":\"\"}}],\"contour\":[{\"type\":\"contour\",\"colorbar\":{\"outlinewidth\":0,\"ticks\":\"\"},\"colorscale\":[[0.0,\"#0d0887\"],[0.1111111111111111,\"#46039f\"],[0.2222222222222222,\"#7201a8\"],[0.3333333333333333,\"#9c179e\"],[0.4444444444444444,\"#bd3786\"],[0.5555555555555556,\"#d8576b\"],[0.6666666666666666,\"#ed7953\"],[0.7777777777777778,\"#fb9f3a\"],[0.8888888888888888,\"#fdca26\"],[1.0,\"#f0f921\"]]}],\"surface\":[{\"type\":\"surface\",\"colorbar\":{\"outlinewidth\":0,\"ticks\":\"\"},\"colorscale\":[[0.0,\"#0d0887\"],[0.1111111111111111,\"#46039f\"],[0.2222222222222222,\"#7201a8\"],[0.3333333333333333,\"#9c179e\"],[0.4444444444444444,\"#bd3786\"],[0.5555555555555556,\"#d8576b\"],[0.6666666666666666,\"#ed7953\"],[0.7777777777777778,\"#fb9f3a\"],[0.8888888888888888,\"#fdca26\"],[1.0,\"#f0f921\"]]}],\"mesh3d\":[{\"type\":\"mesh3d\",\"colorbar\":{\"outlinewidth\":0,\"ticks\":\"\"}}],\"scatter\":[{\"fillpattern\":{\"fillmode\":\"overlay\",\"size\":10,\"solidity\":0.2},\"type\":\"scatter\"}],\"parcoords\":[{\"type\":\"parcoords\",\"line\":{\"colorbar\":{\"outlinewidth\":0,\"ticks\":\"\"}}}],\"scatterpolargl\":[{\"type\":\"scatterpolargl\",\"marker\":{\"colorbar\":{\"outlinewidth\":0,\"ticks\":\"\"}}}],\"bar\":[{\"error_x\":{\"color\":\"#2a3f5f\"},\"error_y\":{\"color\":\"#2a3f5f\"},\"marker\":{\"line\":{\"color\":\"#E5ECF6\",\"width\":0.5},\"pattern\":{\"fillmode\":\"overlay\",\"size\":10,\"solidity\":0.2}},\"type\":\"bar\"}],\"scattergeo\":[{\"type\":\"scattergeo\",\"marker\":{\"colorbar\":{\"outlinewidth\":0,\"ticks\":\"\"}}}],\"scatterpolar\":[{\"type\":\"scatterpolar\",\"marker\":{\"colorbar\":{\"outlinewidth\":0,\"ticks\":\"\"}}}],\"histogram\":[{\"marker\":{\"pattern\":{\"fillmode\":\"overlay\",\"size\":10,\"solidity\":0.2}},\"type\":\"histogram\"}],\"scattergl\":[{\"type\":\"scattergl\",\"marker\":{\"colorbar\":{\"outlinewidth\":0,\"ticks\":\"\"}}}],\"scatter3d\":[{\"type\":\"scatter3d\",\"line\":{\"colorbar\":{\"outlinewidth\":0,\"ticks\":\"\"}},\"marker\":{\"colorbar\":{\"outlinewidth\":0,\"ticks\":\"\"}}}],\"scattermapbox\":[{\"type\":\"scattermapbox\",\"marker\":{\"colorbar\":{\"outlinewidth\":0,\"ticks\":\"\"}}}],\"scatterternary\":[{\"type\":\"scatterternary\",\"marker\":{\"colorbar\":{\"outlinewidth\":0,\"ticks\":\"\"}}}],\"scattercarpet\":[{\"type\":\"scattercarpet\",\"marker\":{\"colorbar\":{\"outlinewidth\":0,\"ticks\":\"\"}}}],\"carpet\":[{\"aaxis\":{\"endlinecolor\":\"#2a3f5f\",\"gridcolor\":\"white\",\"linecolor\":\"white\",\"minorgridcolor\":\"white\",\"startlinecolor\":\"#2a3f5f\"},\"baxis\":{\"endlinecolor\":\"#2a3f5f\",\"gridcolor\":\"white\",\"linecolor\":\"white\",\"minorgridcolor\":\"white\",\"startlinecolor\":\"#2a3f5f\"},\"type\":\"carpet\"}],\"table\":[{\"cells\":{\"fill\":{\"color\":\"#EBF0F8\"},\"line\":{\"color\":\"white\"}},\"header\":{\"fill\":{\"color\":\"#C8D4E3\"},\"line\":{\"color\":\"white\"}},\"type\":\"table\"}],\"barpolar\":[{\"marker\":{\"line\":{\"color\":\"#E5ECF6\",\"width\":0.5},\"pattern\":{\"fillmode\":\"overlay\",\"size\":10,\"solidity\":0.2}},\"type\":\"barpolar\"}],\"pie\":[{\"automargin\":true,\"type\":\"pie\"}]},\"layout\":{\"autotypenumbers\":\"strict\",\"colorway\":[\"#636efa\",\"#EF553B\",\"#00cc96\",\"#ab63fa\",\"#FFA15A\",\"#19d3f3\",\"#FF6692\",\"#B6E880\",\"#FF97FF\",\"#FECB52\"],\"font\":{\"color\":\"#2a3f5f\"},\"hovermode\":\"closest\",\"hoverlabel\":{\"align\":\"left\"},\"paper_bgcolor\":\"white\",\"plot_bgcolor\":\"#E5ECF6\",\"polar\":{\"bgcolor\":\"#E5ECF6\",\"angularaxis\":{\"gridcolor\":\"white\",\"linecolor\":\"white\",\"ticks\":\"\"},\"radialaxis\":{\"gridcolor\":\"white\",\"linecolor\":\"white\",\"ticks\":\"\"}},\"ternary\":{\"bgcolor\":\"#E5ECF6\",\"aaxis\":{\"gridcolor\":\"white\",\"linecolor\":\"white\",\"ticks\":\"\"},\"baxis\":{\"gridcolor\":\"white\",\"linecolor\":\"white\",\"ticks\":\"\"},\"caxis\":{\"gridcolor\":\"white\",\"linecolor\":\"white\",\"ticks\":\"\"}},\"coloraxis\":{\"colorbar\":{\"outlinewidth\":0,\"ticks\":\"\"}},\"colorscale\":{\"sequential\":[[0.0,\"#0d0887\"],[0.1111111111111111,\"#46039f\"],[0.2222222222222222,\"#7201a8\"],[0.3333333333333333,\"#9c179e\"],[0.4444444444444444,\"#bd3786\"],[0.5555555555555556,\"#d8576b\"],[0.6666666666666666,\"#ed7953\"],[0.7777777777777778,\"#fb9f3a\"],[0.8888888888888888,\"#fdca26\"],[1.0,\"#f0f921\"]],\"sequentialminus\":[[0.0,\"#0d0887\"],[0.1111111111111111,\"#46039f\"],[0.2222222222222222,\"#7201a8\"],[0.3333333333333333,\"#9c179e\"],[0.4444444444444444,\"#bd3786\"],[0.5555555555555556,\"#d8576b\"],[0.6666666666666666,\"#ed7953\"],[0.7777777777777778,\"#fb9f3a\"],[0.8888888888888888,\"#fdca26\"],[1.0,\"#f0f921\"]],\"diverging\":[[0,\"#8e0152\"],[0.1,\"#c51b7d\"],[0.2,\"#de77ae\"],[0.3,\"#f1b6da\"],[0.4,\"#fde0ef\"],[0.5,\"#f7f7f7\"],[0.6,\"#e6f5d0\"],[0.7,\"#b8e186\"],[0.8,\"#7fbc41\"],[0.9,\"#4d9221\"],[1,\"#276419\"]]},\"xaxis\":{\"gridcolor\":\"white\",\"linecolor\":\"white\",\"ticks\":\"\",\"title\":{\"standoff\":15},\"zerolinecolor\":\"white\",\"automargin\":true,\"zerolinewidth\":2},\"yaxis\":{\"gridcolor\":\"white\",\"linecolor\":\"white\",\"ticks\":\"\",\"title\":{\"standoff\":15},\"zerolinecolor\":\"white\",\"automargin\":true,\"zerolinewidth\":2},\"scene\":{\"xaxis\":{\"backgroundcolor\":\"#E5ECF6\",\"gridcolor\":\"white\",\"linecolor\":\"white\",\"showbackground\":true,\"ticks\":\"\",\"zerolinecolor\":\"white\",\"gridwidth\":2},\"yaxis\":{\"backgroundcolor\":\"#E5ECF6\",\"gridcolor\":\"white\",\"linecolor\":\"white\",\"showbackground\":true,\"ticks\":\"\",\"zerolinecolor\":\"white\",\"gridwidth\":2},\"zaxis\":{\"backgroundcolor\":\"#E5ECF6\",\"gridcolor\":\"white\",\"linecolor\":\"white\",\"showbackground\":true,\"ticks\":\"\",\"zerolinecolor\":\"white\",\"gridwidth\":2}},\"shapedefaults\":{\"line\":{\"color\":\"#2a3f5f\"}},\"annotationdefaults\":{\"arrowcolor\":\"#2a3f5f\",\"arrowhead\":0,\"arrowwidth\":1},\"geo\":{\"bgcolor\":\"white\",\"landcolor\":\"#E5ECF6\",\"subunitcolor\":\"white\",\"showland\":true,\"showlakes\":true,\"lakecolor\":\"white\"},\"title\":{\"x\":0.05},\"mapbox\":{\"style\":\"light\"}}},\"xaxis\":{\"anchor\":\"y\",\"domain\":[0.0,1.0],\"title\":{\"text\":\"index\"},\"type\":\"category\"},\"yaxis\":{\"anchor\":\"x\",\"domain\":[0.0,1.0],\"title\":{\"text\":\"ca_par_article\"}},\"legend\":{\"tracegroupgap\":0},\"title\":{\"text\":\"CA par article\"},\"barmode\":\"relative\"},                        {\"responsive\": true}                    ).then(function(){\n",
       "                            \n",
       "var gd = document.getElementById('01f589e7-a912-4f16-875b-f784f591e3ce');\n",
       "var x = new MutationObserver(function (mutations, observer) {{\n",
       "        var display = window.getComputedStyle(gd).display;\n",
       "        if (!display || display === 'none') {{\n",
       "            console.log([gd, 'removed!']);\n",
       "            Plotly.purge(gd);\n",
       "            observer.disconnect();\n",
       "        }}\n",
       "}});\n",
       "\n",
       "// Listen for the removal of the full notebook cells\n",
       "var notebookContainer = gd.closest('#notebook-container');\n",
       "if (notebookContainer) {{\n",
       "    x.observe(notebookContainer, {childList: true});\n",
       "}}\n",
       "\n",
       "// Listen for the clearing of the current output cell\n",
       "var outputEl = gd.closest('.output');\n",
       "if (outputEl) {{\n",
       "    x.observe(outputEl, {childList: true});\n",
       "}}\n",
       "\n",
       "                        })                };                });            </script>        </div>"
      ]
     },
     "metadata": {},
     "output_type": "display_data"
    }
   ],
   "source": [
    "###############################\n",
    "# Palmares des articles en CA #\n",
    "###############################\n",
    "\n",
    "#Effectuer le tri dans l'ordre décroissant du CA du dataset df_merge\n",
    "df_merge.sort_values('ca_par_article', ascending=False)\n",
    "#Réinitialiser l'index du dataset par un reset_index\n",
    "df_merge.reset_index()\n",
    "#Afficher les 20 premier articles en CA\n",
    "print(df_merge.sort_values('ca_par_article', ascending=False).iloc[0:2+20][['product_id', 'price', 'total_sales','ca_par_article']])\n",
    "#Graphique en barre des 20 premiers articles avec plotly express\n",
    "best_ca = df_merge.sort_values('ca_par_article', ascending=False).iloc[0:2+20][['product_id','ca_par_article']]\n",
    "fig = px.bar(best_ca, y='ca_par_article', title= 'CA par article')\n",
    "fig.update_xaxes(type='category')\n",
    "fig.show()"
   ]
  },
  {
   "cell_type": "code",
   "execution_count": 624,
   "id": "d7e5e87b",
   "metadata": {},
   "outputs": [
    {
     "name": "stdout",
     "output_type": "stream",
     "text": [
      "      price  ca_par_article  total_sales  somme_cumulative_pourcentage_ca\n",
      "167   59.00         6844.00        116.0                         0.044514\n",
      "291  225.00         2475.00         11.0                         0.060612\n",
      "415   12.70         1549.40        122.0                         0.070690\n",
      "546   59.90         1317.80         22.0                         0.079261\n",
      "551   11.10         1232.10        111.0                         0.087275\n",
      "692  191.30         1147.80          6.0                         0.094740\n",
      "292   79.50         1113.00         14.0                         0.101979\n",
      "687   41.20          824.00         20.0                         0.107339\n",
      "763  115.00          805.00          7.0                         0.112574\n",
      "539   86.80          781.20          9.0                         0.117655\n",
      "531  105.00          735.00          7.0                         0.122436\n",
      "657  175.00          700.00          4.0                         0.126989\n",
      "752  135.00          675.00          5.0                         0.131379\n",
      "538  112.00          672.00          6.0                         0.135750\n",
      "757  105.60          633.60          6.0                         0.139871\n",
      "313  157.00          628.00          4.0                         0.143956\n",
      "359   28.50          627.00         22.0                         0.148034\n",
      "296   77.00          616.00          8.0                         0.152040\n",
      "297   85.60          599.20          7.0                         0.155938\n",
      "765   99.00          594.00          6.0                         0.159801\n",
      "758  116.40          582.00          5.0                         0.163586\n",
      "290   79.50          556.50          7.0                         0.167206\n",
      "319   67.20          537.60          8.0                         0.170703\n",
      "310  176.00          528.00          3.0                         0.174137\n",
      "314  104.00          520.00          5.0                         0.177519\n",
      "614   63.40          507.20          8.0                         0.180818\n",
      "356   62.40          499.20          8.0                         0.184065\n",
      "783   29.00          493.00         17.0                         0.187271\n",
      "312   68.10          476.70          7.0                         0.190372\n",
      "521   78.00          468.00          6.0                         0.193416\n",
      "603   58.00          464.00          8.0                         0.196434\n",
      "593   65.90          461.30          7.0                         0.199434\n",
      "766  115.00          460.00          4.0                         0.202426\n",
      "548   65.00          455.00          7.0                         0.205385\n",
      "817   49.90          449.10          9.0                         0.208306\n",
      "156   88.40          442.00          5.0                         0.211181\n",
      "570   54.80          438.40          8.0                         0.214033\n",
      "525  217.50          435.00          2.0                         0.216862\n",
      "311  108.50          434.00          4.0                         0.219685\n",
      "732   71.70          430.20          6.0                         0.222483\n",
      "608   34.70          416.40         12.0                         0.225191\n",
      "729   69.00          414.00          6.0                         0.227884\n",
      "306   59.00          413.00          7.0                         0.230570\n",
      "478  137.00          411.00          3.0                         0.233243\n",
      "544   45.00          405.00          9.0                         0.235877\n",
      "816   50.50          404.00          8.0                         0.238505\n",
      "308   44.00          396.00          9.0                         0.243656\n",
      "711   49.50          396.00          8.0                         0.241081\n",
      "580   43.50          391.50          9.0                         0.246203\n",
      "452   78.00          390.00          5.0                         0.248739\n",
      "686   63.50          381.00          6.0                         0.251217\n",
      "450   41.60          374.40          9.0                         0.253653\n",
      "540   62.10          372.60          6.0                         0.256076\n",
      "475   41.00          369.00          9.0                         0.258476\n",
      "476   46.00          368.00          8.0                         0.260870\n",
      "708  122.00          366.00          3.0                         0.263250\n",
      "764  121.00          363.00          3.0                         0.265611\n",
      "589   60.40          362.40          6.0                         0.267968\n",
      "705   36.00          360.00         10.0                         0.270310\n",
      "266   14.90          357.60         24.0                         0.272636\n",
      "728   71.50          357.50          5.0                         0.274961\n",
      "796   51.00          357.00          7.0                         0.277283\n",
      "626   44.60          356.80          8.0                         0.279603\n",
      "622   71.30          356.50          5.0                         0.281922\n",
      "461    9.90          356.40         36.0                         0.284240\n",
      "632   44.50          356.00          8.0                         0.286556\n",
      "307   59.00          354.00          6.0                         0.288858\n",
      "751   39.20          352.80          9.0                         0.291153\n",
      "221   58.80          352.80          6.0                         0.293448\n",
      "785   44.00          352.00          8.0                         0.295737\n",
      "353   50.00          350.00          7.0                         0.298013\n",
      "602   58.00          348.00          6.0                         0.300277\n",
      "587   38.60          347.40          9.0                         0.302536\n",
      "166   69.00          345.00          5.0                         0.304780\n",
      "821   69.00          345.00          5.0                         0.307024\n",
      "660   34.40          344.00         10.0                         0.309262\n",
      "286   49.00          343.00          7.0                         0.311493\n",
      "363   49.00          343.00          7.0                         0.313724\n",
      "340   57.00          342.00          6.0                         0.315948\n",
      "709  114.00          342.00          3.0                         0.318172\n",
      "798   42.20          337.60          8.0                         0.320368\n",
      "571   42.00          336.00          8.0                         0.322554\n",
      "578   33.40          334.00         10.0                         0.324726\n",
      "799   33.20          332.00         10.0                         0.326885\n",
      "124   33.20          332.00         10.0                         0.329045\n",
      "803   47.20          330.40          7.0                         0.331194\n",
      "773   40.20          321.60          8.0                         0.333285\n",
      "220   39.80          318.40          8.0                         0.335356\n",
      "251   31.70          317.00         10.0                         0.337418\n",
      "698   35.10          315.90          9.0                         0.339473\n",
      "530  105.00          315.00          3.0                         0.341522\n",
      "279   39.10          312.80          8.0                         0.343556\n",
      "781   28.40          312.40         11.0                         0.345588\n",
      "522   78.00          312.00          4.0                         0.347617\n",
      "749   62.40          312.00          5.0                         0.349647\n",
      "523   78.00          312.00          4.0                         0.351676\n",
      "160   39.00          312.00          8.0                         0.353705\n",
      "777   78.00          312.00          4.0                         0.355734\n",
      "126   77.80          311.20          4.0                         0.357759\n",
      "696   28.10          309.10         11.0                         0.359769\n",
      "1     34.30          308.70          9.0                         0.361777\n",
      "806   50.40          302.40          6.0                         0.363744\n",
      "367   43.00          301.00          7.0                         0.365701\n",
      "365   33.40          300.60          9.0                         0.367657\n",
      "282   30.00          300.00         10.0                         0.369608\n",
      "742   29.80          298.00         10.0                         0.371546\n",
      "248   59.60          298.00          5.0                         0.373484\n",
      "487   37.20          297.60          8.0                         0.375420\n",
      "514   49.50          297.00          6.0                         0.377352\n",
      "289   59.00          295.00          5.0                         0.379270\n",
      "633   29.40          294.00         10.0                         0.381183\n",
      "433   24.30          291.60         12.0                         0.383079\n",
      "809   48.50          291.00          6.0                         0.384972\n",
      "675   17.10          290.70         17.0                         0.386863\n",
      "557   24.20          290.40         12.0                         0.388751\n",
      "330   32.20          289.80          9.0                         0.390636\n",
      "364   36.20          289.60          8.0                         0.392520\n",
      "335   26.20          288.20         11.0                         0.394394\n",
      "782   72.00          288.00          4.0                         0.396268\n",
      "683   57.60          288.00          5.0                         0.398141\n",
      "621   71.30          285.20          4.0                         0.399996\n",
      "441   28.50          285.00         10.0                         0.401850\n",
      "486   25.90          284.90         11.0                         0.403703\n",
      "807   35.60          284.80          8.0                         0.405555\n",
      "366   40.20          281.40          7.0                         0.407385\n",
      "625   28.00          280.00         10.0                         0.409206\n",
      "238   28.00          280.00         10.0                         0.411028\n",
      "811   46.50          279.00          6.0                         0.412842\n",
      "472   27.90          279.00         10.0                         0.414657\n",
      "779   27.90          279.00         10.0                         0.416471\n",
      "759   31.00          279.00          9.0                         0.418286\n",
      "500   27.80          278.00         10.0                         0.420094\n",
      "604   30.80          277.20          9.0                         0.421897\n",
      "756   46.00          276.00          6.0                         0.423692\n",
      "775   45.90          275.40          6.0                         0.425484\n",
      "130   22.90          274.80         12.0                         0.427271\n",
      "12    22.80          273.60         12.0                         0.429051\n",
      "786   68.30          273.20          4.0                         0.430827\n",
      "695   24.70          271.70         11.0                         0.432595\n",
      "274   38.60          270.20          7.0                         0.434352\n",
      "537   45.00          270.00          6.0                         0.436108\n",
      "341   67.50          270.00          4.0                         0.437864\n",
      "233   29.90          269.10          9.0                         0.439615\n",
      "384   29.80          268.20          9.0                         0.441359\n",
      "213    9.90          267.30         27.0                         0.443098\n",
      "480   53.20          266.00          5.0                         0.448288\n",
      "211   38.00          266.00          7.0                         0.446558\n",
      "600   38.00          266.00          7.0                         0.444828\n",
      "173   20.35          264.55         13.0                         0.450008\n",
      "401   44.00          264.00          6.0                         0.451726\n",
      "420   22.00          264.00         12.0                         0.453443\n",
      "769   26.40          264.00         10.0                         0.455160\n",
      "164   33.00          264.00          8.0                         0.456877\n",
      "680   24.00          264.00         11.0                         0.458594\n",
      "701   43.90          263.40          6.0                         0.460307\n",
      "784   29.20          262.80          9.0                         0.462016\n",
      "674   23.80          261.80         11.0                         0.463719\n",
      "14    21.80          261.60         12.0                         0.465421\n",
      "170   29.00          261.00          9.0                         0.467118\n",
      "581   43.50          261.00          6.0                         0.468816\n",
      "483   25.90          259.00         10.0                         0.470500\n",
      "535   19.80          257.40         13.0                         0.472175\n",
      "252   32.10          256.80          8.0                         0.473845\n",
      "494   23.20          255.20         11.0                         0.475505\n",
      "315   28.10          252.90          9.0                         0.477150\n",
      "448   21.00          252.00         12.0                         0.478789\n",
      "239   28.00          252.00          9.0                         0.480428\n",
      "620   27.80          250.20          9.0                         0.482055\n",
      "639   25.00          250.00         10.0                         0.483681\n",
      "7     31.20          249.60          8.0                         0.485305\n",
      "299   49.50          247.50          5.0                         0.486914\n",
      "820   27.50          247.50          9.0                         0.488524\n",
      "579   49.50          247.50          5.0                         0.490134\n",
      "323   61.60          246.40          4.0                         0.491736\n",
      "355   41.00          246.00          6.0                         0.493337\n",
      "508   20.50          246.00         12.0                         0.494937\n",
      "700   18.80          244.40         13.0                         0.496526\n",
      "745   40.70          244.20          6.0                         0.498114\n",
      "249   26.90          242.10          9.0                         0.499689\n",
      "767  121.00          242.00          2.0                         0.501263\n",
      "175   18.50          240.50         13.0                         0.502827\n",
      "5     34.30          240.10          7.0                         0.504389\n",
      "218   79.80          239.40          3.0                         0.505946\n",
      "395   19.80          237.60         12.0                         0.507491\n",
      "440   29.50          236.00          8.0                         0.509026\n",
      "565   23.60          236.00         10.0                         0.510561\n",
      "343   59.00          236.00          4.0                         0.512096\n",
      "123   23.40          234.00         10.0                         0.513618\n",
      "563   39.00          234.00          6.0                         0.515140\n",
      "576   17.90          232.70         13.0                         0.516654\n",
      "813   46.50          232.50          5.0                         0.518166\n",
      "590   38.60          231.60          6.0                         0.519672\n",
      "378   17.80          231.40         13.0                         0.521177\n",
      "373   21.00          231.00         11.0                         0.522680\n",
      "736   38.50          231.00          6.0                         0.524182\n",
      "663   32.80          229.60          7.0                         0.525676\n",
      "479   22.90          229.00         10.0                         0.527165\n",
      "259   19.00          228.00         12.0                         0.528648\n",
      "317   28.50          228.00          8.0                         0.530131\n",
      "553   22.80          228.00         10.0                         0.531614\n",
      "550   19.00          228.00         12.0                         0.533097\n",
      "649   57.00          228.00          4.0                         0.534580\n",
      "362   25.30          227.70          9.0                         0.536061\n",
      "269   18.90          226.80         12.0                         0.537536\n",
      "762   25.20          226.80          9.0                         0.539011\n",
      "677   17.40          226.20         13.0                         0.540482\n",
      "618   56.40          225.60          4.0                         0.541950\n",
      "676   25.00          225.00          9.0                         0.543413\n",
      "685   56.00          224.00          4.0                         0.544870\n",
      "484   28.00          224.00          8.0                         0.546327\n",
      "268   24.80          223.20          9.0                         0.547779\n",
      "532   55.60          222.40          4.0                         0.549225\n",
      "237   17.10          222.30         13.0                         0.550671\n",
      "760   20.20          222.20         11.0                         0.552116\n",
      "153   31.70          221.90          7.0                         0.553560\n",
      "402   55.40          221.60          4.0                         0.555001\n",
      "17    44.30          221.50          5.0                         0.556442\n",
      "739   24.50          220.50          9.0                         0.557876\n",
      "131   44.00          220.00          5.0                         0.559307\n",
      "434   16.90          219.70         13.0                         0.560736\n",
      "231   16.90          219.70         13.0                         0.562165\n",
      "250   24.40          219.60          9.0                         0.563593\n",
      "791   24.40          219.60          9.0                         0.565021\n",
      "322   43.90          219.50          5.0                         0.566449\n",
      "822   54.80          219.20          4.0                         0.567875\n",
      "377   21.90          219.00         10.0                         0.569299\n",
      "360   24.30          218.70          9.0                         0.570722\n",
      "524   27.30          218.40          8.0                         0.572142\n",
      "409   18.20          218.40         12.0                         0.573563\n",
      "702   19.80          217.80         11.0                         0.574979\n",
      "197   16.70          217.10         13.0                         0.576391\n",
      "316   21.70          217.00         10.0                         0.577803\n",
      "673   24.00          216.00          9.0                         0.579207\n",
      "271   27.00          216.00          8.0                         0.580612\n",
      "358   21.50          215.00         10.0                         0.582011\n",
      "18    71.60          214.80          3.0                         0.583408\n",
      "246   19.50          214.50         11.0                         0.584803\n",
      "275   26.70          213.60          8.0                         0.586192\n",
      "516   23.70          213.30          9.0                         0.587580\n",
      "287   35.50          213.00          6.0                         0.588965\n",
      "161   53.00          212.00          4.0                         0.590344\n",
      "520   26.50          212.00          8.0                         0.591723\n",
      "582   26.50          212.00          8.0                         0.593102\n",
      "726   16.30          211.90         13.0                         0.594480\n",
      "824   16.30          211.90         13.0                         0.595858\n",
      "616   19.20          211.20         11.0                         0.597232\n",
      "652   42.20          211.00          5.0                         0.598604\n",
      "392   30.10          210.70          7.0                         0.599975\n",
      "814   42.00          210.00          5.0                         0.601340\n",
      "499   17.50          210.00         12.0                         0.602706\n",
      "350   52.40          209.60          4.0                         0.604070\n",
      "273   69.80          209.40          3.0                         0.605432\n",
      "324   41.80          209.00          5.0                         0.606791\n",
      "226   11.60          208.80         18.0                         0.608149\n",
      "157   29.80          208.60          7.0                         0.609506\n",
      "411   15.90          206.70         13.0                         0.610850\n",
      "719   17.20          206.40         12.0                         0.612193\n",
      "403   15.80          205.40         13.0                         0.614865\n",
      "255   15.80          205.40         13.0                         0.613529\n",
      "407   18.60          204.60         11.0                         0.616195\n",
      "477  102.30          204.60          2.0                         0.617526\n",
      "772   20.40          204.00         10.0                         0.618853\n",
      "376   17.00          204.00         12.0                         0.620180\n",
      "502   18.40          202.40         11.0                         0.621496\n",
      "761   25.20          201.60          8.0                         0.622807\n",
      "566   15.50          201.50         13.0                         0.624118\n",
      "225   16.70          200.40         12.0                         0.625421\n",
      "585   18.20          200.20         11.0                         0.626724\n",
      "357   50.00          200.00          4.0                         0.628024\n",
      "503   22.20          199.80          9.0                         0.629324\n",
      "121   16.60          199.20         12.0                         0.630620\n",
      "345   16.50          198.00         12.0                         0.631907\n",
      "349   39.60          198.00          5.0                         0.633195\n",
      "613   18.00          198.00         11.0                         0.634483\n",
      "712   14.10          197.40         14.0                         0.635767\n",
      "679   17.90          196.90         11.0                         0.637048\n",
      "792   32.80          196.80          6.0                         0.638328\n",
      "6     32.70          196.20          6.0                         0.639604\n",
      "735   21.80          196.20          9.0                         0.640880\n",
      "329   49.00          196.00          4.0                         0.643429\n",
      "162   49.00          196.00          4.0                         0.642155\n",
      "518   16.30          195.60         12.0                         0.644702\n",
      "148   16.30          195.60         12.0                         0.645974\n",
      "429   27.90          195.30          7.0                         0.647244\n",
      "295   39.00          195.00          5.0                         0.648512\n",
      "654   19.50          195.00         10.0                         0.649781\n",
      "529   48.70          194.80          4.0                         0.651048\n",
      "526   64.90          194.70          3.0                         0.652314\n",
      "710   48.50          194.00          4.0                         0.653576\n",
      "588   48.40          193.60          4.0                         0.654835\n",
      "13    19.30          193.00         10.0                         0.657346\n",
      "612   38.60          193.00          5.0                         0.656090\n",
      "303   27.50          192.50          7.0                         0.658598\n",
      "562   24.00          192.00          8.0                         0.659847\n",
      "691   19.00          190.00         10.0                         0.661082\n",
      "277   19.00          190.00         10.0                         0.662318\n",
      "790   19.00          190.00         10.0                         0.663554\n",
      "397   31.60          189.60          6.0                         0.664787\n",
      "670   17.20          189.20         11.0                         0.666018\n",
      "328   31.50          189.00          6.0                         0.667247\n",
      "740   12.60          189.00         15.0                         0.668476\n",
      "795   13.50          189.00         14.0                         0.669706\n",
      "802   37.70          188.50          5.0                         0.670932\n",
      "309   62.50          187.50          3.0                         0.672151\n",
      "372   14.40          187.20         13.0                         0.673369\n",
      "465   18.70          187.00         10.0                         0.674585\n",
      "812   46.50          186.00          4.0                         0.675795\n",
      "682   16.90          185.90         11.0                         0.677004\n",
      "634   16.90          185.90         11.0                         0.678213\n",
      "337   16.90          185.90         11.0                         0.679422\n",
      "432   26.50          185.50          7.0                         0.680629\n",
      "325   26.50          185.50          7.0                         0.681835\n",
      "222   26.50          185.50          7.0                         0.683042\n",
      "810   15.40          184.80         12.0                         0.685446\n",
      "421   16.80          184.80         11.0                         0.684244\n",
      "564   13.20          184.80         14.0                         0.686648\n",
      "183   20.50          184.50          9.0                         0.687848\n",
      "750   46.00          184.00          4.0                         0.689044\n",
      "611   30.50          183.00          6.0                         0.690235\n",
      "129   14.05          182.65         13.0                         0.691423\n",
      "199   16.60          182.60         11.0                         0.692610\n",
      "549   15.20          182.40         12.0                         0.693797\n",
      "485   25.90          181.30          7.0                         0.694976\n",
      "390   18.10          181.00         10.0                         0.696153\n",
      "471   20.10          180.90          9.0                         0.697330\n",
      "428   16.40          180.40         11.0                         0.698503\n",
      "137   16.40          180.40         11.0                         0.699676\n",
      "552   18.00          180.00         10.0                         0.700847\n",
      "541   22.50          180.00          8.0                         0.702018\n",
      "122   60.00          180.00          3.0                         0.703189\n",
      "547   59.90          179.70          3.0                         0.704357\n",
      "144   12.80          179.20         14.0                         0.705523\n",
      "204   17.80          178.00         10.0                         0.706681\n",
      "658   35.60          178.00          5.0                         0.707838\n",
      "245   14.80          177.60         12.0                         0.708993\n",
      "305   59.00          177.00          3.0                         0.711296\n",
      "163   29.50          177.00          6.0                         0.710145\n",
      "143   22.10          176.80          8.0                         0.712446\n",
      "205   13.50          175.50         13.0                         0.713587\n",
      "242   13.50          175.50         13.0                         0.714729\n",
      "152   35.00          175.00          5.0                         0.715867\n",
      "509   25.00          175.00          7.0                         0.717005\n",
      "223   13.40          174.20         13.0                         0.718138\n",
      "116   14.50          174.00         12.0                         0.719270\n",
      "413   29.00          174.00          6.0                         0.720402\n",
      "690   19.30          173.70          9.0                         0.721532\n",
      "599   57.70          173.10          3.0                         0.722657\n",
      "405   13.30          172.90         13.0                         0.723782\n",
      "577   21.60          172.80          8.0                         0.724906\n",
      "179   14.30          171.60         12.0                         0.726022\n",
      "689   57.00          171.00          3.0                         0.727134\n",
      "301   57.00          171.00          3.0                         0.728246\n",
      "214   11.30          169.50         15.0                         0.729349\n",
      "793   15.40          169.40         11.0                         0.730451\n",
      "3     14.10          169.20         12.0                         0.731551\n",
      "727   56.30          168.90          3.0                         0.732650\n",
      "398   16.80          168.00         10.0                         0.737020\n",
      "339   24.00          168.00          7.0                         0.735928\n",
      "195   24.00          168.00          7.0                         0.734835\n",
      "659   33.60          168.00          5.0                         0.733742\n",
      "586   12.90          167.70         13.0                         0.738111\n",
      "610   83.70          167.40          2.0                         0.739200\n",
      "467   27.90          167.40          6.0                         0.740289\n",
      "787   41.80          167.20          4.0                         0.741376\n",
      "800   41.80          167.20          4.0                         0.742464\n",
      "393   12.80          166.40         13.0                         0.743546\n",
      "227   12.80          166.40         13.0                         0.744628\n",
      "119   20.80          166.40          8.0                         0.745711\n",
      "263   16.60          166.00         10.0                         0.746790\n",
      "404   18.40          165.60          9.0                         0.747867\n",
      "333   11.80          165.20         14.0                         0.748942\n",
      "768   23.50          164.50          7.0                         0.750012\n",
      "272   41.00          164.00          4.0                         0.751079\n",
      "140   12.60          163.80         13.0                         0.752144\n",
      "408   23.40          163.80          7.0                         0.753209\n",
      "396   18.20          163.80          9.0                         0.754275\n",
      "771   20.40          163.20          8.0                         0.755336\n",
      "506   12.50          162.50         13.0                         0.756393\n",
      "135   23.20          162.40          7.0                         0.757449\n",
      "801   32.20          161.00          5.0                         0.758497\n",
      "155   23.00          161.00          7.0                         0.759544\n",
      "332   13.40          160.80         12.0                         0.760590\n",
      "284   10.70          160.50         15.0                         0.761633\n",
      "770   26.70          160.20          6.0                         0.762675\n",
      "125   32.00          160.00          5.0                         0.763716\n",
      "10    80.00          160.00          2.0                         0.764757\n",
      "788   40.00          160.00          4.0                         0.765797\n",
      "399   22.80          159.60          7.0                         0.766835\n",
      "426   14.50          159.50         11.0                         0.767873\n",
      "253   12.20          158.60         13.0                         0.768904\n",
      "638   31.70          158.50          5.0                         0.769935\n",
      "385   13.20          158.40         12.0                         0.770966\n",
      "543   52.60          157.80          3.0                         0.771992\n",
      "419   14.30          157.30         11.0                         0.773015\n",
      "354   52.40          157.20          3.0                         0.774038\n",
      "346   52.40          157.20          3.0                         0.775060\n",
      "780   22.40          156.80          7.0                         0.776080\n",
      "451   12.00          156.00         13.0                         0.777094\n",
      "133   39.00          156.00          4.0                         0.778109\n",
      "481   25.90          155.40          6.0                         0.779120\n",
      "247   14.10          155.10         11.0                         0.780129\n",
      "262   15.50          155.00         10.0                         0.781137\n",
      "294   51.60          154.80          3.0                         0.782144\n",
      "230   17.20          154.80          9.0                         0.783150\n",
      "196   11.90          154.70         13.0                         0.784157\n",
      "344   11.90          154.70         13.0                         0.785163\n",
      "114   11.90          154.70         13.0                         0.786169\n",
      "120   22.00          154.00          7.0                         0.787171\n",
      "694   15.40          154.00         10.0                         0.788172\n",
      "619   38.40          153.60          4.0                         0.789171\n",
      "617   19.20          153.60          8.0                         0.790170\n",
      "134   17.00          153.00          9.0                         0.791166\n",
      "285   10.90          152.60         14.0                         0.792158\n",
      "127   12.70          152.40         12.0                         0.794141\n",
      "723   12.70          152.40         12.0                         0.793149\n",
      "201    9.50          152.00         16.0                         0.795129\n",
      "136   19.00          152.00          8.0                         0.796118\n",
      "468   25.30          151.80          6.0                         0.797105\n",
      "206   10.80          151.20         14.0                         0.798089\n",
      "724   30.00          150.00          5.0                         0.799064\n",
      "===================================\n",
      "420\n",
      "===================================\n",
      "0.509090909090909\n"
     ]
    }
   ],
   "source": [
    "#############################\n",
    "# Calculer le 20 / 80 en CA #\n",
    "#############################\n",
    "\n",
    "#Créer une colonne calculant la part du CA de la ligne dans le dataset\n",
    "df_merge['total_ca'] = df_merge['ca_par_article'].sum()\n",
    "df_merge = df_merge.sort_values('ca_par_article', ascending=False)\n",
    "df_merge.reset_index()\n",
    "df_merge['pourcentage_ca'] = df_merge['ca_par_article'] / df_merge['total_ca']\n",
    "\n",
    "#Créer une colonne réalisant la somme cumulative de la colonne précedemment créée\n",
    "df_merge['somme_cumulative_pourcentage_ca'] = df_merge['pourcentage_ca'].cumsum()\n",
    "\n",
    "#Grâce au deux colonnes créées précedemment, calculer le nombre d'articles représentant 80% du CA\n",
    "print((df_merge.sort_values('ca_par_article', ascending=False).loc[df_merge['somme_cumulative_pourcentage_ca'] <= 0.80 ]\n",
    "      [['price', 'ca_par_article', 'total_sales', 'somme_cumulative_pourcentage_ca']]))\n",
    "\n",
    "#Afficher la proportion que représentent ce groupe d'articles dans le catalogue entier du site web\n",
    "\n",
    "print('===================================')\n",
    "print((df_merge['total_sales'].loc[df_merge['somme_cumulative_pourcentage_ca'] <= 0.80 ]\n",
    "        ).count())\n",
    "#433\n",
    "\n",
    "\n",
    "print('===================================')\n",
    "print((df_merge['product_id'].loc[df_merge['somme_cumulative_pourcentage_ca'] <= 0.80 ]\n",
    "        ).count() / df_merge['product_id'].count())"
   ]
  },
  {
   "cell_type": "markdown",
   "id": "8de7af87",
   "metadata": {},
   "source": [
    "<div style=\"border: 1px solid RGB(51,165,182);\" >\n",
    "<h3 style=\"margin: auto; padding: 20px; color: RGB(51,165,182); \">Etape 5.2 - Analyse des ventes en Quantités</h3>\n",
    "</div>"
   ]
  },
  {
   "cell_type": "code",
   "execution_count": 628,
   "id": "ab222e08",
   "metadata": {},
   "outputs": [
    {
     "name": "stdout",
     "output_type": "stream",
     "text": [
      "     product_id  total_sales\n",
      "415        4726        122.0\n",
      "167        4150        116.0\n",
      "551        5379        111.0\n",
      "461        4867         36.0\n",
      "213        4203         27.0\n",
      "266        4275         24.0\n",
      "546        5067         22.0\n",
      "359        4647         22.0\n",
      "755        6129         20.0\n",
      "687        5826         20.0\n",
      "226        4220         18.0\n",
      "665        5778         17.0\n",
      "675        5803         17.0\n",
      "783        6569         17.0\n",
      "463        4870         16.0\n",
      "150        4105         16.0\n",
      "201        4188         16.0\n",
      "664        5777         16.0\n",
      "458        4863         16.0\n",
      "629        5695         16.0\n",
      "113        4059         16.0\n",
      "189        4173         15.0\n"
     ]
    },
    {
     "data": {
      "application/vnd.plotly.v1+json": {
       "config": {
        "plotlyServerURL": "https://plot.ly"
       },
       "data": [
        {
         "alignmentgroup": "True",
         "hovertemplate": "index=%{x}<br>total_sales=%{y}<extra></extra>",
         "legendgroup": "",
         "marker": {
          "color": "#636efa",
          "pattern": {
           "shape": ""
          }
         },
         "name": "",
         "offsetgroup": "",
         "orientation": "v",
         "showlegend": false,
         "textposition": "auto",
         "type": "bar",
         "x": [
          415,
          167,
          551,
          461,
          213,
          266,
          546,
          359,
          755,
          687,
          226,
          665,
          675,
          783,
          463,
          150,
          201,
          664,
          458,
          629,
          113,
          189
         ],
         "xaxis": "x",
         "y": [
          122,
          116,
          111,
          36,
          27,
          24,
          22,
          22,
          20,
          20,
          18,
          17,
          17,
          17,
          16,
          16,
          16,
          16,
          16,
          16,
          16,
          15
         ],
         "yaxis": "y"
        }
       ],
       "layout": {
        "autosize": true,
        "barmode": "relative",
        "legend": {
         "tracegroupgap": 0
        },
        "margin": {
         "t": 60
        },
        "template": {
         "data": {
          "bar": [
           {
            "error_x": {
             "color": "#2a3f5f"
            },
            "error_y": {
             "color": "#2a3f5f"
            },
            "marker": {
             "line": {
              "color": "#E5ECF6",
              "width": 0.5
             },
             "pattern": {
              "fillmode": "overlay",
              "size": 10,
              "solidity": 0.2
             }
            },
            "type": "bar"
           }
          ],
          "barpolar": [
           {
            "marker": {
             "line": {
              "color": "#E5ECF6",
              "width": 0.5
             },
             "pattern": {
              "fillmode": "overlay",
              "size": 10,
              "solidity": 0.2
             }
            },
            "type": "barpolar"
           }
          ],
          "carpet": [
           {
            "aaxis": {
             "endlinecolor": "#2a3f5f",
             "gridcolor": "white",
             "linecolor": "white",
             "minorgridcolor": "white",
             "startlinecolor": "#2a3f5f"
            },
            "baxis": {
             "endlinecolor": "#2a3f5f",
             "gridcolor": "white",
             "linecolor": "white",
             "minorgridcolor": "white",
             "startlinecolor": "#2a3f5f"
            },
            "type": "carpet"
           }
          ],
          "choropleth": [
           {
            "colorbar": {
             "outlinewidth": 0,
             "ticks": ""
            },
            "type": "choropleth"
           }
          ],
          "contour": [
           {
            "colorbar": {
             "outlinewidth": 0,
             "ticks": ""
            },
            "colorscale": [
             [
              0,
              "#0d0887"
             ],
             [
              0.1111111111111111,
              "#46039f"
             ],
             [
              0.2222222222222222,
              "#7201a8"
             ],
             [
              0.3333333333333333,
              "#9c179e"
             ],
             [
              0.4444444444444444,
              "#bd3786"
             ],
             [
              0.5555555555555556,
              "#d8576b"
             ],
             [
              0.6666666666666666,
              "#ed7953"
             ],
             [
              0.7777777777777778,
              "#fb9f3a"
             ],
             [
              0.8888888888888888,
              "#fdca26"
             ],
             [
              1,
              "#f0f921"
             ]
            ],
            "type": "contour"
           }
          ],
          "contourcarpet": [
           {
            "colorbar": {
             "outlinewidth": 0,
             "ticks": ""
            },
            "type": "contourcarpet"
           }
          ],
          "heatmap": [
           {
            "colorbar": {
             "outlinewidth": 0,
             "ticks": ""
            },
            "colorscale": [
             [
              0,
              "#0d0887"
             ],
             [
              0.1111111111111111,
              "#46039f"
             ],
             [
              0.2222222222222222,
              "#7201a8"
             ],
             [
              0.3333333333333333,
              "#9c179e"
             ],
             [
              0.4444444444444444,
              "#bd3786"
             ],
             [
              0.5555555555555556,
              "#d8576b"
             ],
             [
              0.6666666666666666,
              "#ed7953"
             ],
             [
              0.7777777777777778,
              "#fb9f3a"
             ],
             [
              0.8888888888888888,
              "#fdca26"
             ],
             [
              1,
              "#f0f921"
             ]
            ],
            "type": "heatmap"
           }
          ],
          "heatmapgl": [
           {
            "colorbar": {
             "outlinewidth": 0,
             "ticks": ""
            },
            "colorscale": [
             [
              0,
              "#0d0887"
             ],
             [
              0.1111111111111111,
              "#46039f"
             ],
             [
              0.2222222222222222,
              "#7201a8"
             ],
             [
              0.3333333333333333,
              "#9c179e"
             ],
             [
              0.4444444444444444,
              "#bd3786"
             ],
             [
              0.5555555555555556,
              "#d8576b"
             ],
             [
              0.6666666666666666,
              "#ed7953"
             ],
             [
              0.7777777777777778,
              "#fb9f3a"
             ],
             [
              0.8888888888888888,
              "#fdca26"
             ],
             [
              1,
              "#f0f921"
             ]
            ],
            "type": "heatmapgl"
           }
          ],
          "histogram": [
           {
            "marker": {
             "pattern": {
              "fillmode": "overlay",
              "size": 10,
              "solidity": 0.2
             }
            },
            "type": "histogram"
           }
          ],
          "histogram2d": [
           {
            "colorbar": {
             "outlinewidth": 0,
             "ticks": ""
            },
            "colorscale": [
             [
              0,
              "#0d0887"
             ],
             [
              0.1111111111111111,
              "#46039f"
             ],
             [
              0.2222222222222222,
              "#7201a8"
             ],
             [
              0.3333333333333333,
              "#9c179e"
             ],
             [
              0.4444444444444444,
              "#bd3786"
             ],
             [
              0.5555555555555556,
              "#d8576b"
             ],
             [
              0.6666666666666666,
              "#ed7953"
             ],
             [
              0.7777777777777778,
              "#fb9f3a"
             ],
             [
              0.8888888888888888,
              "#fdca26"
             ],
             [
              1,
              "#f0f921"
             ]
            ],
            "type": "histogram2d"
           }
          ],
          "histogram2dcontour": [
           {
            "colorbar": {
             "outlinewidth": 0,
             "ticks": ""
            },
            "colorscale": [
             [
              0,
              "#0d0887"
             ],
             [
              0.1111111111111111,
              "#46039f"
             ],
             [
              0.2222222222222222,
              "#7201a8"
             ],
             [
              0.3333333333333333,
              "#9c179e"
             ],
             [
              0.4444444444444444,
              "#bd3786"
             ],
             [
              0.5555555555555556,
              "#d8576b"
             ],
             [
              0.6666666666666666,
              "#ed7953"
             ],
             [
              0.7777777777777778,
              "#fb9f3a"
             ],
             [
              0.8888888888888888,
              "#fdca26"
             ],
             [
              1,
              "#f0f921"
             ]
            ],
            "type": "histogram2dcontour"
           }
          ],
          "mesh3d": [
           {
            "colorbar": {
             "outlinewidth": 0,
             "ticks": ""
            },
            "type": "mesh3d"
           }
          ],
          "parcoords": [
           {
            "line": {
             "colorbar": {
              "outlinewidth": 0,
              "ticks": ""
             }
            },
            "type": "parcoords"
           }
          ],
          "pie": [
           {
            "automargin": true,
            "type": "pie"
           }
          ],
          "scatter": [
           {
            "fillpattern": {
             "fillmode": "overlay",
             "size": 10,
             "solidity": 0.2
            },
            "type": "scatter"
           }
          ],
          "scatter3d": [
           {
            "line": {
             "colorbar": {
              "outlinewidth": 0,
              "ticks": ""
             }
            },
            "marker": {
             "colorbar": {
              "outlinewidth": 0,
              "ticks": ""
             }
            },
            "type": "scatter3d"
           }
          ],
          "scattercarpet": [
           {
            "marker": {
             "colorbar": {
              "outlinewidth": 0,
              "ticks": ""
             }
            },
            "type": "scattercarpet"
           }
          ],
          "scattergeo": [
           {
            "marker": {
             "colorbar": {
              "outlinewidth": 0,
              "ticks": ""
             }
            },
            "type": "scattergeo"
           }
          ],
          "scattergl": [
           {
            "marker": {
             "colorbar": {
              "outlinewidth": 0,
              "ticks": ""
             }
            },
            "type": "scattergl"
           }
          ],
          "scattermapbox": [
           {
            "marker": {
             "colorbar": {
              "outlinewidth": 0,
              "ticks": ""
             }
            },
            "type": "scattermapbox"
           }
          ],
          "scatterpolar": [
           {
            "marker": {
             "colorbar": {
              "outlinewidth": 0,
              "ticks": ""
             }
            },
            "type": "scatterpolar"
           }
          ],
          "scatterpolargl": [
           {
            "marker": {
             "colorbar": {
              "outlinewidth": 0,
              "ticks": ""
             }
            },
            "type": "scatterpolargl"
           }
          ],
          "scatterternary": [
           {
            "marker": {
             "colorbar": {
              "outlinewidth": 0,
              "ticks": ""
             }
            },
            "type": "scatterternary"
           }
          ],
          "surface": [
           {
            "colorbar": {
             "outlinewidth": 0,
             "ticks": ""
            },
            "colorscale": [
             [
              0,
              "#0d0887"
             ],
             [
              0.1111111111111111,
              "#46039f"
             ],
             [
              0.2222222222222222,
              "#7201a8"
             ],
             [
              0.3333333333333333,
              "#9c179e"
             ],
             [
              0.4444444444444444,
              "#bd3786"
             ],
             [
              0.5555555555555556,
              "#d8576b"
             ],
             [
              0.6666666666666666,
              "#ed7953"
             ],
             [
              0.7777777777777778,
              "#fb9f3a"
             ],
             [
              0.8888888888888888,
              "#fdca26"
             ],
             [
              1,
              "#f0f921"
             ]
            ],
            "type": "surface"
           }
          ],
          "table": [
           {
            "cells": {
             "fill": {
              "color": "#EBF0F8"
             },
             "line": {
              "color": "white"
             }
            },
            "header": {
             "fill": {
              "color": "#C8D4E3"
             },
             "line": {
              "color": "white"
             }
            },
            "type": "table"
           }
          ]
         },
         "layout": {
          "annotationdefaults": {
           "arrowcolor": "#2a3f5f",
           "arrowhead": 0,
           "arrowwidth": 1
          },
          "autotypenumbers": "strict",
          "coloraxis": {
           "colorbar": {
            "outlinewidth": 0,
            "ticks": ""
           }
          },
          "colorscale": {
           "diverging": [
            [
             0,
             "#8e0152"
            ],
            [
             0.1,
             "#c51b7d"
            ],
            [
             0.2,
             "#de77ae"
            ],
            [
             0.3,
             "#f1b6da"
            ],
            [
             0.4,
             "#fde0ef"
            ],
            [
             0.5,
             "#f7f7f7"
            ],
            [
             0.6,
             "#e6f5d0"
            ],
            [
             0.7,
             "#b8e186"
            ],
            [
             0.8,
             "#7fbc41"
            ],
            [
             0.9,
             "#4d9221"
            ],
            [
             1,
             "#276419"
            ]
           ],
           "sequential": [
            [
             0,
             "#0d0887"
            ],
            [
             0.1111111111111111,
             "#46039f"
            ],
            [
             0.2222222222222222,
             "#7201a8"
            ],
            [
             0.3333333333333333,
             "#9c179e"
            ],
            [
             0.4444444444444444,
             "#bd3786"
            ],
            [
             0.5555555555555556,
             "#d8576b"
            ],
            [
             0.6666666666666666,
             "#ed7953"
            ],
            [
             0.7777777777777778,
             "#fb9f3a"
            ],
            [
             0.8888888888888888,
             "#fdca26"
            ],
            [
             1,
             "#f0f921"
            ]
           ],
           "sequentialminus": [
            [
             0,
             "#0d0887"
            ],
            [
             0.1111111111111111,
             "#46039f"
            ],
            [
             0.2222222222222222,
             "#7201a8"
            ],
            [
             0.3333333333333333,
             "#9c179e"
            ],
            [
             0.4444444444444444,
             "#bd3786"
            ],
            [
             0.5555555555555556,
             "#d8576b"
            ],
            [
             0.6666666666666666,
             "#ed7953"
            ],
            [
             0.7777777777777778,
             "#fb9f3a"
            ],
            [
             0.8888888888888888,
             "#fdca26"
            ],
            [
             1,
             "#f0f921"
            ]
           ]
          },
          "colorway": [
           "#636efa",
           "#EF553B",
           "#00cc96",
           "#ab63fa",
           "#FFA15A",
           "#19d3f3",
           "#FF6692",
           "#B6E880",
           "#FF97FF",
           "#FECB52"
          ],
          "font": {
           "color": "#2a3f5f"
          },
          "geo": {
           "bgcolor": "white",
           "lakecolor": "white",
           "landcolor": "#E5ECF6",
           "showlakes": true,
           "showland": true,
           "subunitcolor": "white"
          },
          "hoverlabel": {
           "align": "left"
          },
          "hovermode": "closest",
          "mapbox": {
           "style": "light"
          },
          "paper_bgcolor": "white",
          "plot_bgcolor": "#E5ECF6",
          "polar": {
           "angularaxis": {
            "gridcolor": "white",
            "linecolor": "white",
            "ticks": ""
           },
           "bgcolor": "#E5ECF6",
           "radialaxis": {
            "gridcolor": "white",
            "linecolor": "white",
            "ticks": ""
           }
          },
          "scene": {
           "xaxis": {
            "backgroundcolor": "#E5ECF6",
            "gridcolor": "white",
            "gridwidth": 2,
            "linecolor": "white",
            "showbackground": true,
            "ticks": "",
            "zerolinecolor": "white"
           },
           "yaxis": {
            "backgroundcolor": "#E5ECF6",
            "gridcolor": "white",
            "gridwidth": 2,
            "linecolor": "white",
            "showbackground": true,
            "ticks": "",
            "zerolinecolor": "white"
           },
           "zaxis": {
            "backgroundcolor": "#E5ECF6",
            "gridcolor": "white",
            "gridwidth": 2,
            "linecolor": "white",
            "showbackground": true,
            "ticks": "",
            "zerolinecolor": "white"
           }
          },
          "shapedefaults": {
           "line": {
            "color": "#2a3f5f"
           }
          },
          "ternary": {
           "aaxis": {
            "gridcolor": "white",
            "linecolor": "white",
            "ticks": ""
           },
           "baxis": {
            "gridcolor": "white",
            "linecolor": "white",
            "ticks": ""
           },
           "bgcolor": "#E5ECF6",
           "caxis": {
            "gridcolor": "white",
            "linecolor": "white",
            "ticks": ""
           }
          },
          "title": {
           "x": 0.05
          },
          "xaxis": {
           "automargin": true,
           "gridcolor": "white",
           "linecolor": "white",
           "ticks": "",
           "title": {
            "standoff": 15
           },
           "zerolinecolor": "white",
           "zerolinewidth": 2
          },
          "yaxis": {
           "automargin": true,
           "gridcolor": "white",
           "linecolor": "white",
           "ticks": "",
           "title": {
            "standoff": 15
           },
           "zerolinecolor": "white",
           "zerolinewidth": 2
          }
         }
        },
        "xaxis": {
         "anchor": "y",
         "autorange": true,
         "domain": [
          0,
          1
         ],
         "range": [
          -0.5,
          21.5
         ],
         "title": {
          "text": "index"
         },
         "type": "category"
        },
        "yaxis": {
         "anchor": "x",
         "autorange": true,
         "domain": [
          0,
          1
         ],
         "range": [
          0,
          128.42105263157896
         ],
         "title": {
          "text": "total_sales"
         },
         "type": "linear"
        }
       }
      },
      "image/png": "[encoded data removed]",
      "text/html": [
       "<div>                            <div id=\"e111a205-90e0-4bbf-b8d6-d460c6b0b2b9\" class=\"plotly-graph-div\" style=\"height:525px; width:100%;\"></div>            <script type=\"text/javascript\">                require([\"plotly\"], function(Plotly) {                    window.PLOTLYENV=window.PLOTLYENV || {};                                    if (document.getElementById(\"e111a205-90e0-4bbf-b8d6-d460c6b0b2b9\")) {                    Plotly.newPlot(                        \"e111a205-90e0-4bbf-b8d6-d460c6b0b2b9\",                        [{\"alignmentgroup\":\"True\",\"hovertemplate\":\"index=%{x}<br>total_sales=%{y}<extra></extra>\",\"legendgroup\":\"\",\"marker\":{\"color\":\"#636efa\",\"pattern\":{\"shape\":\"\"}},\"name\":\"\",\"offsetgroup\":\"\",\"orientation\":\"v\",\"showlegend\":false,\"textposition\":\"auto\",\"x\":[415,167,551,461,213,266,546,359,755,687,226,665,675,783,463,150,201,664,458,629,113,189],\"xaxis\":\"x\",\"y\":[122.0,116.0,111.0,36.0,27.0,24.0,22.0,22.0,20.0,20.0,18.0,17.0,17.0,17.0,16.0,16.0,16.0,16.0,16.0,16.0,16.0,15.0],\"yaxis\":\"y\",\"type\":\"bar\"}],                        {\"template\":{\"data\":{\"histogram2dcontour\":[{\"type\":\"histogram2dcontour\",\"colorbar\":{\"outlinewidth\":0,\"ticks\":\"\"},\"colorscale\":[[0.0,\"#0d0887\"],[0.1111111111111111,\"#46039f\"],[0.2222222222222222,\"#7201a8\"],[0.3333333333333333,\"#9c179e\"],[0.4444444444444444,\"#bd3786\"],[0.5555555555555556,\"#d8576b\"],[0.6666666666666666,\"#ed7953\"],[0.7777777777777778,\"#fb9f3a\"],[0.8888888888888888,\"#fdca26\"],[1.0,\"#f0f921\"]]}],\"choropleth\":[{\"type\":\"choropleth\",\"colorbar\":{\"outlinewidth\":0,\"ticks\":\"\"}}],\"histogram2d\":[{\"type\":\"histogram2d\",\"colorbar\":{\"outlinewidth\":0,\"ticks\":\"\"},\"colorscale\":[[0.0,\"#0d0887\"],[0.1111111111111111,\"#46039f\"],[0.2222222222222222,\"#7201a8\"],[0.3333333333333333,\"#9c179e\"],[0.4444444444444444,\"#bd3786\"],[0.5555555555555556,\"#d8576b\"],[0.6666666666666666,\"#ed7953\"],[0.7777777777777778,\"#fb9f3a\"],[0.8888888888888888,\"#fdca26\"],[1.0,\"#f0f921\"]]}],\"heatmap\":[{\"type\":\"heatmap\",\"colorbar\":{\"outlinewidth\":0,\"ticks\":\"\"},\"colorscale\":[[0.0,\"#0d0887\"],[0.1111111111111111,\"#46039f\"],[0.2222222222222222,\"#7201a8\"],[0.3333333333333333,\"#9c179e\"],[0.4444444444444444,\"#bd3786\"],[0.5555555555555556,\"#d8576b\"],[0.6666666666666666,\"#ed7953\"],[0.7777777777777778,\"#fb9f3a\"],[0.8888888888888888,\"#fdca26\"],[1.0,\"#f0f921\"]]}],\"heatmapgl\":[{\"type\":\"heatmapgl\",\"colorbar\":{\"outlinewidth\":0,\"ticks\":\"\"},\"colorscale\":[[0.0,\"#0d0887\"],[0.1111111111111111,\"#46039f\"],[0.2222222222222222,\"#7201a8\"],[0.3333333333333333,\"#9c179e\"],[0.4444444444444444,\"#bd3786\"],[0.5555555555555556,\"#d8576b\"],[0.6666666666666666,\"#ed7953\"],[0.7777777777777778,\"#fb9f3a\"],[0.8888888888888888,\"#fdca26\"],[1.0,\"#f0f921\"]]}],\"contourcarpet\":[{\"type\":\"contourcarpet\",\"colorbar\":{\"outlinewidth\":0,\"ticks\":\"\"}}],\"contour\":[{\"type\":\"contour\",\"colorbar\":{\"outlinewidth\":0,\"ticks\":\"\"},\"colorscale\":[[0.0,\"#0d0887\"],[0.1111111111111111,\"#46039f\"],[0.2222222222222222,\"#7201a8\"],[0.3333333333333333,\"#9c179e\"],[0.4444444444444444,\"#bd3786\"],[0.5555555555555556,\"#d8576b\"],[0.6666666666666666,\"#ed7953\"],[0.7777777777777778,\"#fb9f3a\"],[0.8888888888888888,\"#fdca26\"],[1.0,\"#f0f921\"]]}],\"surface\":[{\"type\":\"surface\",\"colorbar\":{\"outlinewidth\":0,\"ticks\":\"\"},\"colorscale\":[[0.0,\"#0d0887\"],[0.1111111111111111,\"#46039f\"],[0.2222222222222222,\"#7201a8\"],[0.3333333333333333,\"#9c179e\"],[0.4444444444444444,\"#bd3786\"],[0.5555555555555556,\"#d8576b\"],[0.6666666666666666,\"#ed7953\"],[0.7777777777777778,\"#fb9f3a\"],[0.8888888888888888,\"#fdca26\"],[1.0,\"#f0f921\"]]}],\"mesh3d\":[{\"type\":\"mesh3d\",\"colorbar\":{\"outlinewidth\":0,\"ticks\":\"\"}}],\"scatter\":[{\"fillpattern\":{\"fillmode\":\"overlay\",\"size\":10,\"solidity\":0.2},\"type\":\"scatter\"}],\"parcoords\":[{\"type\":\"parcoords\",\"line\":{\"colorbar\":{\"outlinewidth\":0,\"ticks\":\"\"}}}],\"scatterpolargl\":[{\"type\":\"scatterpolargl\",\"marker\":{\"colorbar\":{\"outlinewidth\":0,\"ticks\":\"\"}}}],\"bar\":[{\"error_x\":{\"color\":\"#2a3f5f\"},\"error_y\":{\"color\":\"#2a3f5f\"},\"marker\":{\"line\":{\"color\":\"#E5ECF6\",\"width\":0.5},\"pattern\":{\"fillmode\":\"overlay\",\"size\":10,\"solidity\":0.2}},\"type\":\"bar\"}],\"scattergeo\":[{\"type\":\"scattergeo\",\"marker\":{\"colorbar\":{\"outlinewidth\":0,\"ticks\":\"\"}}}],\"scatterpolar\":[{\"type\":\"scatterpolar\",\"marker\":{\"colorbar\":{\"outlinewidth\":0,\"ticks\":\"\"}}}],\"histogram\":[{\"marker\":{\"pattern\":{\"fillmode\":\"overlay\",\"size\":10,\"solidity\":0.2}},\"type\":\"histogram\"}],\"scattergl\":[{\"type\":\"scattergl\",\"marker\":{\"colorbar\":{\"outlinewidth\":0,\"ticks\":\"\"}}}],\"scatter3d\":[{\"type\":\"scatter3d\",\"line\":{\"colorbar\":{\"outlinewidth\":0,\"ticks\":\"\"}},\"marker\":{\"colorbar\":{\"outlinewidth\":0,\"ticks\":\"\"}}}],\"scattermapbox\":[{\"type\":\"scattermapbox\",\"marker\":{\"colorbar\":{\"outlinewidth\":0,\"ticks\":\"\"}}}],\"scatterternary\":[{\"type\":\"scatterternary\",\"marker\":{\"colorbar\":{\"outlinewidth\":0,\"ticks\":\"\"}}}],\"scattercarpet\":[{\"type\":\"scattercarpet\",\"marker\":{\"colorbar\":{\"outlinewidth\":0,\"ticks\":\"\"}}}],\"carpet\":[{\"aaxis\":{\"endlinecolor\":\"#2a3f5f\",\"gridcolor\":\"white\",\"linecolor\":\"white\",\"minorgridcolor\":\"white\",\"startlinecolor\":\"#2a3f5f\"},\"baxis\":{\"endlinecolor\":\"#2a3f5f\",\"gridcolor\":\"white\",\"linecolor\":\"white\",\"minorgridcolor\":\"white\",\"startlinecolor\":\"#2a3f5f\"},\"type\":\"carpet\"}],\"table\":[{\"cells\":{\"fill\":{\"color\":\"#EBF0F8\"},\"line\":{\"color\":\"white\"}},\"header\":{\"fill\":{\"color\":\"#C8D4E3\"},\"line\":{\"color\":\"white\"}},\"type\":\"table\"}],\"barpolar\":[{\"marker\":{\"line\":{\"color\":\"#E5ECF6\",\"width\":0.5},\"pattern\":{\"fillmode\":\"overlay\",\"size\":10,\"solidity\":0.2}},\"type\":\"barpolar\"}],\"pie\":[{\"automargin\":true,\"type\":\"pie\"}]},\"layout\":{\"autotypenumbers\":\"strict\",\"colorway\":[\"#636efa\",\"#EF553B\",\"#00cc96\",\"#ab63fa\",\"#FFA15A\",\"#19d3f3\",\"#FF6692\",\"#B6E880\",\"#FF97FF\",\"#FECB52\"],\"font\":{\"color\":\"#2a3f5f\"},\"hovermode\":\"closest\",\"hoverlabel\":{\"align\":\"left\"},\"paper_bgcolor\":\"white\",\"plot_bgcolor\":\"#E5ECF6\",\"polar\":{\"bgcolor\":\"#E5ECF6\",\"angularaxis\":{\"gridcolor\":\"white\",\"linecolor\":\"white\",\"ticks\":\"\"},\"radialaxis\":{\"gridcolor\":\"white\",\"linecolor\":\"white\",\"ticks\":\"\"}},\"ternary\":{\"bgcolor\":\"#E5ECF6\",\"aaxis\":{\"gridcolor\":\"white\",\"linecolor\":\"white\",\"ticks\":\"\"},\"baxis\":{\"gridcolor\":\"white\",\"linecolor\":\"white\",\"ticks\":\"\"},\"caxis\":{\"gridcolor\":\"white\",\"linecolor\":\"white\",\"ticks\":\"\"}},\"coloraxis\":{\"colorbar\":{\"outlinewidth\":0,\"ticks\":\"\"}},\"colorscale\":{\"sequential\":[[0.0,\"#0d0887\"],[0.1111111111111111,\"#46039f\"],[0.2222222222222222,\"#7201a8\"],[0.3333333333333333,\"#9c179e\"],[0.4444444444444444,\"#bd3786\"],[0.5555555555555556,\"#d8576b\"],[0.6666666666666666,\"#ed7953\"],[0.7777777777777778,\"#fb9f3a\"],[0.8888888888888888,\"#fdca26\"],[1.0,\"#f0f921\"]],\"sequentialminus\":[[0.0,\"#0d0887\"],[0.1111111111111111,\"#46039f\"],[0.2222222222222222,\"#7201a8\"],[0.3333333333333333,\"#9c179e\"],[0.4444444444444444,\"#bd3786\"],[0.5555555555555556,\"#d8576b\"],[0.6666666666666666,\"#ed7953\"],[0.7777777777777778,\"#fb9f3a\"],[0.8888888888888888,\"#fdca26\"],[1.0,\"#f0f921\"]],\"diverging\":[[0,\"#8e0152\"],[0.1,\"#c51b7d\"],[0.2,\"#de77ae\"],[0.3,\"#f1b6da\"],[0.4,\"#fde0ef\"],[0.5,\"#f7f7f7\"],[0.6,\"#e6f5d0\"],[0.7,\"#b8e186\"],[0.8,\"#7fbc41\"],[0.9,\"#4d9221\"],[1,\"#276419\"]]},\"xaxis\":{\"gridcolor\":\"white\",\"linecolor\":\"white\",\"ticks\":\"\",\"title\":{\"standoff\":15},\"zerolinecolor\":\"white\",\"automargin\":true,\"zerolinewidth\":2},\"yaxis\":{\"gridcolor\":\"white\",\"linecolor\":\"white\",\"ticks\":\"\",\"title\":{\"standoff\":15},\"zerolinecolor\":\"white\",\"automargin\":true,\"zerolinewidth\":2},\"scene\":{\"xaxis\":{\"backgroundcolor\":\"#E5ECF6\",\"gridcolor\":\"white\",\"linecolor\":\"white\",\"showbackground\":true,\"ticks\":\"\",\"zerolinecolor\":\"white\",\"gridwidth\":2},\"yaxis\":{\"backgroundcolor\":\"#E5ECF6\",\"gridcolor\":\"white\",\"linecolor\":\"white\",\"showbackground\":true,\"ticks\":\"\",\"zerolinecolor\":\"white\",\"gridwidth\":2},\"zaxis\":{\"backgroundcolor\":\"#E5ECF6\",\"gridcolor\":\"white\",\"linecolor\":\"white\",\"showbackground\":true,\"ticks\":\"\",\"zerolinecolor\":\"white\",\"gridwidth\":2}},\"shapedefaults\":{\"line\":{\"color\":\"#2a3f5f\"}},\"annotationdefaults\":{\"arrowcolor\":\"#2a3f5f\",\"arrowhead\":0,\"arrowwidth\":1},\"geo\":{\"bgcolor\":\"white\",\"landcolor\":\"#E5ECF6\",\"subunitcolor\":\"white\",\"showland\":true,\"showlakes\":true,\"lakecolor\":\"white\"},\"title\":{\"x\":0.05},\"mapbox\":{\"style\":\"light\"}}},\"xaxis\":{\"anchor\":\"y\",\"domain\":[0.0,1.0],\"title\":{\"text\":\"index\"},\"type\":\"category\"},\"yaxis\":{\"anchor\":\"x\",\"domain\":[0.0,1.0],\"title\":{\"text\":\"total_sales\"}},\"legend\":{\"tracegroupgap\":0},\"margin\":{\"t\":60},\"barmode\":\"relative\"},                        {\"responsive\": true}                    ).then(function(){\n",
       "                            \n",
       "var gd = document.getElementById('e111a205-90e0-4bbf-b8d6-d460c6b0b2b9');\n",
       "var x = new MutationObserver(function (mutations, observer) {{\n",
       "        var display = window.getComputedStyle(gd).display;\n",
       "        if (!display || display === 'none') {{\n",
       "            console.log([gd, 'removed!']);\n",
       "            Plotly.purge(gd);\n",
       "            observer.disconnect();\n",
       "        }}\n",
       "}});\n",
       "\n",
       "// Listen for the removal of the full notebook cells\n",
       "var notebookContainer = gd.closest('#notebook-container');\n",
       "if (notebookContainer) {{\n",
       "    x.observe(notebookContainer, {childList: true});\n",
       "}}\n",
       "\n",
       "// Listen for the clearing of the current output cell\n",
       "var outputEl = gd.closest('.output');\n",
       "if (outputEl) {{\n",
       "    x.observe(outputEl, {childList: true});\n",
       "}}\n",
       "\n",
       "                        })                };                });            </script>        </div>"
      ]
     },
     "metadata": {},
     "output_type": "display_data"
    }
   ],
   "source": [
    "#####################################\n",
    "# Palmares des articles en quantité #\n",
    "#####################################\n",
    "\n",
    "#Effectuer le tri dans l'ordre décroissant de quantités vendues du dataset df_merge\n",
    "df_merge = df_merge.sort_values('total_sales', ascending=False)\n",
    "#Réinitialiser l'index du dataset par un reset_index\n",
    "df_merge.reset_index()\n",
    "#Afficher les 20 premier articles en quantité\n",
    "print(df_merge.sort_values('total_sales', ascending=False).iloc[0:2+20][['product_id','total_sales']])\n",
    "#Graphique en barre des 20 premiers articles avec plotly express\n",
    "stock_quantity = df_merge.sort_values('total_sales', ascending=False).iloc[0:2+20][['product_id','total_sales']]\n",
    "fig = px.bar(stock_quantity, y='total_sales')\n",
    "fig.update_xaxes(type='category')\n",
    "fig.show()"
   ]
  },
  {
   "cell_type": "code",
   "execution_count": 630,
   "id": "2aad021e",
   "metadata": {},
   "outputs": [
    {
     "name": "stdout",
     "output_type": "stream",
     "text": [
      "     product_id  stock_quantity  total_stock  quantity_percentage  \\\n",
      "290        4350             145        17822             0.008136   \n",
      "286        4334             142        17822             0.007968   \n",
      "538        5025             136        17822             0.007631   \n",
      "292        4353             127        17822             0.007126   \n",
      "654        5761             125        17822             0.007014   \n",
      "167        4150             123        17822             0.006902   \n",
      "160        4141             123        17822             0.006902   \n",
      "461        4867             121        17822             0.006789   \n",
      "297        4359             112        17822             0.006284   \n",
      "537        5024             103        17822             0.005779   \n",
      "539        5026             101        17822             0.005667   \n",
      "164        4147             100        17822             0.005611   \n",
      "514        4970             100        17822             0.005611   \n",
      "692        5892              98        17822             0.005499   \n",
      "163        4146              86        17822             0.004825   \n",
      "296        4358              81        17822             0.004545   \n",
      "541        5047              76        17822             0.004264   \n",
      "213        4203              74        17822             0.004152   \n",
      "287        4336              73        17822             0.004096   \n",
      "755        6129              68        17822             0.003816   \n",
      "266        4275              62        17822             0.003479   \n",
      "783        6569              58        17822             0.003254   \n",
      "458        4863              54        17822             0.003030   \n",
      "284        4306              52        17822             0.002918   \n",
      "740        6093              51        17822             0.002862   \n",
      "201        4188              51        17822             0.002862   \n",
      "176        4159              51        17822             0.002862   \n",
      "664        5777              51        17822             0.002862   \n",
      "214        4204              50        17822             0.002806   \n",
      "795        6618              49        17822             0.002749   \n",
      "189        4173              49        17822             0.002749   \n",
      "460        4865              48        17822             0.002693   \n",
      "226        4220              48        17822             0.002693   \n",
      "254        4261              48        17822             0.002693   \n",
      "431        4755              47        17822             0.002637   \n",
      "675        5803              47        17822             0.002637   \n",
      "564        5439              46        17822             0.002581   \n",
      "150        4105              45        17822             0.002525   \n",
      "754        6128              45        17822             0.002525   \n",
      "535        5019              45        17822             0.002525   \n",
      "283        4304              45        17822             0.002525   \n",
      "228        4222              45        17822             0.002525   \n",
      "359        4647              45        17822             0.002525   \n",
      "721        5958              44        17822             0.002469   \n",
      "173        4156              44        17822             0.002469   \n",
      "665        5778              44        17822             0.002469   \n",
      "197        4182              43        17822             0.002413   \n",
      "196        4181              43        17822             0.002413   \n",
      "255        4262              43        17822             0.002413   \n",
      "389        4683              43        17822             0.002413   \n",
      "190        4174              43        17822             0.002413   \n",
      "227        4221              42        17822             0.002357   \n",
      "435        4776              42        17822             0.002357   \n",
      "420        4731              42        17822             0.002357   \n",
      "14         4050              42        17822             0.002357   \n",
      "140        4095              42        17822             0.002357   \n",
      "810        6738              42        17822             0.002357   \n",
      "569        5448              42        17822             0.002357   \n",
      "229        4223              42        17822             0.002357   \n",
      "395        4703              42        17822             0.002357   \n",
      "511        4963              41        17822             0.002301   \n",
      "237        4235              41        17822             0.002301   \n",
      "549        5375              41        17822             0.002301   \n",
      "332        4607              41        17822             0.002301   \n",
      "495        4926              40        17822             0.002244   \n",
      "824        7338              40        17822             0.002244   \n",
      "566        5444              40        17822             0.002244   \n",
      "533        5016              40        17822             0.002244   \n",
      "144        4099              40        17822             0.002244   \n",
      "723        5960              40        17822             0.002244   \n",
      "333        4609              40        17822             0.002244   \n",
      "508        4940              39        17822             0.002188   \n",
      "242        4244              39        17822             0.002188   \n",
      "677        5806              39        17822             0.002188   \n",
      "496        4927              39        17822             0.002188   \n",
      "112        4058              39        17822             0.002188   \n",
      "372        4665              39        17822             0.002188   \n",
      "550        5377              39        17822             0.002188   \n",
      "776        6280              38        17822             0.002132   \n",
      "421        4733              38        17822             0.002132   \n",
      "760        6205              38        17822             0.002132   \n",
      "245        4248              38        17822             0.002132   \n",
      "110        4056              38        17822             0.002132   \n",
      "494        4925              38        17822             0.002132   \n",
      "427        4749              38        17822             0.002132   \n",
      "702        5906              38        17822             0.002132   \n",
      "642        5722              38        17822             0.002132   \n",
      "573        5479              38        17822             0.002132   \n",
      "393        4689              38        17822             0.002132   \n",
      "236        4232              37        17822             0.002076   \n",
      "285        4307              37        17822             0.002076   \n",
      "269        4280              37        17822             0.002076   \n",
      "345        4621              36        17822             0.002020   \n",
      "177        4160              36        17822             0.002020   \n",
      "178        4161              36        17822             0.002020   \n",
      "456        4861              36        17822             0.002020   \n",
      "437        4779              36        17822             0.002020   \n",
      "174        4157              36        17822             0.002020   \n",
      "378        4672              36        17822             0.002020   \n",
      "175        4158              36        17822             0.002020   \n",
      "696        5899              35        17822             0.001964   \n",
      "586        5519              35        17822             0.001964   \n",
      "634        5704              35        17822             0.001964   \n",
      "128        4075              35        17822             0.001964   \n",
      "426        4748              35        17822             0.001964   \n",
      "457        4862              35        17822             0.001964   \n",
      "409        4718              35        17822             0.001964   \n",
      "433        4758              35        17822             0.001964   \n",
      "142        4097              35        17822             0.001964   \n",
      "386        4680              35        17822             0.001964   \n",
      "217        4208              35        17822             0.001964   \n",
      "223        4216              35        17822             0.001964   \n",
      "149        4104              35        17822             0.001964   \n",
      "334        4610              34        17822             0.001908   \n",
      "483        4912              34        17822             0.001908   \n",
      "500        4931              34        17822             0.001908   \n",
      "674        5802              34        17822             0.001908   \n",
      "205        4193              34        17822             0.001908   \n",
      "113        4059              34        17822             0.001908   \n",
      "687        5826              34        17822             0.001908   \n",
      "388        4682              34        17822             0.001908   \n",
      "725        5963              34        17822             0.001908   \n",
      "557        5391              34        17822             0.001908   \n",
      "130        4077              34        17822             0.001908   \n",
      "277        4297              33        17822             0.001852   \n",
      "116        4063              33        17822             0.001852   \n",
      "629        5695              33        17822             0.001852   \n",
      "793        6616              33        17822             0.001852   \n",
      "387        4681              33        17822             0.001852   \n",
      "172        4155              33        17822             0.001852   \n",
      "794        6617              33        17822             0.001852   \n",
      "551        5379              33        17822             0.001852   \n",
      "210        4200              33        17822             0.001852   \n",
      "204        4192              32        17822             0.001796   \n",
      "719        5956              32        17822             0.001796   \n",
      "565        5443              32        17822             0.001796   \n",
      "385        4679              32        17822             0.001796   \n",
      "679        5809              32        17822             0.001796   \n",
      "443        4786              32        17822             0.001796   \n",
      "123        4070              32        17822             0.001796   \n",
      "643        5736              32        17822             0.001796   \n",
      "117        4064              32        17822             0.001796   \n",
      "479        4907              32        17822             0.001796   \n",
      "451        4795              32        17822             0.001796   \n",
      "753        6127              32        17822             0.001796   \n",
      "506        4938              32        17822             0.001796   \n",
      "438        4780              32        17822             0.001796   \n",
      "129        4076              32        17822             0.001796   \n",
      "208        4197              32        17822             0.001796   \n",
      "407        4716              32        17822             0.001796   \n",
      "187        4171              32        17822             0.001796   \n",
      "682        5816              32        17822             0.001796   \n",
      "247        4251              31        17822             0.001739   \n",
      "651        5753              31        17822             0.001739   \n",
      "188        4172              31        17822             0.001739   \n",
      "171        4154              31        17822             0.001739   \n",
      "576        5483              31        17822             0.001739   \n",
      "518        4977              31        17822             0.001739   \n",
      "742        6095              31        17822             0.001739   \n",
      "419        4730              31        17822             0.001739   \n",
      "381        4675              31        17822             0.001739   \n",
      "424        4740              31        17822             0.001739   \n",
      "179        4162              31        17822             0.001739   \n",
      "726        5964              31        17822             0.001739   \n",
      "384        4678              31        17822             0.001739   \n",
      "411        4720              31        17822             0.001739   \n",
      "253        4260              31        17822             0.001739   \n",
      "270        4281              30        17822             0.001683   \n",
      "137        4086              30        17822             0.001683   \n",
      "216        4207              30        17822             0.001683   \n",
      "396        4704              30        17822             0.001683   \n",
      "471        4892              30        17822             0.001683   \n",
      "127        4074              30        17822             0.001683   \n",
      "241        4242              30        17822             0.001683   \n",
      "376        4670              30        17822             0.001683   \n",
      "203        4191              30        17822             0.001683   \n",
      "148        4103              30        17822             0.001683   \n",
      "666        5779              30        17822             0.001683   \n",
      "553        5382              30        17822             0.001683   \n",
      "737        6070              30        17822             0.001683   \n",
      "735        6049              30        17822             0.001683   \n",
      "115        4062              30        17822             0.001683   \n",
      "423        4739              30        17822             0.001683   \n",
      "170        4153              30        17822             0.001683   \n",
      "233        4228              30        17822             0.001683   \n",
      "739        6073              29        17822             0.001627   \n",
      "111        4057              29        17822             0.001627   \n",
      "769        6222              29        17822             0.001627   \n",
      "244        4246              29        17822             0.001627   \n",
      "627        5693              29        17822             0.001627   \n",
      "690        5890              29        17822             0.001627   \n",
      "448        4792              29        17822             0.001627   \n",
      "791        6592              29        17822             0.001627   \n",
      "499        4930              29        17822             0.001627   \n",
      "206        4194              29        17822             0.001627   \n",
      "335        4611              29        17822             0.001627   \n",
      "670        5797              29        17822             0.001627   \n",
      "613        5610              29        17822             0.001627   \n",
      "114        4060              29        17822             0.001627   \n",
      "455        4860              29        17822             0.001627   \n",
      "559        5394              29        17822             0.001627   \n",
      "790        6585              29        17822             0.001627   \n",
      "239        4240              29        17822             0.001627   \n",
      "694        5894              29        17822             0.001627   \n",
      "734        6047              29        17822             0.001627   \n",
      "199        4186              29        17822             0.001627   \n",
      "624        5629              28        17822             0.001571   \n",
      "497        4928              28        17822             0.001571   \n",
      "819        6930              28        17822             0.001571   \n",
      "382        4676              28        17822             0.001571   \n",
      "181        4164              28        17822             0.001571   \n",
      "344        4620              28        17822             0.001571   \n",
      "503        4934              28        17822             0.001571   \n",
      "234        4229              28        17822             0.001571   \n",
      "261        4269              28        17822             0.001571   \n",
      "316        4564              28        17822             0.001571   \n",
      "486        4915              28        17822             0.001571   \n",
      "268        4277              28        17822             0.001571   \n",
      "781        6567              28        17822             0.001571   \n",
      "616        5613              28        17822             0.001571   \n",
      "377        4671              28        17822             0.001571   \n",
      "192        4177              28        17822             0.001571   \n",
      "186        4170              28        17822             0.001571   \n",
      "568        5446              28        17822             0.001571   \n",
      "390        4684              28        17822             0.001571   \n",
      "243        4245              27        17822             0.001515   \n",
      "258        4265              27        17822             0.001515   \n",
      "700        5904              27        17822             0.001515   \n",
      "447        4791              27        17822             0.001515   \n",
      "445        4789              27        17822             0.001515   \n",
      "422        4734              27        17822             0.001515   \n",
      "119        4066              27        17822             0.001515   \n",
      "238        4239              27        17822             0.001515   \n",
      "542        5056              27        17822             0.001515   \n",
      "552        5380              27        17822             0.001515   \n",
      "680        5810              27        17822             0.001515   \n",
      "202        4190              27        17822             0.001515   \n",
      "136        4085              27        17822             0.001515   \n",
      "403        4712              27        17822             0.001515   \n",
      "358        4646              27        17822             0.001515   \n",
      "231        4225              27        17822             0.001515   \n",
      "524        5000              26        17822             0.001459   \n",
      "771        6225              26        17822             0.001459   \n",
      "182        4165              26        17822             0.001459   \n",
      "200        4187              26        17822             0.001459   \n",
      "498        4929              26        17822             0.001459   \n",
      "636        5706              26        17822             0.001459   \n",
      "681        5815              26        17822             0.001459   \n",
      "505        4937              26        17822             0.001459   \n",
      "259        4267              26        17822             0.001459   \n",
      "275        4288              26        17822             0.001459   \n",
      "180        4163              26        17822             0.001459   \n",
      "772        6226              26        17822             0.001459   \n",
      "434        4759              26        17822             0.001459   \n",
      "264        4272              26        17822             0.001459   \n",
      "405        4714              26        17822             0.001459   \n",
      "3          4032              26        17822             0.001459   \n",
      "418        4729              26        17822             0.001459   \n",
      "504        4936              25        17822             0.001403   \n",
      "644        5737              25        17822             0.001403   \n",
      "13         4049              25        17822             0.001403   \n",
      "628        5694              25        17822             0.001403   \n",
      "575        5481              25        17822             0.001403   \n",
      "121        4068              25        17822             0.001403   \n",
      "733        6042              25        17822             0.001403   \n",
      "404        4713              25        17822             0.001403   \n",
      "676        5804              25        17822             0.001403   \n",
      "225        4219              25        17822             0.001403   \n",
      "577        5484              25        17822             0.001403   \n",
      "383        4677              25        17822             0.001403   \n",
      "151        4106              24        17822             0.001347   \n",
      "502        4933              24        17822             0.001347   \n",
      "585        5506              24        17822             0.001347   \n",
      "373        4666              24        17822             0.001347   \n",
      "428        4750              24        17822             0.001347   \n",
      "513        4965              24        17822             0.001347   \n",
      "246        4250              24        17822             0.001347   \n",
      "562        5397              24        17822             0.001347   \n",
      "380        4674              24        17822             0.001347   \n",
      "774        6278              24        17822             0.001347   \n",
      "560        5395              24        17822             0.001347   \n",
      "326        4601              24        17822             0.001347   \n",
      "232        4227              24        17822             0.001347   \n",
      "630        5696              24        17822             0.001347   \n",
      "741        6094              24        17822             0.001347   \n",
      "485        4914              24        17822             0.001347   \n",
      "12         4048              24        17822             0.001347   \n",
      "722        5959              24        17822             0.001347   \n",
      "691        5891              24        17822             0.001347   \n",
      "493        4924              24        17822             0.001347   \n",
      "653        5760              24        17822             0.001347   \n",
      "519        4978              23        17822             0.001291   \n",
      "484        4913              23        17822             0.001291   \n",
      "510        4962              23        17822             0.001291   \n",
      "482        4910              23        17822             0.001291   \n",
      "198        4183              23        17822             0.001291   \n",
      "391        4686              23        17822             0.001291   \n",
      "453        4799              23        17822             0.001291   \n",
      "338        4614              23        17822             0.001291   \n",
      "635        5705              23        17822             0.001291   \n",
      "509        4954              23        17822             0.001291   \n",
      "429        4752              23        17822             0.001291   \n",
      "135        4084              23        17822             0.001291   \n",
      "168        4151              23        17822             0.001291   \n",
      "507        4939              23        17822             0.001291   \n",
      "430        4753              23        17822             0.001291   \n",
      "410        4719              23        17822             0.001291   \n",
      "512        4964              23        17822             0.001291   \n",
      "695        5896              23        17822             0.001291   \n",
      "625        5630              23        17822             0.001291   \n",
      "337        4613              23        17822             0.001291   \n",
      "406        4715              23        17822             0.001291   \n",
      "574        5480              23        17822             0.001291   \n",
      "315        4558              23        17822             0.001291   \n",
      "633        5703              23        17822             0.001291   \n",
      "394        4690              23        17822             0.001291   \n",
      "820        7023              23        17822             0.001291   \n",
      "556        5389              23        17822             0.001291   \n",
      "591        5525              23        17822             0.001291   \n",
      "639        5711              23        17822             0.001291   \n",
      "263        4271              23        17822             0.001291   \n",
      "262        4270              22        17822             0.001234   \n",
      "789        6584              22        17822             0.001234   \n",
      "768        6221              22        17822             0.001234   \n",
      "762        6207              22        17822             0.001234   \n",
      "235        4231              22        17822             0.001234   \n",
      "446        4790              22        17822             0.001234   \n",
      "120        4067              22        17822             0.001234   \n",
      "779        6325              22        17822             0.001234   \n",
      "360        4648              22        17822             0.001234   \n",
      "608        5573              22        17822             0.001234   \n",
      "673        5801              22        17822             0.001234   \n",
      "472        4893              21        17822             0.001178   \n",
      "669        5796              21        17822             0.001178   \n",
      "375        4669              21        17822             0.001178   \n",
      "146        4101              21        17822             0.001178   \n",
      "697        5900              21        17822             0.001178   \n",
      "441        4784              21        17822             0.001178   \n",
      "399        4707              21        17822             0.001178   \n",
      "374        4668              21        17822             0.001178   \n",
      "134        4083              21        17822             0.001178   \n",
      "230        4224              21        17822             0.001178   \n",
      "185        4168              21        17822             0.001178   \n",
      "432        4757              21        17822             0.001178   \n",
      "193        4178              21        17822             0.001178   \n",
      "655        5764              20        17822             0.001122   \n",
      "222        4215              20        17822             0.001122   \n",
      "436        4778              20        17822             0.001122   \n",
      "362        4650              20        17822             0.001122   \n",
      "183        4166              20        17822             0.001122   \n",
      "249        4254              20        17822             0.001122   \n",
      "371        4664              20        17822             0.001122   \n",
      "139        4094              20        17822             0.001122   \n",
      "408        4717              20        17822             0.001122   \n",
      "442        4785              20        17822             0.001122   \n",
      "281        4301              19        17822             0.001066   \n",
      "195        4180              19        17822             0.001066   \n",
      "660        5770              19        17822             0.001066   \n",
      "124        4071              19        17822             0.001066   \n",
      "784        6570              19        17822             0.001066   \n",
      "583        5504              19        17822             0.001066   \n",
      "317        4566              19        17822             0.001066   \n",
      "516        4975              19        17822             0.001066   \n",
      "469        4890              19        17822             0.001066   \n",
      "439        4782              19        17822             0.001066   \n",
      "412        4722              18        17822             0.001010   \n",
      "567        5445              18        17822             0.001010   \n",
      "191        4176              18        17822             0.001010   \n",
      "582        5491              18        17822             0.001010   \n",
      "157        4137              18        17822             0.001010   \n",
      "572        5477              18        17822             0.001010   \n",
      "473        4899              18        17822             0.001010   \n",
      "361        4649              18        17822             0.001010   \n",
      "256        4263              18        17822             0.001010   \n",
      "594        5546              18        17822             0.001010   \n",
      "520        4980              18        17822             0.001010   \n",
      "467        4888              17        17822             0.000954   \n",
      "267        4276              17        17822             0.000954   \n",
      "617        5614              17        17822             0.000954   \n",
      "278        4298              17        17822             0.000954   \n",
      "751        6109              17        17822             0.000954   \n",
      "759        6204              17        17822             0.000954   \n",
      "143        4098              17        17822             0.000954   \n",
      "475        4901              17        17822             0.000954   \n",
      "763        6212              16        17822             0.000898   \n",
      "603        5563              16        17822             0.000898   \n",
      "780        6328              16        17822             0.000898   \n",
      "489        4920              16        17822             0.000898   \n",
      "668        5795              16        17822             0.000898   \n",
      "468        4889              16        17822             0.000898   \n",
      "147        4102              16        17822             0.000898   \n",
      "184        4167              16        17822             0.000898   \n",
      "807        6664              16        17822             0.000898   \n",
      "251        4257              16        17822             0.000898   \n",
      "155        4130              16        17822             0.000898   \n",
      "339        4615              16        17822             0.000898   \n",
      "440        4783              16        17822             0.000898   \n",
      "798        6622              16        17822             0.000898   \n",
      "257        4264              16        17822             0.000898   \n",
      "761        6206              16        17822             0.000898   \n",
      "641        5715              15        17822             0.000842   \n",
      "476        4902              15        17822             0.000842   \n",
      "711        5925              15        17822             0.000842   \n",
      "138        4087              15        17822             0.000842   \n",
      "282        4303              15        17822             0.000842   \n",
      "260        4268              15        17822             0.000842   \n",
      "449        4793              15        17822             0.000842   \n",
      "818        6928              15        17822             0.000842   \n",
      "487        4918              15        17822             0.000842   \n",
      "325        4600              15        17822             0.000842   \n",
      "645        5738              15        17822             0.000842   \n",
      "312        4405              15        17822             0.000842   \n",
      "7          4042              15        17822             0.000842   \n",
      "481        4909              14        17822             0.000786   \n",
      "614        5611              14        17822             0.000786   \n",
      "703        5907              14        17822             0.000786   \n",
      "365        4654              14        17822             0.000786   \n",
      "450        4794              14        17822             0.000786   \n",
      "578        5485              14        17822             0.000786   \n",
      "548        5069              14        17822             0.000786   \n",
      "169        4152              14        17822             0.000786   \n",
      "561        5396              14        17822             0.000786   \n",
      "730        6035              13        17822             0.000729   \n",
      "414        4725              13        17822             0.000729   \n",
      "367        4656              13        17822             0.000729   \n",
      "370        4662              13        17822             0.000729   \n",
      "153        4108              13        17822             0.000729   \n",
      "593        5545              13        17822             0.000729   \n",
      "600        5554              13        17822             0.000729   \n",
      "5          4040              12        17822             0.000673   \n",
      "252        4258              12        17822             0.000673   \n",
      "356        4635              12        17822             0.000673   \n",
      "587        5520              12        17822             0.000673   \n",
      "531        5008              12        17822             0.000673   \n",
      "785        6572              12        17822             0.000673   \n",
      "817        6926              12        17822             0.000673   \n",
      "319        4573              12        17822             0.000673   \n",
      "220        4212              12        17822             0.000673   \n",
      "544        5062              12        17822             0.000673   \n",
      "308        4400              12        17822             0.000673   \n",
      "570        5465              12        17822             0.000673   \n",
      "792        6615              12        17822             0.000673   \n",
      "6          4041              12        17822             0.000673   \n",
      "732        6041              11        17822             0.000617   \n",
      "611        5608              11        17822             0.000617   \n",
      "571        5474              11        17822             0.000617   \n",
      "521        4994              11        17822             0.000617   \n",
      "773        6227              11        17822             0.000617   \n",
      "799        6626              11        17822             0.000617   \n",
      "211        4201              11        17822             0.000617   \n",
      "796        6620              11        17822             0.000617   \n",
      "279        4299              10        17822             0.000561   \n",
      "306        4398              10        17822             0.000561   \n",
      "775        6279              10        17822             0.000561   \n",
      "221        4213              10        17822             0.000561   \n",
      "1          3849              10        17822             0.000561   \n",
      "307        4399              10        17822             0.000561   \n",
      "803        6631              10        17822             0.000561   \n",
      "698        5902              10        17822             0.000561   \n",
      "729        5969              10        17822             0.000561   \n",
      "392        4687              10        17822             0.000561   \n",
      "604        5564              10        17822             0.000561   \n",
      "340        4616              10        17822             0.000561   \n",
      "626        5690               9        17822             0.000505   \n",
      "330        4605               9        17822             0.000505   \n",
      "816        6920               9        17822             0.000505   \n",
      "663        5773               9        17822             0.000505   \n",
      "397        4705               9        17822             0.000505   \n",
      "353        4632               9        17822             0.000505   \n",
      "303        4395               9        17822             0.000505   \n",
      "765        6214               9        17822             0.000505   \n",
      "274        4287               8        17822             0.000449   \n",
      "364        4653               8        17822             0.000449   \n",
      "602        5561               8        17822             0.000449   \n",
      "328        4603               8        17822             0.000449   \n",
      "756        6137               7        17822             0.000393   \n",
      "745        6103               7        17822             0.000393   \n",
      "363        4651               7        17822             0.000393   \n",
      "686        5820               7        17822             0.000393   \n",
      "401        4709               7        17822             0.000393   \n",
      "705        5913               7        17822             0.000393   \n",
      "811        6751               7        17822             0.000393   \n",
      "809        6666               7        17822             0.000393   \n",
      "366        4655               7        17822             0.000393   \n",
      "701        5905               6        17822             0.000337   \n",
      "806        6663               6        17822             0.000337   \n",
      "546        5067               3        17822             0.000168   \n",
      "398        4706               0        17822             0.000000   \n",
      "250        4256               0        17822             0.000000   \n",
      "463        4870               0        17822             0.000000   \n",
      "240        4241               0        17822             0.000000   \n",
      "712        5930               0        17822             0.000000   \n",
      "291        4352               0        17822             0.000000   \n",
      "465        4885               0        17822             0.000000   \n",
      "194        4179               0        17822             0.000000   \n",
      "580        5487               0        17822             0.000000   \n",
      "620        5617               0        17822             0.000000   \n",
      "271        4283               0        17822             0.000000   \n",
      "265        4274               0        17822             0.000000   \n",
      "517        4976               0        17822             0.000000   \n",
      "632        5700               0        17822             0.000000   \n",
      "415        4726               0        17822             0.000000   \n",
      "\n",
      "     cumsum_quantity_percentage  \n",
      "290                    0.713949  \n",
      "286                    0.726069  \n",
      "538                    0.792167  \n",
      "292                    0.132645  \n",
      "654                    0.410167  \n",
      "167                    0.006902  \n",
      "160                    0.624060  \n",
      "461                    0.015543  \n",
      "297                    0.734710  \n",
      "537                    0.769162  \n",
      "539                    0.557064  \n",
      "164                    0.632196  \n",
      "514                    0.782628  \n",
      "692                    0.760072  \n",
      "163                    0.797385  \n",
      "296                    0.596342  \n",
      "541                    0.642464  \n",
      "213                    0.019695  \n",
      "287                    0.773258  \n",
      "755                    0.031590  \n",
      "266                    0.023174  \n",
      "783                    0.042644  \n",
      "458                    0.052295  \n",
      "284                    0.097015  \n",
      "740                    0.089272  \n",
      "201                    0.055157  \n",
      "176                    0.067501  \n",
      "664                    0.045506  \n",
      "214                    0.072551  \n",
      "795                    0.115644  \n",
      "189                    0.080070  \n",
      "460                    0.086410  \n",
      "226                    0.034283  \n",
      "254                    0.062395  \n",
      "431                    0.119964  \n",
      "675                    0.039390  \n",
      "564                    0.101840  \n",
      "150                    0.057682  \n",
      "754                    0.138873  \n",
      "535                    0.163562  \n",
      "283                    0.104365  \n",
      "228                    0.110650  \n",
      "359                    0.025867  \n",
      "721                    0.091741  \n",
      "173                    0.171754  \n",
      "665                    0.036752  \n",
      "197                    0.212154  \n",
      "196                    0.184323  \n",
      "255                    0.151498  \n",
      "389                    0.077320  \n",
      "190                    0.144989  \n",
      "227                    0.188419  \n",
      "435                    0.281955  \n",
      "420                    0.220458  \n",
      "14                     0.227752  \n",
      "140                    0.216306  \n",
      "810                    0.279598  \n",
      "569                    0.094097  \n",
      "229                    0.074907  \n",
      "395                    0.255807  \n",
      "511                    0.194928  \n",
      "237                    0.197228  \n",
      "549                    0.284255  \n",
      "332                    0.309617  \n",
      "495                    0.064639  \n",
      "824                    0.199473  \n",
      "566                    0.161037  \n",
      "533                    0.069745  \n",
      "144                    0.099259  \n",
      "723                    0.239367  \n",
      "333                    0.112894  \n",
      "508                    0.263270  \n",
      "242                    0.134833  \n",
      "677                    0.190607  \n",
      "496                    0.169285  \n",
      "112                    0.155201  \n",
      "372                    0.147178  \n",
      "550                    0.253451  \n",
      "776                    0.336775  \n",
      "421                    0.359668  \n",
      "760                    0.366401  \n",
      "245                    0.292055  \n",
      "110                    0.390192  \n",
      "494                    0.392324  \n",
      "427                    0.269891  \n",
      "702                    0.345191  \n",
      "642                    0.106498  \n",
      "573                    0.235495  \n",
      "393                    0.201605  \n",
      "236                    0.275278  \n",
      "285                    0.122040  \n",
      "269                    0.261082  \n",
      "345                    0.241387  \n",
      "177                    0.383122  \n",
      "178                    0.302155  \n",
      "456                    0.059701  \n",
      "437                    0.334643  \n",
      "174                    0.286275  \n",
      "378                    0.192627  \n",
      "175                    0.157221  \n",
      "696                    0.388060  \n",
      "586                    0.203569  \n",
      "634                    0.371788  \n",
      "128                    0.420099  \n",
      "426                    0.328190  \n",
      "457                    0.175457  \n",
      "409                    0.273202  \n",
      "433                    0.277242  \n",
      "142                    0.324318  \n",
      "386                    0.231456  \n",
      "217                    0.479127  \n",
      "223                    0.140837  \n",
      "149                    0.082033  \n",
      "334                    0.413309  \n",
      "483                    0.451969  \n",
      "500                    0.455504  \n",
      "674                    0.369824  \n",
      "205                    0.149085  \n",
      "113                    0.047413  \n",
      "687                    0.027775  \n",
      "388                    0.326226  \n",
      "725                    0.434014  \n",
      "557                    0.305746  \n",
      "130                    0.233363  \n",
      "277                    0.416788  \n",
      "116                    0.295702  \n",
      "629                    0.049265  \n",
      "793                    0.343059  \n",
      "387                    0.288127  \n",
      "172                    0.395747  \n",
      "794                    0.361519  \n",
      "551                    0.008753  \n",
      "210                    0.123892  \n",
      "204                    0.437269  \n",
      "719                    0.248120  \n",
      "565                    0.482437  \n",
      "385                    0.293850  \n",
      "679                    0.377848  \n",
      "443                    0.289923  \n",
      "123                    0.444900  \n",
      "643                    0.441645  \n",
      "117                    0.399057  \n",
      "479                    0.487543  \n",
      "451                    0.177253  \n",
      "753                    0.223712  \n",
      "506                    0.218101  \n",
      "438                    0.426495  \n",
      "129                    0.167097  \n",
      "208                    0.213949  \n",
      "407                    0.319212  \n",
      "187                    0.331276  \n",
      "682                    0.341207  \n",
      "247                    0.346931  \n",
      "651                    0.467961  \n",
      "188                    0.243126  \n",
      "171                    0.173493  \n",
      "576                    0.165301  \n",
      "518                    0.229492  \n",
      "742                    0.466222  \n",
      "419                    0.317417  \n",
      "381                    0.506453  \n",
      "424                    0.502637  \n",
      "179                    0.297441  \n",
      "726                    0.205308  \n",
      "384                    0.561497  \n",
      "411                    0.142577  \n",
      "253                    0.186062  \n",
      "270                    0.303838  \n",
      "137                    0.354450  \n",
      "216                    0.083717  \n",
      "396                    0.526877  \n",
      "471                    0.525194  \n",
      "127                    0.251262  \n",
      "241                    0.117327  \n",
      "376                    0.264953  \n",
      "203                    0.259006  \n",
      "148                    0.225396  \n",
      "666                    0.577545  \n",
      "553                    0.489227  \n",
      "737                    0.381102  \n",
      "735                    0.545898  \n",
      "115                    0.570250  \n",
      "423                    0.544215  \n",
      "170                    0.550331  \n",
      "233                    0.564359  \n",
      "739                    0.514476  \n",
      "111                    0.108125  \n",
      "769                    0.453597  \n",
      "244                    0.516104  \n",
      "627                    0.510437  \n",
      "690                    0.512849  \n",
      "448                    0.237123  \n",
      "791                    0.547526  \n",
      "499                    0.246325  \n",
      "206                    0.125519  \n",
      "335                    0.351420  \n",
      "670                    0.312816  \n",
      "613                    0.384749  \n",
      "114                    0.178880  \n",
      "455                    0.537650  \n",
      "559                    0.534452  \n",
      "790                    0.414937  \n",
      "239                    0.539277  \n",
      "694                    0.423129  \n",
      "734                    0.356077  \n",
      "199                    0.376052  \n",
      "624                    0.158793  \n",
      "497                    0.307317  \n",
      "819                    0.575861  \n",
      "382                    0.315677  \n",
      "181                    0.477163  \n",
      "344                    0.180451  \n",
      "503                    0.567052  \n",
      "234                    0.349792  \n",
      "261                    0.244698  \n",
      "316                    0.393895  \n",
      "486                    0.322354  \n",
      "268                    0.532825  \n",
      "781                    0.320783  \n",
      "616                    0.379419  \n",
      "377                    0.424700  \n",
      "192                    0.311188  \n",
      "186                    0.573168  \n",
      "568                    0.536023  \n",
      "390                    0.429413  \n",
      "243                    0.568567  \n",
      "258                    0.257322  \n",
      "700                    0.136348  \n",
      "447                    0.626585  \n",
      "445                    0.591797  \n",
      "422                    0.638200  \n",
      "119                    0.581585  \n",
      "238                    0.459432  \n",
      "542                    0.480642  \n",
      "552                    0.432106  \n",
      "680                    0.367916  \n",
      "202                    0.401863  \n",
      "136                    0.583605  \n",
      "403                    0.153013  \n",
      "358                    0.397262  \n",
      "231                    0.209741  \n",
      "524                    0.588823  \n",
      "771                    0.590282  \n",
      "182                    0.443104  \n",
      "200                    0.616149  \n",
      "498                    0.610706  \n",
      "636                    0.221917  \n",
      "681                    0.518797  \n",
      "505                    0.357536  \n",
      "259                    0.249579  \n",
      "275                    0.653518  \n",
      "180                    0.364269  \n",
      "772                    0.435473  \n",
      "434                    0.208226  \n",
      "264                    0.206767  \n",
      "405                    0.181910  \n",
      "3                      0.300135  \n",
      "418                    0.475592  \n",
      "504                    0.446302  \n",
      "644                    0.601055  \n",
      "13                     0.421502  \n",
      "628                    0.540680  \n",
      "575                    0.496689  \n",
      "121                    0.267759  \n",
      "733                    0.559758  \n",
      "404                    0.521322  \n",
      "676                    0.498092  \n",
      "225                    0.266356  \n",
      "577                    0.649647  \n",
      "383                    0.504713  \n",
      "151                    0.578891  \n",
      "502                    0.352766  \n",
      "585                    0.373134  \n",
      "373                    0.339412  \n",
      "428                    0.386096  \n",
      "513                    0.571597  \n",
      "246                    0.332623  \n",
      "562                    0.607283  \n",
      "380                    0.682920  \n",
      "774                    0.474133  \n",
      "560                    0.427842  \n",
      "326                    0.658736  \n",
      "232                    0.654865  \n",
      "630                    0.661374  \n",
      "741                    0.439850  \n",
      "485                    0.697789  \n",
      "12                     0.271238  \n",
      "722                    0.495287  \n",
      "691                    0.418135  \n",
      "493                    0.674167  \n",
      "653                    0.672035  \n",
      "519                    0.599652  \n",
      "484                    0.648244  \n",
      "510                    0.585568  \n",
      "482                    0.645158  \n",
      "198                    0.738638  \n",
      "391                    0.663562  \n",
      "453                    0.678151  \n",
      "338                    0.681573  \n",
      "635                    0.684211  \n",
      "509                    0.695433  \n",
      "429                    0.703232  \n",
      "135                    0.728426  \n",
      "168                    0.660027  \n",
      "507                    0.680283  \n",
      "430                    0.484570  \n",
      "410                    0.329480  \n",
      "512                    0.400348  \n",
      "695                    0.374425  \n",
      "625                    0.460723  \n",
      "337                    0.362810  \n",
      "406                    0.348221  \n",
      "574                    0.463192  \n",
      "315                    0.541971  \n",
      "633                    0.464482  \n",
      "394                    0.338065  \n",
      "820                    0.558355  \n",
      "556                    0.492818  \n",
      "591                    0.314106  \n",
      "639                    0.450062  \n",
      "263                    0.403153  \n",
      "262                    0.411402  \n",
      "789                    0.438503  \n",
      "768                    0.693244  \n",
      "762                    0.507687  \n",
      "235                    0.447537  \n",
      "446                    0.448771  \n",
      "120                    0.735944  \n",
      "779                    0.456739  \n",
      "360                    0.500898  \n",
      "608                    0.298676  \n",
      "673                    0.517338  \n",
      "472                    0.457917  \n",
      "669                    0.646953  \n",
      "375                    0.686287  \n",
      "146                    0.668836  \n",
      "697                    0.666816  \n",
      "441                    0.461901  \n",
      "399                    0.740545  \n",
      "374                    0.430591  \n",
      "134                    0.580070  \n",
      "230                    0.562675  \n",
      "185                    0.605263  \n",
      "432                    0.700931  \n",
      "193                    0.485748  \n",
      "655                    0.608405  \n",
      "222                    0.698911  \n",
      "436                    0.548648  \n",
      "362                    0.508809  \n",
      "183                    0.493940  \n",
      "249                    0.565481  \n",
      "371                    0.574290  \n",
      "139                    0.664684  \n",
      "408                    0.692010  \n",
      "442                    0.519919  \n",
      "281                    0.688194  \n",
      "195                    0.689260  \n",
      "660                    0.472394  \n",
      "124                    0.469925  \n",
      "784                    0.551397  \n",
      "583                    0.634272  \n",
      "317                    0.614690  \n",
      "516                    0.529739  \n",
      "469                    0.656492  \n",
      "439                    0.499663  \n",
      "412                    0.633206  \n",
      "567                    0.625070  \n",
      "191                    0.617159  \n",
      "582                    0.612726  \n",
      "157                    0.705252  \n",
      "572                    0.753226  \n",
      "473                    0.743239  \n",
      "361                    0.676860  \n",
      "256                    0.528672  \n",
      "594                    0.670688  \n",
      "520                    0.611716  \n",
      "467                    0.783582  \n",
      "267                    0.665638  \n",
      "617                    0.586522  \n",
      "278                    0.784536  \n",
      "751                    0.490181  \n",
      "759                    0.531254  \n",
      "143                    0.643867  \n",
      "475                    0.522276  \n",
      "763                    0.715576  \n",
      "603                    0.604085  \n",
      "780                    0.741443  \n",
      "489                    0.744529  \n",
      "668                    0.775895  \n",
      "468                    0.774997  \n",
      "147                    0.657390  \n",
      "184                    0.685108  \n",
      "807                    0.613624  \n",
      "251                    0.468859  \n",
      "155                    0.690888  \n",
      "339                    0.694142  \n",
      "440                    0.651161  \n",
      "798                    0.652059  \n",
      "257                    0.662271  \n",
      "761                    0.636685  \n",
      "641                    0.667658  \n",
      "476                    0.587364  \n",
      "711                    0.597183  \n",
      "138                    0.669678  \n",
      "282                    0.483279  \n",
      "260                    0.675008  \n",
      "449                    0.675850  \n",
      "818                    0.678992  \n",
      "487                    0.609247  \n",
      "325                    0.699753  \n",
      "645                    0.687128  \n",
      "312                    0.737347  \n",
      "7                      0.635787  \n",
      "481                    0.763382  \n",
      "614                    0.602514  \n",
      "703                    0.746830  \n",
      "365                    0.511222  \n",
      "450                    0.527662  \n",
      "578                    0.471328  \n",
      "548                    0.742229  \n",
      "169                    0.752216  \n",
      "561                    0.672820  \n",
      "730                    0.762148  \n",
      "414                    0.776624  \n",
      "367                    0.739367  \n",
      "370                    0.754573  \n",
      "153                    0.716979  \n",
      "593                    0.689990  \n",
      "600                    0.714678  \n",
      "5                      0.727135  \n",
      "252                    0.634946  \n",
      "356                    0.603187  \n",
      "587                    0.523510  \n",
      "531                    0.716250  \n",
      "785                    0.584278  \n",
      "817                    0.503311  \n",
      "319                    0.598362  \n",
      "220                    0.605936  \n",
      "544                    0.490854  \n",
      "308                    0.491527  \n",
      "570                    0.601728  \n",
      "792                    0.761418  \n",
      "6                      0.760745  \n",
      "732                    0.750309  \n",
      "611                    0.748794  \n",
      "571                    0.645775  \n",
      "521                    0.753844  \n",
      "773                    0.650264  \n",
      "799                    0.470542  \n",
      "211                    0.717596  \n",
      "796                    0.696443  \n",
      "279                    0.655426  \n",
      "306                    0.736505  \n",
      "775                    0.751431  \n",
      "221                    0.750870  \n",
      "1                      0.530300  \n",
      "307                    0.749691  \n",
      "803                    0.704242  \n",
      "698                    0.522837  \n",
      "729                    0.748176  \n",
      "392                    0.705813  \n",
      "604                    0.542532  \n",
      "340                    0.745595  \n",
      "626                    0.582090  \n",
      "330                    0.498597  \n",
      "816                    0.597688  \n",
      "663                    0.718101  \n",
      "397                    0.745034  \n",
      "353                    0.701941  \n",
      "303                    0.701436  \n",
      "765                    0.774099  \n",
      "274                    0.703681  \n",
      "364                    0.642913  \n",
      "602                    0.762597  \n",
      "328                    0.746044  \n",
      "756                    0.747223  \n",
      "745                    0.792560  \n",
      "363                    0.726462  \n",
      "686                    0.797778  \n",
      "401                    0.743631  \n",
      "705                    0.472786  \n",
      "811                    0.747615  \n",
      "809                    0.777017  \n",
      "366                    0.695825  \n",
      "701                    0.773594  \n",
      "806                    0.749130  \n",
      "546                    0.023342  \n",
      "398                    0.403153  \n",
      "250                    0.502637  \n",
      "463                    0.052295  \n",
      "240                    0.083717  \n",
      "712                    0.108125  \n",
      "291                    0.348221  \n",
      "465                    0.403153  \n",
      "194                    0.753226  \n",
      "580                    0.529739  \n",
      "620                    0.559758  \n",
      "271                    0.605936  \n",
      "265                    0.610706  \n",
      "517                    0.662271  \n",
      "632                    0.583605  \n",
      "415                    0.000000  \n",
      "===================================\n",
      "502\n",
      "===================================\n",
      "0.61\n"
     ]
    }
   ],
   "source": [
    "#############################\n",
    "# Calculer le 20 / 80 en CA #\n",
    "#############################\n",
    "\n",
    "#Créer une colonne calculant la part en quantité de la ligne dans le dataset\n",
    "df_merge['total_stock'] = df_merge['stock_quantity'].sum()\n",
    "df_merge['quantity_percentage'] = df_merge['stock_quantity'] / df_merge['total_stock']\n",
    "#Créer une colonne réalisant la somme cumulative de la colonne précedemment créée\n",
    "df_merge['cumsum_quantity_percentage'] = df_merge['quantity_percentage'].cumsum()\n",
    "#Grâce au deux colonnes créées précedemment, calculer le nombre d'articles représentant 80% des ventes en quantité\n",
    "print((df_merge.sort_values('stock_quantity', ascending=False).loc[df_merge['cumsum_quantity_percentage'] <= 0.80 ]\n",
    "      [['product_id','stock_quantity', 'total_stock', 'quantity_percentage', 'cumsum_quantity_percentage']]))\n",
    "#Afficher la proportion que représentent ce groupe d'articles dans le catalogue entier du site web\n",
    "print('===================================')\n",
    "print((df_merge['stock_quantity'].loc[df_merge['cumsum_quantity_percentage'] <= 0.80 ]\n",
    "        ).count())\n",
    "print('===================================')\n",
    "print(round((df_merge['product_id'].loc[df_merge['cumsum_quantity_percentage'] <= 0.80 ]\n",
    "        ).count() / df_merge['product_id'].count(), 2))"
   ]
  },
  {
   "cell_type": "markdown",
   "id": "077789b1",
   "metadata": {},
   "source": [
    "<div style=\"border: 1px solid RGB(51,165,182);\" >\n",
    "<h3 style=\"margin: auto; padding: 20px; color: RGB(51,165,182); \">Etape 5.3 - Analyse des stocks</h3>\n",
    "</div>"
   ]
  },
  {
   "cell_type": "code",
   "execution_count": 633,
   "id": "14e45472",
   "metadata": {
    "scrolled": true
   },
   "outputs": [
    {
     "data": {
      "text/plain": [
       "161    31.250000\n",
       "752    27.600000\n",
       "294    27.000000\n",
       "289    25.000000\n",
       "165    23.666667\n",
       "295    23.000000\n",
       "162    22.750000\n",
       "538    22.666667\n",
       "290    20.714286\n",
       "286    20.285714\n",
       "166    20.200000\n",
       "615    19.000000\n",
       "320    18.000000\n",
       "537    17.166667\n",
       "514    16.666667\n",
       "692    16.333333\n",
       "297    16.000000\n",
       "160    15.375000\n",
       "163    14.333333\n",
       "540    13.166667\n",
       "164    12.500000\n",
       "654    12.500000\n",
       "287    12.166667\n",
       "154    12.000000\n",
       "539    11.222222\n",
       "296    10.125000\n",
       "541     9.500000\n",
       "292     9.071429\n",
       "525     9.000000\n",
       "767     7.000000\n",
       "477     6.000000\n",
       "530     5.000000\n",
       "311     4.250000\n",
       "709     4.000000\n",
       "708     4.000000\n",
       "310     3.666667\n",
       "14      3.500000\n",
       "795     3.500000\n",
       "395     3.500000\n",
       "128     3.500000\n",
       "217     3.500000\n",
       "766     3.500000\n",
       "435     3.500000\n",
       "420     3.500000\n",
       "810     3.500000\n",
       "284     3.466667\n",
       "754     3.461538\n",
       "535     3.461538\n",
       "702     3.454545\n",
       "494     3.454545\n",
       "110     3.454545\n",
       "760     3.454545\n",
       "776     3.454545\n",
       "421     3.454545\n",
       "384     3.444444\n",
       "381     3.444444\n",
       "424     3.444444\n",
       "653     3.428571\n",
       "485     3.428571\n",
       "630     3.428571\n",
       "493     3.428571\n",
       "380     3.428571\n",
       "326     3.428571\n",
       "332     3.416667\n",
       "549     3.416667\n",
       "783     3.411765\n",
       "725     3.400000\n",
       "379     3.400000\n",
       "483     3.400000\n",
       "176     3.400000\n",
       "500     3.400000\n",
       "334     3.400000\n",
       "755     3.400000\n",
       "740     3.400000\n",
       "173     3.384615\n",
       "447     3.375000\n",
       "422     3.375000\n",
       "119     3.375000\n",
       "136     3.375000\n",
       "445     3.375000\n",
       "458     3.375000\n",
       "461     3.361111\n",
       "431     3.357143\n",
       "396     3.333333\n",
       "423     3.333333\n",
       "735     3.333333\n",
       "170     3.333333\n",
       "471     3.333333\n",
       "233     3.333333\n",
       "115     3.333333\n",
       "666     3.333333\n",
       "444     3.333333\n",
       "214     3.333333\n",
       "723     3.333333\n",
       "554     3.333333\n",
       "196     3.307692\n",
       "197     3.307692\n",
       "190     3.307692\n",
       "255     3.307692\n",
       "277     3.300000\n",
       "172     3.300000\n",
       "391     3.285714\n",
       "453     3.285714\n",
       "507     3.285714\n",
       "338     3.285714\n",
       "635     3.285714\n",
       "564     3.285714\n",
       "509     3.285714\n",
       "198     3.285714\n",
       "429     3.285714\n",
       "135     3.285714\n",
       "168     3.285714\n",
       "437     3.272727\n",
       "177     3.272727\n",
       "189     3.266667\n",
       "646     3.250000\n",
       "200     3.250000\n",
       "550     3.250000\n",
       "275     3.250000\n",
       "498     3.250000\n",
       "524     3.250000\n",
       "508     3.250000\n",
       "771     3.250000\n",
       "140     3.230769\n",
       "227     3.230769\n",
       "244     3.222222\n",
       "559     3.222222\n",
       "791     3.222222\n",
       "739     3.222222\n",
       "239     3.222222\n",
       "455     3.222222\n",
       "690     3.222222\n",
       "627     3.222222\n",
       "283     3.214286\n",
       "228     3.214286\n",
       "254     3.200000\n",
       "438     3.200000\n",
       "808     3.200000\n",
       "805     3.200000\n",
       "117     3.200000\n",
       "595     3.200000\n",
       "479     3.200000\n",
       "204     3.200000\n",
       "460     3.200000\n",
       "643     3.200000\n",
       "123     3.200000\n",
       "565     3.200000\n",
       "201     3.187500\n",
       "664     3.187500\n",
       "142     3.181818\n",
       "696     3.181818\n",
       "426     3.181818\n",
       "634     3.181818\n",
       "413     3.166667\n",
       "427     3.166667\n",
       "573     3.166667\n",
       "245     3.166667\n",
       "511     3.153846\n",
       "237     3.153846\n",
       "120     3.142857\n",
       "768     3.142857\n",
       "577     3.125000\n",
       "644     3.125000\n",
       "819     3.111111\n",
       "186     3.111111\n",
       "268     3.111111\n",
       "503     3.111111\n",
       "568     3.111111\n",
       "651     3.100000\n",
       "742     3.100000\n",
       "388     3.090909\n",
       "674     3.090909\n",
       "236     3.083333\n",
       "269     3.083333\n",
       "824     3.076923\n",
       "566     3.076923\n",
       "242     3.000000\n",
       "738     3.000000\n",
       "399     3.000000\n",
       "623     3.000000\n",
       "815     3.000000\n",
       "699     3.000000\n",
       "112     3.000000\n",
       "793     3.000000\n",
       "178     3.000000\n",
       "375     3.000000\n",
       "372     3.000000\n",
       "313     3.000000\n",
       "678     3.000000\n",
       "416     3.000000\n",
       "243     3.000000\n",
       "345     3.000000\n",
       "662     3.000000\n",
       "562     3.000000\n",
       "478     3.000000\n",
       "677     3.000000\n",
       "232     3.000000\n",
       "174     3.000000\n",
       "141     3.000000\n",
       "572     3.000000\n",
       "667     3.000000\n",
       "432     3.000000\n",
       "794     3.000000\n",
       "697     3.000000\n",
       "764     3.000000\n",
       "146     3.000000\n",
       "553     3.000000\n",
       "473     3.000000\n",
       "657     3.000000\n",
       "496     3.000000\n",
       "721     2.933333\n",
       "393     2.923077\n",
       "433     2.916667\n",
       "409     2.916667\n",
       "386     2.916667\n",
       "682     2.909091\n",
       "407     2.909091\n",
       "679     2.909091\n",
       "187     2.909091\n",
       "694     2.900000\n",
       "790     2.900000\n",
       "769     2.900000\n",
       "681     2.888889\n",
       "510     2.875000\n",
       "482     2.875000\n",
       "484     2.875000\n",
       "519     2.875000\n",
       "389     2.866667\n",
       "408     2.857143\n",
       "222     2.857143\n",
       "139     2.857143\n",
       "333     2.857143\n",
       "144     2.857143\n",
       "770     2.833333\n",
       "130     2.833333\n",
       "278     2.833333\n",
       "467     2.833333\n",
       "557     2.833333\n",
       "247     2.818182\n",
       "419     2.818182\n",
       "150     2.812500\n",
       "417     2.800000\n",
       "569     2.800000\n",
       "631     2.800000\n",
       "181     2.800000\n",
       "390     2.800000\n",
       "316     2.800000\n",
       "466     2.800000\n",
       "314     2.800000\n",
       "377     2.800000\n",
       "229     2.800000\n",
       "676     2.777778\n",
       "575     2.777778\n",
       "404     2.777778\n",
       "628     2.777778\n",
       "733     2.777778\n",
       "383     2.777778\n",
       "378     2.769231\n",
       "175     2.769231\n",
       "675     2.764706\n",
       "387     2.750000\n",
       "116     2.750000\n",
       "213     2.740741\n",
       "737     2.727273\n",
       "137     2.727273\n",
       "642     2.714286\n",
       "195     2.714286\n",
       "281     2.714286\n",
       "552     2.700000\n",
       "358     2.700000\n",
       "238     2.700000\n",
       "542     2.700000\n",
       "202     2.700000\n",
       "457     2.692308\n",
       "223     2.692308\n",
       "586     2.692308\n",
       "468     2.666667\n",
       "489     2.666667\n",
       "513     2.666667\n",
       "719     2.666667\n",
       "668     2.666667\n",
       "753     2.666667\n",
       "151     2.666667\n",
       "757     2.666667\n",
       "226     2.666667\n",
       "533     2.666667\n",
       "385     2.666667\n",
       "722     2.666667\n",
       "495     2.666667\n",
       "0       2.666667\n",
       "443     2.666667\n",
       "285     2.642857\n",
       "670     2.636364\n",
       "734     2.636364\n",
       "199     2.636364\n",
       "613     2.636364\n",
       "335     2.636364\n",
       "185     2.625000\n",
       "669     2.625000\n",
       "205     2.615385\n",
       "693     2.600000\n",
       "772     2.600000\n",
       "182     2.600000\n",
       "418     2.600000\n",
       "665     2.588235\n",
       "518     2.583333\n",
       "179     2.583333\n",
       "266     2.583333\n",
       "188     2.583333\n",
       "361     2.571429\n",
       "594     2.571429\n",
       "157     2.571429\n",
       "315     2.555556\n",
       "556     2.555556\n",
       "820     2.555556\n",
       "234     2.545455\n",
       "616     2.545455\n",
       "382     2.545455\n",
       "781     2.545455\n",
       "486     2.545455\n",
       "192     2.545455\n",
       "13      2.500000\n",
       "655     2.500000\n",
       "501     2.500000\n",
       "270     2.500000\n",
       "148     2.500000\n",
       "203     2.500000\n",
       "504     2.500000\n",
       "376     2.500000\n",
       "127     2.500000\n",
       "129     2.461538\n",
       "451     2.461538\n",
       "208     2.461538\n",
       "506     2.461538\n",
       "680     2.454545\n",
       "673     2.444444\n",
       "762     2.444444\n",
       "360     2.444444\n",
       "267     2.428571\n",
       "499     2.416667\n",
       "448     2.416667\n",
       "774     2.400000\n",
       "606     2.400000\n",
       "650     2.400000\n",
       "456     2.400000\n",
       "741     2.400000\n",
       "691     2.400000\n",
       "560     2.400000\n",
       "758     2.400000\n",
       "411     2.384615\n",
       "576     2.384615\n",
       "253     2.384615\n",
       "726     2.384615\n",
       "171     2.384615\n",
       "583     2.375000\n",
       "469     2.375000\n",
       "317     2.375000\n",
       "180     2.363636\n",
       "505     2.363636\n",
       "210     2.357143\n",
       "497     2.333333\n",
       "169     2.333333\n",
       "703     2.333333\n",
       "149     2.333333\n",
       "261     2.333333\n",
       "481     2.333333\n",
       "134     2.333333\n",
       "230     2.333333\n",
       "639     2.300000\n",
       "633     2.300000\n",
       "263     2.300000\n",
       "430     2.300000\n",
       "625     2.300000\n",
       "574     2.300000\n",
       "512     2.300000\n",
       "780     2.285714\n",
       "257     2.285714\n",
       "147     2.285714\n",
       "339     2.285714\n",
       "155     2.285714\n",
       "763     2.285714\n",
       "184     2.285714\n",
       "412     2.250000\n",
       "520     2.250000\n",
       "582     2.250000\n",
       "258     2.250000\n",
       "191     2.250000\n",
       "567     2.250000\n",
       "114     2.230769\n",
       "371     2.222222\n",
       "362     2.222222\n",
       "249     2.222222\n",
       "436     2.222222\n",
       "183     2.222222\n",
       "442     2.222222\n",
       "262     2.200000\n",
       "789     2.200000\n",
       "474     2.200000\n",
       "779     2.200000\n",
       "446     2.200000\n",
       "235     2.200000\n",
       "373     2.181818\n",
       "246     2.181818\n",
       "585     2.181818\n",
       "502     2.181818\n",
       "428     2.181818\n",
       "414     2.166667\n",
       "370     2.166667\n",
       "730     2.166667\n",
       "3       2.166667\n",
       "636     2.166667\n",
       "259     2.166667\n",
       "344     2.153846\n",
       "624     2.153846\n",
       "645     2.142857\n",
       "312     2.142857\n",
       "260     2.142857\n",
       "241     2.142857\n",
       "818     2.142857\n",
       "449     2.142857\n",
       "138     2.142857\n",
       "641     2.142857\n",
       "325     2.142857\n",
       "113     2.125000\n",
       "617     2.125000\n",
       "143     2.125000\n",
       "439     2.111111\n",
       "516     2.111111\n",
       "784     2.111111\n",
       "441     2.100000\n",
       "472     2.100000\n",
       "374     2.100000\n",
       "193     2.100000\n",
       "394     2.090909\n",
       "337     2.090909\n",
       "406     2.090909\n",
       "410     2.090909\n",
       "695     2.090909\n",
       "591     2.090909\n",
       "121     2.083333\n",
       "225     2.083333\n",
       "231     2.076923\n",
       "403     2.076923\n",
       "700     2.076923\n",
       "206     2.071429\n",
       "111     2.071429\n",
       "629     2.062500\n",
       "359     2.045455\n",
       "224     2.000000\n",
       "12      2.000000\n",
       "434     2.000000\n",
       "598     2.000000\n",
       "610     2.000000\n",
       "327     2.000000\n",
       "603     2.000000\n",
       "215     2.000000\n",
       "561     2.000000\n",
       "792     2.000000\n",
       "343     2.000000\n",
       "807     2.000000\n",
       "597     2.000000\n",
       "470     2.000000\n",
       "264     2.000000\n",
       "440     2.000000\n",
       "798     2.000000\n",
       "528     2.000000\n",
       "802     2.000000\n",
       "347     2.000000\n",
       "761     2.000000\n",
       "622     2.000000\n",
       "405     2.000000\n",
       "126     2.000000\n",
       "704     2.000000\n",
       "647     2.000000\n",
       "588     2.000000\n",
       "216     2.000000\n",
       "527     2.000000\n",
       "515     2.000000\n",
       "488     2.000000\n",
       "715     2.000000\n",
       "6       2.000000\n",
       "212     2.000000\n",
       "256     2.000000\n",
       "688     2.000000\n",
       "547     2.000000\n",
       "548     2.000000\n",
       "18      2.000000\n",
       "273     2.000000\n",
       "684     2.000000\n",
       "661     2.000000\n",
       "660     1.900000\n",
       "124     1.900000\n",
       "751     1.888889\n",
       "759     1.888889\n",
       "475     1.888889\n",
       "487     1.875000\n",
       "711     1.875000\n",
       "476     1.875000\n",
       "7       1.875000\n",
       "153     1.857143\n",
       "593     1.857143\n",
       "600     1.857143\n",
       "367     1.857143\n",
       "521     1.833333\n",
       "581     1.833333\n",
       "611     1.833333\n",
       "732     1.833333\n",
       "355     1.833333\n",
       "608     1.833333\n",
       "728     1.800000\n",
       "813     1.800000\n",
       "652     1.800000\n",
       "579     1.800000\n",
       "558     1.750000\n",
       "788     1.750000\n",
       "787     1.750000\n",
       "750     1.750000\n",
       "797     1.750000\n",
       "746     1.750000\n",
       "619     1.750000\n",
       "323     1.750000\n",
       "649     1.750000\n",
       "782     1.750000\n",
       "350     1.750000\n",
       "614     1.750000\n",
       "5       1.714286\n",
       "531     1.714286\n",
       "687     1.700000\n",
       "596     1.666667\n",
       "354     1.666667\n",
       "599     1.666667\n",
       "305     1.666667\n",
       "219     1.666667\n",
       "309     1.666667\n",
       "221     1.666667\n",
       "775     1.666667\n",
       "9       1.666667\n",
       "543     1.666667\n",
       "727     1.666667\n",
       "307     1.666667\n",
       "729     1.666667\n",
       "689     1.666667\n",
       "301     1.666667\n",
       "340     1.666667\n",
       "724     1.600000\n",
       "349     1.600000\n",
       "814     1.600000\n",
       "125     1.600000\n",
       "251     1.600000\n",
       "152     1.600000\n",
       "821     1.600000\n",
       "131     1.600000\n",
       "796     1.571429\n",
       "211     1.571429\n",
       "450     1.555556\n",
       "365     1.555556\n",
       "748     1.500000\n",
       "648     1.500000\n",
       "133     1.500000\n",
       "341     1.500000\n",
       "522     1.500000\n",
       "822     1.500000\n",
       "402     1.500000\n",
       "532     1.500000\n",
       "523     1.500000\n",
       "685     1.500000\n",
       "812     1.500000\n",
       "785     1.500000\n",
       "282     1.500000\n",
       "397     1.500000\n",
       "589     1.500000\n",
       "252     1.500000\n",
       "220     1.500000\n",
       "356     1.500000\n",
       "570     1.500000\n",
       "319     1.500000\n",
       "765     1.500000\n",
       "590     1.500000\n",
       "302     1.500000\n",
       "803     1.428571\n",
       "306     1.428571\n",
       "392     1.428571\n",
       "299     1.400000\n",
       "322     1.400000\n",
       "749     1.400000\n",
       "156     1.400000\n",
       "578     1.400000\n",
       "480     1.400000\n",
       "17      1.400000\n",
       "658     1.400000\n",
       "612     1.400000\n",
       "801     1.400000\n",
       "571     1.375000\n",
       "773     1.375000\n",
       "346     1.333333\n",
       "369     1.333333\n",
       "298     1.333333\n",
       "328     1.333333\n",
       "714     1.333333\n",
       "656     1.333333\n",
       "122     1.333333\n",
       "602     1.333333\n",
       "744     1.333333\n",
       "218     1.333333\n",
       "526     1.333333\n",
       "817     1.333333\n",
       "587     1.333333\n",
       "563     1.333333\n",
       "544     1.333333\n",
       "308     1.333333\n",
       "353     1.285714\n",
       "303     1.285714\n",
       "663     1.285714\n",
       "747     1.250000\n",
       "529     1.250000\n",
       "618     1.250000\n",
       "329     1.250000\n",
       "621     1.250000\n",
       "272     1.250000\n",
       "279     1.250000\n",
       "786     1.250000\n",
       "683     1.200000\n",
       "659     1.200000\n",
       "811     1.166667\n",
       "756     1.166667\n",
       "686     1.166667\n",
       "745     1.166667\n",
       "401     1.166667\n",
       "809     1.166667\n",
       "274     1.142857\n",
       "626     1.125000\n",
       "816     1.125000\n",
       "1       1.111111\n",
       "604     1.111111\n",
       "698     1.111111\n",
       "799     1.100000\n",
       "167     1.060345\n",
       "364     1.000000\n",
       "368     1.000000\n",
       "348     1.000000\n",
       "671     1.000000\n",
       "366     1.000000\n",
       "10      1.000000\n",
       "351     1.000000\n",
       "452     1.000000\n",
       "248     1.000000\n",
       "609     1.000000\n",
       "352     1.000000\n",
       "324     1.000000\n",
       "707     1.000000\n",
       "330     1.000000\n",
       "710     1.000000\n",
       "400     1.000000\n",
       "806     1.000000\n",
       "4       1.000000\n",
       "159     1.000000\n",
       "706     1.000000\n",
       "363     1.000000\n",
       "800     1.000000\n",
       "280     1.000000\n",
       "300     1.000000\n",
       "545     1.000000\n",
       "701     1.000000\n",
       "705     0.700000\n",
       "551     0.297297\n",
       "546     0.136364\n",
       "605     0.000000\n",
       "713     0.000000\n",
       "293     0.000000\n",
       "415     0.000000\n",
       "804     0.000000\n",
       "357     0.000000\n",
       "463     0.000000\n",
       "240     0.000000\n",
       "712     0.000000\n",
       "291     0.000000\n",
       "465     0.000000\n",
       "398     0.000000\n",
       "250     0.000000\n",
       "580     0.000000\n",
       "620     0.000000\n",
       "632     0.000000\n",
       "271     0.000000\n",
       "265     0.000000\n",
       "517     0.000000\n",
       "194     0.000000\n",
       "736     0.000000\n",
       "454     0.000000\n",
       "336     0.000000\n",
       "638     0.000000\n",
       "777     0.000000\n",
       "288     0.000000\n",
       "731          NaN\n",
       "16           NaN\n",
       "331          NaN\n",
       "158          NaN\n",
       "145          NaN\n",
       "118          NaN\n",
       "132          NaN\n",
       "778          NaN\n",
       "464          NaN\n",
       "2            NaN\n",
       "11           NaN\n",
       "15           NaN\n",
       "8            NaN\n",
       "342          NaN\n",
       "555          NaN\n",
       "207          NaN\n",
       "640          NaN\n",
       "592          NaN\n",
       "304          NaN\n",
       "492          NaN\n",
       "637          NaN\n",
       "209          NaN\n",
       "19           NaN\n",
       "20           NaN\n",
       "21           NaN\n",
       "22           NaN\n",
       "23           NaN\n",
       "24           NaN\n",
       "25           NaN\n",
       "26           NaN\n",
       "27           NaN\n",
       "28           NaN\n",
       "29           NaN\n",
       "30           NaN\n",
       "31           NaN\n",
       "32           NaN\n",
       "33           NaN\n",
       "34           NaN\n",
       "35           NaN\n",
       "36           NaN\n",
       "37           NaN\n",
       "38           NaN\n",
       "39           NaN\n",
       "40           NaN\n",
       "41           NaN\n",
       "42           NaN\n",
       "43           NaN\n",
       "44           NaN\n",
       "45           NaN\n",
       "46           NaN\n",
       "47           NaN\n",
       "48           NaN\n",
       "49           NaN\n",
       "50           NaN\n",
       "51           NaN\n",
       "52           NaN\n",
       "53           NaN\n",
       "54           NaN\n",
       "55           NaN\n",
       "56           NaN\n",
       "57           NaN\n",
       "58           NaN\n",
       "59           NaN\n",
       "60           NaN\n",
       "61           NaN\n",
       "62           NaN\n",
       "63           NaN\n",
       "64           NaN\n",
       "65           NaN\n",
       "66           NaN\n",
       "67           NaN\n",
       "68           NaN\n",
       "69           NaN\n",
       "70           NaN\n",
       "71           NaN\n",
       "72           NaN\n",
       "73           NaN\n",
       "74           NaN\n",
       "75           NaN\n",
       "76           NaN\n",
       "77           NaN\n",
       "78           NaN\n",
       "79           NaN\n",
       "80           NaN\n",
       "81           NaN\n",
       "82           NaN\n",
       "83           NaN\n",
       "84           NaN\n",
       "85           NaN\n",
       "86           NaN\n",
       "87           NaN\n",
       "88           NaN\n",
       "89           NaN\n",
       "90           NaN\n",
       "91           NaN\n",
       "92           NaN\n",
       "93           NaN\n",
       "94           NaN\n",
       "95           NaN\n",
       "96           NaN\n",
       "97           NaN\n",
       "98           NaN\n",
       "99           NaN\n",
       "100          NaN\n",
       "101          NaN\n",
       "102          NaN\n",
       "103          NaN\n",
       "104          NaN\n",
       "105          NaN\n",
       "106          NaN\n",
       "107          NaN\n",
       "108          NaN\n",
       "109          NaN\n",
       "276          NaN\n",
       "318          NaN\n",
       "321          NaN\n",
       "425          NaN\n",
       "459          NaN\n",
       "462          NaN\n",
       "490          NaN\n",
       "491          NaN\n",
       "534          NaN\n",
       "536          NaN\n",
       "584          NaN\n",
       "601          NaN\n",
       "607          NaN\n",
       "672          NaN\n",
       "716          NaN\n",
       "717          NaN\n",
       "718          NaN\n",
       "720          NaN\n",
       "743          NaN\n",
       "823          NaN\n",
       "Name: rotation_stock, dtype: float64"
      ]
     },
     "metadata": {},
     "output_type": "display_data"
    },
    {
     "data": {
      "application/vnd.plotly.v1+json": {
       "config": {
        "plotlyServerURL": "https://plot.ly"
       },
       "data": [
        {
         "alignmentgroup": "True",
         "hovertemplate": "index=%{x}<br>rotation_stock=%{y}<extra></extra>",
         "legendgroup": "",
         "marker": {
          "color": "#636efa",
          "pattern": {
           "shape": ""
          }
         },
         "name": "",
         "offsetgroup": "",
         "orientation": "v",
         "showlegend": false,
         "textposition": "auto",
         "type": "bar",
         "x": [
          161,
          752,
          294,
          289,
          165,
          295,
          162,
          538,
          290,
          286,
          166,
          615,
          320,
          537,
          514,
          692,
          297,
          160,
          163,
          540,
          164,
          654
         ],
         "xaxis": "x",
         "y": [
          31.25,
          27.6,
          27,
          25,
          23.666666666666668,
          23,
          22.75,
          22.666666666666668,
          20.714285714285715,
          20.285714285714285,
          20.2,
          19,
          18,
          17.166666666666668,
          16.666666666666668,
          16.333333333333332,
          16,
          15.375,
          14.333333333333334,
          13.166666666666666,
          12.5,
          12.5
         ],
         "yaxis": "y"
        }
       ],
       "layout": {
        "autosize": true,
        "barmode": "relative",
        "legend": {
         "tracegroupgap": 0
        },
        "margin": {
         "t": 60
        },
        "template": {
         "data": {
          "bar": [
           {
            "error_x": {
             "color": "#2a3f5f"
            },
            "error_y": {
             "color": "#2a3f5f"
            },
            "marker": {
             "line": {
              "color": "#E5ECF6",
              "width": 0.5
             },
             "pattern": {
              "fillmode": "overlay",
              "size": 10,
              "solidity": 0.2
             }
            },
            "type": "bar"
           }
          ],
          "barpolar": [
           {
            "marker": {
             "line": {
              "color": "#E5ECF6",
              "width": 0.5
             },
             "pattern": {
              "fillmode": "overlay",
              "size": 10,
              "solidity": 0.2
             }
            },
            "type": "barpolar"
           }
          ],
          "carpet": [
           {
            "aaxis": {
             "endlinecolor": "#2a3f5f",
             "gridcolor": "white",
             "linecolor": "white",
             "minorgridcolor": "white",
             "startlinecolor": "#2a3f5f"
            },
            "baxis": {
             "endlinecolor": "#2a3f5f",
             "gridcolor": "white",
             "linecolor": "white",
             "minorgridcolor": "white",
             "startlinecolor": "#2a3f5f"
            },
            "type": "carpet"
           }
          ],
          "choropleth": [
           {
            "colorbar": {
             "outlinewidth": 0,
             "ticks": ""
            },
            "type": "choropleth"
           }
          ],
          "contour": [
           {
            "colorbar": {
             "outlinewidth": 0,
             "ticks": ""
            },
            "colorscale": [
             [
              0,
              "#0d0887"
             ],
             [
              0.1111111111111111,
              "#46039f"
             ],
             [
              0.2222222222222222,
              "#7201a8"
             ],
             [
              0.3333333333333333,
              "#9c179e"
             ],
             [
              0.4444444444444444,
              "#bd3786"
             ],
             [
              0.5555555555555556,
              "#d8576b"
             ],
             [
              0.6666666666666666,
              "#ed7953"
             ],
             [
              0.7777777777777778,
              "#fb9f3a"
             ],
             [
              0.8888888888888888,
              "#fdca26"
             ],
             [
              1,
              "#f0f921"
             ]
            ],
            "type": "contour"
           }
          ],
          "contourcarpet": [
           {
            "colorbar": {
             "outlinewidth": 0,
             "ticks": ""
            },
            "type": "contourcarpet"
           }
          ],
          "heatmap": [
           {
            "colorbar": {
             "outlinewidth": 0,
             "ticks": ""
            },
            "colorscale": [
             [
              0,
              "#0d0887"
             ],
             [
              0.1111111111111111,
              "#46039f"
             ],
             [
              0.2222222222222222,
              "#7201a8"
             ],
             [
              0.3333333333333333,
              "#9c179e"
             ],
             [
              0.4444444444444444,
              "#bd3786"
             ],
             [
              0.5555555555555556,
              "#d8576b"
             ],
             [
              0.6666666666666666,
              "#ed7953"
             ],
             [
              0.7777777777777778,
              "#fb9f3a"
             ],
             [
              0.8888888888888888,
              "#fdca26"
             ],
             [
              1,
              "#f0f921"
             ]
            ],
            "type": "heatmap"
           }
          ],
          "heatmapgl": [
           {
            "colorbar": {
             "outlinewidth": 0,
             "ticks": ""
            },
            "colorscale": [
             [
              0,
              "#0d0887"
             ],
             [
              0.1111111111111111,
              "#46039f"
             ],
             [
              0.2222222222222222,
              "#7201a8"
             ],
             [
              0.3333333333333333,
              "#9c179e"
             ],
             [
              0.4444444444444444,
              "#bd3786"
             ],
             [
              0.5555555555555556,
              "#d8576b"
             ],
             [
              0.6666666666666666,
              "#ed7953"
             ],
             [
              0.7777777777777778,
              "#fb9f3a"
             ],
             [
              0.8888888888888888,
              "#fdca26"
             ],
             [
              1,
              "#f0f921"
             ]
            ],
            "type": "heatmapgl"
           }
          ],
          "histogram": [
           {
            "marker": {
             "pattern": {
              "fillmode": "overlay",
              "size": 10,
              "solidity": 0.2
             }
            },
            "type": "histogram"
           }
          ],
          "histogram2d": [
           {
            "colorbar": {
             "outlinewidth": 0,
             "ticks": ""
            },
            "colorscale": [
             [
              0,
              "#0d0887"
             ],
             [
              0.1111111111111111,
              "#46039f"
             ],
             [
              0.2222222222222222,
              "#7201a8"
             ],
             [
              0.3333333333333333,
              "#9c179e"
             ],
             [
              0.4444444444444444,
              "#bd3786"
             ],
             [
              0.5555555555555556,
              "#d8576b"
             ],
             [
              0.6666666666666666,
              "#ed7953"
             ],
             [
              0.7777777777777778,
              "#fb9f3a"
             ],
             [
              0.8888888888888888,
              "#fdca26"
             ],
             [
              1,
              "#f0f921"
             ]
            ],
            "type": "histogram2d"
           }
          ],
          "histogram2dcontour": [
           {
            "colorbar": {
             "outlinewidth": 0,
             "ticks": ""
            },
            "colorscale": [
             [
              0,
              "#0d0887"
             ],
             [
              0.1111111111111111,
              "#46039f"
             ],
             [
              0.2222222222222222,
              "#7201a8"
             ],
             [
              0.3333333333333333,
              "#9c179e"
             ],
             [
              0.4444444444444444,
              "#bd3786"
             ],
             [
              0.5555555555555556,
              "#d8576b"
             ],
             [
              0.6666666666666666,
              "#ed7953"
             ],
             [
              0.7777777777777778,
              "#fb9f3a"
             ],
             [
              0.8888888888888888,
              "#fdca26"
             ],
             [
              1,
              "#f0f921"
             ]
            ],
            "type": "histogram2dcontour"
           }
          ],
          "mesh3d": [
           {
            "colorbar": {
             "outlinewidth": 0,
             "ticks": ""
            },
            "type": "mesh3d"
           }
          ],
          "parcoords": [
           {
            "line": {
             "colorbar": {
              "outlinewidth": 0,
              "ticks": ""
             }
            },
            "type": "parcoords"
           }
          ],
          "pie": [
           {
            "automargin": true,
            "type": "pie"
           }
          ],
          "scatter": [
           {
            "fillpattern": {
             "fillmode": "overlay",
             "size": 10,
             "solidity": 0.2
            },
            "type": "scatter"
           }
          ],
          "scatter3d": [
           {
            "line": {
             "colorbar": {
              "outlinewidth": 0,
              "ticks": ""
             }
            },
            "marker": {
             "colorbar": {
              "outlinewidth": 0,
              "ticks": ""
             }
            },
            "type": "scatter3d"
           }
          ],
          "scattercarpet": [
           {
            "marker": {
             "colorbar": {
              "outlinewidth": 0,
              "ticks": ""
             }
            },
            "type": "scattercarpet"
           }
          ],
          "scattergeo": [
           {
            "marker": {
             "colorbar": {
              "outlinewidth": 0,
              "ticks": ""
             }
            },
            "type": "scattergeo"
           }
          ],
          "scattergl": [
           {
            "marker": {
             "colorbar": {
              "outlinewidth": 0,
              "ticks": ""
             }
            },
            "type": "scattergl"
           }
          ],
          "scattermapbox": [
           {
            "marker": {
             "colorbar": {
              "outlinewidth": 0,
              "ticks": ""
             }
            },
            "type": "scattermapbox"
           }
          ],
          "scatterpolar": [
           {
            "marker": {
             "colorbar": {
              "outlinewidth": 0,
              "ticks": ""
             }
            },
            "type": "scatterpolar"
           }
          ],
          "scatterpolargl": [
           {
            "marker": {
             "colorbar": {
              "outlinewidth": 0,
              "ticks": ""
             }
            },
            "type": "scatterpolargl"
           }
          ],
          "scatterternary": [
           {
            "marker": {
             "colorbar": {
              "outlinewidth": 0,
              "ticks": ""
             }
            },
            "type": "scatterternary"
           }
          ],
          "surface": [
           {
            "colorbar": {
             "outlinewidth": 0,
             "ticks": ""
            },
            "colorscale": [
             [
              0,
              "#0d0887"
             ],
             [
              0.1111111111111111,
              "#46039f"
             ],
             [
              0.2222222222222222,
              "#7201a8"
             ],
             [
              0.3333333333333333,
              "#9c179e"
             ],
             [
              0.4444444444444444,
              "#bd3786"
             ],
             [
              0.5555555555555556,
              "#d8576b"
             ],
             [
              0.6666666666666666,
              "#ed7953"
             ],
             [
              0.7777777777777778,
              "#fb9f3a"
             ],
             [
              0.8888888888888888,
              "#fdca26"
             ],
             [
              1,
              "#f0f921"
             ]
            ],
            "type": "surface"
           }
          ],
          "table": [
           {
            "cells": {
             "fill": {
              "color": "#EBF0F8"
             },
             "line": {
              "color": "white"
             }
            },
            "header": {
             "fill": {
              "color": "#C8D4E3"
             },
             "line": {
              "color": "white"
             }
            },
            "type": "table"
           }
          ]
         },
         "layout": {
          "annotationdefaults": {
           "arrowcolor": "#2a3f5f",
           "arrowhead": 0,
           "arrowwidth": 1
          },
          "autotypenumbers": "strict",
          "coloraxis": {
           "colorbar": {
            "outlinewidth": 0,
            "ticks": ""
           }
          },
          "colorscale": {
           "diverging": [
            [
             0,
             "#8e0152"
            ],
            [
             0.1,
             "#c51b7d"
            ],
            [
             0.2,
             "#de77ae"
            ],
            [
             0.3,
             "#f1b6da"
            ],
            [
             0.4,
             "#fde0ef"
            ],
            [
             0.5,
             "#f7f7f7"
            ],
            [
             0.6,
             "#e6f5d0"
            ],
            [
             0.7,
             "#b8e186"
            ],
            [
             0.8,
             "#7fbc41"
            ],
            [
             0.9,
             "#4d9221"
            ],
            [
             1,
             "#276419"
            ]
           ],
           "sequential": [
            [
             0,
             "#0d0887"
            ],
            [
             0.1111111111111111,
             "#46039f"
            ],
            [
             0.2222222222222222,
             "#7201a8"
            ],
            [
             0.3333333333333333,
             "#9c179e"
            ],
            [
             0.4444444444444444,
             "#bd3786"
            ],
            [
             0.5555555555555556,
             "#d8576b"
            ],
            [
             0.6666666666666666,
             "#ed7953"
            ],
            [
             0.7777777777777778,
             "#fb9f3a"
            ],
            [
             0.8888888888888888,
             "#fdca26"
            ],
            [
             1,
             "#f0f921"
            ]
           ],
           "sequentialminus": [
            [
             0,
             "#0d0887"
            ],
            [
             0.1111111111111111,
             "#46039f"
            ],
            [
             0.2222222222222222,
             "#7201a8"
            ],
            [
             0.3333333333333333,
             "#9c179e"
            ],
            [
             0.4444444444444444,
             "#bd3786"
            ],
            [
             0.5555555555555556,
             "#d8576b"
            ],
            [
             0.6666666666666666,
             "#ed7953"
            ],
            [
             0.7777777777777778,
             "#fb9f3a"
            ],
            [
             0.8888888888888888,
             "#fdca26"
            ],
            [
             1,
             "#f0f921"
            ]
           ]
          },
          "colorway": [
           "#636efa",
           "#EF553B",
           "#00cc96",
           "#ab63fa",
           "#FFA15A",
           "#19d3f3",
           "#FF6692",
           "#B6E880",
           "#FF97FF",
           "#FECB52"
          ],
          "font": {
           "color": "#2a3f5f"
          },
          "geo": {
           "bgcolor": "white",
           "lakecolor": "white",
           "landcolor": "#E5ECF6",
           "showlakes": true,
           "showland": true,
           "subunitcolor": "white"
          },
          "hoverlabel": {
           "align": "left"
          },
          "hovermode": "closest",
          "mapbox": {
           "style": "light"
          },
          "paper_bgcolor": "white",
          "plot_bgcolor": "#E5ECF6",
          "polar": {
           "angularaxis": {
            "gridcolor": "white",
            "linecolor": "white",
            "ticks": ""
           },
           "bgcolor": "#E5ECF6",
           "radialaxis": {
            "gridcolor": "white",
            "linecolor": "white",
            "ticks": ""
           }
          },
          "scene": {
           "xaxis": {
            "backgroundcolor": "#E5ECF6",
            "gridcolor": "white",
            "gridwidth": 2,
            "linecolor": "white",
            "showbackground": true,
            "ticks": "",
            "zerolinecolor": "white"
           },
           "yaxis": {
            "backgroundcolor": "#E5ECF6",
            "gridcolor": "white",
            "gridwidth": 2,
            "linecolor": "white",
            "showbackground": true,
            "ticks": "",
            "zerolinecolor": "white"
           },
           "zaxis": {
            "backgroundcolor": "#E5ECF6",
            "gridcolor": "white",
            "gridwidth": 2,
            "linecolor": "white",
            "showbackground": true,
            "ticks": "",
            "zerolinecolor": "white"
           }
          },
          "shapedefaults": {
           "line": {
            "color": "#2a3f5f"
           }
          },
          "ternary": {
           "aaxis": {
            "gridcolor": "white",
            "linecolor": "white",
            "ticks": ""
           },
           "baxis": {
            "gridcolor": "white",
            "linecolor": "white",
            "ticks": ""
           },
           "bgcolor": "#E5ECF6",
           "caxis": {
            "gridcolor": "white",
            "linecolor": "white",
            "ticks": ""
           }
          },
          "title": {
           "x": 0.05
          },
          "xaxis": {
           "automargin": true,
           "gridcolor": "white",
           "linecolor": "white",
           "ticks": "",
           "title": {
            "standoff": 15
           },
           "zerolinecolor": "white",
           "zerolinewidth": 2
          },
          "yaxis": {
           "automargin": true,
           "gridcolor": "white",
           "linecolor": "white",
           "ticks": "",
           "title": {
            "standoff": 15
           },
           "zerolinecolor": "white",
           "zerolinewidth": 2
          }
         }
        },
        "xaxis": {
         "anchor": "y",
         "autorange": true,
         "domain": [
          0,
          1
         ],
         "range": [
          -0.5,
          21.5
         ],
         "title": {
          "text": "index"
         },
         "type": "category"
        },
        "yaxis": {
         "anchor": "x",
         "autorange": true,
         "domain": [
          0,
          1
         ],
         "range": [
          0,
          32.89473684210526
         ],
         "title": {
          "text": "rotation_stock"
         },
         "type": "linear"
        }
       }
      },
      "image/png": "[encoded data removed]",
      "text/html": [
       "<div>                            <div id=\"26d312c1-8c96-4275-aeea-c4bd9dd5e938\" class=\"plotly-graph-div\" style=\"height:525px; width:100%;\"></div>            <script type=\"text/javascript\">                require([\"plotly\"], function(Plotly) {                    window.PLOTLYENV=window.PLOTLYENV || {};                                    if (document.getElementById(\"26d312c1-8c96-4275-aeea-c4bd9dd5e938\")) {                    Plotly.newPlot(                        \"26d312c1-8c96-4275-aeea-c4bd9dd5e938\",                        [{\"alignmentgroup\":\"True\",\"hovertemplate\":\"index=%{x}<br>rotation_stock=%{y}<extra></extra>\",\"legendgroup\":\"\",\"marker\":{\"color\":\"#636efa\",\"pattern\":{\"shape\":\"\"}},\"name\":\"\",\"offsetgroup\":\"\",\"orientation\":\"v\",\"showlegend\":false,\"textposition\":\"auto\",\"x\":[161,752,294,289,165,295,162,538,290,286,166,615,320,537,514,692,297,160,163,540,164,654],\"xaxis\":\"x\",\"y\":[31.25,27.6,27.0,25.0,23.666666666666668,23.0,22.75,22.666666666666668,20.714285714285715,20.285714285714285,20.2,19.0,18.0,17.166666666666668,16.666666666666668,16.333333333333332,16.0,15.375,14.333333333333334,13.166666666666666,12.5,12.5],\"yaxis\":\"y\",\"type\":\"bar\"}],                        {\"template\":{\"data\":{\"histogram2dcontour\":[{\"type\":\"histogram2dcontour\",\"colorbar\":{\"outlinewidth\":0,\"ticks\":\"\"},\"colorscale\":[[0.0,\"#0d0887\"],[0.1111111111111111,\"#46039f\"],[0.2222222222222222,\"#7201a8\"],[0.3333333333333333,\"#9c179e\"],[0.4444444444444444,\"#bd3786\"],[0.5555555555555556,\"#d8576b\"],[0.6666666666666666,\"#ed7953\"],[0.7777777777777778,\"#fb9f3a\"],[0.8888888888888888,\"#fdca26\"],[1.0,\"#f0f921\"]]}],\"choropleth\":[{\"type\":\"choropleth\",\"colorbar\":{\"outlinewidth\":0,\"ticks\":\"\"}}],\"histogram2d\":[{\"type\":\"histogram2d\",\"colorbar\":{\"outlinewidth\":0,\"ticks\":\"\"},\"colorscale\":[[0.0,\"#0d0887\"],[0.1111111111111111,\"#46039f\"],[0.2222222222222222,\"#7201a8\"],[0.3333333333333333,\"#9c179e\"],[0.4444444444444444,\"#bd3786\"],[0.5555555555555556,\"#d8576b\"],[0.6666666666666666,\"#ed7953\"],[0.7777777777777778,\"#fb9f3a\"],[0.8888888888888888,\"#fdca26\"],[1.0,\"#f0f921\"]]}],\"heatmap\":[{\"type\":\"heatmap\",\"colorbar\":{\"outlinewidth\":0,\"ticks\":\"\"},\"colorscale\":[[0.0,\"#0d0887\"],[0.1111111111111111,\"#46039f\"],[0.2222222222222222,\"#7201a8\"],[0.3333333333333333,\"#9c179e\"],[0.4444444444444444,\"#bd3786\"],[0.5555555555555556,\"#d8576b\"],[0.6666666666666666,\"#ed7953\"],[0.7777777777777778,\"#fb9f3a\"],[0.8888888888888888,\"#fdca26\"],[1.0,\"#f0f921\"]]}],\"heatmapgl\":[{\"type\":\"heatmapgl\",\"colorbar\":{\"outlinewidth\":0,\"ticks\":\"\"},\"colorscale\":[[0.0,\"#0d0887\"],[0.1111111111111111,\"#46039f\"],[0.2222222222222222,\"#7201a8\"],[0.3333333333333333,\"#9c179e\"],[0.4444444444444444,\"#bd3786\"],[0.5555555555555556,\"#d8576b\"],[0.6666666666666666,\"#ed7953\"],[0.7777777777777778,\"#fb9f3a\"],[0.8888888888888888,\"#fdca26\"],[1.0,\"#f0f921\"]]}],\"contourcarpet\":[{\"type\":\"contourcarpet\",\"colorbar\":{\"outlinewidth\":0,\"ticks\":\"\"}}],\"contour\":[{\"type\":\"contour\",\"colorbar\":{\"outlinewidth\":0,\"ticks\":\"\"},\"colorscale\":[[0.0,\"#0d0887\"],[0.1111111111111111,\"#46039f\"],[0.2222222222222222,\"#7201a8\"],[0.3333333333333333,\"#9c179e\"],[0.4444444444444444,\"#bd3786\"],[0.5555555555555556,\"#d8576b\"],[0.6666666666666666,\"#ed7953\"],[0.7777777777777778,\"#fb9f3a\"],[0.8888888888888888,\"#fdca26\"],[1.0,\"#f0f921\"]]}],\"surface\":[{\"type\":\"surface\",\"colorbar\":{\"outlinewidth\":0,\"ticks\":\"\"},\"colorscale\":[[0.0,\"#0d0887\"],[0.1111111111111111,\"#46039f\"],[0.2222222222222222,\"#7201a8\"],[0.3333333333333333,\"#9c179e\"],[0.4444444444444444,\"#bd3786\"],[0.5555555555555556,\"#d8576b\"],[0.6666666666666666,\"#ed7953\"],[0.7777777777777778,\"#fb9f3a\"],[0.8888888888888888,\"#fdca26\"],[1.0,\"#f0f921\"]]}],\"mesh3d\":[{\"type\":\"mesh3d\",\"colorbar\":{\"outlinewidth\":0,\"ticks\":\"\"}}],\"scatter\":[{\"fillpattern\":{\"fillmode\":\"overlay\",\"size\":10,\"solidity\":0.2},\"type\":\"scatter\"}],\"parcoords\":[{\"type\":\"parcoords\",\"line\":{\"colorbar\":{\"outlinewidth\":0,\"ticks\":\"\"}}}],\"scatterpolargl\":[{\"type\":\"scatterpolargl\",\"marker\":{\"colorbar\":{\"outlinewidth\":0,\"ticks\":\"\"}}}],\"bar\":[{\"error_x\":{\"color\":\"#2a3f5f\"},\"error_y\":{\"color\":\"#2a3f5f\"},\"marker\":{\"line\":{\"color\":\"#E5ECF6\",\"width\":0.5},\"pattern\":{\"fillmode\":\"overlay\",\"size\":10,\"solidity\":0.2}},\"type\":\"bar\"}],\"scattergeo\":[{\"type\":\"scattergeo\",\"marker\":{\"colorbar\":{\"outlinewidth\":0,\"ticks\":\"\"}}}],\"scatterpolar\":[{\"type\":\"scatterpolar\",\"marker\":{\"colorbar\":{\"outlinewidth\":0,\"ticks\":\"\"}}}],\"histogram\":[{\"marker\":{\"pattern\":{\"fillmode\":\"overlay\",\"size\":10,\"solidity\":0.2}},\"type\":\"histogram\"}],\"scattergl\":[{\"type\":\"scattergl\",\"marker\":{\"colorbar\":{\"outlinewidth\":0,\"ticks\":\"\"}}}],\"scatter3d\":[{\"type\":\"scatter3d\",\"line\":{\"colorbar\":{\"outlinewidth\":0,\"ticks\":\"\"}},\"marker\":{\"colorbar\":{\"outlinewidth\":0,\"ticks\":\"\"}}}],\"scattermapbox\":[{\"type\":\"scattermapbox\",\"marker\":{\"colorbar\":{\"outlinewidth\":0,\"ticks\":\"\"}}}],\"scatterternary\":[{\"type\":\"scatterternary\",\"marker\":{\"colorbar\":{\"outlinewidth\":0,\"ticks\":\"\"}}}],\"scattercarpet\":[{\"type\":\"scattercarpet\",\"marker\":{\"colorbar\":{\"outlinewidth\":0,\"ticks\":\"\"}}}],\"carpet\":[{\"aaxis\":{\"endlinecolor\":\"#2a3f5f\",\"gridcolor\":\"white\",\"linecolor\":\"white\",\"minorgridcolor\":\"white\",\"startlinecolor\":\"#2a3f5f\"},\"baxis\":{\"endlinecolor\":\"#2a3f5f\",\"gridcolor\":\"white\",\"linecolor\":\"white\",\"minorgridcolor\":\"white\",\"startlinecolor\":\"#2a3f5f\"},\"type\":\"carpet\"}],\"table\":[{\"cells\":{\"fill\":{\"color\":\"#EBF0F8\"},\"line\":{\"color\":\"white\"}},\"header\":{\"fill\":{\"color\":\"#C8D4E3\"},\"line\":{\"color\":\"white\"}},\"type\":\"table\"}],\"barpolar\":[{\"marker\":{\"line\":{\"color\":\"#E5ECF6\",\"width\":0.5},\"pattern\":{\"fillmode\":\"overlay\",\"size\":10,\"solidity\":0.2}},\"type\":\"barpolar\"}],\"pie\":[{\"automargin\":true,\"type\":\"pie\"}]},\"layout\":{\"autotypenumbers\":\"strict\",\"colorway\":[\"#636efa\",\"#EF553B\",\"#00cc96\",\"#ab63fa\",\"#FFA15A\",\"#19d3f3\",\"#FF6692\",\"#B6E880\",\"#FF97FF\",\"#FECB52\"],\"font\":{\"color\":\"#2a3f5f\"},\"hovermode\":\"closest\",\"hoverlabel\":{\"align\":\"left\"},\"paper_bgcolor\":\"white\",\"plot_bgcolor\":\"#E5ECF6\",\"polar\":{\"bgcolor\":\"#E5ECF6\",\"angularaxis\":{\"gridcolor\":\"white\",\"linecolor\":\"white\",\"ticks\":\"\"},\"radialaxis\":{\"gridcolor\":\"white\",\"linecolor\":\"white\",\"ticks\":\"\"}},\"ternary\":{\"bgcolor\":\"#E5ECF6\",\"aaxis\":{\"gridcolor\":\"white\",\"linecolor\":\"white\",\"ticks\":\"\"},\"baxis\":{\"gridcolor\":\"white\",\"linecolor\":\"white\",\"ticks\":\"\"},\"caxis\":{\"gridcolor\":\"white\",\"linecolor\":\"white\",\"ticks\":\"\"}},\"coloraxis\":{\"colorbar\":{\"outlinewidth\":0,\"ticks\":\"\"}},\"colorscale\":{\"sequential\":[[0.0,\"#0d0887\"],[0.1111111111111111,\"#46039f\"],[0.2222222222222222,\"#7201a8\"],[0.3333333333333333,\"#9c179e\"],[0.4444444444444444,\"#bd3786\"],[0.5555555555555556,\"#d8576b\"],[0.6666666666666666,\"#ed7953\"],[0.7777777777777778,\"#fb9f3a\"],[0.8888888888888888,\"#fdca26\"],[1.0,\"#f0f921\"]],\"sequentialminus\":[[0.0,\"#0d0887\"],[0.1111111111111111,\"#46039f\"],[0.2222222222222222,\"#7201a8\"],[0.3333333333333333,\"#9c179e\"],[0.4444444444444444,\"#bd3786\"],[0.5555555555555556,\"#d8576b\"],[0.6666666666666666,\"#ed7953\"],[0.7777777777777778,\"#fb9f3a\"],[0.8888888888888888,\"#fdca26\"],[1.0,\"#f0f921\"]],\"diverging\":[[0,\"#8e0152\"],[0.1,\"#c51b7d\"],[0.2,\"#de77ae\"],[0.3,\"#f1b6da\"],[0.4,\"#fde0ef\"],[0.5,\"#f7f7f7\"],[0.6,\"#e6f5d0\"],[0.7,\"#b8e186\"],[0.8,\"#7fbc41\"],[0.9,\"#4d9221\"],[1,\"#276419\"]]},\"xaxis\":{\"gridcolor\":\"white\",\"linecolor\":\"white\",\"ticks\":\"\",\"title\":{\"standoff\":15},\"zerolinecolor\":\"white\",\"automargin\":true,\"zerolinewidth\":2},\"yaxis\":{\"gridcolor\":\"white\",\"linecolor\":\"white\",\"ticks\":\"\",\"title\":{\"standoff\":15},\"zerolinecolor\":\"white\",\"automargin\":true,\"zerolinewidth\":2},\"scene\":{\"xaxis\":{\"backgroundcolor\":\"#E5ECF6\",\"gridcolor\":\"white\",\"linecolor\":\"white\",\"showbackground\":true,\"ticks\":\"\",\"zerolinecolor\":\"white\",\"gridwidth\":2},\"yaxis\":{\"backgroundcolor\":\"#E5ECF6\",\"gridcolor\":\"white\",\"linecolor\":\"white\",\"showbackground\":true,\"ticks\":\"\",\"zerolinecolor\":\"white\",\"gridwidth\":2},\"zaxis\":{\"backgroundcolor\":\"#E5ECF6\",\"gridcolor\":\"white\",\"linecolor\":\"white\",\"showbackground\":true,\"ticks\":\"\",\"zerolinecolor\":\"white\",\"gridwidth\":2}},\"shapedefaults\":{\"line\":{\"color\":\"#2a3f5f\"}},\"annotationdefaults\":{\"arrowcolor\":\"#2a3f5f\",\"arrowhead\":0,\"arrowwidth\":1},\"geo\":{\"bgcolor\":\"white\",\"landcolor\":\"#E5ECF6\",\"subunitcolor\":\"white\",\"showland\":true,\"showlakes\":true,\"lakecolor\":\"white\"},\"title\":{\"x\":0.05},\"mapbox\":{\"style\":\"light\"}}},\"xaxis\":{\"anchor\":\"y\",\"domain\":[0.0,1.0],\"title\":{\"text\":\"index\"},\"type\":\"category\"},\"yaxis\":{\"anchor\":\"x\",\"domain\":[0.0,1.0],\"title\":{\"text\":\"rotation_stock\"}},\"legend\":{\"tracegroupgap\":0},\"margin\":{\"t\":60},\"barmode\":\"relative\"},                        {\"responsive\": true}                    ).then(function(){\n",
       "                            \n",
       "var gd = document.getElementById('26d312c1-8c96-4275-aeea-c4bd9dd5e938');\n",
       "var x = new MutationObserver(function (mutations, observer) {{\n",
       "        var display = window.getComputedStyle(gd).display;\n",
       "        if (!display || display === 'none') {{\n",
       "            console.log([gd, 'removed!']);\n",
       "            Plotly.purge(gd);\n",
       "            observer.disconnect();\n",
       "        }}\n",
       "}});\n",
       "\n",
       "// Listen for the removal of the full notebook cells\n",
       "var notebookContainer = gd.closest('#notebook-container');\n",
       "if (notebookContainer) {{\n",
       "    x.observe(notebookContainer, {childList: true});\n",
       "}}\n",
       "\n",
       "// Listen for the clearing of the current output cell\n",
       "var outputEl = gd.closest('.output');\n",
       "if (outputEl) {{\n",
       "    x.observe(outputEl, {childList: true});\n",
       "}}\n",
       "\n",
       "                        })                };                });            </script>        </div>"
      ]
     },
     "metadata": {},
     "output_type": "display_data"
    }
   ],
   "source": [
    "######################################\n",
    "# Calcule le nombre de mois de stock #\n",
    "######################################\n",
    "\n",
    "#Import de numpy \n",
    "import numpy as np\n",
    "#Création de la colonne Rotation de stock\n",
    "df_merge['rotation_stock'] = df_merge['stock_quantity'] / df_merge['total_sales']\n",
    "#Remplacement des \"inf\" par 0\n",
    "df_merge['rotation_stock'] = df_merge['rotation_stock'].replace([np.inf, -np.inf], 0)\n",
    "#Effectuer le tri dans l'ordre décroissant du nombre de mois de stock dans le dataset df_merge\n",
    "df_merge = df_merge.sort_values('rotation_stock', ascending=False)\n",
    "df_merge.reset_index()\n",
    "display(df_merge['rotation_stock'])\n",
    "#Graphique en barre du flop 20 des produits qui ont le plus de mois de stock\n",
    "rotation_stock = df_merge.sort_values('rotation_stock', ascending=False).iloc[0:2+20][['product_id', 'rotation_stock', 'stock_quantity']]\n",
    "fig = px.bar(rotation_stock, y='rotation_stock')\n",
    "fig.update_xaxes(type='category')\n",
    "fig.show()"
   ]
  },
  {
   "cell_type": "code",
   "execution_count": 634,
   "id": "0cd6696c",
   "metadata": {},
   "outputs": [
    {
     "data": {
      "text/plain": [
       "531773.3"
      ]
     },
     "metadata": {},
     "output_type": "display_data"
    }
   ],
   "source": [
    "####################################\n",
    "# Valorisation des stocks en euros #\n",
    "####################################\n",
    "\n",
    "#Création de la colonne Valorisation des stocks en euros\n",
    "df_merge['Valorisation_stock_euros'] = df_merge['stock_quantity'] * df_merge['price']\n",
    "#Calculer la somme de la colonne \"Valorisation_stock_euros\"\n",
    "display(df_merge['Valorisation_stock_euros'].sum())"
   ]
  },
  {
   "cell_type": "code",
   "execution_count": 637,
   "id": "4a3dd99d",
   "metadata": {},
   "outputs": [
    {
     "data": {
      "text/plain": [
       "17822"
      ]
     },
     "metadata": {},
     "output_type": "display_data"
    }
   ],
   "source": [
    "##############################################\n",
    "# Valorisation du nombre de produit en stock #\n",
    "##############################################\n",
    "\n",
    "#Calculer la somme de la colonne stock quantity\n",
    "display(df_merge['stock_quantity'].sum())"
   ]
  },
  {
   "cell_type": "markdown",
   "id": "9e48f6dc",
   "metadata": {},
   "source": [
    "<div style=\"border: 1px solid RGB(51,165,182);\" >\n",
    "<h3 style=\"margin: auto; padding: 20px; color: RGB(51,165,182); \">Etape 5.4 - Analyse du taux de marge</h3>\n",
    "</div>"
   ]
  },
  {
   "cell_type": "code",
   "execution_count": 640,
   "id": "7de5ca46",
   "metadata": {},
   "outputs": [
    {
     "data": {
      "text/plain": [
       "-5.12490118577075"
      ]
     },
     "metadata": {},
     "output_type": "display_data"
    },
    {
     "data": {
      "text/plain": [
       "1.5425"
      ]
     },
     "metadata": {},
     "output_type": "display_data"
    }
   ],
   "source": [
    "############################\n",
    "# Analyse du taux de marge #\n",
    "############################\n",
    "\n",
    "#Création de la colonne prix HT\n",
    "df_merge['prix_HT'] = df_merge['price'] * 0.8\n",
    "#Création de la colonne Taux de marge\n",
    "df_merge['marge'] = df_merge['price'] - df_merge['purchase_price']\n",
    "df_merge['taux_marge'] = df_merge['marge'] / df_merge['price']\n",
    "#Afficher le prix minimum de la colonne \"taux_marge\"\n",
    "display(df_merge['taux_marge'].min())\n",
    "#Afficher le prix maximum de la colonne \"taux_marge\"\n",
    "display(df_merge['taux_marge'].max())"
   ]
  },
  {
   "cell_type": "code",
   "execution_count": 642,
   "id": "6082d42b",
   "metadata": {},
   "outputs": [
    {
     "name": "stdout",
     "output_type": "stream",
     "text": [
      "     product_id  price  purchase_price  stock_quantity  prix_HT  taux_marge\n",
      "293        4355  12.65           77.48              97    10.12   -5.124901\n",
      "55         6324  92.00           99.00              18    73.60   -0.076087\n",
      "105        7196  31.00           31.20              55    24.80   -0.006452\n",
      "459        4864   8.30            9.99               0     6.64   -0.203614\n"
     ]
    }
   ],
   "source": [
    "#affichage de la ligne avec un taux de marge inférieur à 0\n",
    "print(df_merge.loc[df_merge['taux_marge'] < 0][['product_id', 'price', 'purchase_price', 'stock_quantity', 'prix_HT', 'taux_marge']])"
   ]
  },
  {
   "cell_type": "code",
   "execution_count": 644,
   "id": "d756037c",
   "metadata": {},
   "outputs": [
    {
     "data": {
      "text/plain": [
       "0.0"
      ]
     },
     "metadata": {},
     "output_type": "display_data"
    },
    {
     "data": {
      "text/plain": [
       "5.12"
      ]
     },
     "metadata": {},
     "output_type": "display_data"
    }
   ],
   "source": [
    "#création d'un dataframe avec les taux positifs\n",
    "df_marge = df_merge['taux_marge'].abs()\n",
    "#Afficher le prix minimum de la colonne \"taux_marge\"\n",
    "display(round(df_marge.min(), 1))\n",
    "#Afficher le prix maximum de la colonne \"taux_marge\"\n",
    "display(round(df_marge.max(), 2))"
   ]
  },
  {
   "cell_type": "code",
   "execution_count": 646,
   "id": "b24042f8",
   "metadata": {},
   "outputs": [
    {
     "name": "stdout",
     "output_type": "stream",
     "text": [
      "    product_type  taux_marge\n",
      "0          Autre    0.468000\n",
      "1      Champagne    0.206608\n",
      "2         Cognac    0.542230\n",
      "3            Gin    0.523333\n",
      "4  Huile d'olive    0.374985\n",
      "5            Vin    0.483436\n",
      "6         Whisky    0.540991\n"
     ]
    },
    {
     "data": {
      "application/vnd.plotly.v1+json": {
       "config": {
        "plotlyServerURL": "https://plot.ly"
       },
       "data": [
        {
         "alignmentgroup": "True",
         "hovertemplate": "product_type=%{x}<br>taux_marge=%{y}<extra></extra>",
         "legendgroup": "",
         "marker": {
          "color": "#636efa",
          "pattern": {
           "shape": ""
          }
         },
         "name": "",
         "offsetgroup": "",
         "orientation": "v",
         "showlegend": false,
         "textposition": "auto",
         "type": "bar",
         "x": [
          "Cognac",
          "Whisky",
          "Gin",
          "Vin",
          "Autre",
          "Huile d'olive",
          "Champagne"
         ],
         "xaxis": "x",
         "y": [
          0.5422301137663649,
          0.5409905454230557,
          0.5233333333333333,
          0.4834355191728197,
          0.46799999999999997,
          0.37498498297926686,
          0.2066078573080877
         ],
         "yaxis": "y"
        }
       ],
       "layout": {
        "autosize": true,
        "barmode": "relative",
        "legend": {
         "tracegroupgap": 0
        },
        "margin": {
         "t": 60
        },
        "template": {
         "data": {
          "bar": [
           {
            "error_x": {
             "color": "#2a3f5f"
            },
            "error_y": {
             "color": "#2a3f5f"
            },
            "marker": {
             "line": {
              "color": "#E5ECF6",
              "width": 0.5
             },
             "pattern": {
              "fillmode": "overlay",
              "size": 10,
              "solidity": 0.2
             }
            },
            "type": "bar"
           }
          ],
          "barpolar": [
           {
            "marker": {
             "line": {
              "color": "#E5ECF6",
              "width": 0.5
             },
             "pattern": {
              "fillmode": "overlay",
              "size": 10,
              "solidity": 0.2
             }
            },
            "type": "barpolar"
           }
          ],
          "carpet": [
           {
            "aaxis": {
             "endlinecolor": "#2a3f5f",
             "gridcolor": "white",
             "linecolor": "white",
             "minorgridcolor": "white",
             "startlinecolor": "#2a3f5f"
            },
            "baxis": {
             "endlinecolor": "#2a3f5f",
             "gridcolor": "white",
             "linecolor": "white",
             "minorgridcolor": "white",
             "startlinecolor": "#2a3f5f"
            },
            "type": "carpet"
           }
          ],
          "choropleth": [
           {
            "colorbar": {
             "outlinewidth": 0,
             "ticks": ""
            },
            "type": "choropleth"
           }
          ],
          "contour": [
           {
            "colorbar": {
             "outlinewidth": 0,
             "ticks": ""
            },
            "colorscale": [
             [
              0,
              "#0d0887"
             ],
             [
              0.1111111111111111,
              "#46039f"
             ],
             [
              0.2222222222222222,
              "#7201a8"
             ],
             [
              0.3333333333333333,
              "#9c179e"
             ],
             [
              0.4444444444444444,
              "#bd3786"
             ],
             [
              0.5555555555555556,
              "#d8576b"
             ],
             [
              0.6666666666666666,
              "#ed7953"
             ],
             [
              0.7777777777777778,
              "#fb9f3a"
             ],
             [
              0.8888888888888888,
              "#fdca26"
             ],
             [
              1,
              "#f0f921"
             ]
            ],
            "type": "contour"
           }
          ],
          "contourcarpet": [
           {
            "colorbar": {
             "outlinewidth": 0,
             "ticks": ""
            },
            "type": "contourcarpet"
           }
          ],
          "heatmap": [
           {
            "colorbar": {
             "outlinewidth": 0,
             "ticks": ""
            },
            "colorscale": [
             [
              0,
              "#0d0887"
             ],
             [
              0.1111111111111111,
              "#46039f"
             ],
             [
              0.2222222222222222,
              "#7201a8"
             ],
             [
              0.3333333333333333,
              "#9c179e"
             ],
             [
              0.4444444444444444,
              "#bd3786"
             ],
             [
              0.5555555555555556,
              "#d8576b"
             ],
             [
              0.6666666666666666,
              "#ed7953"
             ],
             [
              0.7777777777777778,
              "#fb9f3a"
             ],
             [
              0.8888888888888888,
              "#fdca26"
             ],
             [
              1,
              "#f0f921"
             ]
            ],
            "type": "heatmap"
           }
          ],
          "heatmapgl": [
           {
            "colorbar": {
             "outlinewidth": 0,
             "ticks": ""
            },
            "colorscale": [
             [
              0,
              "#0d0887"
             ],
             [
              0.1111111111111111,
              "#46039f"
             ],
             [
              0.2222222222222222,
              "#7201a8"
             ],
             [
              0.3333333333333333,
              "#9c179e"
             ],
             [
              0.4444444444444444,
              "#bd3786"
             ],
             [
              0.5555555555555556,
              "#d8576b"
             ],
             [
              0.6666666666666666,
              "#ed7953"
             ],
             [
              0.7777777777777778,
              "#fb9f3a"
             ],
             [
              0.8888888888888888,
              "#fdca26"
             ],
             [
              1,
              "#f0f921"
             ]
            ],
            "type": "heatmapgl"
           }
          ],
          "histogram": [
           {
            "marker": {
             "pattern": {
              "fillmode": "overlay",
              "size": 10,
              "solidity": 0.2
             }
            },
            "type": "histogram"
           }
          ],
          "histogram2d": [
           {
            "colorbar": {
             "outlinewidth": 0,
             "ticks": ""
            },
            "colorscale": [
             [
              0,
              "#0d0887"
             ],
             [
              0.1111111111111111,
              "#46039f"
             ],
             [
              0.2222222222222222,
              "#7201a8"
             ],
             [
              0.3333333333333333,
              "#9c179e"
             ],
             [
              0.4444444444444444,
              "#bd3786"
             ],
             [
              0.5555555555555556,
              "#d8576b"
             ],
             [
              0.6666666666666666,
              "#ed7953"
             ],
             [
              0.7777777777777778,
              "#fb9f3a"
             ],
             [
              0.8888888888888888,
              "#fdca26"
             ],
             [
              1,
              "#f0f921"
             ]
            ],
            "type": "histogram2d"
           }
          ],
          "histogram2dcontour": [
           {
            "colorbar": {
             "outlinewidth": 0,
             "ticks": ""
            },
            "colorscale": [
             [
              0,
              "#0d0887"
             ],
             [
              0.1111111111111111,
              "#46039f"
             ],
             [
              0.2222222222222222,
              "#7201a8"
             ],
             [
              0.3333333333333333,
              "#9c179e"
             ],
             [
              0.4444444444444444,
              "#bd3786"
             ],
             [
              0.5555555555555556,
              "#d8576b"
             ],
             [
              0.6666666666666666,
              "#ed7953"
             ],
             [
              0.7777777777777778,
              "#fb9f3a"
             ],
             [
              0.8888888888888888,
              "#fdca26"
             ],
             [
              1,
              "#f0f921"
             ]
            ],
            "type": "histogram2dcontour"
           }
          ],
          "mesh3d": [
           {
            "colorbar": {
             "outlinewidth": 0,
             "ticks": ""
            },
            "type": "mesh3d"
           }
          ],
          "parcoords": [
           {
            "line": {
             "colorbar": {
              "outlinewidth": 0,
              "ticks": ""
             }
            },
            "type": "parcoords"
           }
          ],
          "pie": [
           {
            "automargin": true,
            "type": "pie"
           }
          ],
          "scatter": [
           {
            "fillpattern": {
             "fillmode": "overlay",
             "size": 10,
             "solidity": 0.2
            },
            "type": "scatter"
           }
          ],
          "scatter3d": [
           {
            "line": {
             "colorbar": {
              "outlinewidth": 0,
              "ticks": ""
             }
            },
            "marker": {
             "colorbar": {
              "outlinewidth": 0,
              "ticks": ""
             }
            },
            "type": "scatter3d"
           }
          ],
          "scattercarpet": [
           {
            "marker": {
             "colorbar": {
              "outlinewidth": 0,
              "ticks": ""
             }
            },
            "type": "scattercarpet"
           }
          ],
          "scattergeo": [
           {
            "marker": {
             "colorbar": {
              "outlinewidth": 0,
              "ticks": ""
             }
            },
            "type": "scattergeo"
           }
          ],
          "scattergl": [
           {
            "marker": {
             "colorbar": {
              "outlinewidth": 0,
              "ticks": ""
             }
            },
            "type": "scattergl"
           }
          ],
          "scattermapbox": [
           {
            "marker": {
             "colorbar": {
              "outlinewidth": 0,
              "ticks": ""
             }
            },
            "type": "scattermapbox"
           }
          ],
          "scatterpolar": [
           {
            "marker": {
             "colorbar": {
              "outlinewidth": 0,
              "ticks": ""
             }
            },
            "type": "scatterpolar"
           }
          ],
          "scatterpolargl": [
           {
            "marker": {
             "colorbar": {
              "outlinewidth": 0,
              "ticks": ""
             }
            },
            "type": "scatterpolargl"
           }
          ],
          "scatterternary": [
           {
            "marker": {
             "colorbar": {
              "outlinewidth": 0,
              "ticks": ""
             }
            },
            "type": "scatterternary"
           }
          ],
          "surface": [
           {
            "colorbar": {
             "outlinewidth": 0,
             "ticks": ""
            },
            "colorscale": [
             [
              0,
              "#0d0887"
             ],
             [
              0.1111111111111111,
              "#46039f"
             ],
             [
              0.2222222222222222,
              "#7201a8"
             ],
             [
              0.3333333333333333,
              "#9c179e"
             ],
             [
              0.4444444444444444,
              "#bd3786"
             ],
             [
              0.5555555555555556,
              "#d8576b"
             ],
             [
              0.6666666666666666,
              "#ed7953"
             ],
             [
              0.7777777777777778,
              "#fb9f3a"
             ],
             [
              0.8888888888888888,
              "#fdca26"
             ],
             [
              1,
              "#f0f921"
             ]
            ],
            "type": "surface"
           }
          ],
          "table": [
           {
            "cells": {
             "fill": {
              "color": "#EBF0F8"
             },
             "line": {
              "color": "white"
             }
            },
            "header": {
             "fill": {
              "color": "#C8D4E3"
             },
             "line": {
              "color": "white"
             }
            },
            "type": "table"
           }
          ]
         },
         "layout": {
          "annotationdefaults": {
           "arrowcolor": "#2a3f5f",
           "arrowhead": 0,
           "arrowwidth": 1
          },
          "autotypenumbers": "strict",
          "coloraxis": {
           "colorbar": {
            "outlinewidth": 0,
            "ticks": ""
           }
          },
          "colorscale": {
           "diverging": [
            [
             0,
             "#8e0152"
            ],
            [
             0.1,
             "#c51b7d"
            ],
            [
             0.2,
             "#de77ae"
            ],
            [
             0.3,
             "#f1b6da"
            ],
            [
             0.4,
             "#fde0ef"
            ],
            [
             0.5,
             "#f7f7f7"
            ],
            [
             0.6,
             "#e6f5d0"
            ],
            [
             0.7,
             "#b8e186"
            ],
            [
             0.8,
             "#7fbc41"
            ],
            [
             0.9,
             "#4d9221"
            ],
            [
             1,
             "#276419"
            ]
           ],
           "sequential": [
            [
             0,
             "#0d0887"
            ],
            [
             0.1111111111111111,
             "#46039f"
            ],
            [
             0.2222222222222222,
             "#7201a8"
            ],
            [
             0.3333333333333333,
             "#9c179e"
            ],
            [
             0.4444444444444444,
             "#bd3786"
            ],
            [
             0.5555555555555556,
             "#d8576b"
            ],
            [
             0.6666666666666666,
             "#ed7953"
            ],
            [
             0.7777777777777778,
             "#fb9f3a"
            ],
            [
             0.8888888888888888,
             "#fdca26"
            ],
            [
             1,
             "#f0f921"
            ]
           ],
           "sequentialminus": [
            [
             0,
             "#0d0887"
            ],
            [
             0.1111111111111111,
             "#46039f"
            ],
            [
             0.2222222222222222,
             "#7201a8"
            ],
            [
             0.3333333333333333,
             "#9c179e"
            ],
            [
             0.4444444444444444,
             "#bd3786"
            ],
            [
             0.5555555555555556,
             "#d8576b"
            ],
            [
             0.6666666666666666,
             "#ed7953"
            ],
            [
             0.7777777777777778,
             "#fb9f3a"
            ],
            [
             0.8888888888888888,
             "#fdca26"
            ],
            [
             1,
             "#f0f921"
            ]
           ]
          },
          "colorway": [
           "#636efa",
           "#EF553B",
           "#00cc96",
           "#ab63fa",
           "#FFA15A",
           "#19d3f3",
           "#FF6692",
           "#B6E880",
           "#FF97FF",
           "#FECB52"
          ],
          "font": {
           "color": "#2a3f5f"
          },
          "geo": {
           "bgcolor": "white",
           "lakecolor": "white",
           "landcolor": "#E5ECF6",
           "showlakes": true,
           "showland": true,
           "subunitcolor": "white"
          },
          "hoverlabel": {
           "align": "left"
          },
          "hovermode": "closest",
          "mapbox": {
           "style": "light"
          },
          "paper_bgcolor": "white",
          "plot_bgcolor": "#E5ECF6",
          "polar": {
           "angularaxis": {
            "gridcolor": "white",
            "linecolor": "white",
            "ticks": ""
           },
           "bgcolor": "#E5ECF6",
           "radialaxis": {
            "gridcolor": "white",
            "linecolor": "white",
            "ticks": ""
           }
          },
          "scene": {
           "xaxis": {
            "backgroundcolor": "#E5ECF6",
            "gridcolor": "white",
            "gridwidth": 2,
            "linecolor": "white",
            "showbackground": true,
            "ticks": "",
            "zerolinecolor": "white"
           },
           "yaxis": {
            "backgroundcolor": "#E5ECF6",
            "gridcolor": "white",
            "gridwidth": 2,
            "linecolor": "white",
            "showbackground": true,
            "ticks": "",
            "zerolinecolor": "white"
           },
           "zaxis": {
            "backgroundcolor": "#E5ECF6",
            "gridcolor": "white",
            "gridwidth": 2,
            "linecolor": "white",
            "showbackground": true,
            "ticks": "",
            "zerolinecolor": "white"
           }
          },
          "shapedefaults": {
           "line": {
            "color": "#2a3f5f"
           }
          },
          "ternary": {
           "aaxis": {
            "gridcolor": "white",
            "linecolor": "white",
            "ticks": ""
           },
           "baxis": {
            "gridcolor": "white",
            "linecolor": "white",
            "ticks": ""
           },
           "bgcolor": "#E5ECF6",
           "caxis": {
            "gridcolor": "white",
            "linecolor": "white",
            "ticks": ""
           }
          },
          "title": {
           "x": 0.05
          },
          "xaxis": {
           "automargin": true,
           "gridcolor": "white",
           "linecolor": "white",
           "ticks": "",
           "title": {
            "standoff": 15
           },
           "zerolinecolor": "white",
           "zerolinewidth": 2
          },
          "yaxis": {
           "automargin": true,
           "gridcolor": "white",
           "linecolor": "white",
           "ticks": "",
           "title": {
            "standoff": 15
           },
           "zerolinecolor": "white",
           "zerolinewidth": 2
          }
         }
        },
        "xaxis": {
         "anchor": "y",
         "autorange": true,
         "domain": [
          0,
          1
         ],
         "range": [
          -0.5,
          6.5
         ],
         "title": {
          "text": "product_type"
         },
         "type": "category"
        },
        "yaxis": {
         "anchor": "x",
         "autorange": true,
         "domain": [
          0,
          1
         ],
         "range": [
          0,
          0.5707685408066998
         ],
         "title": {
          "text": "taux_marge"
         },
         "type": "linear"
        }
       }
      },
      "image/png": "[encoded data removed]",
      "text/html": [
       "<div>                            <div id=\"3acba409-74de-4949-abfb-6da80601b243\" class=\"plotly-graph-div\" style=\"height:525px; width:100%;\"></div>            <script type=\"text/javascript\">                require([\"plotly\"], function(Plotly) {                    window.PLOTLYENV=window.PLOTLYENV || {};                                    if (document.getElementById(\"3acba409-74de-4949-abfb-6da80601b243\")) {                    Plotly.newPlot(                        \"3acba409-74de-4949-abfb-6da80601b243\",                        [{\"alignmentgroup\":\"True\",\"hovertemplate\":\"product_type=%{x}<br>taux_marge=%{y}<extra></extra>\",\"legendgroup\":\"\",\"marker\":{\"color\":\"#636efa\",\"pattern\":{\"shape\":\"\"}},\"name\":\"\",\"offsetgroup\":\"\",\"orientation\":\"v\",\"showlegend\":false,\"textposition\":\"auto\",\"x\":[\"Cognac\",\"Whisky\",\"Gin\",\"Vin\",\"Autre\",\"Huile d'olive\",\"Champagne\"],\"xaxis\":\"x\",\"y\":[0.5422301137663649,0.5409905454230557,0.5233333333333333,0.4834355191728197,0.46799999999999997,0.37498498297926686,0.2066078573080877],\"yaxis\":\"y\",\"type\":\"bar\"}],                        {\"template\":{\"data\":{\"histogram2dcontour\":[{\"type\":\"histogram2dcontour\",\"colorbar\":{\"outlinewidth\":0,\"ticks\":\"\"},\"colorscale\":[[0.0,\"#0d0887\"],[0.1111111111111111,\"#46039f\"],[0.2222222222222222,\"#7201a8\"],[0.3333333333333333,\"#9c179e\"],[0.4444444444444444,\"#bd3786\"],[0.5555555555555556,\"#d8576b\"],[0.6666666666666666,\"#ed7953\"],[0.7777777777777778,\"#fb9f3a\"],[0.8888888888888888,\"#fdca26\"],[1.0,\"#f0f921\"]]}],\"choropleth\":[{\"type\":\"choropleth\",\"colorbar\":{\"outlinewidth\":0,\"ticks\":\"\"}}],\"histogram2d\":[{\"type\":\"histogram2d\",\"colorbar\":{\"outlinewidth\":0,\"ticks\":\"\"},\"colorscale\":[[0.0,\"#0d0887\"],[0.1111111111111111,\"#46039f\"],[0.2222222222222222,\"#7201a8\"],[0.3333333333333333,\"#9c179e\"],[0.4444444444444444,\"#bd3786\"],[0.5555555555555556,\"#d8576b\"],[0.6666666666666666,\"#ed7953\"],[0.7777777777777778,\"#fb9f3a\"],[0.8888888888888888,\"#fdca26\"],[1.0,\"#f0f921\"]]}],\"heatmap\":[{\"type\":\"heatmap\",\"colorbar\":{\"outlinewidth\":0,\"ticks\":\"\"},\"colorscale\":[[0.0,\"#0d0887\"],[0.1111111111111111,\"#46039f\"],[0.2222222222222222,\"#7201a8\"],[0.3333333333333333,\"#9c179e\"],[0.4444444444444444,\"#bd3786\"],[0.5555555555555556,\"#d8576b\"],[0.6666666666666666,\"#ed7953\"],[0.7777777777777778,\"#fb9f3a\"],[0.8888888888888888,\"#fdca26\"],[1.0,\"#f0f921\"]]}],\"heatmapgl\":[{\"type\":\"heatmapgl\",\"colorbar\":{\"outlinewidth\":0,\"ticks\":\"\"},\"colorscale\":[[0.0,\"#0d0887\"],[0.1111111111111111,\"#46039f\"],[0.2222222222222222,\"#7201a8\"],[0.3333333333333333,\"#9c179e\"],[0.4444444444444444,\"#bd3786\"],[0.5555555555555556,\"#d8576b\"],[0.6666666666666666,\"#ed7953\"],[0.7777777777777778,\"#fb9f3a\"],[0.8888888888888888,\"#fdca26\"],[1.0,\"#f0f921\"]]}],\"contourcarpet\":[{\"type\":\"contourcarpet\",\"colorbar\":{\"outlinewidth\":0,\"ticks\":\"\"}}],\"contour\":[{\"type\":\"contour\",\"colorbar\":{\"outlinewidth\":0,\"ticks\":\"\"},\"colorscale\":[[0.0,\"#0d0887\"],[0.1111111111111111,\"#46039f\"],[0.2222222222222222,\"#7201a8\"],[0.3333333333333333,\"#9c179e\"],[0.4444444444444444,\"#bd3786\"],[0.5555555555555556,\"#d8576b\"],[0.6666666666666666,\"#ed7953\"],[0.7777777777777778,\"#fb9f3a\"],[0.8888888888888888,\"#fdca26\"],[1.0,\"#f0f921\"]]}],\"surface\":[{\"type\":\"surface\",\"colorbar\":{\"outlinewidth\":0,\"ticks\":\"\"},\"colorscale\":[[0.0,\"#0d0887\"],[0.1111111111111111,\"#46039f\"],[0.2222222222222222,\"#7201a8\"],[0.3333333333333333,\"#9c179e\"],[0.4444444444444444,\"#bd3786\"],[0.5555555555555556,\"#d8576b\"],[0.6666666666666666,\"#ed7953\"],[0.7777777777777778,\"#fb9f3a\"],[0.8888888888888888,\"#fdca26\"],[1.0,\"#f0f921\"]]}],\"mesh3d\":[{\"type\":\"mesh3d\",\"colorbar\":{\"outlinewidth\":0,\"ticks\":\"\"}}],\"scatter\":[{\"fillpattern\":{\"fillmode\":\"overlay\",\"size\":10,\"solidity\":0.2},\"type\":\"scatter\"}],\"parcoords\":[{\"type\":\"parcoords\",\"line\":{\"colorbar\":{\"outlinewidth\":0,\"ticks\":\"\"}}}],\"scatterpolargl\":[{\"type\":\"scatterpolargl\",\"marker\":{\"colorbar\":{\"outlinewidth\":0,\"ticks\":\"\"}}}],\"bar\":[{\"error_x\":{\"color\":\"#2a3f5f\"},\"error_y\":{\"color\":\"#2a3f5f\"},\"marker\":{\"line\":{\"color\":\"#E5ECF6\",\"width\":0.5},\"pattern\":{\"fillmode\":\"overlay\",\"size\":10,\"solidity\":0.2}},\"type\":\"bar\"}],\"scattergeo\":[{\"type\":\"scattergeo\",\"marker\":{\"colorbar\":{\"outlinewidth\":0,\"ticks\":\"\"}}}],\"scatterpolar\":[{\"type\":\"scatterpolar\",\"marker\":{\"colorbar\":{\"outlinewidth\":0,\"ticks\":\"\"}}}],\"histogram\":[{\"marker\":{\"pattern\":{\"fillmode\":\"overlay\",\"size\":10,\"solidity\":0.2}},\"type\":\"histogram\"}],\"scattergl\":[{\"type\":\"scattergl\",\"marker\":{\"colorbar\":{\"outlinewidth\":0,\"ticks\":\"\"}}}],\"scatter3d\":[{\"type\":\"scatter3d\",\"line\":{\"colorbar\":{\"outlinewidth\":0,\"ticks\":\"\"}},\"marker\":{\"colorbar\":{\"outlinewidth\":0,\"ticks\":\"\"}}}],\"scattermapbox\":[{\"type\":\"scattermapbox\",\"marker\":{\"colorbar\":{\"outlinewidth\":0,\"ticks\":\"\"}}}],\"scatterternary\":[{\"type\":\"scatterternary\",\"marker\":{\"colorbar\":{\"outlinewidth\":0,\"ticks\":\"\"}}}],\"scattercarpet\":[{\"type\":\"scattercarpet\",\"marker\":{\"colorbar\":{\"outlinewidth\":0,\"ticks\":\"\"}}}],\"carpet\":[{\"aaxis\":{\"endlinecolor\":\"#2a3f5f\",\"gridcolor\":\"white\",\"linecolor\":\"white\",\"minorgridcolor\":\"white\",\"startlinecolor\":\"#2a3f5f\"},\"baxis\":{\"endlinecolor\":\"#2a3f5f\",\"gridcolor\":\"white\",\"linecolor\":\"white\",\"minorgridcolor\":\"white\",\"startlinecolor\":\"#2a3f5f\"},\"type\":\"carpet\"}],\"table\":[{\"cells\":{\"fill\":{\"color\":\"#EBF0F8\"},\"line\":{\"color\":\"white\"}},\"header\":{\"fill\":{\"color\":\"#C8D4E3\"},\"line\":{\"color\":\"white\"}},\"type\":\"table\"}],\"barpolar\":[{\"marker\":{\"line\":{\"color\":\"#E5ECF6\",\"width\":0.5},\"pattern\":{\"fillmode\":\"overlay\",\"size\":10,\"solidity\":0.2}},\"type\":\"barpolar\"}],\"pie\":[{\"automargin\":true,\"type\":\"pie\"}]},\"layout\":{\"autotypenumbers\":\"strict\",\"colorway\":[\"#636efa\",\"#EF553B\",\"#00cc96\",\"#ab63fa\",\"#FFA15A\",\"#19d3f3\",\"#FF6692\",\"#B6E880\",\"#FF97FF\",\"#FECB52\"],\"font\":{\"color\":\"#2a3f5f\"},\"hovermode\":\"closest\",\"hoverlabel\":{\"align\":\"left\"},\"paper_bgcolor\":\"white\",\"plot_bgcolor\":\"#E5ECF6\",\"polar\":{\"bgcolor\":\"#E5ECF6\",\"angularaxis\":{\"gridcolor\":\"white\",\"linecolor\":\"white\",\"ticks\":\"\"},\"radialaxis\":{\"gridcolor\":\"white\",\"linecolor\":\"white\",\"ticks\":\"\"}},\"ternary\":{\"bgcolor\":\"#E5ECF6\",\"aaxis\":{\"gridcolor\":\"white\",\"linecolor\":\"white\",\"ticks\":\"\"},\"baxis\":{\"gridcolor\":\"white\",\"linecolor\":\"white\",\"ticks\":\"\"},\"caxis\":{\"gridcolor\":\"white\",\"linecolor\":\"white\",\"ticks\":\"\"}},\"coloraxis\":{\"colorbar\":{\"outlinewidth\":0,\"ticks\":\"\"}},\"colorscale\":{\"sequential\":[[0.0,\"#0d0887\"],[0.1111111111111111,\"#46039f\"],[0.2222222222222222,\"#7201a8\"],[0.3333333333333333,\"#9c179e\"],[0.4444444444444444,\"#bd3786\"],[0.5555555555555556,\"#d8576b\"],[0.6666666666666666,\"#ed7953\"],[0.7777777777777778,\"#fb9f3a\"],[0.8888888888888888,\"#fdca26\"],[1.0,\"#f0f921\"]],\"sequentialminus\":[[0.0,\"#0d0887\"],[0.1111111111111111,\"#46039f\"],[0.2222222222222222,\"#7201a8\"],[0.3333333333333333,\"#9c179e\"],[0.4444444444444444,\"#bd3786\"],[0.5555555555555556,\"#d8576b\"],[0.6666666666666666,\"#ed7953\"],[0.7777777777777778,\"#fb9f3a\"],[0.8888888888888888,\"#fdca26\"],[1.0,\"#f0f921\"]],\"diverging\":[[0,\"#8e0152\"],[0.1,\"#c51b7d\"],[0.2,\"#de77ae\"],[0.3,\"#f1b6da\"],[0.4,\"#fde0ef\"],[0.5,\"#f7f7f7\"],[0.6,\"#e6f5d0\"],[0.7,\"#b8e186\"],[0.8,\"#7fbc41\"],[0.9,\"#4d9221\"],[1,\"#276419\"]]},\"xaxis\":{\"gridcolor\":\"white\",\"linecolor\":\"white\",\"ticks\":\"\",\"title\":{\"standoff\":15},\"zerolinecolor\":\"white\",\"automargin\":true,\"zerolinewidth\":2},\"yaxis\":{\"gridcolor\":\"white\",\"linecolor\":\"white\",\"ticks\":\"\",\"title\":{\"standoff\":15},\"zerolinecolor\":\"white\",\"automargin\":true,\"zerolinewidth\":2},\"scene\":{\"xaxis\":{\"backgroundcolor\":\"#E5ECF6\",\"gridcolor\":\"white\",\"linecolor\":\"white\",\"showbackground\":true,\"ticks\":\"\",\"zerolinecolor\":\"white\",\"gridwidth\":2},\"yaxis\":{\"backgroundcolor\":\"#E5ECF6\",\"gridcolor\":\"white\",\"linecolor\":\"white\",\"showbackground\":true,\"ticks\":\"\",\"zerolinecolor\":\"white\",\"gridwidth\":2},\"zaxis\":{\"backgroundcolor\":\"#E5ECF6\",\"gridcolor\":\"white\",\"linecolor\":\"white\",\"showbackground\":true,\"ticks\":\"\",\"zerolinecolor\":\"white\",\"gridwidth\":2}},\"shapedefaults\":{\"line\":{\"color\":\"#2a3f5f\"}},\"annotationdefaults\":{\"arrowcolor\":\"#2a3f5f\",\"arrowhead\":0,\"arrowwidth\":1},\"geo\":{\"bgcolor\":\"white\",\"landcolor\":\"#E5ECF6\",\"subunitcolor\":\"white\",\"showland\":true,\"showlakes\":true,\"lakecolor\":\"white\"},\"title\":{\"x\":0.05},\"mapbox\":{\"style\":\"light\"}}},\"xaxis\":{\"anchor\":\"y\",\"domain\":[0.0,1.0],\"title\":{\"text\":\"product_type\"},\"type\":\"category\"},\"yaxis\":{\"anchor\":\"x\",\"domain\":[0.0,1.0],\"title\":{\"text\":\"taux_marge\"}},\"legend\":{\"tracegroupgap\":0},\"margin\":{\"t\":60},\"barmode\":\"relative\"},                        {\"responsive\": true}                    ).then(function(){\n",
       "                            \n",
       "var gd = document.getElementById('3acba409-74de-4949-abfb-6da80601b243');\n",
       "var x = new MutationObserver(function (mutations, observer) {{\n",
       "        var display = window.getComputedStyle(gd).display;\n",
       "        if (!display || display === 'none') {{\n",
       "            console.log([gd, 'removed!']);\n",
       "            Plotly.purge(gd);\n",
       "            observer.disconnect();\n",
       "        }}\n",
       "}});\n",
       "\n",
       "// Listen for the removal of the full notebook cells\n",
       "var notebookContainer = gd.closest('#notebook-container');\n",
       "if (notebookContainer) {{\n",
       "    x.observe(notebookContainer, {childList: true});\n",
       "}}\n",
       "\n",
       "// Listen for the clearing of the current output cell\n",
       "var outputEl = gd.closest('.output');\n",
       "if (outputEl) {{\n",
       "    x.observe(outputEl, {childList: true});\n",
       "}}\n",
       "\n",
       "                        })                };                });            </script>        </div>"
      ]
     },
     "metadata": {},
     "output_type": "display_data"
    }
   ],
   "source": [
    "#création d'un dataframe avec le taux de marge moyen par type de produit\n",
    "df_moyenne_marge = df_merge.groupby('product_type')['taux_marge'].mean().reset_index()\n",
    "\n",
    "#Affichage dans un graphique du taux de marge par type de produit\n",
    "print(df_moyenne_marge)\n",
    "\n",
    "graphique_taux_moyenne_marge = df_moyenne_marge.sort_values('taux_marge', ascending=False)\n",
    "fig = px.bar(graphique_taux_moyenne_marge, y='taux_marge', x='product_type')\n",
    "fig.update_xaxes(type='category')\n",
    "fig.show()"
   ]
  },
  {
   "cell_type": "markdown",
   "id": "ce216060",
   "metadata": {},
   "source": [
    "<div style=\"border: 1px solid RGB(51,165,182);\" >\n",
    "<h3 style=\"margin: auto; padding: 20px; color: RGB(51,165,182); \">Etape 5.5 - Analyse des correlations entre les variables stock, sales et price</h3>\n",
    "</div>"
   ]
  },
  {
   "cell_type": "code",
   "execution_count": 649,
   "id": "12e4a540",
   "metadata": {},
   "outputs": [
    {
     "data": {
      "image/png": "[encoded data removed]",
      "text/plain": [
       "<Figure size 640x480 with 2 Axes>"
      ]
     },
     "metadata": {},
     "output_type": "display_data"
    }
   ],
   "source": [
    "############################\n",
    "# Analyse des correlations #\n",
    "############################\n",
    "\n",
    "#Importation de Seaborn\n",
    "import seaborn as sns\n",
    "import matplotlib.pyplot as plt\n",
    "#Création d'un heatmap de correlation avec les variables stock, sales et price\n",
    "df_correlation = df_merge[['stock_quantity',  'total_sales', 'price', 'taux_marge', 'prix_HT', 'purchase_price']]\n",
    "correlation = df_correlation.corr()\n",
    "# Affichage de la heatmap avec Seaborn\n",
    "sns.heatmap(correlation, annot=True, vmin=-1, vmax=1, square=True)\n",
    "# Ajouter un titre\n",
    "plt.title(\"Heatmap de corrélation : stock, sales, price\", fontsize=14)\n",
    "# Afficher le graphique\n",
    "plt.show()"
   ]
  },
  {
   "cell_type": "code",
   "execution_count": 650,
   "id": "13cbb8b0-580d-4f96-bc1d-3e0cf657f0c8",
   "metadata": {},
   "outputs": [
    {
     "data": {
      "image/png": "[encoded data removed]",
      "text/plain": [
       "<Figure size 640x480 with 2 Axes>"
      ]
     },
     "metadata": {},
     "output_type": "display_data"
    }
   ],
   "source": [
    "#on peut également créer un mask pour n'afficher qu'une demi heatmap\n",
    "mask = np.triu(np.ones_like(correlation, dtype=bool))\n",
    "sns.heatmap(correlation, annot=True, mask=mask, vmin=-1, vmax=1, square=True)\n",
    "# Ajouter un titre\n",
    "plt.title(\"Heatmap de corrélation : stock, sales, price\", fontsize=14)\n",
    "# Afficher le graphique\n",
    "plt.show()"
   ]
  },
  {
   "cell_type": "code",
   "execution_count": 653,
   "id": "c49d1459",
   "metadata": {},
   "outputs": [],
   "source": [
    "#Que peut-on conclure des correlations ?\n"
   ]
  },
  {
   "cell_type": "markdown",
   "id": "f1d22f1d",
   "metadata": {},
   "source": [
    "<div style=\"border: 1px solid RGB(51,165,182);\" >\n",
    "<h3 style=\"margin: auto; padding: 20px; color: RGB(51,165,182); \">Etape 5.6 - Mettre à disposition la nouvelle table sur un fichier Excel</h3>\n",
    "</div>"
   ]
  },
  {
   "cell_type": "code",
   "execution_count": 656,
   "id": "09bfe632",
   "metadata": {},
   "outputs": [
    {
     "name": "stdout",
     "output_type": "stream",
     "text": [
      "Le dataset a été transformé en fichier Excel.\n"
     ]
    }
   ],
   "source": [
    "#Mettre le dataset df_merge sur un fichier Excel\n",
    "#Cette étape peut-être utile pour partager le résultat du dataset obtenu pour le partager avec les équipes.  \n",
    "df_merge.to_excel('df_merge.xlsx', index=False)\n",
    "\n",
    "print(\"Le dataset a été transformé en fichier Excel.\")"
   ]
  },
  {
   "cell_type": "code",
   "execution_count": null,
   "id": "847b6c02-2008-45c1-a197-2dc9998ce34b",
   "metadata": {},
   "outputs": [],
   "source": []
  }
 ],
 "metadata": {
  "kernelspec": {
   "display_name": "Python 3 (ipykernel)",
   "language": "python",
   "name": "python3"
  },
  "language_info": {
   "codemirror_mode": {
    "name": "ipython",
    "version": 3
   },
   "file_extension": ".py",
   "mimetype": "text/x-python",
   "name": "python",
   "nbconvert_exporter": "python",
   "pygments_lexer": "ipython3",
   "version": "3.11.4"
  }
 },
 "nbformat": 4,
 "nbformat_minor": 5
}
